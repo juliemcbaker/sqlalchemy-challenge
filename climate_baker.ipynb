{
 "cells": [
  {
   "cell_type": "code",
   "execution_count": 1,
   "source": [
    "%matplotlib inline\n",
    "from matplotlib import style\n",
    "style.use('fivethirtyeight')\n",
    "import matplotlib.pyplot as plt"
   ],
   "outputs": [],
   "metadata": {}
  },
  {
   "cell_type": "code",
   "execution_count": 2,
   "source": [
    "import numpy as np\n",
    "import pandas as pd\n",
    "import datetime as dt"
   ],
   "outputs": [],
   "metadata": {}
  },
  {
   "cell_type": "markdown",
   "source": [
    "# Reflect Tables into SQLAlchemy ORM"
   ],
   "metadata": {}
  },
  {
   "cell_type": "code",
   "execution_count": 86,
   "source": [
    "# Python SQL toolkit and Object Relational Mapper\n",
    "import sqlalchemy\n",
    "from sqlalchemy.ext.automap import automap_base\n",
    "from sqlalchemy.orm import Session\n",
    "from sqlalchemy import create_engine, func, inspect, distinct\n",
    "from sqlalchemy.sql import label"
   ],
   "outputs": [],
   "metadata": {}
  },
  {
   "cell_type": "code",
   "execution_count": 4,
   "source": [
    "# create engine to hawaii.sqlite\n",
    "engine = create_engine(\"sqlite:///Resources/hawaii.sqlite\",echo=True)\n",
    "this_conn = engine.connect()"
   ],
   "outputs": [
    {
     "output_type": "stream",
     "name": "stdout",
     "text": [
      "2021-07-23 15:31:06,212 INFO sqlalchemy.engine.base.Engine SELECT CAST('test plain returns' AS VARCHAR(60)) AS anon_1\n",
      "2021-07-23 15:31:06,214 INFO sqlalchemy.engine.base.Engine ()\n",
      "2021-07-23 15:31:06,217 INFO sqlalchemy.engine.base.Engine SELECT CAST('test unicode returns' AS VARCHAR(60)) AS anon_1\n",
      "2021-07-23 15:31:06,222 INFO sqlalchemy.engine.base.Engine ()\n"
     ]
    }
   ],
   "metadata": {}
  },
  {
   "cell_type": "code",
   "execution_count": 5,
   "source": [
    "# reflect an existing database into a new model\n",
    "Base = automap_base()\n",
    "\n",
    "# reflect the tables\n",
    "Base.prepare(engine, reflect=True)"
   ],
   "outputs": [
    {
     "output_type": "stream",
     "name": "stdout",
     "text": [
      "2021-07-23 15:31:07,805 INFO sqlalchemy.engine.base.Engine SELECT name FROM sqlite_master WHERE type='table' ORDER BY name\n",
      "2021-07-23 15:31:07,809 INFO sqlalchemy.engine.base.Engine ()\n",
      "2021-07-23 15:31:07,817 INFO sqlalchemy.engine.base.Engine PRAGMA main.table_xinfo(\"measurement\")\n",
      "2021-07-23 15:31:07,818 INFO sqlalchemy.engine.base.Engine ()\n",
      "2021-07-23 15:31:07,823 INFO sqlalchemy.engine.base.Engine SELECT sql FROM  (SELECT * FROM sqlite_master UNION ALL   SELECT * FROM sqlite_temp_master) WHERE name = ? AND type = 'table'\n",
      "2021-07-23 15:31:07,824 INFO sqlalchemy.engine.base.Engine ('measurement',)\n",
      "2021-07-23 15:31:07,828 INFO sqlalchemy.engine.base.Engine PRAGMA main.foreign_key_list(\"measurement\")\n",
      "2021-07-23 15:31:07,830 INFO sqlalchemy.engine.base.Engine ()\n",
      "2021-07-23 15:31:07,832 INFO sqlalchemy.engine.base.Engine PRAGMA temp.foreign_key_list(\"measurement\")\n",
      "2021-07-23 15:31:07,833 INFO sqlalchemy.engine.base.Engine ()\n",
      "2021-07-23 15:31:07,835 INFO sqlalchemy.engine.base.Engine SELECT sql FROM  (SELECT * FROM sqlite_master UNION ALL   SELECT * FROM sqlite_temp_master) WHERE name = ? AND type = 'table'\n",
      "2021-07-23 15:31:07,837 INFO sqlalchemy.engine.base.Engine ('measurement',)\n",
      "2021-07-23 15:31:07,842 INFO sqlalchemy.engine.base.Engine PRAGMA main.index_list(\"measurement\")\n",
      "2021-07-23 15:31:07,843 INFO sqlalchemy.engine.base.Engine ()\n",
      "2021-07-23 15:31:07,845 INFO sqlalchemy.engine.base.Engine PRAGMA temp.index_list(\"measurement\")\n",
      "2021-07-23 15:31:07,847 INFO sqlalchemy.engine.base.Engine ()\n",
      "2021-07-23 15:31:07,849 INFO sqlalchemy.engine.base.Engine PRAGMA main.index_list(\"measurement\")\n",
      "2021-07-23 15:31:07,850 INFO sqlalchemy.engine.base.Engine ()\n",
      "2021-07-23 15:31:07,852 INFO sqlalchemy.engine.base.Engine PRAGMA temp.index_list(\"measurement\")\n",
      "2021-07-23 15:31:07,854 INFO sqlalchemy.engine.base.Engine ()\n",
      "2021-07-23 15:31:07,856 INFO sqlalchemy.engine.base.Engine SELECT sql FROM  (SELECT * FROM sqlite_master UNION ALL   SELECT * FROM sqlite_temp_master) WHERE name = ? AND type = 'table'\n",
      "2021-07-23 15:31:07,858 INFO sqlalchemy.engine.base.Engine ('measurement',)\n",
      "2021-07-23 15:31:07,862 INFO sqlalchemy.engine.base.Engine PRAGMA main.table_xinfo(\"station\")\n",
      "2021-07-23 15:31:07,864 INFO sqlalchemy.engine.base.Engine ()\n",
      "2021-07-23 15:31:07,866 INFO sqlalchemy.engine.base.Engine SELECT sql FROM  (SELECT * FROM sqlite_master UNION ALL   SELECT * FROM sqlite_temp_master) WHERE name = ? AND type = 'table'\n",
      "2021-07-23 15:31:07,868 INFO sqlalchemy.engine.base.Engine ('station',)\n",
      "2021-07-23 15:31:07,870 INFO sqlalchemy.engine.base.Engine PRAGMA main.foreign_key_list(\"station\")\n",
      "2021-07-23 15:31:07,871 INFO sqlalchemy.engine.base.Engine ()\n",
      "2021-07-23 15:31:07,874 INFO sqlalchemy.engine.base.Engine PRAGMA temp.foreign_key_list(\"station\")\n",
      "2021-07-23 15:31:07,875 INFO sqlalchemy.engine.base.Engine ()\n",
      "2021-07-23 15:31:07,878 INFO sqlalchemy.engine.base.Engine SELECT sql FROM  (SELECT * FROM sqlite_master UNION ALL   SELECT * FROM sqlite_temp_master) WHERE name = ? AND type = 'table'\n",
      "2021-07-23 15:31:07,879 INFO sqlalchemy.engine.base.Engine ('station',)\n",
      "2021-07-23 15:31:07,881 INFO sqlalchemy.engine.base.Engine PRAGMA main.index_list(\"station\")\n",
      "2021-07-23 15:31:07,883 INFO sqlalchemy.engine.base.Engine ()\n",
      "2021-07-23 15:31:07,886 INFO sqlalchemy.engine.base.Engine PRAGMA temp.index_list(\"station\")\n",
      "2021-07-23 15:31:07,888 INFO sqlalchemy.engine.base.Engine ()\n",
      "2021-07-23 15:31:07,890 INFO sqlalchemy.engine.base.Engine PRAGMA main.index_list(\"station\")\n",
      "2021-07-23 15:31:07,891 INFO sqlalchemy.engine.base.Engine ()\n",
      "2021-07-23 15:31:07,893 INFO sqlalchemy.engine.base.Engine PRAGMA temp.index_list(\"station\")\n",
      "2021-07-23 15:31:07,895 INFO sqlalchemy.engine.base.Engine ()\n",
      "2021-07-23 15:31:07,897 INFO sqlalchemy.engine.base.Engine SELECT sql FROM  (SELECT * FROM sqlite_master UNION ALL   SELECT * FROM sqlite_temp_master) WHERE name = ? AND type = 'table'\n",
      "2021-07-23 15:31:07,899 INFO sqlalchemy.engine.base.Engine ('station',)\n"
     ]
    }
   ],
   "metadata": {}
  },
  {
   "cell_type": "code",
   "execution_count": 6,
   "source": [
    "# View all of the classes that automap found\n",
    "Base.classes.keys()"
   ],
   "outputs": [
    {
     "output_type": "execute_result",
     "data": {
      "text/plain": [
       "['measurement', 'station']"
      ]
     },
     "metadata": {},
     "execution_count": 6
    }
   ],
   "metadata": {}
  },
  {
   "cell_type": "code",
   "execution_count": 7,
   "source": [
    "### Create the inspector and connect it to the engine\n",
    "inspector = inspect(engine)"
   ],
   "outputs": [],
   "metadata": {}
  },
  {
   "cell_type": "code",
   "execution_count": 8,
   "source": [
    "# Save references to each table\n",
    "### Collect the names of tables within the database\n",
    "inspector.get_table_names()"
   ],
   "outputs": [
    {
     "output_type": "stream",
     "name": "stdout",
     "text": [
      "2021-07-23 15:31:26,135 INFO sqlalchemy.engine.base.Engine SELECT name FROM sqlite_master WHERE type='table' ORDER BY name\n",
      "2021-07-23 15:31:26,138 INFO sqlalchemy.engine.base.Engine ()\n"
     ]
    },
    {
     "output_type": "execute_result",
     "data": {
      "text/plain": [
       "['measurement', 'station']"
      ]
     },
     "metadata": {},
     "execution_count": 8
    }
   ],
   "metadata": {}
  },
  {
   "cell_type": "code",
   "execution_count": 9,
   "source": [
    "# get columns for measurement table\n",
    "meas_cols = inspector.get_columns('measurement')\n",
    "for c in meas_cols:\n",
    "    print(c['name'], c['type'])"
   ],
   "outputs": [
    {
     "output_type": "stream",
     "name": "stdout",
     "text": [
      "2021-07-23 15:31:28,611 INFO sqlalchemy.engine.base.Engine PRAGMA main.table_xinfo(\"measurement\")\n",
      "2021-07-23 15:31:28,612 INFO sqlalchemy.engine.base.Engine ()\n",
      "id INTEGER\n",
      "station TEXT\n",
      "date TEXT\n",
      "prcp FLOAT\n",
      "tobs FLOAT\n"
     ]
    }
   ],
   "metadata": {}
  },
  {
   "cell_type": "code",
   "execution_count": 10,
   "source": [
    "# get columns for station table\n",
    "stat_cols = inspector.get_columns('station')\n",
    "for c in stat_cols:\n",
    "    print(c['name'], c['type'])"
   ],
   "outputs": [
    {
     "output_type": "stream",
     "name": "stdout",
     "text": [
      "2021-07-23 15:31:32,663 INFO sqlalchemy.engine.base.Engine PRAGMA main.table_xinfo(\"station\")\n",
      "2021-07-23 15:31:32,666 INFO sqlalchemy.engine.base.Engine ()\n",
      "id INTEGER\n",
      "station TEXT\n",
      "name TEXT\n",
      "latitude FLOAT\n",
      "longitude FLOAT\n",
      "elevation FLOAT\n"
     ]
    }
   ],
   "metadata": {}
  },
  {
   "cell_type": "code",
   "execution_count": 11,
   "source": [
    "# not sure I need these, but doing it because it was in very first activity Query All Records in the Database\n",
    "measurement_data = engine.execute(\"SELECT * FROM measurement\")\n",
    "measurement_df = pd.read_sql(\"SELECT * FROM measurement\", this_conn)\n",
    "\n",
    "measurement_df.head()"
   ],
   "outputs": [
    {
     "output_type": "stream",
     "name": "stdout",
     "text": [
      "2021-07-23 15:31:39,566 INFO sqlalchemy.engine.base.Engine SELECT * FROM measurement\n",
      "2021-07-23 15:31:39,568 INFO sqlalchemy.engine.base.Engine ()\n",
      "2021-07-23 15:31:39,571 INFO sqlalchemy.engine.base.Engine PRAGMA main.table_info(\"SELECT * FROM measurement\")\n",
      "2021-07-23 15:31:39,573 INFO sqlalchemy.engine.base.Engine ()\n",
      "2021-07-23 15:31:39,575 INFO sqlalchemy.engine.base.Engine PRAGMA temp.table_info(\"SELECT * FROM measurement\")\n",
      "2021-07-23 15:31:39,579 INFO sqlalchemy.engine.base.Engine ()\n",
      "2021-07-23 15:31:39,580 INFO sqlalchemy.engine.base.Engine SELECT * FROM measurement\n",
      "2021-07-23 15:31:39,582 INFO sqlalchemy.engine.base.Engine ()\n"
     ]
    },
    {
     "output_type": "execute_result",
     "data": {
      "text/plain": [
       "   id      station        date  prcp  tobs\n",
       "0   1  USC00519397  2010-01-01  0.08  65.0\n",
       "1   2  USC00519397  2010-01-02  0.00  63.0\n",
       "2   3  USC00519397  2010-01-03  0.00  74.0\n",
       "3   4  USC00519397  2010-01-04  0.00  76.0\n",
       "4   5  USC00519397  2010-01-06   NaN  73.0"
      ],
      "text/html": [
       "<div>\n",
       "<style scoped>\n",
       "    .dataframe tbody tr th:only-of-type {\n",
       "        vertical-align: middle;\n",
       "    }\n",
       "\n",
       "    .dataframe tbody tr th {\n",
       "        vertical-align: top;\n",
       "    }\n",
       "\n",
       "    .dataframe thead th {\n",
       "        text-align: right;\n",
       "    }\n",
       "</style>\n",
       "<table border=\"1\" class=\"dataframe\">\n",
       "  <thead>\n",
       "    <tr style=\"text-align: right;\">\n",
       "      <th></th>\n",
       "      <th>id</th>\n",
       "      <th>station</th>\n",
       "      <th>date</th>\n",
       "      <th>prcp</th>\n",
       "      <th>tobs</th>\n",
       "    </tr>\n",
       "  </thead>\n",
       "  <tbody>\n",
       "    <tr>\n",
       "      <th>0</th>\n",
       "      <td>1</td>\n",
       "      <td>USC00519397</td>\n",
       "      <td>2010-01-01</td>\n",
       "      <td>0.08</td>\n",
       "      <td>65.0</td>\n",
       "    </tr>\n",
       "    <tr>\n",
       "      <th>1</th>\n",
       "      <td>2</td>\n",
       "      <td>USC00519397</td>\n",
       "      <td>2010-01-02</td>\n",
       "      <td>0.00</td>\n",
       "      <td>63.0</td>\n",
       "    </tr>\n",
       "    <tr>\n",
       "      <th>2</th>\n",
       "      <td>3</td>\n",
       "      <td>USC00519397</td>\n",
       "      <td>2010-01-03</td>\n",
       "      <td>0.00</td>\n",
       "      <td>74.0</td>\n",
       "    </tr>\n",
       "    <tr>\n",
       "      <th>3</th>\n",
       "      <td>4</td>\n",
       "      <td>USC00519397</td>\n",
       "      <td>2010-01-04</td>\n",
       "      <td>0.00</td>\n",
       "      <td>76.0</td>\n",
       "    </tr>\n",
       "    <tr>\n",
       "      <th>4</th>\n",
       "      <td>5</td>\n",
       "      <td>USC00519397</td>\n",
       "      <td>2010-01-06</td>\n",
       "      <td>NaN</td>\n",
       "      <td>73.0</td>\n",
       "    </tr>\n",
       "  </tbody>\n",
       "</table>\n",
       "</div>"
      ]
     },
     "metadata": {},
     "execution_count": 11
    }
   ],
   "metadata": {}
  },
  {
   "cell_type": "code",
   "execution_count": 12,
   "source": [
    "# not sure I need these, but doing it because it was in very first activity Query All Records in the Database\n",
    "station_data = engine.execute(\"SELECT * FROM station\")\n",
    "station_df = pd.read_sql(\"SELECT * FROM station\", this_conn)\n",
    "\n",
    "station_df"
   ],
   "outputs": [
    {
     "output_type": "stream",
     "name": "stdout",
     "text": [
      "2021-07-23 15:31:45,785 INFO sqlalchemy.engine.base.Engine SELECT * FROM station\n",
      "2021-07-23 15:31:45,787 INFO sqlalchemy.engine.base.Engine ()\n",
      "2021-07-23 15:31:45,790 INFO sqlalchemy.engine.base.Engine PRAGMA main.table_info(\"SELECT * FROM station\")\n",
      "2021-07-23 15:31:45,791 INFO sqlalchemy.engine.base.Engine ()\n",
      "2021-07-23 15:31:45,794 INFO sqlalchemy.engine.base.Engine PRAGMA temp.table_info(\"SELECT * FROM station\")\n",
      "2021-07-23 15:31:45,795 INFO sqlalchemy.engine.base.Engine ()\n",
      "2021-07-23 15:31:45,797 INFO sqlalchemy.engine.base.Engine SELECT * FROM station\n",
      "2021-07-23 15:31:45,798 INFO sqlalchemy.engine.base.Engine ()\n"
     ]
    },
    {
     "output_type": "execute_result",
     "data": {
      "text/plain": [
       "   id      station                                    name  latitude  \\\n",
       "0   1  USC00519397                    WAIKIKI 717.2, HI US  21.27160   \n",
       "1   2  USC00513117                    KANEOHE 838.1, HI US  21.42340   \n",
       "2   3  USC00514830  KUALOA RANCH HEADQUARTERS 886.9, HI US  21.52130   \n",
       "3   4  USC00517948                       PEARL CITY, HI US  21.39340   \n",
       "4   5  USC00518838              UPPER WAHIAWA 874.3, HI US  21.49920   \n",
       "5   6  USC00519523      WAIMANALO EXPERIMENTAL FARM, HI US  21.33556   \n",
       "6   7  USC00519281                     WAIHEE 837.5, HI US  21.45167   \n",
       "7   8  USC00511918       HONOLULU OBSERVATORY 702.2, HI US  21.31520   \n",
       "8   9  USC00516128            MANOA LYON ARBO 785.2, HI US  21.33310   \n",
       "\n",
       "   longitude  elevation  \n",
       "0 -157.81680        3.0  \n",
       "1 -157.80150       14.6  \n",
       "2 -157.83740        7.0  \n",
       "3 -157.97510       11.9  \n",
       "4 -158.01110      306.6  \n",
       "5 -157.71139       19.5  \n",
       "6 -157.84889       32.9  \n",
       "7 -157.99920        0.9  \n",
       "8 -157.80250      152.4  "
      ],
      "text/html": [
       "<div>\n",
       "<style scoped>\n",
       "    .dataframe tbody tr th:only-of-type {\n",
       "        vertical-align: middle;\n",
       "    }\n",
       "\n",
       "    .dataframe tbody tr th {\n",
       "        vertical-align: top;\n",
       "    }\n",
       "\n",
       "    .dataframe thead th {\n",
       "        text-align: right;\n",
       "    }\n",
       "</style>\n",
       "<table border=\"1\" class=\"dataframe\">\n",
       "  <thead>\n",
       "    <tr style=\"text-align: right;\">\n",
       "      <th></th>\n",
       "      <th>id</th>\n",
       "      <th>station</th>\n",
       "      <th>name</th>\n",
       "      <th>latitude</th>\n",
       "      <th>longitude</th>\n",
       "      <th>elevation</th>\n",
       "    </tr>\n",
       "  </thead>\n",
       "  <tbody>\n",
       "    <tr>\n",
       "      <th>0</th>\n",
       "      <td>1</td>\n",
       "      <td>USC00519397</td>\n",
       "      <td>WAIKIKI 717.2, HI US</td>\n",
       "      <td>21.27160</td>\n",
       "      <td>-157.81680</td>\n",
       "      <td>3.0</td>\n",
       "    </tr>\n",
       "    <tr>\n",
       "      <th>1</th>\n",
       "      <td>2</td>\n",
       "      <td>USC00513117</td>\n",
       "      <td>KANEOHE 838.1, HI US</td>\n",
       "      <td>21.42340</td>\n",
       "      <td>-157.80150</td>\n",
       "      <td>14.6</td>\n",
       "    </tr>\n",
       "    <tr>\n",
       "      <th>2</th>\n",
       "      <td>3</td>\n",
       "      <td>USC00514830</td>\n",
       "      <td>KUALOA RANCH HEADQUARTERS 886.9, HI US</td>\n",
       "      <td>21.52130</td>\n",
       "      <td>-157.83740</td>\n",
       "      <td>7.0</td>\n",
       "    </tr>\n",
       "    <tr>\n",
       "      <th>3</th>\n",
       "      <td>4</td>\n",
       "      <td>USC00517948</td>\n",
       "      <td>PEARL CITY, HI US</td>\n",
       "      <td>21.39340</td>\n",
       "      <td>-157.97510</td>\n",
       "      <td>11.9</td>\n",
       "    </tr>\n",
       "    <tr>\n",
       "      <th>4</th>\n",
       "      <td>5</td>\n",
       "      <td>USC00518838</td>\n",
       "      <td>UPPER WAHIAWA 874.3, HI US</td>\n",
       "      <td>21.49920</td>\n",
       "      <td>-158.01110</td>\n",
       "      <td>306.6</td>\n",
       "    </tr>\n",
       "    <tr>\n",
       "      <th>5</th>\n",
       "      <td>6</td>\n",
       "      <td>USC00519523</td>\n",
       "      <td>WAIMANALO EXPERIMENTAL FARM, HI US</td>\n",
       "      <td>21.33556</td>\n",
       "      <td>-157.71139</td>\n",
       "      <td>19.5</td>\n",
       "    </tr>\n",
       "    <tr>\n",
       "      <th>6</th>\n",
       "      <td>7</td>\n",
       "      <td>USC00519281</td>\n",
       "      <td>WAIHEE 837.5, HI US</td>\n",
       "      <td>21.45167</td>\n",
       "      <td>-157.84889</td>\n",
       "      <td>32.9</td>\n",
       "    </tr>\n",
       "    <tr>\n",
       "      <th>7</th>\n",
       "      <td>8</td>\n",
       "      <td>USC00511918</td>\n",
       "      <td>HONOLULU OBSERVATORY 702.2, HI US</td>\n",
       "      <td>21.31520</td>\n",
       "      <td>-157.99920</td>\n",
       "      <td>0.9</td>\n",
       "    </tr>\n",
       "    <tr>\n",
       "      <th>8</th>\n",
       "      <td>9</td>\n",
       "      <td>USC00516128</td>\n",
       "      <td>MANOA LYON ARBO 785.2, HI US</td>\n",
       "      <td>21.33310</td>\n",
       "      <td>-157.80250</td>\n",
       "      <td>152.4</td>\n",
       "    </tr>\n",
       "  </tbody>\n",
       "</table>\n",
       "</div>"
      ]
     },
     "metadata": {},
     "execution_count": 12
    }
   ],
   "metadata": {}
  },
  {
   "cell_type": "code",
   "execution_count": 13,
   "source": [
    "### Assign classes to variables \n",
    "Measurement = Base.classes.measurement\n",
    "Station = Base.classes.station"
   ],
   "outputs": [],
   "metadata": {}
  },
  {
   "cell_type": "code",
   "execution_count": 14,
   "source": [
    "# Create our session (link) from Python to the DB\n",
    "session = Session(engine)"
   ],
   "outputs": [],
   "metadata": {}
  },
  {
   "cell_type": "markdown",
   "source": [
    "# Exploratory Precipitation Analysis"
   ],
   "metadata": {}
  },
  {
   "cell_type": "code",
   "execution_count": 15,
   "source": [
    "### This is the first date as a check to make sure things were working while I searched for last date\n",
    "# Find the most recent date in the data set.\n",
    "earliest_date = session.query(Measurement.date).order_by(Measurement.date).first()\n",
    "print(earliest_date)"
   ],
   "outputs": [
    {
     "output_type": "stream",
     "name": "stdout",
     "text": [
      "2021-07-23 15:31:55,787 INFO sqlalchemy.engine.base.Engine BEGIN (implicit)\n",
      "2021-07-23 15:31:55,789 INFO sqlalchemy.engine.base.Engine SELECT measurement.date AS measurement_date \n",
      "FROM measurement ORDER BY measurement.date\n",
      " LIMIT ? OFFSET ?\n",
      "2021-07-23 15:31:55,791 INFO sqlalchemy.engine.base.Engine (1, 0)\n",
      "('2010-01-01',)\n"
     ]
    }
   ],
   "metadata": {}
  },
  {
   "cell_type": "code",
   "execution_count": 16,
   "source": [
    "# find most recent date in the database\n",
    "last_date = session.query(func.max(Measurement.date)).first()\n",
    "print(last_date)"
   ],
   "outputs": [
    {
     "output_type": "stream",
     "name": "stdout",
     "text": [
      "2021-07-23 15:31:59,088 INFO sqlalchemy.engine.base.Engine SELECT max(measurement.date) AS max_1 \n",
      "FROM measurement\n",
      " LIMIT ? OFFSET ?\n",
      "2021-07-23 15:31:59,089 INFO sqlalchemy.engine.base.Engine (1, 0)\n",
      "('2017-08-23',)\n"
     ]
    }
   ],
   "metadata": {}
  },
  {
   "cell_type": "markdown",
   "source": [
    "## Design a query to retrieve the last 12 months of precipitation data and plot the results. "
   ],
   "metadata": {}
  },
  {
   "cell_type": "code",
   "execution_count": 17,
   "source": [
    "# Starting from the most recent data point in the database. \n",
    "# The date that was pulled was a tuple & I saw online to use a marker to pull just the date \n",
    "# end_date = dt.date(last_date[0])  # The date is 2017-08-23; *the code DOES WORK, but I hard-coded to be sure*\n",
    "end_hand = dt.date(2017, 8, 23)\n",
    "# Calculate the date one year from the last date in data set.\n",
    "# start_date = end_date - dt.timedelta(days=365)  # THIS date should be 2016-08-24; hadn't gotten to work yet\n",
    "start_hand = dt.date(2016, 8, 24) \n",
    "print(f'start date is {start_hand} & end date is {end_hand}')"
   ],
   "outputs": [
    {
     "output_type": "stream",
     "name": "stdout",
     "text": [
      "start date is 2016-08-24 & end date is 2017-08-23\n"
     ]
    }
   ],
   "metadata": {}
  },
  {
   "cell_type": "markdown",
   "source": [
    "# Starting from the most recent data point in the database. \n",
    "# The date that was pulled was a tuple & I saw online to use a marker to pull just the date \n",
    "end_date = dt.date(last_date[0])  # The date is 2017-08-23; ***the code DID WORK***\n",
    "# print(end_date)\n",
    "# end_hand = dt.date(2017, 8, 23)\n",
    "# Calculate the date one year from the last date in data set.\n",
    "start_date = end_date - dt.timedelta(days=365)  # THIS date should be 2016-08-24; hadn't gotten to work yet\n",
    "# start_hand = dt.date(2016, 8, 24) \n",
    "print(f'start date is {start_date} & end date is {end_date}')"
   ],
   "metadata": {}
  },
  {
   "cell_type": "markdown",
   "source": [
    "sel = [Dow.stock, \n",
    "       func.avg(Dow.open_price), \n",
    "       func.avg(Dow.high_price), \n",
    "       func.avg(Dow.low_price), \n",
    "       func.avg(Dow.close_price)]\n",
    "may_averages = session.query(*sel).\\\n",
    "    filter(func.strftime(\"%m\", Dow.date) == \"05\").\\\n",
    "    group_by(Dow.stock).\\\n",
    "    order_by(Dow.stock).all()\n",
    "may_averages"
   ],
   "metadata": {}
  },
  {
   "cell_type": "code",
   "execution_count": 54,
   "source": [
    "# V0 produces list of tuples; has appropriate dates, but need to collapse so there is only 1 pair per date\n",
    "precip_output0 = session.query(Measurement.id, Measurement.date, func.sum(Measurement.prcp)).\\\n",
    "    filter(Measurement.date >=start_hand).\\\n",
    "    group_by(Measurement.date).all()\n",
    "    # order_by(Measurement.date)\n",
    "    # all()"
   ],
   "outputs": [
    {
     "output_type": "stream",
     "name": "stdout",
     "text": [
      "2021-07-23 16:08:48,142 INFO sqlalchemy.engine.base.Engine SELECT measurement.id AS measurement_id, measurement.date AS measurement_date, sum(measurement.prcp) AS sum_1 \n",
      "FROM measurement \n",
      "WHERE measurement.date >= ? GROUP BY measurement.date\n",
      "2021-07-23 16:08:48,148 INFO sqlalchemy.engine.base.Engine ('2016-08-24',)\n"
     ]
    }
   ],
   "metadata": {}
  },
  {
   "cell_type": "code",
   "execution_count": 55,
   "source": [
    "print(precip_output0)"
   ],
   "outputs": [
    {
     "output_type": "stream",
     "name": "stdout",
     "text": [
      "[(2365, '2016-08-24', 9.329999999999998), (2366, '2016-08-25', 0.54), (2367, '2016-08-26', 0.09999999999999999), (2368, '2016-08-27', 0.31999999999999995), (2369, '2016-08-28', 3.0999999999999996), (2370, '2016-08-29', 1.46), (2371, '2016-08-30', 0.07), (2372, '2016-08-31', 3.1799999999999997), (2373, '2016-09-01', 0.03), (2374, '2016-09-02', 0.25), (2375, '2016-09-03', 1.27), (2376, '2016-09-04', 1.3800000000000001), (2377, '2016-09-05', 0.33999999999999997), (2378, '2016-09-06', 1.23), (2379, '2016-09-07', 2.0), (2380, '2016-09-08', 0.4600000000000001), (2381, '2016-09-09', 1.0699999999999998), (2382, '2016-09-10', 1.4), (2383, '2016-09-11', 1.25), (2384, '2016-09-12', 1.54), (2385, '2016-09-13', 2.71), (2386, '2016-09-14', 14.280000000000001), (2387, '2016-09-15', 4.96), (2388, '2016-09-16', 0.8200000000000001), (2389, '2016-09-17', 0.6799999999999999), (2390, '2016-09-18', 0.53), (2391, '2016-09-19', 0.32), (2392, '2016-09-20', 1.03), (2393, '2016-09-21', 1.17), (2394, '2016-09-22', 1.44), (2395, '2016-09-23', 1.57), (2396, '2016-09-24', 0.28), (2397, '2016-09-25', 0.09), (2398, '2016-09-26', 1.67), (2399, '2016-09-27', 1.3599999999999999), (2400, '2016-09-28', 0.13), (2401, '2016-09-29', 2.99), (2402, '2016-09-30', 1.15), (2403, '2016-10-01', 1.4500000000000002), (2404, '2016-10-02', 0.72), (2405, '2016-10-03', 0.6900000000000001), (2406, '2016-10-04', 3.4899999999999998), (2407, '2016-10-05', 0.8200000000000001), (2408, '2016-10-06', 0.16), (2409, '2016-10-07', 0.01), (2410, '2016-10-08', 0.04), (2411, '2016-10-09', 0.0), (2412, '2016-10-10', 0.0), (2413, '2016-10-11', 0.69), (2414, '2016-10-12', 0.08), (2415, '2016-10-13', 0.08), (2416, '2016-10-14', 0.0), (2417, '2016-10-15', 0.39), (2418, '2016-10-16', 0.0), (2419, '2016-10-17', 0.55), (2420, '2016-10-18', 0.6), (2421, '2016-10-19', 0.16999999999999998), (2422, '2016-10-20', 1.01), (2423, '2016-10-21', 0.32), (2424, '2016-10-22', 1.77), (2425, '2016-10-23', 0.27999999999999997), (2426, '2016-10-24', 0.7899999999999999), (2427, '2016-10-25', 1.1), (2428, '2016-10-26', 0.29000000000000004), (2429, '2016-10-27', 1.8599999999999999), (2430, '2016-10-28', 0.5700000000000001), (2431, '2016-10-29', 0.64), (2432, '2016-10-30', 1.5899999999999999), (2433, '2016-10-31', 1.61), (2434, '2016-11-01', 0.21000000000000002), (2435, '2016-11-02', 0.04), (2436, '2016-11-03', 0.02), (2437, '2016-11-04', 0.06), (2438, '2016-11-05', 0.45), (2439, '2016-11-06', 0.08), (2440, '2016-11-07', 0.18), (2441, '2016-11-08', 1.12), (2442, '2016-11-09', 0.39999999999999997), (2443, '2016-11-10', 0.01), (2444, '2016-11-11', 0.0), (2445, '2016-11-12', 0.0), (2446, '2016-11-13', 0.0), (2447, '2016-11-14', 0.15), (2448, '2016-11-15', 0.05), (2449, '2016-11-16', 1.54), (2450, '2016-11-17', 0.06), (2451, '2016-11-18', 0.03), (2452, '2016-11-19', 0.38), (2453, '2016-11-20', 0.9500000000000001), (2454, '2016-11-21', 3.08), (2455, '2016-11-22', 5.01), (2456, '2016-11-23', 0.67), (2457, '2016-11-24', 1.48), (2458, '2016-11-25', 1.32), (2459, '2016-11-26', 0.51), (2460, '2016-11-27', 0.55), (2461, '2016-11-28', 0.72), (2462, '2016-11-29', 0.43000000000000005), (2463, '2016-11-30', 1.06), (2464, '2016-12-01', 1.77), (2465, '2016-12-02', 2.36), (2466, '2016-12-03', 2.71), (2467, '2016-12-04', 0.8), (2468, '2016-12-05', 3.24), (2469, '2016-12-06', 0.04), (2470, '2016-12-07', 0.38), (2471, '2016-12-08', 0.4600000000000001), (2472, '2016-12-09', 1.85), (2473, '2016-12-10', 0.13), (2474, '2016-12-11', 0.25), (2475, '2016-12-12', 0.05), (2476, '2016-12-13', 0.77), (2477, '2016-12-14', 1.5), (2478, '2016-12-15', 0.26), (2479, '2016-12-16', 0.04), (2480, '2016-12-17', 0.35000000000000003), (2481, '2016-12-18', 0.89), (2482, '2016-12-19', 0.42000000000000004), (2483, '2016-12-20', 0.03), (2484, '2016-12-21', 0.9), (2485, '2016-12-22', 2.4699999999999998), (2486, '2016-12-23', 1.23), (2487, '2016-12-24', 1.62), (2488, '2016-12-25', 0.43), (2489, '2016-12-26', 2.04), (2490, '2016-12-27', 0.24000000000000002), (2491, '2016-12-28', 0.41000000000000003), (2492, '2016-12-29', 2.38), (2493, '2016-12-30', 3.35), (2494, '2016-12-31', 2.14), (2495, '2017-01-01', 0.35), (2496, '2017-01-02', 0.02), (2497, '2017-01-03', 0.0), (2498, '2017-01-04', 0.18), (2499, '2017-01-05', 0.95), (2500, '2017-01-06', 0.7999999999999999), (2501, '2017-01-07', 0.06), (2502, '2017-01-08', 0.06), (2503, '2017-01-09', 0.0), (2504, '2017-01-10', 0.0), (2505, '2017-01-11', 0.0), (2506, '2017-01-12', 0.0), (2507, '2017-01-13', 0.0), (2508, '2017-01-14', 0.01), (2509, '2017-01-15', 0.01), (2510, '2017-01-16', 0.0), (2511, '2017-01-17', 0.0), (2512, '2017-01-18', 0.07), (2513, '2017-01-19', 0.02), (2514, '2017-01-20', 0.0), (2515, '2017-01-21', 0.27999999999999997), (2516, '2017-01-22', 1.02), (2517, '2017-01-23', 0.94), (2518, '2017-01-24', 2.25), (2519, '2017-01-25', 3.58), (2520, '2017-01-26', 0.11), (2521, '2017-01-27', 0.06), (2522, '2017-01-28', 0.14), (2523, '2017-01-29', 0.99), (2524, '2017-01-30', 0.05), (2525, '2017-01-31', 0.0), (2526, '2017-02-01', 0.0), (2527, '2017-02-02', 0.0), (2528, '2017-02-03', 0.0), (2529, '2017-02-04', 0.0), (2530, '2017-02-05', 0.0), (2531, '2017-02-06', 0.38), (2532, '2017-02-07', 7.4), (2533, '2017-02-08', 1.08), (2534, '2017-02-09', 0.02), (2535, '2017-02-10', 0.0), (2536, '2017-02-11', 11.200000000000001), (2537, '2017-02-12', 10.48), (2538, '2017-02-13', 2.9199999999999995), (2539, '2017-02-14', 0.01), (2540, '2017-02-15', 0.08), (2541, '2017-02-16', 2.2199999999999998), (2542, '2017-02-17', 1.0500000000000003), (2543, '2017-02-18', 0.01), (2544, '2017-02-19', 0.19), (2545, '2017-02-20', 0.0), (2546, '2017-02-21', 0.13), (2547, '2017-02-22', 0.9100000000000001), (2548, '2017-02-23', 0.01), (2549, '2017-02-24', 0.0), (2550, '2017-02-25', 0.15), (2551, '2017-02-26', 0.0), (2552, '2017-02-27', 0.0), (2553, '2017-02-28', 0.82), (2554, '2017-03-01', 11.620000000000001), (2555, '2017-03-02', 6.56), (2556, '2017-03-03', 2.23), (2557, '2017-03-04', 0.0), (2558, '2017-03-05', 1.21), (2559, '2017-03-06', 0.54), (2560, '2017-03-07', 0.0), (2561, '2017-03-08', 0.0), (2562, '2017-03-09', 1.9600000000000002), (2563, '2017-03-10', 0.29000000000000004), (2564, '2017-03-11', 0.04), (2565, '2017-03-12', 0.0), (2566, '2017-03-13', 0.0), (2567, '2017-03-14', 0.06), (2568, '2017-03-15', 0.06), (2569, '2017-03-16', 0.0), (2570, '2017-03-17', 0.72), (2571, '2017-03-18', 0.0), (2572, '2017-03-19', 0.0), (2573, '2017-03-20', 0.02), (2574, '2017-03-21', 0.09), (2575, '2017-03-22', 0.0), (2576, '2017-03-23', 0.05), (2577, '2017-03-24', 1.1300000000000001), (2578, '2017-03-25', 1.9700000000000002), (2579, '2017-03-26', 0.0), (2580, '2017-03-27', 0.01), (2581, '2017-03-28', 0.7100000000000001), (2582, '2017-03-29', 0.19), (2583, '2017-03-30', 0.15), (2584, '2017-03-31', 0.01), (2585, '2017-04-01', 0.41000000000000003), (2586, '2017-04-02', 0.0), (2587, '2017-04-03', 0.66), (2588, '2017-04-04', 0.15), (2589, '2017-04-05', 0.66), (2590, '2017-04-06', 0.06), (2591, '2017-04-07', 0.0), (2592, '2017-04-08', 0.0), (2593, '2017-04-09', 0.0), (2594, '2017-04-10', 0.02), (2595, '2017-04-11', 0.47), (2596, '2017-04-12', 1.08), (2597, '2017-04-13', 1.09), (2598, '2017-04-14', 6.72), (2599, '2017-04-15', 1.7400000000000002), (2600, '2017-04-16', 1.07), (2601, '2017-04-17', 3.0700000000000003), (2602, '2017-04-18', 3.36), (2603, '2017-04-19', 0.2), (2604, '2017-04-20', 0.78), (2605, '2017-04-21', 8.38), (2606, '2017-04-22', 4.960000000000001), (2607, '2017-04-23', 0.45999999999999996), (2608, '2017-04-24', 0.060000000000000005), (2609, '2017-04-25', 0.0), (2610, '2017-04-26', 0.39), (2611, '2017-04-27', 0.42), (2612, '2017-04-28', 4.24), (2613, '2017-04-29', 8.04), (2614, '2017-04-30', 6.42), (2615, '2017-05-01', 0.81), (2616, '2017-05-02', 0.05), (2617, '2017-05-03', 0.03), (2618, '2017-05-04', 0.08), (2619, '2017-05-05', 0.38), (2620, '2017-05-06', 0.06), (2621, '2017-05-07', 0.12000000000000001), (2622, '2017-05-08', 3.01), (5350, '2017-05-09', 4.630000000000001), (2623, '2017-05-10', 0.8600000000000001), (2624, '2017-05-11', 0.6), (2625, '2017-05-12', 0.16), (2626, '2017-05-13', 0.24), (2627, '2017-05-14', 1.22), (2628, '2017-05-15', 0.88), (2629, '2017-05-16', 0.42), (2630, '2017-05-17', 0.15000000000000002), (2631, '2017-05-18', 0.85), (2632, '2017-05-19', 0.04), (2633, '2017-05-20', 0.03), (2634, '2017-05-21', 0.01), (2635, '2017-05-22', 0.36), (2636, '2017-05-23', 0.71), (2637, '2017-05-24', 3.8899999999999997), (2638, '2017-05-25', 2.22), (5367, '2017-05-26', 0.02), (2639, '2017-05-27', 0.51), (2640, '2017-05-28', 0.41000000000000003), (2641, '2017-05-29', 0.42000000000000004), (2642, '2017-05-30', 1.73), (2643, '2017-05-31', 0.37), (2644, '2017-06-01', 0.04), (2645, '2017-06-02', 0.33999999999999997), (2646, '2017-06-03', 0.61), (2647, '2017-06-04', 1.15), (2648, '2017-06-05', 0.08), (2649, '2017-06-06', 0.0), (2650, '2017-06-07', 0.01), (2651, '2017-06-08', 0.03), (2652, '2017-06-09', 0.04), (2653, '2017-06-10', 1.53), (2654, '2017-06-11', 2.15), (2655, '2017-06-12', 1.75), (2656, '2017-06-13', 1.38), (2657, '2017-06-14', 1.57), (2658, '2017-06-15', 2.71), (2659, '2017-06-16', 0.2), (2660, '2017-06-17', 0.54), (2661, '2017-06-18', 1.42), (2662, '2017-06-19', 0.73), (2663, '2017-06-20', 0.55), (2664, '2017-06-21', 0.51), (2665, '2017-06-22', 0.44000000000000006), (2666, '2017-06-23', 0.6699999999999999), (2667, '2017-06-24', 0.64), (2668, '2017-06-25', 0.6), (2669, '2017-06-26', 0.1), (2670, '2017-06-27', 0.11), (2671, '2017-06-28', 0.03), (2672, '2017-06-29', 0.07), (2673, '2017-06-30', 0.52), (2674, '2017-07-01', 0.26), (2675, '2017-07-02', 0.72), (2676, '2017-07-03', 0.74), (2677, '2017-07-04', 0.15000000000000002), (2678, '2017-07-05', 0.0), (2679, '2017-07-06', 0.02), (2680, '2017-07-07', 0.5), (2681, '2017-07-08', 0.1), (2682, '2017-07-09', 0.2), (2683, '2017-07-10', 0.04), (2684, '2017-07-11', 0.03), (2685, '2017-07-12', 0.36000000000000004), (2686, '2017-07-13', 1.81), (2687, '2017-07-14', 0.9500000000000001), (2688, '2017-07-15', 0.19), (2689, '2017-07-16', 0.81), (2690, '2017-07-17', 0.91), (2691, '2017-07-18', 2.53), (5421, '2017-07-19', 0.41000000000000003), (2692, '2017-07-20', 1.24), (2693, '2017-07-21', 0.13), (2694, '2017-07-22', 4.42), (2695, '2017-07-23', 1.1300000000000001), (2696, '2017-07-24', 3.2699999999999996), (2697, '2017-07-25', 0.61), (2698, '2017-07-26', 0.5), (2699, '2017-07-27', 0.01), (2700, '2017-07-28', 0.77), (2701, '2017-07-29', 0.61), (2702, '2017-07-30', 0.3), (2703, '2017-07-31', 0.0), (2704, '2017-08-01', 0.13999999999999999), (2705, '2017-08-02', 0.3), (2706, '2017-08-03', 0.06999999999999999), (2707, '2017-08-04', 0.06), (2708, '2017-08-05', 0.06), (2709, '2017-08-06', 0.0), (2710, '2017-08-07', 0.05), (2711, '2017-08-08', 0.44000000000000006), (2712, '2017-08-09', 0.15), (2713, '2017-08-10', 0.07), (2714, '2017-08-11', 0.0), (2715, '2017-08-12', 0.14), (2716, '2017-08-13', 0.0), (2717, '2017-08-14', 0.31), (2718, '2017-08-15', 0.8200000000000001), (7629, '2017-08-16', 0.61), (7630, '2017-08-17', 0.19), (2719, '2017-08-18', 0.06), (2720, '2017-08-19', 0.09), (2721, '2017-08-20', 0.01), (2722, '2017-08-21', 0.5800000000000001), (2723, '2017-08-22', 0.5), (2724, '2017-08-23', 0.53)]\n"
     ]
    }
   ],
   "metadata": {}
  },
  {
   "cell_type": "code",
   "execution_count": 58,
   "source": [
    "# Save the query results as a Pandas DataFrame and set the index to the date column \n",
    "# -- which means precipitation is summed on date above\n",
    "# **trying to pass list of tuples** 7-22; 7-23 now an empty list\n",
    "precipitation_df = pd.DataFrame(precip_output0, columns=['id', 'date', 'precip']).set_index('id')\n",
    "precipitation_df.dtypes"
   ],
   "outputs": [
    {
     "output_type": "execute_result",
     "data": {
      "text/plain": [
       "date       object\n",
       "precip    float64\n",
       "dtype: object"
      ]
     },
     "metadata": {},
     "execution_count": 58
    }
   ],
   "metadata": {}
  },
  {
   "cell_type": "code",
   "execution_count": 60,
   "source": [
    "# Sort the dataframe by date, CONVERT date type to date, THEN set index on date\n",
    "precipitation_df['date']=pd.to_datetime(precipitation_df['date'])\n",
    "precipitation_df = precipitation_df.sort_values(by='date').set_index('date')\n",
    "precipitation_df"
   ],
   "outputs": [
    {
     "output_type": "execute_result",
     "data": {
      "text/plain": [
       "            precip\n",
       "date              \n",
       "2016-08-24    9.33\n",
       "2016-08-25    0.54\n",
       "2016-08-26    0.10\n",
       "2016-08-27    0.32\n",
       "2016-08-28    3.10\n",
       "...            ...\n",
       "2017-08-19    0.09\n",
       "2017-08-20    0.01\n",
       "2017-08-21    0.58\n",
       "2017-08-22    0.50\n",
       "2017-08-23    0.53\n",
       "\n",
       "[365 rows x 1 columns]"
      ],
      "text/html": [
       "<div>\n",
       "<style scoped>\n",
       "    .dataframe tbody tr th:only-of-type {\n",
       "        vertical-align: middle;\n",
       "    }\n",
       "\n",
       "    .dataframe tbody tr th {\n",
       "        vertical-align: top;\n",
       "    }\n",
       "\n",
       "    .dataframe thead th {\n",
       "        text-align: right;\n",
       "    }\n",
       "</style>\n",
       "<table border=\"1\" class=\"dataframe\">\n",
       "  <thead>\n",
       "    <tr style=\"text-align: right;\">\n",
       "      <th></th>\n",
       "      <th>precip</th>\n",
       "    </tr>\n",
       "    <tr>\n",
       "      <th>date</th>\n",
       "      <th></th>\n",
       "    </tr>\n",
       "  </thead>\n",
       "  <tbody>\n",
       "    <tr>\n",
       "      <th>2016-08-24</th>\n",
       "      <td>9.33</td>\n",
       "    </tr>\n",
       "    <tr>\n",
       "      <th>2016-08-25</th>\n",
       "      <td>0.54</td>\n",
       "    </tr>\n",
       "    <tr>\n",
       "      <th>2016-08-26</th>\n",
       "      <td>0.10</td>\n",
       "    </tr>\n",
       "    <tr>\n",
       "      <th>2016-08-27</th>\n",
       "      <td>0.32</td>\n",
       "    </tr>\n",
       "    <tr>\n",
       "      <th>2016-08-28</th>\n",
       "      <td>3.10</td>\n",
       "    </tr>\n",
       "    <tr>\n",
       "      <th>...</th>\n",
       "      <td>...</td>\n",
       "    </tr>\n",
       "    <tr>\n",
       "      <th>2017-08-19</th>\n",
       "      <td>0.09</td>\n",
       "    </tr>\n",
       "    <tr>\n",
       "      <th>2017-08-20</th>\n",
       "      <td>0.01</td>\n",
       "    </tr>\n",
       "    <tr>\n",
       "      <th>2017-08-21</th>\n",
       "      <td>0.58</td>\n",
       "    </tr>\n",
       "    <tr>\n",
       "      <th>2017-08-22</th>\n",
       "      <td>0.50</td>\n",
       "    </tr>\n",
       "    <tr>\n",
       "      <th>2017-08-23</th>\n",
       "      <td>0.53</td>\n",
       "    </tr>\n",
       "  </tbody>\n",
       "</table>\n",
       "<p>365 rows × 1 columns</p>\n",
       "</div>"
      ]
     },
     "metadata": {},
     "execution_count": 60
    }
   ],
   "metadata": {}
  },
  {
   "cell_type": "code",
   "execution_count": 65,
   "source": [
    "## Use Pandas Plotting with Matplotlib to plot the data\n",
    "plt.plot(precipitation_df)\n",
    "#plt.savefig(precip.png) *** need to fix this so it saves, currently gives error that it's not defined"
   ],
   "outputs": [
    {
     "output_type": "execute_result",
     "data": {
      "text/plain": [
       "[<matplotlib.lines.Line2D at 0x1270f7340>]"
      ]
     },
     "metadata": {},
     "execution_count": 65
    },
    {
     "output_type": "display_data",
     "data": {
      "text/plain": [
       "<Figure size 432x288 with 1 Axes>"
      ],
      "image/png": "[encoded data removed]"
     },
     "metadata": {}
    }
   ],
   "metadata": {}
  },
  {
   "cell_type": "code",
   "execution_count": 67,
   "source": [
    "## Use Pandas to calcualte the summary statistics for the precipitation data\n",
    "precip_summary_df = precipitation_df.describe()\n",
    "precip_summary_df"
   ],
   "outputs": [
    {
     "output_type": "execute_result",
     "data": {
      "text/plain": [
       "           precip\n",
       "count  365.000000\n",
       "mean     0.974164\n",
       "std      1.776466\n",
       "min      0.000000\n",
       "25%      0.050000\n",
       "50%      0.400000\n",
       "75%      1.080000\n",
       "max     14.280000"
      ],
      "text/html": [
       "<div>\n",
       "<style scoped>\n",
       "    .dataframe tbody tr th:only-of-type {\n",
       "        vertical-align: middle;\n",
       "    }\n",
       "\n",
       "    .dataframe tbody tr th {\n",
       "        vertical-align: top;\n",
       "    }\n",
       "\n",
       "    .dataframe thead th {\n",
       "        text-align: right;\n",
       "    }\n",
       "</style>\n",
       "<table border=\"1\" class=\"dataframe\">\n",
       "  <thead>\n",
       "    <tr style=\"text-align: right;\">\n",
       "      <th></th>\n",
       "      <th>precip</th>\n",
       "    </tr>\n",
       "  </thead>\n",
       "  <tbody>\n",
       "    <tr>\n",
       "      <th>count</th>\n",
       "      <td>365.000000</td>\n",
       "    </tr>\n",
       "    <tr>\n",
       "      <th>mean</th>\n",
       "      <td>0.974164</td>\n",
       "    </tr>\n",
       "    <tr>\n",
       "      <th>std</th>\n",
       "      <td>1.776466</td>\n",
       "    </tr>\n",
       "    <tr>\n",
       "      <th>min</th>\n",
       "      <td>0.000000</td>\n",
       "    </tr>\n",
       "    <tr>\n",
       "      <th>25%</th>\n",
       "      <td>0.050000</td>\n",
       "    </tr>\n",
       "    <tr>\n",
       "      <th>50%</th>\n",
       "      <td>0.400000</td>\n",
       "    </tr>\n",
       "    <tr>\n",
       "      <th>75%</th>\n",
       "      <td>1.080000</td>\n",
       "    </tr>\n",
       "    <tr>\n",
       "      <th>max</th>\n",
       "      <td>14.280000</td>\n",
       "    </tr>\n",
       "  </tbody>\n",
       "</table>\n",
       "</div>"
      ]
     },
     "metadata": {},
     "execution_count": 67
    }
   ],
   "metadata": {}
  },
  {
   "cell_type": "markdown",
   "source": [
    "# Exploratory Station Analysis"
   ],
   "metadata": {}
  },
  {
   "cell_type": "code",
   "execution_count": 94,
   "source": [
    "# Design a query to calculate the total number stations in the dataset\n",
    "total_stations = session.query(func.count(distinct(Station.name))).one()\n",
    "total_stations\n",
    "# this seems to be setting up a tuple??"
   ],
   "outputs": [
    {
     "output_type": "stream",
     "name": "stdout",
     "text": [
      "2021-07-23 16:43:16,798 INFO sqlalchemy.engine.base.Engine SELECT count(DISTINCT station.name) AS count_1 \n",
      "FROM station\n",
      "2021-07-23 16:43:16,800 INFO sqlalchemy.engine.base.Engine ()\n"
     ]
    },
    {
     "output_type": "execute_result",
     "data": {
      "text/plain": [
       "(9)"
      ]
     },
     "metadata": {},
     "execution_count": 94
    }
   ],
   "metadata": {}
  },
  {
   "cell_type": "code",
   "execution_count": null,
   "source": [
    "# Design a query to find the most active stations (i.e. what stations have the most rows?)\n",
    "# List the stations and the counts in descending order.\n",
    "## need to sort Measurement by station, need to use func.count, orderby count desc,\n",
    "## i assume we need to join to the other sheet to get the name of the station, rather than just it's code? "
   ],
   "outputs": [],
   "metadata": {}
  },
  {
   "cell_type": "code",
   "execution_count": null,
   "source": [
    "# Using the most active station id from the previous query, calculate the lowest, highest, and average temperature.\n"
   ],
   "outputs": [],
   "metadata": {}
  },
  {
   "cell_type": "code",
   "execution_count": null,
   "source": [
    "# Using the most active station id\n",
    "# Query the last 12 months of temperature observation data for this station and plot the results as a histogram\n"
   ],
   "outputs": [],
   "metadata": {}
  },
  {
   "cell_type": "markdown",
   "source": [
    "# Close session"
   ],
   "metadata": {}
  },
  {
   "cell_type": "code",
   "execution_count": null,
   "source": [
    "# Close Session\n",
    "session.close()"
   ],
   "outputs": [],
   "metadata": {}
  },
  {
   "cell_type": "code",
   "execution_count": null,
   "source": [],
   "outputs": [],
   "metadata": {}
  }
 ],
 "metadata": {
  "anaconda-cloud": {},
  "kernel_info": {
   "name": "python3"
  },
  "kernelspec": {
   "name": "python3",
   "display_name": "Python 3.8.5 64-bit ('base': conda)"
  },
  "language_info": {
   "codemirror_mode": {
    "name": "ipython",
    "version": 3
   },
   "file_extension": ".py",
   "mimetype": "text/x-python",
   "name": "python",
   "nbconvert_exporter": "python",
   "pygments_lexer": "ipython3",
   "version": "3.8.5"
  },
  "nteract": {
   "version": "0.12.3"
  },
  "varInspector": {
   "cols": {
    "lenName": 16,
    "lenType": 16,
    "lenVar": 40
   },
   "kernels_config": {
    "python": {
     "delete_cmd_postfix": "",
     "delete_cmd_prefix": "del ",
     "library": "var_list.py",
     "varRefreshCmd": "print(var_dic_list())"
    },
    "r": {
     "delete_cmd_postfix": ") ",
     "delete_cmd_prefix": "rm(",
     "library": "var_list.r",
     "varRefreshCmd": "cat(var_dic_list()) "
    }
   },
   "types_to_exclude": [
    "module",
    "function",
    "builtin_function_or_method",
    "instance",
    "_Feature"
   ],
   "window_display": false
  },
  "interpreter": {
   "hash": "797aaa517c2851f29685343c41d423cf5c6e3497bc2091e34cd352c6f05b7b6f"
  }
 },
 "nbformat": 4,
 "nbformat_minor": 2
}