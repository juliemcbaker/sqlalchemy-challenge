{
 "cells": [
  {
   "cell_type": "code",
   "execution_count": 1,
   "source": [
    "%matplotlib inline\n",
    "from matplotlib import style\n",
    "style.use('fivethirtyeight')\n",
    "import matplotlib.pyplot as plt"
   ],
   "outputs": [],
   "metadata": {}
  },
  {
   "cell_type": "code",
   "execution_count": 2,
   "source": [
    "import numpy as np\n",
    "import pandas as pd\n",
    "import datetime as dt"
   ],
   "outputs": [],
   "metadata": {}
  },
  {
   "cell_type": "markdown",
   "source": [
    "# Reflect Tables into SQLAlchemy ORM"
   ],
   "metadata": {}
  },
  {
   "cell_type": "code",
   "execution_count": 116,
   "source": [
    "# Python SQL toolkit and Object Relational Mapper\n",
    "import sqlalchemy\n",
    "from sqlalchemy.ext.automap import automap_base\n",
    "from sqlalchemy.orm import Session\n",
    "from sqlalchemy import create_engine, func, inspect\n",
    "from sqlalchemy.sql import label"
   ],
   "outputs": [],
   "metadata": {}
  },
  {
   "cell_type": "code",
   "execution_count": 142,
   "source": [
    "# create engine to hawaii.sqlite\n",
    "engine = create_engine(\"sqlite:///Resources/hawaii.sqlite\",echo=True)\n",
    "this_conn = engine.connect()"
   ],
   "outputs": [
    {
     "output_type": "stream",
     "name": "stdout",
     "text": [
      "2021-07-23 12:27:40,846 INFO sqlalchemy.engine.base.Engine SELECT CAST('test plain returns' AS VARCHAR(60)) AS anon_1\n",
      "2021-07-23 12:27:40,849 INFO sqlalchemy.engine.base.Engine ()\n",
      "2021-07-23 12:27:40,851 INFO sqlalchemy.engine.base.Engine SELECT CAST('test unicode returns' AS VARCHAR(60)) AS anon_1\n",
      "2021-07-23 12:27:40,853 INFO sqlalchemy.engine.base.Engine ()\n"
     ]
    }
   ],
   "metadata": {}
  },
  {
   "cell_type": "code",
   "execution_count": 143,
   "source": [
    "# reflect an existing database into a new model\n",
    "Base = automap_base()\n",
    "\n",
    "# reflect the tables\n",
    "Base.prepare(engine, reflect=True)"
   ],
   "outputs": [
    {
     "output_type": "stream",
     "name": "stdout",
     "text": [
      "2021-07-23 12:27:47,150 INFO sqlalchemy.engine.base.Engine SELECT name FROM sqlite_master WHERE type='table' ORDER BY name\n",
      "2021-07-23 12:27:47,154 INFO sqlalchemy.engine.base.Engine ()\n",
      "2021-07-23 12:27:47,162 INFO sqlalchemy.engine.base.Engine PRAGMA main.table_xinfo(\"measurement\")\n",
      "2021-07-23 12:27:47,164 INFO sqlalchemy.engine.base.Engine ()\n",
      "2021-07-23 12:27:47,171 INFO sqlalchemy.engine.base.Engine SELECT sql FROM  (SELECT * FROM sqlite_master UNION ALL   SELECT * FROM sqlite_temp_master) WHERE name = ? AND type = 'table'\n",
      "2021-07-23 12:27:47,172 INFO sqlalchemy.engine.base.Engine ('measurement',)\n",
      "2021-07-23 12:27:47,176 INFO sqlalchemy.engine.base.Engine PRAGMA main.foreign_key_list(\"measurement\")\n",
      "2021-07-23 12:27:47,177 INFO sqlalchemy.engine.base.Engine ()\n",
      "2021-07-23 12:27:47,179 INFO sqlalchemy.engine.base.Engine PRAGMA temp.foreign_key_list(\"measurement\")\n",
      "2021-07-23 12:27:47,180 INFO sqlalchemy.engine.base.Engine ()\n",
      "2021-07-23 12:27:47,185 INFO sqlalchemy.engine.base.Engine SELECT sql FROM  (SELECT * FROM sqlite_master UNION ALL   SELECT * FROM sqlite_temp_master) WHERE name = ? AND type = 'table'\n",
      "2021-07-23 12:27:47,186 INFO sqlalchemy.engine.base.Engine ('measurement',)\n",
      "2021-07-23 12:27:47,188 INFO sqlalchemy.engine.base.Engine PRAGMA main.index_list(\"measurement\")\n",
      "2021-07-23 12:27:47,189 INFO sqlalchemy.engine.base.Engine ()\n",
      "2021-07-23 12:27:47,191 INFO sqlalchemy.engine.base.Engine PRAGMA temp.index_list(\"measurement\")\n",
      "2021-07-23 12:27:47,192 INFO sqlalchemy.engine.base.Engine ()\n",
      "2021-07-23 12:27:47,195 INFO sqlalchemy.engine.base.Engine PRAGMA main.index_list(\"measurement\")\n",
      "2021-07-23 12:27:47,197 INFO sqlalchemy.engine.base.Engine ()\n",
      "2021-07-23 12:27:47,199 INFO sqlalchemy.engine.base.Engine PRAGMA temp.index_list(\"measurement\")\n",
      "2021-07-23 12:27:47,200 INFO sqlalchemy.engine.base.Engine ()\n",
      "2021-07-23 12:27:47,201 INFO sqlalchemy.engine.base.Engine SELECT sql FROM  (SELECT * FROM sqlite_master UNION ALL   SELECT * FROM sqlite_temp_master) WHERE name = ? AND type = 'table'\n",
      "2021-07-23 12:27:47,202 INFO sqlalchemy.engine.base.Engine ('measurement',)\n",
      "2021-07-23 12:27:47,204 INFO sqlalchemy.engine.base.Engine PRAGMA main.table_xinfo(\"station\")\n",
      "2021-07-23 12:27:47,205 INFO sqlalchemy.engine.base.Engine ()\n",
      "2021-07-23 12:27:47,208 INFO sqlalchemy.engine.base.Engine SELECT sql FROM  (SELECT * FROM sqlite_master UNION ALL   SELECT * FROM sqlite_temp_master) WHERE name = ? AND type = 'table'\n",
      "2021-07-23 12:27:47,209 INFO sqlalchemy.engine.base.Engine ('station',)\n",
      "2021-07-23 12:27:47,212 INFO sqlalchemy.engine.base.Engine PRAGMA main.foreign_key_list(\"station\")\n",
      "2021-07-23 12:27:47,213 INFO sqlalchemy.engine.base.Engine ()\n",
      "2021-07-23 12:27:47,215 INFO sqlalchemy.engine.base.Engine PRAGMA temp.foreign_key_list(\"station\")\n",
      "2021-07-23 12:27:47,215 INFO sqlalchemy.engine.base.Engine ()\n",
      "2021-07-23 12:27:47,217 INFO sqlalchemy.engine.base.Engine SELECT sql FROM  (SELECT * FROM sqlite_master UNION ALL   SELECT * FROM sqlite_temp_master) WHERE name = ? AND type = 'table'\n",
      "2021-07-23 12:27:47,218 INFO sqlalchemy.engine.base.Engine ('station',)\n",
      "2021-07-23 12:27:47,219 INFO sqlalchemy.engine.base.Engine PRAGMA main.index_list(\"station\")\n",
      "2021-07-23 12:27:47,220 INFO sqlalchemy.engine.base.Engine ()\n",
      "2021-07-23 12:27:47,222 INFO sqlalchemy.engine.base.Engine PRAGMA temp.index_list(\"station\")\n",
      "2021-07-23 12:27:47,224 INFO sqlalchemy.engine.base.Engine ()\n",
      "2021-07-23 12:27:47,226 INFO sqlalchemy.engine.base.Engine PRAGMA main.index_list(\"station\")\n",
      "2021-07-23 12:27:47,228 INFO sqlalchemy.engine.base.Engine ()\n",
      "2021-07-23 12:27:47,230 INFO sqlalchemy.engine.base.Engine PRAGMA temp.index_list(\"station\")\n",
      "2021-07-23 12:27:47,231 INFO sqlalchemy.engine.base.Engine ()\n",
      "2021-07-23 12:27:47,232 INFO sqlalchemy.engine.base.Engine SELECT sql FROM  (SELECT * FROM sqlite_master UNION ALL   SELECT * FROM sqlite_temp_master) WHERE name = ? AND type = 'table'\n",
      "2021-07-23 12:27:47,233 INFO sqlalchemy.engine.base.Engine ('station',)\n"
     ]
    }
   ],
   "metadata": {}
  },
  {
   "cell_type": "code",
   "execution_count": 144,
   "source": [
    "# View all of the classes that automap found\n",
    "Base.classes.keys()"
   ],
   "outputs": [
    {
     "output_type": "execute_result",
     "data": {
      "text/plain": [
       "['measurement', 'station']"
      ]
     },
     "metadata": {},
     "execution_count": 144
    }
   ],
   "metadata": {}
  },
  {
   "cell_type": "code",
   "execution_count": 145,
   "source": [
    "### Create the inspector and connect it to the engine\n",
    "inspector = inspect(engine)"
   ],
   "outputs": [],
   "metadata": {}
  },
  {
   "cell_type": "code",
   "execution_count": 146,
   "source": [
    "# Save references to each table\n",
    "### Collect the names of tables within the database\n",
    "inspector.get_table_names()"
   ],
   "outputs": [
    {
     "output_type": "stream",
     "name": "stdout",
     "text": [
      "2021-07-23 12:28:15,190 INFO sqlalchemy.engine.base.Engine SELECT name FROM sqlite_master WHERE type='table' ORDER BY name\n",
      "2021-07-23 12:28:15,195 INFO sqlalchemy.engine.base.Engine ()\n"
     ]
    },
    {
     "output_type": "execute_result",
     "data": {
      "text/plain": [
       "['measurement', 'station']"
      ]
     },
     "metadata": {},
     "execution_count": 146
    }
   ],
   "metadata": {}
  },
  {
   "cell_type": "code",
   "execution_count": 147,
   "source": [
    "# get columns for measurement table\n",
    "meas_cols = inspector.get_columns('measurement')\n",
    "for c in meas_cols:\n",
    "    print(c['name'], c['type'])"
   ],
   "outputs": [
    {
     "output_type": "stream",
     "name": "stdout",
     "text": [
      "2021-07-23 12:28:17,133 INFO sqlalchemy.engine.base.Engine PRAGMA main.table_xinfo(\"measurement\")\n",
      "2021-07-23 12:28:17,137 INFO sqlalchemy.engine.base.Engine ()\n",
      "id INTEGER\n",
      "station TEXT\n",
      "date TEXT\n",
      "prcp FLOAT\n",
      "tobs FLOAT\n"
     ]
    }
   ],
   "metadata": {}
  },
  {
   "cell_type": "code",
   "execution_count": 148,
   "source": [
    "# get columns for station table\n",
    "stat_cols = inspector.get_columns('station')\n",
    "for c in stat_cols:\n",
    "    print(c['name'], c['type'])"
   ],
   "outputs": [
    {
     "output_type": "stream",
     "name": "stdout",
     "text": [
      "2021-07-23 12:28:18,896 INFO sqlalchemy.engine.base.Engine PRAGMA main.table_xinfo(\"station\")\n",
      "2021-07-23 12:28:18,901 INFO sqlalchemy.engine.base.Engine ()\n",
      "id INTEGER\n",
      "station TEXT\n",
      "name TEXT\n",
      "latitude FLOAT\n",
      "longitude FLOAT\n",
      "elevation FLOAT\n"
     ]
    }
   ],
   "metadata": {}
  },
  {
   "cell_type": "code",
   "execution_count": 149,
   "source": [
    "# not sure I need these, but doing it because it was in very first activity Query All Records in the Database\n",
    "measurement_data = engine.execute(\"SELECT * FROM measurement\")\n",
    "measurement_df = pd.read_sql(\"SELECT * FROM measurement\", this_conn)\n",
    "\n",
    "measurement_df.head()"
   ],
   "outputs": [
    {
     "output_type": "stream",
     "name": "stdout",
     "text": [
      "2021-07-23 12:28:29,269 INFO sqlalchemy.engine.base.Engine SELECT * FROM measurement\n",
      "2021-07-23 12:28:29,271 INFO sqlalchemy.engine.base.Engine ()\n",
      "2021-07-23 12:28:29,274 INFO sqlalchemy.engine.base.Engine PRAGMA main.table_info(\"SELECT * FROM measurement\")\n",
      "2021-07-23 12:28:29,275 INFO sqlalchemy.engine.base.Engine ()\n",
      "2021-07-23 12:28:29,277 INFO sqlalchemy.engine.base.Engine PRAGMA temp.table_info(\"SELECT * FROM measurement\")\n",
      "2021-07-23 12:28:29,279 INFO sqlalchemy.engine.base.Engine ()\n",
      "2021-07-23 12:28:29,282 INFO sqlalchemy.engine.base.Engine SELECT * FROM measurement\n",
      "2021-07-23 12:28:29,284 INFO sqlalchemy.engine.base.Engine ()\n"
     ]
    },
    {
     "output_type": "execute_result",
     "data": {
      "text/plain": [
       "   id      station        date  prcp  tobs\n",
       "0   1  USC00519397  2010-01-01  0.08  65.0\n",
       "1   2  USC00519397  2010-01-02  0.00  63.0\n",
       "2   3  USC00519397  2010-01-03  0.00  74.0\n",
       "3   4  USC00519397  2010-01-04  0.00  76.0\n",
       "4   5  USC00519397  2010-01-06   NaN  73.0"
      ],
      "text/html": [
       "<div>\n",
       "<style scoped>\n",
       "    .dataframe tbody tr th:only-of-type {\n",
       "        vertical-align: middle;\n",
       "    }\n",
       "\n",
       "    .dataframe tbody tr th {\n",
       "        vertical-align: top;\n",
       "    }\n",
       "\n",
       "    .dataframe thead th {\n",
       "        text-align: right;\n",
       "    }\n",
       "</style>\n",
       "<table border=\"1\" class=\"dataframe\">\n",
       "  <thead>\n",
       "    <tr style=\"text-align: right;\">\n",
       "      <th></th>\n",
       "      <th>id</th>\n",
       "      <th>station</th>\n",
       "      <th>date</th>\n",
       "      <th>prcp</th>\n",
       "      <th>tobs</th>\n",
       "    </tr>\n",
       "  </thead>\n",
       "  <tbody>\n",
       "    <tr>\n",
       "      <th>0</th>\n",
       "      <td>1</td>\n",
       "      <td>USC00519397</td>\n",
       "      <td>2010-01-01</td>\n",
       "      <td>0.08</td>\n",
       "      <td>65.0</td>\n",
       "    </tr>\n",
       "    <tr>\n",
       "      <th>1</th>\n",
       "      <td>2</td>\n",
       "      <td>USC00519397</td>\n",
       "      <td>2010-01-02</td>\n",
       "      <td>0.00</td>\n",
       "      <td>63.0</td>\n",
       "    </tr>\n",
       "    <tr>\n",
       "      <th>2</th>\n",
       "      <td>3</td>\n",
       "      <td>USC00519397</td>\n",
       "      <td>2010-01-03</td>\n",
       "      <td>0.00</td>\n",
       "      <td>74.0</td>\n",
       "    </tr>\n",
       "    <tr>\n",
       "      <th>3</th>\n",
       "      <td>4</td>\n",
       "      <td>USC00519397</td>\n",
       "      <td>2010-01-04</td>\n",
       "      <td>0.00</td>\n",
       "      <td>76.0</td>\n",
       "    </tr>\n",
       "    <tr>\n",
       "      <th>4</th>\n",
       "      <td>5</td>\n",
       "      <td>USC00519397</td>\n",
       "      <td>2010-01-06</td>\n",
       "      <td>NaN</td>\n",
       "      <td>73.0</td>\n",
       "    </tr>\n",
       "  </tbody>\n",
       "</table>\n",
       "</div>"
      ]
     },
     "metadata": {},
     "execution_count": 149
    }
   ],
   "metadata": {}
  },
  {
   "cell_type": "code",
   "execution_count": 150,
   "source": [
    "# not sure I need these, but doing it because it was in very first activity Query All Records in the Database\n",
    "station_data = engine.execute(\"SELECT * FROM station\")\n",
    "station_df = pd.read_sql(\"SELECT * FROM station\", this_conn)\n",
    "\n",
    "station_df"
   ],
   "outputs": [
    {
     "output_type": "stream",
     "name": "stdout",
     "text": [
      "2021-07-23 12:28:41,782 INFO sqlalchemy.engine.base.Engine SELECT * FROM station\n",
      "2021-07-23 12:28:41,785 INFO sqlalchemy.engine.base.Engine ()\n",
      "2021-07-23 12:28:41,788 INFO sqlalchemy.engine.base.Engine PRAGMA main.table_info(\"SELECT * FROM station\")\n",
      "2021-07-23 12:28:41,790 INFO sqlalchemy.engine.base.Engine ()\n",
      "2021-07-23 12:28:41,793 INFO sqlalchemy.engine.base.Engine PRAGMA temp.table_info(\"SELECT * FROM station\")\n",
      "2021-07-23 12:28:41,794 INFO sqlalchemy.engine.base.Engine ()\n",
      "2021-07-23 12:28:41,796 INFO sqlalchemy.engine.base.Engine SELECT * FROM station\n",
      "2021-07-23 12:28:41,797 INFO sqlalchemy.engine.base.Engine ()\n"
     ]
    },
    {
     "output_type": "execute_result",
     "data": {
      "text/plain": [
       "   id      station                                    name  latitude  \\\n",
       "0   1  USC00519397                    WAIKIKI 717.2, HI US  21.27160   \n",
       "1   2  USC00513117                    KANEOHE 838.1, HI US  21.42340   \n",
       "2   3  USC00514830  KUALOA RANCH HEADQUARTERS 886.9, HI US  21.52130   \n",
       "3   4  USC00517948                       PEARL CITY, HI US  21.39340   \n",
       "4   5  USC00518838              UPPER WAHIAWA 874.3, HI US  21.49920   \n",
       "5   6  USC00519523      WAIMANALO EXPERIMENTAL FARM, HI US  21.33556   \n",
       "6   7  USC00519281                     WAIHEE 837.5, HI US  21.45167   \n",
       "7   8  USC00511918       HONOLULU OBSERVATORY 702.2, HI US  21.31520   \n",
       "8   9  USC00516128            MANOA LYON ARBO 785.2, HI US  21.33310   \n",
       "\n",
       "   longitude  elevation  \n",
       "0 -157.81680        3.0  \n",
       "1 -157.80150       14.6  \n",
       "2 -157.83740        7.0  \n",
       "3 -157.97510       11.9  \n",
       "4 -158.01110      306.6  \n",
       "5 -157.71139       19.5  \n",
       "6 -157.84889       32.9  \n",
       "7 -157.99920        0.9  \n",
       "8 -157.80250      152.4  "
      ],
      "text/html": [
       "<div>\n",
       "<style scoped>\n",
       "    .dataframe tbody tr th:only-of-type {\n",
       "        vertical-align: middle;\n",
       "    }\n",
       "\n",
       "    .dataframe tbody tr th {\n",
       "        vertical-align: top;\n",
       "    }\n",
       "\n",
       "    .dataframe thead th {\n",
       "        text-align: right;\n",
       "    }\n",
       "</style>\n",
       "<table border=\"1\" class=\"dataframe\">\n",
       "  <thead>\n",
       "    <tr style=\"text-align: right;\">\n",
       "      <th></th>\n",
       "      <th>id</th>\n",
       "      <th>station</th>\n",
       "      <th>name</th>\n",
       "      <th>latitude</th>\n",
       "      <th>longitude</th>\n",
       "      <th>elevation</th>\n",
       "    </tr>\n",
       "  </thead>\n",
       "  <tbody>\n",
       "    <tr>\n",
       "      <th>0</th>\n",
       "      <td>1</td>\n",
       "      <td>USC00519397</td>\n",
       "      <td>WAIKIKI 717.2, HI US</td>\n",
       "      <td>21.27160</td>\n",
       "      <td>-157.81680</td>\n",
       "      <td>3.0</td>\n",
       "    </tr>\n",
       "    <tr>\n",
       "      <th>1</th>\n",
       "      <td>2</td>\n",
       "      <td>USC00513117</td>\n",
       "      <td>KANEOHE 838.1, HI US</td>\n",
       "      <td>21.42340</td>\n",
       "      <td>-157.80150</td>\n",
       "      <td>14.6</td>\n",
       "    </tr>\n",
       "    <tr>\n",
       "      <th>2</th>\n",
       "      <td>3</td>\n",
       "      <td>USC00514830</td>\n",
       "      <td>KUALOA RANCH HEADQUARTERS 886.9, HI US</td>\n",
       "      <td>21.52130</td>\n",
       "      <td>-157.83740</td>\n",
       "      <td>7.0</td>\n",
       "    </tr>\n",
       "    <tr>\n",
       "      <th>3</th>\n",
       "      <td>4</td>\n",
       "      <td>USC00517948</td>\n",
       "      <td>PEARL CITY, HI US</td>\n",
       "      <td>21.39340</td>\n",
       "      <td>-157.97510</td>\n",
       "      <td>11.9</td>\n",
       "    </tr>\n",
       "    <tr>\n",
       "      <th>4</th>\n",
       "      <td>5</td>\n",
       "      <td>USC00518838</td>\n",
       "      <td>UPPER WAHIAWA 874.3, HI US</td>\n",
       "      <td>21.49920</td>\n",
       "      <td>-158.01110</td>\n",
       "      <td>306.6</td>\n",
       "    </tr>\n",
       "    <tr>\n",
       "      <th>5</th>\n",
       "      <td>6</td>\n",
       "      <td>USC00519523</td>\n",
       "      <td>WAIMANALO EXPERIMENTAL FARM, HI US</td>\n",
       "      <td>21.33556</td>\n",
       "      <td>-157.71139</td>\n",
       "      <td>19.5</td>\n",
       "    </tr>\n",
       "    <tr>\n",
       "      <th>6</th>\n",
       "      <td>7</td>\n",
       "      <td>USC00519281</td>\n",
       "      <td>WAIHEE 837.5, HI US</td>\n",
       "      <td>21.45167</td>\n",
       "      <td>-157.84889</td>\n",
       "      <td>32.9</td>\n",
       "    </tr>\n",
       "    <tr>\n",
       "      <th>7</th>\n",
       "      <td>8</td>\n",
       "      <td>USC00511918</td>\n",
       "      <td>HONOLULU OBSERVATORY 702.2, HI US</td>\n",
       "      <td>21.31520</td>\n",
       "      <td>-157.99920</td>\n",
       "      <td>0.9</td>\n",
       "    </tr>\n",
       "    <tr>\n",
       "      <th>8</th>\n",
       "      <td>9</td>\n",
       "      <td>USC00516128</td>\n",
       "      <td>MANOA LYON ARBO 785.2, HI US</td>\n",
       "      <td>21.33310</td>\n",
       "      <td>-157.80250</td>\n",
       "      <td>152.4</td>\n",
       "    </tr>\n",
       "  </tbody>\n",
       "</table>\n",
       "</div>"
      ]
     },
     "metadata": {},
     "execution_count": 150
    }
   ],
   "metadata": {}
  },
  {
   "cell_type": "code",
   "execution_count": 151,
   "source": [
    "### Assign classes to variables \n",
    "Measurement = Base.classes.measurement\n",
    "Station = Base.classes.station"
   ],
   "outputs": [],
   "metadata": {}
  },
  {
   "cell_type": "code",
   "execution_count": 152,
   "source": [
    "# Create our session (link) from Python to the DB\n",
    "session = Session(engine)"
   ],
   "outputs": [],
   "metadata": {}
  },
  {
   "cell_type": "markdown",
   "source": [
    "# Exploratory Precipitation Analysis"
   ],
   "metadata": {}
  },
  {
   "cell_type": "code",
   "execution_count": 153,
   "source": [
    "### This is the first date as a check to make sure things were working while I searched for last date\n",
    "# Find the most recent date in the data set.\n",
    "earliest_date = session.query(Measurement.date).order_by(Measurement.date).first()\n",
    "print(earliest_date)"
   ],
   "outputs": [
    {
     "output_type": "stream",
     "name": "stdout",
     "text": [
      "2021-07-23 12:29:00,142 INFO sqlalchemy.engine.base.Engine BEGIN (implicit)\n",
      "2021-07-23 12:29:00,145 INFO sqlalchemy.engine.base.Engine SELECT measurement.date AS measurement_date \n",
      "FROM measurement ORDER BY measurement.date\n",
      " LIMIT ? OFFSET ?\n",
      "2021-07-23 12:29:00,154 INFO sqlalchemy.engine.base.Engine (1, 0)\n",
      "('2010-01-01',)\n"
     ]
    }
   ],
   "metadata": {}
  },
  {
   "cell_type": "code",
   "execution_count": 154,
   "source": [
    "# find most recent date in the database\n",
    "last_date = session.query(func.max(Measurement.date)).first()\n",
    "print(last_date)"
   ],
   "outputs": [
    {
     "output_type": "stream",
     "name": "stdout",
     "text": [
      "2021-07-23 12:29:05,351 INFO sqlalchemy.engine.base.Engine SELECT max(measurement.date) AS max_1 \n",
      "FROM measurement\n",
      " LIMIT ? OFFSET ?\n",
      "2021-07-23 12:29:05,357 INFO sqlalchemy.engine.base.Engine (1, 0)\n",
      "('2017-08-23',)\n"
     ]
    }
   ],
   "metadata": {}
  },
  {
   "cell_type": "markdown",
   "source": [
    "## Design a query to retrieve the last 12 months of precipitation data and plot the results. "
   ],
   "metadata": {}
  },
  {
   "cell_type": "code",
   "execution_count": 183,
   "source": [
    "# Starting from the most recent data point in the database. \n",
    "# The date that was pulled was a tuple & I saw online to use a marker to pull just the date \n",
    "# end_date = dt.date(last_date[0])  # The date is 2017-08-23; *the code DOES WORK, but I hard-coded to be sure*\n",
    "end_hand = dt.date(2017, 8, 23)\n",
    "# Calculate the date one year from the last date in data set.\n",
    "# start_date = end_date - dt.timedelta(days=365)  # THIS date should be 2016-08-24; hadn't gotten to work yet\n",
    "start_hand = dt.date(2016, 8, 24) \n",
    "print(f'start date is {start_hand} & end date is {end_hand}')"
   ],
   "outputs": [
    {
     "output_type": "stream",
     "name": "stdout",
     "text": [
      "start date is 2016-08-24 & end date is 2017-08-23\n"
     ]
    }
   ],
   "metadata": {}
  },
  {
   "cell_type": "markdown",
   "source": [
    "# Starting from the most recent data point in the database. \n",
    "# The date that was pulled was a tuple & I saw online to use a marker to pull just the date \n",
    "end_date = dt.date(last_date[0])  # The date is 2017-08-23; ***the code DID WORK***\n",
    "# print(end_date)\n",
    "# end_hand = dt.date(2017, 8, 23)\n",
    "# Calculate the date one year from the last date in data set.\n",
    "start_date = end_date - dt.timedelta(days=365)  # THIS date should be 2016-08-24; hadn't gotten to work yet\n",
    "# start_hand = dt.date(2016, 8, 24) \n",
    "print(f'start date is {start_date} & end date is {end_date}')"
   ],
   "metadata": {}
  },
  {
   "cell_type": "markdown",
   "source": [
    "sel = [Dow.stock, \n",
    "       func.avg(Dow.open_price), \n",
    "       func.avg(Dow.high_price), \n",
    "       func.avg(Dow.low_price), \n",
    "       func.avg(Dow.close_price)]\n",
    "may_averages = session.query(*sel).\\\n",
    "    filter(func.strftime(\"%m\", Dow.date) == \"05\").\\\n",
    "    group_by(Dow.stock).\\\n",
    "    order_by(Dow.stock).all()\n",
    "may_averages"
   ],
   "metadata": {}
  },
  {
   "cell_type": "code",
   "execution_count": 201,
   "source": [
    "# V0 produces list of tuples; has appropriate dates, but need to collapse so there is only 1 pair per date\n",
    "precip_output0 = session.query(Measurement.station, Measurement.date, Measurement.prcp).\\\n",
    "    filter(Measurement.date>=start_hand).all()\n",
    "    # order_by(Measurement.date)\n",
    "    # all()"
   ],
   "outputs": [
    {
     "output_type": "stream",
     "name": "stdout",
     "text": [
      "2021-07-23 15:11:33,150 INFO sqlalchemy.engine.base.Engine SELECT measurement.station AS measurement_station, measurement.date AS measurement_date, measurement.prcp AS measurement_prcp \n",
      "FROM measurement \n",
      "WHERE measurement.date >= ?\n",
      "2021-07-23 15:11:33,154 INFO sqlalchemy.engine.base.Engine ('2016-08-24',)\n"
     ]
    }
   ],
   "metadata": {}
  },
  {
   "cell_type": "code",
   "execution_count": 202,
   "source": [
    "print(precip_output0)"
   ],
   "outputs": [
    {
     "output_type": "stream",
     "name": "stdout",
     "text": [
      "[('USC00519397', '2016-08-24', 0.08), ('USC00519397', '2016-08-25', 0.08), ('USC00519397', '2016-08-26', 0.0), ('USC00519397', '2016-08-27', 0.0), ('USC00519397', '2016-08-28', 0.01), ('USC00519397', '2016-08-29', 0.0), ('USC00519397', '2016-08-30', 0.0), ('USC00519397', '2016-08-31', 0.13), ('USC00519397', '2016-09-01', 0.0), ('USC00519397', '2016-09-02', 0.0), ('USC00519397', '2016-09-03', 0.0), ('USC00519397', '2016-09-04', 0.03), ('USC00519397', '2016-09-05', None), ('USC00519397', '2016-09-06', None), ('USC00519397', '2016-09-07', 0.05), ('USC00519397', '2016-09-08', 0.0), ('USC00519397', '2016-09-09', 0.03), ('USC00519397', '2016-09-10', 0.0), ('USC00519397', '2016-09-11', 0.05), ('USC00519397', '2016-09-12', 0.0), ('USC00519397', '2016-09-13', 0.02), ('USC00519397', '2016-09-14', 1.32), ('USC00519397', '2016-09-15', 0.42), ('USC00519397', '2016-09-16', 0.06), ('USC00519397', '2016-09-17', 0.05), ('USC00519397', '2016-09-18', 0.0), ('USC00519397', '2016-09-19', 0.0), ('USC00519397', '2016-09-20', 0.0), ('USC00519397', '2016-09-21', 0.0), ('USC00519397', '2016-09-22', 0.02), ('USC00519397', '2016-09-23', 0.0), ('USC00519397', '2016-09-24', 0.0), ('USC00519397', '2016-09-25', 0.0), ('USC00519397', '2016-09-26', 0.06), ('USC00519397', '2016-09-27', 0.02), ('USC00519397', '2016-09-28', 0.0), ('USC00519397', '2016-09-29', 0.0), ('USC00519397', '2016-09-30', 0.0), ('USC00519397', '2016-10-01', 0.0), ('USC00519397', '2016-10-02', 0.0), ('USC00519397', '2016-10-03', 0.0), ('USC00519397', '2016-10-04', 0.0), ('USC00519397', '2016-10-05', 0.0), ('USC00519397', '2016-10-06', 0.0), ('USC00519397', '2016-10-07', 0.0), ('USC00519397', '2016-10-08', 0.0), ('USC00519397', '2016-10-09', 0.0), ('USC00519397', '2016-10-10', 0.0), ('USC00519397', '2016-10-11', 0.0), ('USC00519397', '2016-10-12', 0.0), ('USC00519397', '2016-10-13', 0.0), ('USC00519397', '2016-10-14', 0.0), ('USC00519397', '2016-10-15', 0.0), ('USC00519397', '2016-10-16', 0.0), ('USC00519397', '2016-10-17', 0.01), ('USC00519397', '2016-10-18', 0.0), ('USC00519397', '2016-10-19', 0.0), ('USC00519397', '2016-10-20', 0.0), ('USC00519397', '2016-10-21', 0.05), ('USC00519397', '2016-10-22', 0.15), ('USC00519397', '2016-10-23', 0.01), ('USC00519397', '2016-10-24', 0.0), ('USC00519397', '2016-10-25', 0.03), ('USC00519397', '2016-10-26', 0.0), ('USC00519397', '2016-10-27', 0.0), ('USC00519397', '2016-10-28', 0.0), ('USC00519397', '2016-10-29', 0.0), ('USC00519397', '2016-10-30', 0.24), ('USC00519397', '2016-10-31', 0.03), ('USC00519397', '2016-11-01', 0.0), ('USC00519397', '2016-11-02', 0.0), ('USC00519397', '2016-11-03', 0.0), ('USC00519397', '2016-11-04', 0.0), ('USC00519397', '2016-11-05', 0.0), ('USC00519397', '2016-11-06', 0.0), ('USC00519397', '2016-11-07', 0.0), ('USC00519397', '2016-11-08', 0.07), ('USC00519397', '2016-11-09', 0.0), ('USC00519397', '2016-11-10', 0.0), ('USC00519397', '2016-11-11', 0.0), ('USC00519397', '2016-11-12', 0.0), ('USC00519397', '2016-11-13', 0.0), ('USC00519397', '2016-11-14', 0.0), ('USC00519397', '2016-11-15', 0.0), ('USC00519397', '2016-11-16', 0.0), ('USC00519397', '2016-11-17', 0.0), ('USC00519397', '2016-11-18', 0.0), ('USC00519397', '2016-11-19', 0.03), ('USC00519397', '2016-11-20', 0.05), ('USC00519397', '2016-11-21', 0.01), ('USC00519397', '2016-11-22', 0.13), ('USC00519397', '2016-11-23', 0.14), ('USC00519397', '2016-11-24', 0.05), ('USC00519397', '2016-11-25', 0.05), ('USC00519397', '2016-11-26', 0.05), ('USC00519397', '2016-11-27', 0.0), ('USC00519397', '2016-11-28', 0.01), ('USC00519397', '2016-11-29', 0.0), ('USC00519397', '2016-11-30', 0.14), ('USC00519397', '2016-12-01', 0.12), ('USC00519397', '2016-12-02', 0.03), ('USC00519397', '2016-12-03', 0.0), ('USC00519397', '2016-12-04', 0.03), ('USC00519397', '2016-12-05', 0.43), ('USC00519397', '2016-12-06', 0.02), ('USC00519397', '2016-12-07', 0.0), ('USC00519397', '2016-12-08', 0.03), ('USC00519397', '2016-12-09', 0.52), ('USC00519397', '2016-12-10', 0.05), ('USC00519397', '2016-12-11', 0.04), ('USC00519397', '2016-12-12', 0.01), ('USC00519397', '2016-12-13', 0.05), ('USC00519397', '2016-12-14', 0.03), ('USC00519397', '2016-12-15', 0.0), ('USC00519397', '2016-12-16', 0.0), ('USC00519397', '2016-12-17', 0.01), ('USC00519397', '2016-12-18', 0.13), ('USC00519397', '2016-12-19', 0.01), ('USC00519397', '2016-12-20', 0.0), ('USC00519397', '2016-12-21', 0.0), ('USC00519397', '2016-12-22', 0.01), ('USC00519397', '2016-12-23', 0.01), ('USC00519397', '2016-12-24', 0.01), ('USC00519397', '2016-12-25', 0.0), ('USC00519397', '2016-12-26', 0.02), ('USC00519397', '2016-12-27', 0.0), ('USC00519397', '2016-12-28', 0.02), ('USC00519397', '2016-12-29', 0.04), ('USC00519397', '2016-12-30', 0.12), ('USC00519397', '2016-12-31', 0.01), ('USC00519397', '2017-01-01', 0.0), ('USC00519397', '2017-01-02', 0.0), ('USC00519397', '2017-01-03', 0.0), ('USC00519397', '2017-01-04', 0.0), ('USC00519397', '2017-01-05', 0.0), ('USC00519397', '2017-01-06', 0.0), ('USC00519397', '2017-01-07', 0.0), ('USC00519397', '2017-01-08', 0.0), ('USC00519397', '2017-01-09', 0.0), ('USC00519397', '2017-01-10', 0.0), ('USC00519397', '2017-01-11', 0.0), ('USC00519397', '2017-01-12', 0.0), ('USC00519397', '2017-01-13', 0.0), ('USC00519397', '2017-01-14', 0.0), ('USC00519397', '2017-01-15', 0.0), ('USC00519397', '2017-01-16', 0.0), ('USC00519397', '2017-01-17', 0.0), ('USC00519397', '2017-01-18', 0.0), ('USC00519397', '2017-01-19', 0.0), ('USC00519397', '2017-01-20', 0.0), ('USC00519397', '2017-01-21', 0.0), ('USC00519397', '2017-01-22', 0.16), ('USC00519397', '2017-01-23', 0.0), ('USC00519397', '2017-01-24', 0.04), ('USC00519397', '2017-01-25', 0.03), ('USC00519397', '2017-01-26', 0.0), ('USC00519397', '2017-01-27', 0.0), ('USC00519397', '2017-01-28', 0.0), ('USC00519397', '2017-01-29', 0.18), ('USC00519397', '2017-01-30', 0.0), ('USC00519397', '2017-01-31', 0.0), ('USC00519397', '2017-02-01', 0.0), ('USC00519397', '2017-02-02', 0.0), ('USC00519397', '2017-02-03', 0.0), ('USC00519397', '2017-02-04', 0.0), ('USC00519397', '2017-02-05', 0.0), ('USC00519397', '2017-02-06', 0.0), ('USC00519397', '2017-02-07', 0.51), ('USC00519397', '2017-02-08', 0.0), ('USC00519397', '2017-02-09', 0.0), ('USC00519397', '2017-02-10', 0.0), ('USC00519397', '2017-02-11', 0.31), ('USC00519397', '2017-02-12', 2.62), ('USC00519397', '2017-02-13', 0.01), ('USC00519397', '2017-02-14', 0.0), ('USC00519397', '2017-02-15', 0.0), ('USC00519397', '2017-02-16', 0.07), ('USC00519397', '2017-02-17', 0.0), ('USC00519397', '2017-02-18', 0.0), ('USC00519397', '2017-02-19', 0.0), ('USC00519397', '2017-02-20', 0.0), ('USC00519397', '2017-02-21', 0.06), ('USC00519397', '2017-02-22', 0.06), ('USC00519397', '2017-02-23', 0.01), ('USC00519397', '2017-02-24', 0.0), ('USC00519397', '2017-02-25', 0.03), ('USC00519397', '2017-02-26', 0.0), ('USC00519397', '2017-02-27', 0.0), ('USC00519397', '2017-02-28', 0.0), ('USC00519397', '2017-03-01', 1.19), ('USC00519397', '2017-03-02', 0.73), ('USC00519397', '2017-03-03', 0.47), ('USC00519397', '2017-03-04', 0.0), ('USC00519397', '2017-03-05', 0.35), ('USC00519397', '2017-03-06', 0.0), ('USC00519397', '2017-03-07', 0.0), ('USC00519397', '2017-03-08', 0.0), ('USC00519397', '2017-03-09', 0.0), ('USC00519397', '2017-03-10', 0.0), ('USC00519397', '2017-03-11', 0.0), ('USC00519397', '2017-03-12', 0.0), ('USC00519397', '2017-03-13', 0.0), ('USC00519397', '2017-03-14', 0.0), ('USC00519397', '2017-03-15', 0.0), ('USC00519397', '2017-03-16', 0.0), ('USC00519397', '2017-03-17', 0.0), ('USC00519397', '2017-03-18', 0.0), ('USC00519397', '2017-03-19', 0.0), ('USC00519397', '2017-03-20', 0.0), ('USC00519397', '2017-03-21', 0.0), ('USC00519397', '2017-03-22', 0.0), ('USC00519397', '2017-03-23', 0.0), ('USC00519397', '2017-03-24', 0.02), ('USC00519397', '2017-03-25', 0.0), ('USC00519397', '2017-03-26', 0.0), ('USC00519397', '2017-03-27', 0.0), ('USC00519397', '2017-03-28', 0.0), ('USC00519397', '2017-03-29', 0.0), ('USC00519397', '2017-03-30', 0.0), ('USC00519397', '2017-03-31', 0.0), ('USC00519397', '2017-04-01', 0.0), ('USC00519397', '2017-04-02', 0.0), ('USC00519397', '2017-04-03', 0.0), ('USC00519397', '2017-04-04', 0.0), ('USC00519397', '2017-04-05', 0.0), ('USC00519397', '2017-04-06', 0.0), ('USC00519397', '2017-04-07', 0.0), ('USC00519397', '2017-04-08', 0.0), ('USC00519397', '2017-04-09', 0.0), ('USC00519397', '2017-04-10', 0.0), ('USC00519397', '2017-04-11', 0.0), ('USC00519397', '2017-04-12', 0.0), ('USC00519397', '2017-04-13', 0.0), ('USC00519397', '2017-04-14', 0.26), ('USC00519397', '2017-04-15', 0.01), ('USC00519397', '2017-04-16', 0.0), ('USC00519397', '2017-04-17', 0.02), ('USC00519397', '2017-04-18', 0.0), ('USC00519397', '2017-04-19', 0.02), ('USC00519397', '2017-04-20', 0.05), ('USC00519397', '2017-04-21', 0.23), ('USC00519397', '2017-04-22', 0.32), ('USC00519397', '2017-04-23', 0.03), ('USC00519397', '2017-04-24', 0.0), ('USC00519397', '2017-04-25', 0.0), ('USC00519397', '2017-04-26', 0.0), ('USC00519397', '2017-04-27', 0.0), ('USC00519397', '2017-04-28', 0.0), ('USC00519397', '2017-04-29', 0.12), ('USC00519397', '2017-04-30', 0.89), ('USC00519397', '2017-05-01', 0.26), ('USC00519397', '2017-05-02', 0.0), ('USC00519397', '2017-05-03', 0.0), ('USC00519397', '2017-05-04', 0.0), ('USC00519397', '2017-05-05', 0.0), ('USC00519397', '2017-05-06', 0.0), ('USC00519397', '2017-05-07', 0.0), ('USC00519397', '2017-05-08', 0.0), ('USC00519397', '2017-05-10', 0.0), ('USC00519397', '2017-05-11', 0.01), ('USC00519397', '2017-05-12', 0.0), ('USC00519397', '2017-05-13', 0.0), ('USC00519397', '2017-05-14', 0.0), ('USC00519397', '2017-05-15', 0.05), ('USC00519397', '2017-05-16', 0.01), ('USC00519397', '2017-05-17', 0.0), ('USC00519397', '2017-05-18', 0.01), ('USC00519397', '2017-05-19', 0.0), ('USC00519397', '2017-05-20', 0.0), ('USC00519397', '2017-05-21', 0.0), ('USC00519397', '2017-05-22', 0.0), ('USC00519397', '2017-05-23', 0.08), ('USC00519397', '2017-05-24', 0.13), ('USC00519397', '2017-05-25', 0.15), ('USC00519397', '2017-05-27', 0.01), ('USC00519397', '2017-05-28', 0.02), ('USC00519397', '2017-05-29', 0.0), ('USC00519397', '2017-05-30', 0.26), ('USC00519397', '2017-05-31', 0.02), ('USC00519397', '2017-06-01', 0.0), ('USC00519397', '2017-06-02', 0.0), ('USC00519397', '2017-06-03', 0.02), ('USC00519397', '2017-06-04', 0.0), ('USC00519397', '2017-06-05', 0.0), ('USC00519397', '2017-06-06', 0.0), ('USC00519397', '2017-06-07', 0.0), ('USC00519397', '2017-06-08', 0.0), ('USC00519397', '2017-06-09', 0.0), ('USC00519397', '2017-06-10', 0.04), ('USC00519397', '2017-06-11', 0.08), ('USC00519397', '2017-06-12', 0.02), ('USC00519397', '2017-06-13', 0.0), ('USC00519397', '2017-06-14', 0.0), ('USC00519397', '2017-06-15', 0.0), ('USC00519397', '2017-06-16', 0.0), ('USC00519397', '2017-06-17', 0.0), ('USC00519397', '2017-06-18', 0.05), ('USC00519397', '2017-06-19', 0.0), ('USC00519397', '2017-06-20', 0.02), ('USC00519397', '2017-06-21', 0.0), ('USC00519397', '2017-06-22', 0.0), ('USC00519397', '2017-06-23', 0.0), ('USC00519397', '2017-06-24', 0.06), ('USC00519397', '2017-06-25', 0.0), ('USC00519397', '2017-06-26', 0.0), ('USC00519397', '2017-06-27', 0.0), ('USC00519397', '2017-06-28', 0.0), ('USC00519397', '2017-06-29', 0.0), ('USC00519397', '2017-06-30', 0.08), ('USC00519397', '2017-07-01', 0.02), ('USC00519397', '2017-07-02', 0.02), ('USC00519397', '2017-07-03', 0.04), ('USC00519397', '2017-07-04', 0.04), ('USC00519397', '2017-07-05', 0.0), ('USC00519397', '2017-07-06', 0.0), ('USC00519397', '2017-07-07', 0.0), ('USC00519397', '2017-07-08', 0.0), ('USC00519397', '2017-07-09', 0.0), ('USC00519397', '2017-07-10', 0.0), ('USC00519397', '2017-07-11', 0.0), ('USC00519397', '2017-07-12', 0.0), ('USC00519397', '2017-07-13', 0.07), ('USC00519397', '2017-07-14', 0.02), ('USC00519397', '2017-07-15', 0.0), ('USC00519397', '2017-07-16', 0.02), ('USC00519397', '2017-07-17', 0.03), ('USC00519397', '2017-07-18', 0.05), ('USC00519397', '2017-07-20', 0.03), ('USC00519397', '2017-07-21', 0.0), ('USC00519397', '2017-07-22', 0.03), ('USC00519397', '2017-07-23', 0.0), ('USC00519397', '2017-07-24', 0.05), ('USC00519397', '2017-07-25', 0.0), ('USC00519397', '2017-07-26', 0.0), ('USC00519397', '2017-07-27', 0.0), ('USC00519397', '2017-07-28', 0.0), ('USC00519397', '2017-07-29', 0.0), ('USC00519397', '2017-07-30', 0.0), ('USC00519397', '2017-07-31', 0.0), ('USC00519397', '2017-08-01', 0.02), ('USC00519397', '2017-08-02', 0.0), ('USC00519397', '2017-08-03', 0.0), ('USC00519397', '2017-08-04', 0.02), ('USC00519397', '2017-08-05', 0.0), ('USC00519397', '2017-08-06', 0.0), ('USC00519397', '2017-08-07', 0.0), ('USC00519397', '2017-08-08', 0.0), ('USC00519397', '2017-08-09', 0.0), ('USC00519397', '2017-08-10', 0.0), ('USC00519397', '2017-08-11', 0.0), ('USC00519397', '2017-08-12', 0.0), ('USC00519397', '2017-08-13', 0.0), ('USC00519397', '2017-08-14', 0.0), ('USC00519397', '2017-08-15', 0.02), ('USC00519397', '2017-08-18', 0.0), ('USC00519397', '2017-08-19', 0.0), ('USC00519397', '2017-08-20', 0.0), ('USC00519397', '2017-08-21', 0.0), ('USC00519397', '2017-08-22', 0.0), ('USC00519397', '2017-08-23', 0.0), ('USC00513117', '2016-08-24', 2.15), ('USC00513117', '2016-08-25', 0.08), ('USC00513117', '2016-08-26', 0.03), ('USC00513117', '2016-08-27', 0.18), ('USC00513117', '2016-08-28', 0.14), ('USC00513117', '2016-08-29', 0.17), ('USC00513117', '2016-08-30', 0.0), ('USC00513117', '2016-08-31', 0.1), ('USC00513117', '2016-09-01', 0.0), ('USC00513117', '2016-09-02', 0.02), ('USC00513117', '2016-09-03', 0.07), ('USC00513117', '2016-09-04', 0.03), ('USC00513117', '2016-09-05', 0.11), ('USC00513117', '2016-09-06', 0.05), ('USC00513117', '2016-09-07', 0.1), ('USC00513117', '2016-09-08', 0.22), ('USC00513117', '2016-09-09', 0.01), ('USC00513117', '2016-09-10', 0.01), ('USC00513117', '2016-09-11', 0.18), ('USC00513117', '2016-09-12', 0.04), ('USC00513117', '2016-09-13', 0.37), ('USC00513117', '2016-09-14', 0.9), ('USC00513117', '2016-09-15', 0.12), ('USC00513117', '2016-09-16', 0.01), ('USC00513117', '2016-09-17', 0.04), ('USC00513117', '2016-09-18', 0.0), ('USC00513117', '2016-09-19', 0.01), ('USC00513117', '2016-09-20', 0.09), ('USC00513117', '2016-09-21', 0.06), ('USC00513117', '2016-09-22', 0.09), ('USC00513117', '2016-09-23', 0.15), ('USC00513117', '2016-09-24', 0.0), ('USC00513117', '2016-09-25', 0.02), ('USC00513117', '2016-09-26', 0.06), ('USC00513117', '2016-09-27', 0.12), ('USC00513117', '2016-09-28', 0.08), ('USC00513117', '2016-09-29', 0.49), ('USC00513117', '2016-09-30', 0.31), ('USC00513117', '2016-10-01', 0.14), ('USC00513117', '2016-10-02', 0.02), ('USC00513117', '2016-10-03', 0.04), ('USC00513117', '2016-10-04', 0.0), ('USC00513117', '2016-10-05', 0.0), ('USC00513117', '2016-10-06', 0.05), ('USC00513117', '2016-10-07', 0.0), ('USC00513117', '2016-10-08', 0.0), ('USC00513117', '2016-10-09', 0.0), ('USC00513117', '2016-10-10', 0.0), ('USC00513117', '2016-10-11', 0.02), ('USC00513117', '2016-10-12', 0.03), ('USC00513117', '2016-10-13', 0.0), ('USC00513117', '2016-10-14', 0.0), ('USC00513117', '2016-10-15', 0.0), ('USC00513117', '2016-10-16', 0.0), ('USC00513117', '2016-10-17', 0.03), ('USC00513117', '2016-10-18', 0.05), ('USC00513117', '2016-10-19', 0.06), ('USC00513117', '2016-10-20', 0.0), ('USC00513117', '2016-10-21', 0.15), ('USC00513117', '2016-10-22', 0.1), ('USC00513117', '2016-10-23', 0.01), ('USC00513117', '2016-10-24', 0.0), ('USC00513117', '2016-10-25', 0.04), ('USC00513117', '2016-10-26', 0.06), ('USC00513117', '2016-10-27', 0.11), ('USC00513117', '2016-10-28', 0.02), ('USC00513117', '2016-10-29', 0.02), ('USC00513117', '2016-10-30', 0.1), ('USC00513117', '2016-10-31', 0.03), ('USC00513117', '2016-11-01', 0.01), ('USC00513117', '2016-11-02', 0.0), ('USC00513117', '2016-11-03', 0.0), ('USC00513117', '2016-11-04', 0.0), ('USC00513117', '2016-11-05', 0.02), ('USC00513117', '2016-11-06', 0.02), ('USC00513117', '2016-11-07', 0.0), ('USC00513117', '2016-11-08', 0.14), ('USC00513117', '2016-11-09', 0.08), ('USC00513117', '2016-11-10', 0.0), ('USC00513117', '2016-11-11', 0.0), ('USC00513117', '2016-11-12', 0.0), ('USC00513117', '2016-11-13', 0.0), ('USC00513117', '2016-11-14', 0.06), ('USC00513117', '2016-11-15', 0.0), ('USC00513117', '2016-11-16', 0.14), ('USC00513117', '2016-11-17', 0.03), ('USC00513117', '2016-11-18', 0.01), ('USC00513117', '2016-11-19', 0.11), ('USC00513117', '2016-11-20', 0.11), ('USC00513117', '2016-11-21', 0.02), ('USC00513117', '2016-11-22', 0.41), ('USC00513117', '2016-11-23', 0.03), ('USC00513117', '2016-11-24', 0.2), ('USC00513117', '2016-11-25', 0.05), ('USC00513117', '2016-11-26', 0.05), ('USC00513117', '2016-11-27', 0.06), ('USC00513117', '2016-11-28', 0.02), ('USC00513117', '2016-11-29', 0.04), ('USC00513117', '2016-11-30', 0.05), ('USC00513117', '2016-12-01', 0.33), ('USC00513117', '2016-12-02', 0.3), ('USC00513117', '2016-12-03', 0.04), ('USC00513117', '2016-12-04', 0.1), ('USC00513117', '2016-12-05', 0.34), ('USC00513117', '2016-12-06', 0.02), ('USC00513117', '2016-12-07', 0.17), ('USC00513117', '2016-12-08', 0.03), ('USC00513117', '2016-12-09', 0.34), ('USC00513117', '2016-12-10', 0.02), ('USC00513117', '2016-12-11', 0.02), ('USC00513117', '2016-12-12', 0.01), ('USC00513117', '2016-12-13', 0.1), ('USC00513117', '2016-12-14', 0.05), ('USC00513117', '2016-12-15', 0.02), ('USC00513117', '2016-12-16', 0.01), ('USC00513117', '2016-12-17', 0.11), ('USC00513117', '2016-12-18', 0.29), ('USC00513117', '2016-12-19', 0.21), ('USC00513117', '2016-12-20', 0.02), ('USC00513117', '2016-12-21', 0.03), ('USC00513117', '2016-12-22', 0.17), ('USC00513117', '2016-12-23', 0.1), ('USC00513117', '2016-12-24', 0.14), ('USC00513117', '2016-12-25', 0.03), ('USC00513117', '2016-12-26', 0.26), ('USC00513117', '2016-12-27', 0.03), ('USC00513117', '2016-12-28', 0.09), ('USC00513117', '2016-12-29', 0.18), ('USC00513117', '2016-12-30', 0.21), ('USC00513117', '2016-12-31', 0.62), ('USC00513117', '2017-01-01', 0.29), ('USC00513117', '2017-01-02', 0.0), ('USC00513117', '2017-01-03', 0.0), ('USC00513117', '2017-01-04', 0.0), ('USC00513117', '2017-01-05', 0.0), ('USC00513117', '2017-01-06', 0.0), ('USC00513117', '2017-01-07', 0.06), ('USC00513117', '2017-01-08', 0.0), ('USC00513117', '2017-01-09', 0.0), ('USC00513117', '2017-01-10', 0.0), ('USC00513117', '2017-01-11', 0.0), ('USC00513117', '2017-01-12', 0.0), ('USC00513117', '2017-01-13', 0.0), ('USC00513117', '2017-01-14', 0.0), ('USC00513117', '2017-01-15', 0.0), ('USC00513117', '2017-01-16', 0.0), ('USC00513117', '2017-01-17', 0.0), ('USC00513117', '2017-01-18', 0.0), ('USC00513117', '2017-01-19', 0.0), ('USC00513117', '2017-01-20', 0.0), ('USC00513117', '2017-01-21', 0.04), ('USC00513117', '2017-01-22', 0.01), ('USC00513117', '2017-01-23', 0.08), ('USC00513117', '2017-01-24', 0.15), ('USC00513117', '2017-01-25', 0.12), ('USC00513117', '2017-01-26', 0.0), ('USC00513117', '2017-01-27', 0.0), ('USC00513117', '2017-01-28', 0.14), ('USC00513117', '2017-01-29', 0.0), ('USC00513117', '2017-01-30', 0.0), ('USC00513117', '2017-01-31', 0.0), ('USC00513117', '2017-02-01', 0.0), ('USC00513117', '2017-02-02', 0.0), ('USC00513117', '2017-02-03', 0.0), ('USC00513117', '2017-02-04', 0.0), ('USC00513117', '2017-02-05', 0.0), ('USC00513117', '2017-02-06', 0.16), ('USC00513117', '2017-02-07', 1.08), ('USC00513117', '2017-02-08', 1.08), ('USC00513117', '2017-02-09', 0.02), ('USC00513117', '2017-02-10', 0.0), ('USC00513117', '2017-02-11', 1.0), ('USC00513117', '2017-02-12', 1.07), ('USC00513117', '2017-02-13', 2.9), ('USC00513117', '2017-02-14', 0.0), ('USC00513117', '2017-02-15', 0.0), ('USC00513117', '2017-02-16', 0.0), ('USC00513117', '2017-02-17', 0.8), ('USC00513117', '2017-02-18', 0.0), ('USC00513117', '2017-02-19', 0.0), ('USC00513117', '2017-02-20', 0.0), ('USC00513117', '2017-02-21', 0.0), ('USC00513117', '2017-02-22', 0.06), ('USC00513117', '2017-02-23', 0.0), ('USC00513117', '2017-02-24', 0.0), ('USC00513117', '2017-02-25', 0.0), ('USC00513117', '2017-02-26', 0.0), ('USC00513117', '2017-02-27', 0.0), ('USC00513117', '2017-02-28', 0.16), ('USC00513117', '2017-03-01', 2.2), ('USC00513117', '2017-03-02', 1.45), ('USC00513117', '2017-03-03', 0.54), ('USC00513117', '2017-03-04', 0.0), ('USC00513117', '2017-03-05', 0.1), ('USC00513117', '2017-03-06', 0.51), ('USC00513117', '2017-03-07', 0.0), ('USC00513117', '2017-03-08', 0.0), ('USC00513117', '2017-03-09', 0.8), ('USC00513117', '2017-03-10', 0.13), ('USC00513117', '2017-03-11', 0.03), ('USC00513117', '2017-03-12', 0.0), ('USC00513117', '2017-03-13', 0.0), ('USC00513117', '2017-03-14', 0.0), ('USC00513117', '2017-03-15', 0.0), ('USC00513117', '2017-03-16', 0.0), ('USC00513117', '2017-03-17', 0.19), ('USC00513117', '2017-03-18', 0.0), ('USC00513117', '2017-03-19', 0.0), ('USC00513117', '2017-03-20', 0.0), ('USC00513117', '2017-03-21', 0.0), ('USC00513117', '2017-03-22', 0.0), ('USC00513117', '2017-03-23', 0.0), ('USC00513117', '2017-03-24', 0.6), ('USC00513117', '2017-03-25', 0.13), ('USC00513117', '2017-03-26', 0.0), ('USC00513117', '2017-03-27', 0.0), ('USC00513117', '2017-03-28', 0.03), ('USC00513117', '2017-03-29', 0.0), ('USC00513117', '2017-03-30', 0.08), ('USC00513117', '2017-03-31', 0.0), ('USC00513117', '2017-04-01', 0.0), ('USC00513117', '2017-04-02', 0.0), ('USC00513117', '2017-04-03', 0.08), ('USC00513117', '2017-04-04', 0.04), ('USC00513117', '2017-04-05', 0.04), ('USC00513117', '2017-04-06', 0.0), ('USC00513117', '2017-04-07', 0.0), ('USC00513117', '2017-04-08', 0.0), ('USC00513117', '2017-04-09', 0.0), ('USC00513117', '2017-04-10', 0.01), ('USC00513117', '2017-04-11', 0.03), ('USC00513117', '2017-04-12', 0.03), ('USC00513117', '2017-04-13', 0.27), ('USC00513117', '2017-04-14', 0.69), ('USC00513117', '2017-04-15', 0.45), ('USC00513117', '2017-04-16', 0.49), ('USC00513117', '2017-04-17', 0.41), ('USC00513117', '2017-04-18', 0.08), ('USC00513117', '2017-04-19', 0.02), ('USC00513117', '2017-04-20', 0.33), ('USC00513117', '2017-04-21', 1.16), ('USC00513117', '2017-04-22', 1.01), ('USC00513117', '2017-04-23', 0.02), ('USC00513117', '2017-04-24', 0.0), ('USC00513117', '2017-04-25', 0.0), ('USC00513117', '2017-04-26', 0.0), ('USC00513117', '2017-04-27', 0.1), ('USC00513117', '2017-04-28', 2.6), ('USC00513117', '2017-04-29', 0.35), ('USC00513117', '2017-04-30', 1.21), ('USC00513117', '2017-05-01', 0.07), ('USC00513117', '2017-05-02', 0.03), ('USC00513117', '2017-05-03', 0.01), ('USC00513117', '2017-05-04', 0.0), ('USC00513117', '2017-05-05', 0.0), ('USC00513117', '2017-05-06', 0.0), ('USC00513117', '2017-05-07', 0.07), ('USC00513117', '2017-05-08', 0.22), ('USC00513117', '2017-05-09', 1.62), ('USC00513117', '2017-05-10', 0.05), ('USC00513117', '2017-05-11', 0.03), ('USC00513117', '2017-05-12', 0.04), ('USC00513117', '2017-05-13', 0.02), ('USC00513117', '2017-05-14', 0.05), ('USC00513117', '2017-05-15', 0.08), ('USC00513117', '2017-05-16', 0.03), ('USC00513117', '2017-05-17', 0.02), ('USC00513117', '2017-05-18', 0.09), ('USC00513117', '2017-05-19', 0.02), ('USC00513117', '2017-05-20', 0.0), ('USC00513117', '2017-05-21', 0.0), ('USC00513117', '2017-05-22', 0.0), ('USC00513117', '2017-05-23', 0.02), ('USC00513117', '2017-05-24', 0.58), ('USC00513117', '2017-05-25', 0.37), ('USC00513117', '2017-05-26', 0.02), ('USC00513117', '2017-05-27', 0.0), ('USC00513117', '2017-05-28', 0.29), ('USC00513117', '2017-05-29', 0.02), ('USC00513117', '2017-05-30', 0.2), ('USC00513117', '2017-05-31', 0.1), ('USC00513117', '2017-06-01', 0.03), ('USC00513117', '2017-06-02', 0.1), ('USC00513117', '2017-06-03', 0.2), ('USC00513117', '2017-06-04', 0.15), ('USC00513117', '2017-06-05', 0.0), ('USC00513117', '2017-06-06', 0.0), ('USC00513117', '2017-06-07', 0.0), ('USC00513117', '2017-06-08', 0.02), ('USC00513117', '2017-06-09', 0.02), ('USC00513117', '2017-06-10', 0.21), ('USC00513117', '2017-06-11', 0.24), ('USC00513117', '2017-06-12', 0.19), ('USC00513117', '2017-06-13', 0.36), ('USC00513117', '2017-06-14', 0.27), ('USC00513117', '2017-06-15', 0.17), ('USC00513117', '2017-06-16', 0.02), ('USC00513117', '2017-06-17', 0.35), ('USC00513117', '2017-06-18', 0.25), ('USC00513117', '2017-06-19', 0.05), ('USC00513117', '2017-06-20', 0.05), ('USC00513117', '2017-06-21', 0.02), ('USC00513117', '2017-06-22', 0.1), ('USC00513117', '2017-06-23', 0.0), ('USC00513117', '2017-06-24', 0.0), ('USC00513117', '2017-06-25', 0.08), ('USC00513117', '2017-06-26', 0.02), ('USC00513117', '2017-06-27', 0.0), ('USC00513117', '2017-06-28', 0.01), ('USC00513117', '2017-06-29', 0.03), ('USC00513117', '2017-06-30', 0.04), ('USC00513117', '2017-07-01', 0.06), ('USC00513117', '2017-07-02', 0.05), ('USC00513117', '2017-07-03', 0.13), ('USC00513117', '2017-07-04', 0.03), ('USC00513117', '2017-07-05', 0.0), ('USC00513117', '2017-07-06', 0.0), ('USC00513117', '2017-07-07', 0.02), ('USC00513117', '2017-07-08', 0.02), ('USC00513117', '2017-07-09', 0.09), ('USC00513117', '2017-07-10', 0.0), ('USC00513117', '2017-07-11', 0.01), ('USC00513117', '2017-07-12', 0.01), ('USC00513117', '2017-07-13', 0.33), ('USC00513117', '2017-07-14', 0.05), ('USC00513117', '2017-07-15', 0.03), ('USC00513117', '2017-07-16', 0.07), ('USC00513117', '2017-07-17', 0.12), ('USC00513117', '2017-07-18', 0.03), ('USC00513117', '2017-07-19', 0.0), ('USC00513117', '2017-07-20', 0.12), ('USC00513117', '2017-07-21', 0.0), ('USC00513117', '2017-07-22', 0.07), ('USC00513117', '2017-07-23', 0.06), ('USC00513117', '2017-07-24', 0.58), ('USC00513117', '2017-07-25', 0.03), ('USC00513117', '2017-07-26', 0.06), ('USC00513117', '2017-07-27', 0.0), ('USC00513117', '2017-07-28', 0.13), ('USC00513117', '2017-07-29', 0.06), ('USC00513117', '2017-07-30', 0.0), ('USC00513117', '2017-07-31', 0.0), ('USC00514830', '2016-08-24', 2.28), ('USC00514830', '2016-08-25', 0.0), ('USC00514830', '2016-08-26', 0.02), ('USC00514830', '2016-08-27', 0.02), ('USC00514830', '2016-08-28', 0.14), ('USC00514830', '2016-08-29', 0.04), ('USC00514830', '2016-08-31', None), ('USC00514830', '2016-09-01', 0.0), ('USC00514830', '2016-09-02', 0.19), ('USC00514830', '2016-09-05', None), ('USC00514830', '2016-09-06', 0.04), ('USC00514830', '2016-09-07', 0.23), ('USC00514830', '2016-09-08', 0.01), ('USC00514830', '2016-09-09', 0.29), ('USC00514830', '2016-09-12', None), ('USC00514830', '2016-09-13', 0.32), ('USC00514830', '2016-09-14', 1.84), ('USC00514830', '2016-09-15', 0.07), ('USC00514830', '2016-09-16', 0.07), ('USC00514830', '2016-09-19', None), ('USC00514830', '2016-09-20', 0.25), ('USC00514830', '2016-09-21', 0.02), ('USC00514830', '2016-09-22', 0.17), ('USC00514830', '2016-09-23', 0.15), ('USC00514830', '2016-09-24', 0.0), ('USC00514830', '2016-09-25', 0.0), ('USC00514830', '2016-09-26', 0.02), ('USC00514830', '2016-09-27', 0.0), ('USC00514830', '2016-09-28', 0.0), ('USC00514830', '2016-09-29', 0.2), ('USC00514830', '2016-09-30', 0.06), ('USC00514830', '2016-10-01', 0.08), ('USC00514830', '2016-10-02', 0.03), ('USC00514830', '2016-10-03', 0.03), ('USC00514830', '2016-10-04', 0.0), ('USC00514830', '2016-10-05', 0.0), ('USC00514830', '2016-10-06', 0.0), ('USC00514830', '2016-10-07', 0.0), ('USC00514830', '2016-10-10', None), ('USC00514830', '2016-10-11', 0.04), ('USC00514830', '2016-10-12', 0.0), ('USC00514830', '2016-10-13', 0.02), ('USC00514830', '2016-10-14', 0.0), ('USC00514830', '2016-10-15', 0.02), ('USC00514830', '2016-10-17', None), ('USC00514830', '2016-10-18', 0.03), ('USC00514830', '2016-10-19', 0.0), ('USC00514830', '2016-10-20', 0.01), ('USC00514830', '2016-10-21', 0.03), ('USC00514830', '2016-10-23', None), ('USC00514830', '2016-10-24', 0.01), ('USC00514830', '2016-10-25', 0.0), ('USC00514830', '2016-10-27', 0.2), ('USC00514830', '2016-10-28', 0.07), ('USC00514830', '2016-10-29', 0.26), ('USC00514830', '2016-10-30', 0.14), ('USC00514830', '2016-10-31', 0.0), ('USC00514830', '2016-11-01', 0.0), ('USC00514830', '2016-11-02', 0.0), ('USC00514830', '2016-11-03', 0.0), ('USC00514830', '2016-11-04', 0.0), ('USC00514830', '2016-11-05', 0.0), ('USC00514830', '2016-11-06', 0.0), ('USC00514830', '2016-11-07', 0.13), ('USC00514830', '2016-11-08', 0.02), ('USC00514830', '2016-11-09', 0.17), ('USC00514830', '2016-11-10', 0.0), ('USC00514830', '2016-11-11', 0.0), ('USC00514830', '2016-11-12', 0.0), ('USC00514830', '2016-11-13', 0.0), ('USC00514830', '2016-11-14', 0.05), ('USC00514830', '2016-11-15', 0.0), ('USC00514830', '2016-11-16', 0.18), ('USC00514830', '2016-11-17', 0.0), ('USC00514830', '2016-11-22', None), ('USC00514830', '2016-11-25', None), ('USC00514830', '2016-11-26', 0.02), ('USC00514830', '2016-11-27', 0.03), ('USC00514830', '2016-11-28', 0.0), ('USC00514830', '2016-11-29', 0.04), ('USC00514830', '2016-11-30', 0.03), ('USC00514830', '2016-12-01', 0.07), ('USC00514830', '2016-12-02', 0.4), ('USC00514830', '2016-12-03', 0.26), ('USC00514830', '2016-12-04', 0.0), ('USC00514830', '2016-12-05', 0.2), ('USC00514830', '2016-12-07', None), ('USC00514830', '2016-12-08', 0.02), ('USC00514830', '2016-12-09', 0.26), ('USC00514830', '2016-12-10', 0.0), ('USC00514830', '2016-12-12', None), ('USC00514830', '2016-12-13', 0.34), ('USC00514830', '2016-12-14', 0.12), ('USC00514830', '2016-12-15', 0.07), ('USC00514830', '2016-12-16', 0.0), ('USC00514830', '2016-12-17', 0.0), ('USC00514830', '2016-12-18', 0.04), ('USC00514830', '2016-12-19', 0.0), ('USC00514830', '2016-12-20', 0.0), ('USC00514830', '2016-12-21', 0.09), ('USC00514830', '2016-12-22', 0.05), ('USC00514830', '2016-12-23', 0.03), ('USC00514830', '2016-12-24', 0.13), ('USC00514830', '2016-12-26', None), ('USC00514830', '2016-12-27', 0.02), ('USC00514830', '2016-12-28', 0.01), ('USC00514830', '2016-12-29', 0.56), ('USC00514830', '2016-12-30', 0.29), ('USC00514830', '2016-12-31', 0.36), ('USC00514830', '2017-01-01', 0.0), ('USC00514830', '2017-01-02', 0.01), ('USC00514830', '2017-01-03', 0.0), ('USC00514830', '2017-01-04', 0.0), ('USC00514830', '2017-01-05', 0.0), ('USC00514830', '2017-01-06', 0.59), ('USC00514830', '2017-01-07', 0.0), ('USC00514830', '2017-01-08', 0.03), ('USC00514830', '2017-01-09', 0.0), ('USC00514830', '2017-01-10', 0.0), ('USC00514830', '2017-01-11', 0.0), ('USC00514830', '2017-01-13', None), ('USC00514830', '2017-01-14', 0.0), ('USC00514830', '2017-01-16', None), ('USC00514830', '2017-01-17', 0.0), ('USC00514830', '2017-01-18', 0.0), ('USC00514830', '2017-01-19', 0.0), ('USC00514830', '2017-01-20', 0.0), ('USC00514830', '2017-01-21', 0.02), ('USC00514830', '2017-01-23', None), ('USC00514830', '2017-01-25', None), ('USC00514830', '2017-01-26', 0.01), ('USC00514830', '2017-01-27', 0.0), ('USC00514830', '2017-01-28', 0.0), ('USC00514830', '2017-01-30', None), ('USC00514830', '2017-01-31', 0.0), ('USC00514830', '2017-02-01', 0.0), ('USC00514830', '2017-02-02', 0.0), ('USC00514830', '2017-02-03', 0.0), ('USC00514830', '2017-02-05', None), ('USC00514830', '2017-02-06', 0.04), ('USC00514830', '2017-02-07', 0.9), ('USC00514830', '2017-02-08', 0.0), ('USC00514830', '2017-02-09', 0.0), ('USC00514830', '2017-02-10', 0.0), ('USC00514830', '2017-02-11', 2.39), ('USC00514830', '2017-02-12', 1.91), ('USC00514830', '2017-02-13', 0.0), ('USC00514830', '2017-02-14', 0.0), ('USC00514830', '2017-02-15', 0.0), ('USC00514830', '2017-02-16', 0.62), ('USC00514830', '2017-02-17', 0.06), ('USC00514830', '2017-02-20', None), ('USC00514830', '2017-02-21', 0.0), ('USC00514830', '2017-02-22', 0.11), ('USC00514830', '2017-02-23', 0.0), ('USC00514830', '2017-02-24', 0.0), ('USC00514830', '2017-02-26', None), ('USC00514830', '2017-02-27', 0.0), ('USC00514830', '2017-02-28', 0.04), ('USC00514830', '2017-03-01', 1.12), ('USC00514830', '2017-03-03', None), ('USC00514830', '2017-03-06', None), ('USC00514830', '2017-03-07', 0.0), ('USC00514830', '2017-03-08', 0.0), ('USC00514830', '2017-03-09', 0.5), ('USC00514830', '2017-03-10', 0.13), ('USC00514830', '2017-03-12', None), ('USC00514830', '2017-03-13', 0.0), ('USC00514830', '2017-03-14', 0.0), ('USC00514830', '2017-03-16', None), ('USC00514830', '2017-03-17', 0.06), ('USC00514830', '2017-03-18', 0.0), ('USC00514830', '2017-03-20', None), ('USC00514830', '2017-03-21', 0.0), ('USC00514830', '2017-03-22', 0.0), ('USC00514830', '2017-03-23', 0.0), ('USC00514830', '2017-03-24', 0.15), ('USC00514830', '2017-03-27', None), ('USC00514830', '2017-03-28', 0.0), ('USC00514830', '2017-03-29', 0.03), ('USC00514830', '2017-03-30', 0.03), ('USC00514830', '2017-03-31', 0.0), ('USC00514830', '2017-04-01', 0.0), ('USC00514830', '2017-04-02', 0.0), ('USC00514830', '2017-04-03', 0.09), ('USC00514830', '2017-04-04', 0.0), ('USC00514830', '2017-04-05', 0.07), ('USC00514830', '2017-04-06', 0.0), ('USC00514830', '2017-04-07', 0.0), ('USC00514830', '2017-04-09', None), ('USC00514830', '2017-04-10', 0.0), ('USC00514830', '2017-04-11', 0.16), ('USC00514830', '2017-04-12', 0.29), ('USC00514830', '2017-04-13', 0.0), ('USC00514830', '2017-04-14', 0.29), ('USC00514830', '2017-04-17', None), ('USC00514830', '2017-04-18', 0.12), ('USC00514830', '2017-04-19', 0.0), ('USC00514830', '2017-04-20', 0.0), ('USC00514830', '2017-04-21', 1.05), ('USC00514830', '2017-04-22', 0.7), ('USC00514830', '2017-04-24', None), ('USC00514830', '2017-04-25', 0.0), ('USC00514830', '2017-04-26', 0.14), ('USC00514830', '2017-04-27', 0.02), ('USC00514830', '2017-04-28', 0.09), ('USC00514830', '2017-04-29', 0.95), ('USC00514830', '2017-04-30', 1.17), ('USC00514830', '2017-05-01', 0.03), ('USC00514830', '2017-05-02', 0.01), ('USC00514830', '2017-05-03', 0.01), ('USC00514830', '2017-05-04', 0.08), ('USC00514830', '2017-05-05', 0.28), ('USC00514830', '2017-05-06', 0.06), ('USC00514830', '2017-05-08', 0.95), ('USC00514830', '2017-05-09', 0.52), ('USC00514830', '2017-05-10', 0.0), ('USC00514830', '2017-05-12', None), ('USC00514830', '2017-05-15', None), ('USC00514830', '2017-05-16', 0.05), ('USC00514830', '2017-05-17', 0.0), ('USC00514830', '2017-05-18', 0.16), ('USC00514830', '2017-05-19', 0.01), ('USC00514830', '2017-05-20', 0.01), ('USC00514830', '2017-05-22', None), ('USC00514830', '2017-05-23', 0.11), ('USC00514830', '2017-05-24', 0.1), ('USC00514830', '2017-05-25', 0.07), ('USC00514830', '2017-05-26', 0.0), ('USC00514830', '2017-05-27', 0.0), ('USC00514830', '2017-05-28', 0.02), ('USC00514830', '2017-05-29', 0.0), ('USC00514830', '2017-05-30', 0.04), ('USC00514830', '2017-05-31', 0.0), ('USC00514830', '2017-06-01', 0.0), ('USC00514830', '2017-06-02', 0.15), ('USC00514830', '2017-06-03', 0.16), ('USC00514830', '2017-06-04', 0.05), ('USC00514830', '2017-06-05', 0.02), ('USC00514830', '2017-06-06', 0.0), ('USC00514830', '2017-06-07', 0.0), ('USC00514830', '2017-06-08', 0.01), ('USC00514830', '2017-06-09', 0.0), ('USC00514830', '2017-06-10', 0.53), ('USC00514830', '2017-06-11', 0.14), ('USC00514830', '2017-06-12', 0.35), ('USC00514830', '2017-06-13', 0.1), ('USC00514830', '2017-06-14', 0.21), ('USC00514830', '2017-06-15', 0.3), ('USC00514830', '2017-06-16', 0.02), ('USC00514830', '2017-06-17', 0.02), ('USC00514830', '2017-06-18', 0.18), ('USC00514830', '2017-06-19', 0.19), ('USC00514830', '2017-06-20', 0.17), ('USC00514830', '2017-06-23', None), ('USC00514830', '2017-06-26', None), ('USC00514830', '2017-06-29', None), ('USC00514830', '2017-06-30', 0.0), ('USC00514830', '2017-07-03', None), ('USC00514830', '2017-07-05', None), ('USC00514830', '2017-07-07', None), ('USC00514830', '2017-07-08', 0.06), ('USC00514830', '2017-07-09', 0.0), ('USC00514830', '2017-07-10', 0.0), ('USC00514830', '2017-07-11', 0.0), ('USC00514830', '2017-07-12', 0.02), ('USC00514830', '2017-07-13', 0.3), ('USC00514830', '2017-07-14', 0.0), ('USC00514830', '2017-07-15', 0.01), ('USC00514830', '2017-07-16', 0.12), ('USC00514830', '2017-07-17', 0.16), ('USC00514830', '2017-07-18', 0.0), ('USC00514830', '2017-07-19', 0.09), ('USC00514830', '2017-07-20', 0.0), ('USC00514830', '2017-07-21', 0.0), ('USC00514830', '2017-07-22', 0.12), ('USC00514830', '2017-07-23', 0.07), ('USC00514830', '2017-07-24', 1.19), ('USC00514830', '2017-07-25', 0.12), ('USC00514830', '2017-07-26', 0.02), ('USC00514830', '2017-07-27', 0.0), ('USC00514830', '2017-07-28', 0.14), ('USC00514830', '2017-07-29', 0.02), ('USC00514830', '2017-07-31', None), ('USC00514830', '2017-08-01', 0.12), ('USC00514830', '2017-08-02', 0.05), ('USC00514830', '2017-08-03', 0.01), ('USC00514830', '2017-08-04', 0.04), ('USC00514830', '2017-08-06', 0.0), ('USC00514830', '2017-08-07', 0.0), ('USC00514830', '2017-08-08', 0.1), ('USC00514830', '2017-08-09', 0.0), ('USC00514830', '2017-08-10', 0.0), ('USC00514830', '2017-08-11', 0.0), ('USC00514830', '2017-08-13', None), ('USC00514830', '2017-08-14', 0.01), ('USC00514830', '2017-08-15', 0.0), ('USC00514830', '2017-08-16', 0.0), ('USC00514830', '2017-08-17', 0.0), ('USC00514830', '2017-08-18', 0.0), ('USC00514830', '2017-08-19', 0.0), ('USC00514830', '2017-08-20', 0.01), ('USC00514830', '2017-08-21', 0.02), ('USC00514830', '2017-08-23', 0.0), ('USC00517948', '2016-08-24', None), ('USC00517948', '2016-08-25', 0.0), ('USC00517948', '2016-08-26', 0.04), ('USC00517948', '2016-08-29', None), ('USC00517948', '2016-08-30', 0.02), ('USC00517948', '2016-08-31', None), ('USC00517948', '2016-09-01', None), ('USC00517948', '2016-09-02', None), ('USC00517948', '2016-09-08', None), ('USC00517948', '2016-09-09', None), ('USC00517948', '2016-09-12', None), ('USC00517948', '2016-09-13', None), ('USC00517948', '2016-09-14', None), ('USC00517948', '2016-09-15', None), ('USC00517948', '2016-09-16', 0.0), ('USC00517948', '2016-09-19', None), ('USC00517948', '2016-09-20', 0.0), ('USC00517948', '2016-09-22', 0.06), ('USC00517948', '2016-09-23', 0.0), ('USC00517948', '2016-09-26', None), ('USC00517948', '2016-09-28', 0.0), ('USC00517948', '2016-09-29', 0.04), ('USC00517948', '2016-09-30', None), ('USC00517948', '2016-10-03', None), ('USC00517948', '2016-10-04', None), ('USC00517948', '2016-10-05', None), ('USC00517948', '2016-10-06', 0.07), ('USC00517948', '2016-10-07', None), ('USC00517948', '2016-10-11', None), ('USC00517948', '2016-10-13', None), ('USC00517948', '2016-10-17', None), ('USC00517948', '2016-10-18', None), ('USC00517948', '2016-10-19', None), ('USC00517948', '2016-10-20', None), ('USC00517948', '2016-10-21', None), ('USC00517948', '2016-10-24', None), ('USC00517948', '2016-10-25', 0.4), ('USC00517948', '2016-10-26', 0.2), ('USC00517948', '2016-10-27', None), ('USC00517948', '2016-10-28', None), ('USC00517948', '2016-10-31', None), ('USC00517948', '2016-11-04', None), ('USC00517948', '2016-11-07', None), ('USC00517948', '2016-11-09', 0.0), ('USC00517948', '2016-11-14', 0.02), ('USC00517948', '2016-11-15', None), ('USC00517948', '2016-11-16', None), ('USC00517948', '2016-11-17', None), ('USC00517948', '2016-11-18', None), ('USC00517948', '2016-11-21', None), ('USC00517948', '2016-11-22', None), ('USC00517948', '2016-11-23', None), ('USC00517948', '2016-11-28', None), ('USC00517948', '2016-11-29', None), ('USC00517948', '2016-11-30', None), ('USC00517948', '2016-12-01', None), ('USC00517948', '2016-12-02', None), ('USC00517948', '2016-12-05', None), ('USC00517948', '2016-12-06', None), ('USC00517948', '2016-12-07', None), ('USC00517948', '2016-12-08', 0.27), ('USC00517948', '2016-12-09', None), ('USC00517948', '2016-12-12', 0.02), ('USC00517948', '2016-12-13', None), ('USC00517948', '2016-12-14', None), ('USC00517948', '2016-12-15', None), ('USC00517948', '2016-12-16', None), ('USC00517948', '2016-12-19', None), ('USC00517948', '2016-12-20', None), ('USC00517948', '2016-12-21', 0.06), ('USC00517948', '2016-12-22', None), ('USC00517948', '2016-12-23', None), ('USC00517948', '2016-12-28', None), ('USC00517948', '2016-12-29', None), ('USC00517948', '2016-12-30', None), ('USC00517948', '2017-01-09', None), ('USC00517948', '2017-01-10', None), ('USC00517948', '2017-01-11', None), ('USC00517948', '2017-01-12', None), ('USC00517948', '2017-01-13', None), ('USC00517948', '2017-01-17', 0.0), ('USC00517948', '2017-01-18', 0.0), ('USC00517948', '2017-01-19', None), ('USC00517948', '2017-01-20', None), ('USC00517948', '2017-01-23', None), ('USC00517948', '2017-01-24', None), ('USC00517948', '2017-01-25', None), ('USC00517948', '2017-01-26', 0.0), ('USC00517948', '2017-01-27', 0.0), ('USC00517948', '2017-01-30', 0.05), ('USC00517948', '2017-01-31', 0.0), ('USC00517948', '2017-02-01', 0.0), ('USC00517948', '2017-02-02', 0.0), ('USC00517948', '2017-02-03', 0.0), ('USC00517948', '2017-02-06', None), ('USC00517948', '2017-02-07', 0.0), ('USC00517948', '2017-02-08', 0.0), ('USC00517948', '2017-02-09', 0.0), ('USC00517948', '2017-02-10', 0.0), ('USC00517948', '2017-02-13', None), ('USC00517948', '2017-02-14', 0.0), ('USC00517948', '2017-02-15', None), ('USC00517948', '2017-02-16', None), ('USC00517948', '2017-02-17', 0.0), ('USC00517948', '2017-02-21', None), ('USC00517948', '2017-02-22', 0.17), ('USC00517948', '2017-02-23', 0.0), ('USC00517948', '2017-02-24', 0.0), ('USC00517948', '2017-02-27', None), ('USC00517948', '2017-02-28', None), ('USC00517948', '2017-03-01', 2.4), ('USC00517948', '2017-03-02', 0.44), ('USC00517948', '2017-03-03', 0.14), ('USC00517948', '2017-03-06', None), ('USC00517948', '2017-03-07', None), ('USC00517948', '2017-03-08', None), ('USC00517948', '2017-03-09', 0.0), ('USC00517948', '2017-03-10', 0.0), ('USC00517948', '2017-03-13', None), ('USC00517948', '2017-03-14', 0.06), ('USC00517948', '2017-03-15', 0.0), ('USC00517948', '2017-03-16', None), ('USC00517948', '2017-03-17', None), ('USC00517948', '2017-03-28', None), ('USC00517948', '2017-03-29', None), ('USC00517948', '2017-03-30', None), ('USC00517948', '2017-03-31', 0.0), ('USC00517948', '2017-04-03', None), ('USC00517948', '2017-04-04', 0.0), ('USC00517948', '2017-04-05', 0.0), ('USC00517948', '2017-04-06', 0.0), ('USC00517948', '2017-04-07', 0.0), ('USC00517948', '2017-04-10', None), ('USC00517948', '2017-04-11', None), ('USC00517948', '2017-04-12', None), ('USC00517948', '2017-04-13', None), ('USC00517948', '2017-04-17', None), ('USC00517948', '2017-04-18', 0.0), ('USC00517948', '2017-04-19', None), ('USC00517948', '2017-04-20', None), ('USC00517948', '2017-04-21', None), ('USC00517948', '2017-04-24', None), ('USC00517948', '2017-04-25', None), ('USC00517948', '2017-04-27', None), ('USC00517948', '2017-04-28', None), ('USC00517948', '2017-06-02', None), ('USC00517948', '2017-06-05', None), ('USC00517948', '2017-06-06', None), ('USC00517948', '2017-06-07', None), ('USC00517948', '2017-06-08', None), ('USC00517948', '2017-06-09', None), ('USC00517948', '2017-06-13', None), ('USC00517948', '2017-06-14', None), ('USC00517948', '2017-06-15', None), ('USC00517948', '2017-06-16', None), ('USC00517948', '2017-06-19', None), ('USC00517948', '2017-06-20', None), ('USC00517948', '2017-06-21', None), ('USC00517948', '2017-06-22', 0.0), ('USC00517948', '2017-06-23', 0.0), ('USC00517948', '2017-06-26', None), ('USC00517948', '2017-06-27', 0.0), ('USC00517948', '2017-06-28', 0.0), ('USC00517948', '2017-06-29', 0.0), ('USC00517948', '2017-06-30', 0.12), ('USC00517948', '2017-07-03', None), ('USC00517948', '2017-07-05', None), ('USC00517948', '2017-07-06', None), ('USC00517948', '2017-07-07', None), ('USC00517948', '2017-07-10', None), ('USC00517948', '2017-07-11', None), ('USC00517948', '2017-07-12', None), ('USC00517948', '2017-07-13', None), ('USC00517948', '2017-07-18', 0.0), ('USC00517948', '2017-07-19', 0.0), ('USC00517948', '2017-07-20', 0.0), ('USC00517948', '2017-07-21', 0.0), ('USC00517948', '2017-07-25', 0.0), ('USC00517948', '2017-07-26', None), ('USC00517948', '2017-07-27', None), ('USC00517948', '2017-07-28', 0.01), ('USC00517948', '2017-07-31', None), ('USC00519523', '2016-08-24', 1.22), ('USC00519523', '2016-08-25', 0.21), ('USC00519523', '2016-08-26', 0.0), ('USC00519523', '2016-08-27', 0.0), ('USC00519523', '2016-08-28', 0.14), ('USC00519523', '2016-08-29', 0.0), ('USC00519523', '2016-08-30', 0.0), ('USC00519523', '2016-08-31', 0.25), ('USC00519523', '2016-09-02', None), ('USC00519523', '2016-09-03', 0.08), ('USC00519523', '2016-09-04', 0.74), ('USC00519523', '2016-09-05', 0.02), ('USC00519523', '2016-09-06', 0.03), ('USC00519523', '2016-09-07', 0.11), ('USC00519523', '2016-09-08', 0.01), ('USC00519523', '2016-09-09', 0.23), ('USC00519523', '2016-09-10', 0.14), ('USC00519523', '2016-09-11', 0.12), ('USC00519523', '2016-09-12', 0.15), ('USC00519523', '2016-09-13', 0.46), ('USC00519523', '2016-09-14', 1.19), ('USC00519523', '2016-09-15', 0.17), ('USC00519523', '2016-09-16', 0.01), ('USC00519523', '2016-09-17', 0.0), ('USC00519523', '2016-09-18', 0.04), ('USC00519523', '2016-09-19', 0.05), ('USC00519523', '2016-09-20', 0.04), ('USC00519523', '2016-09-21', 0.0), ('USC00519523', '2016-09-22', 0.01), ('USC00519523', '2016-09-23', 0.0), ('USC00519523', '2016-09-24', 0.0), ('USC00519523', '2016-09-25', 0.0), ('USC00519523', '2016-09-26', 0.34), ('USC00519523', '2016-09-27', 0.05), ('USC00519523', '2016-09-28', 0.0), ('USC00519523', '2016-09-29', 0.18), ('USC00519523', '2016-09-30', 0.15), ('USC00519523', '2016-10-01', 0.07), ('USC00519523', '2016-10-02', 0.0), ('USC00519523', '2016-10-03', 0.0), ('USC00519523', '2016-10-04', 0.0), ('USC00519523', '2016-10-05', 0.0), ('USC00519523', '2016-10-06', 0.0), ('USC00519523', '2016-10-07', 0.0), ('USC00519523', '2016-10-08', 0.0), ('USC00519523', '2016-10-09', 0.0), ('USC00519523', '2016-10-10', 0.0), ('USC00519523', '2016-10-11', 0.0), ('USC00519523', '2016-10-12', 0.0), ('USC00519523', '2016-10-13', 0.0), ('USC00519523', '2016-10-14', 0.0), ('USC00519523', '2016-10-15', 0.0), ('USC00519523', '2016-10-16', 0.0), ('USC00519523', '2016-10-17', 0.12), ('USC00519523', '2016-10-18', 0.02), ('USC00519523', '2016-10-19', 0.0), ('USC00519523', '2016-10-21', None), ('USC00519523', '2016-10-22', 0.0), ('USC00519523', '2016-10-23', 0.0), ('USC00519523', '2016-10-24', 0.0), ('USC00519523', '2016-10-25', 0.12), ('USC00519523', '2016-10-26', 0.02), ('USC00519523', '2016-10-27', 0.08), ('USC00519523', '2016-10-28', 0.06), ('USC00519523', '2016-10-29', 0.01), ('USC00519523', '2016-10-30', 0.0), ('USC00519523', '2016-10-31', 0.13), ('USC00519523', '2016-11-01', 0.01), ('USC00519523', '2016-11-02', 0.0), ('USC00519523', '2016-11-03', 0.0), ('USC00519523', '2016-11-04', 0.0), ('USC00519523', '2016-11-05', 0.02), ('USC00519523', '2016-11-06', 0.0), ('USC00519523', '2016-11-07', 0.0), ('USC00519523', '2016-11-08', 0.15), ('USC00519523', '2016-11-09', 0.0), ('USC00519523', '2016-11-10', 0.0), ('USC00519523', '2016-11-11', 0.0), ('USC00519523', '2016-11-12', 0.0), ('USC00519523', '2016-11-13', 0.0), ('USC00519523', '2016-11-14', 0.0), ('USC00519523', '2016-11-15', 0.0), ('USC00519523', '2016-11-16', 0.07), ('USC00519523', '2016-11-17', 0.0), ('USC00519523', '2016-11-18', 0.02), ('USC00519523', '2016-11-19', 0.13), ('USC00519523', '2016-11-20', 0.4), ('USC00519523', '2016-11-21', 0.07), ('USC00519523', '2016-11-22', 0.31), ('USC00519523', '2016-11-23', 0.03), ('USC00519523', '2016-11-24', 0.21), ('USC00519523', '2016-11-25', 0.11), ('USC00519523', '2016-11-26', 0.03), ('USC00519523', '2016-11-27', 0.0), ('USC00519523', '2016-11-28', 0.0), ('USC00519523', '2016-11-29', 0.06), ('USC00519523', '2016-11-30', 0.0), ('USC00519523', '2016-12-01', 0.16), ('USC00519523', '2016-12-02', 0.01), ('USC00519523', '2016-12-03', 0.02), ('USC00519523', '2016-12-04', 0.32), ('USC00519523', '2016-12-05', 0.45), ('USC00519523', '2016-12-06', 0.0), ('USC00519523', '2016-12-07', 0.07), ('USC00519523', '2016-12-08', 0.01), ('USC00519523', '2016-12-10', None), ('USC00519523', '2016-12-11', 0.06), ('USC00519523', '2016-12-12', 0.0), ('USC00519523', '2016-12-13', 0.15), ('USC00519523', '2016-12-14', 0.05), ('USC00519523', '2016-12-15', 0.0), ('USC00519523', '2016-12-16', 0.0), ('USC00519523', '2016-12-17', 0.16), ('USC00519523', '2016-12-18', 0.27), ('USC00519523', '2016-12-19', 0.02), ('USC00519523', '2016-12-20', 0.01), ('USC00519523', '2016-12-21', 0.06), ('USC00519523', '2016-12-22', 0.14), ('USC00519523', '2016-12-23', 0.02), ('USC00519523', '2016-12-24', 0.06), ('USC00519523', '2016-12-25', 0.0), ('USC00519523', '2016-12-26', 0.06), ('USC00519523', '2016-12-27', 0.0), ('USC00519523', '2016-12-28', 0.06), ('USC00519523', '2016-12-29', 0.05), ('USC00519523', '2016-12-30', 0.07), ('USC00519523', '2017-01-01', None), ('USC00519523', '2017-01-03', None), ('USC00519523', '2017-01-04', 0.18), ('USC00519523', '2017-01-05', 0.42), ('USC00519523', '2017-01-06', 0.01), ('USC00519523', '2017-01-07', 0.0), ('USC00519523', '2017-01-08', 0.0), ('USC00519523', '2017-01-09', 0.0), ('USC00519523', '2017-01-10', 0.0), ('USC00519523', '2017-01-12', None), ('USC00519523', '2017-01-15', None), ('USC00519523', '2017-01-16', 0.0), ('USC00519523', '2017-01-18', None), ('USC00519523', '2017-01-19', 0.0), ('USC00519523', '2017-01-20', 0.0), ('USC00519523', '2017-01-21', 0.11), ('USC00519523', '2017-01-22', 0.04), ('USC00519523', '2017-01-23', 0.0), ('USC00519523', '2017-01-24', 0.08), ('USC00519523', '2017-01-25', 0.0), ('USC00519523', '2017-01-26', 0.0), ('USC00519523', '2017-01-27', 0.0), ('USC00519523', '2017-01-29', None), ('USC00519523', '2017-01-30', 0.0), ('USC00519523', '2017-01-31', 0.0), ('USC00519523', '2017-02-01', 0.0), ('USC00519523', '2017-02-02', 0.0), ('USC00519523', '2017-02-03', 0.0), ('USC00519523', '2017-02-04', 0.0), ('USC00519523', '2017-02-05', 0.0), ('USC00519523', '2017-02-06', 0.0), ('USC00519523', '2017-02-07', 1.8), ('USC00519523', '2017-02-08', 0.0), ('USC00519523', '2017-02-09', 0.0), ('USC00519523', '2017-02-10', 0.0), ('USC00519523', '2017-02-11', 5.04), ('USC00519523', '2017-02-12', 0.07), ('USC00519523', '2017-02-13', 0.0), ('USC00519523', '2017-02-15', None), ('USC00519523', '2017-02-16', 0.67), ('USC00519523', '2017-02-17', 0.06), ('USC00519523', '2017-02-18', 0.01), ('USC00519523', '2017-02-20', None), ('USC00519523', '2017-02-22', 0.13), ('USC00519523', '2017-02-23', 0.0), ('USC00519523', '2017-02-24', 0.0), ('USC00519523', '2017-02-26', None), ('USC00519523', '2017-02-27', 0.0), ('USC00519523', '2017-02-28', 0.0), ('USC00519523', '2017-03-01', 0.59), ('USC00519523', '2017-03-02', 1.48), ('USC00519523', '2017-03-03', 0.25), ('USC00519523', '2017-03-04', 0.0), ('USC00519523', '2017-03-06', None), ('USC00519523', '2017-03-09', None), ('USC00519523', '2017-03-10', 0.0), ('USC00519523', '2017-03-11', 0.0), ('USC00519523', '2017-03-12', 0.0), ('USC00519523', '2017-03-13', 0.0), ('USC00519523', '2017-03-14', 0.0), ('USC00519523', '2017-03-15', 0.0), ('USC00519523', '2017-03-16', 0.0), ('USC00519523', '2017-03-17', 0.35), ('USC00519523', '2017-03-18', 0.0), ('USC00519523', '2017-03-19', 0.0), ('USC00519523', '2017-03-20', 0.0), ('USC00519523', '2017-03-21', 0.0), ('USC00519523', '2017-03-22', 0.0), ('USC00519523', '2017-03-23', 0.02), ('USC00519523', '2017-03-24', 0.07), ('USC00519523', '2017-03-25', 0.43), ('USC00519523', '2017-03-26', 0.0), ('USC00519523', '2017-03-27', 0.0), ('USC00519523', '2017-03-28', 0.0), ('USC00519523', '2017-03-29', 0.08), ('USC00519523', '2017-03-30', 0.0), ('USC00519523', '2017-03-31', 0.0), ('USC00519523', '2017-04-01', 0.0), ('USC00519523', '2017-04-02', 0.0), ('USC00519523', '2017-04-03', 0.0), ('USC00519523', '2017-04-04', 0.0), ('USC00519523', '2017-04-05', 0.0), ('USC00519523', '2017-04-06', 0.0), ('USC00519523', '2017-04-07', 0.0), ('USC00519523', '2017-04-09', None), ('USC00519523', '2017-04-10', 0.0), ('USC00519523', '2017-04-11', 0.0), ('USC00519523', '2017-04-12', 0.0), ('USC00519523', '2017-04-13', 0.0), ('USC00519523', '2017-04-14', 0.36), ('USC00519523', '2017-04-15', 0.0), ('USC00519523', '2017-04-16', 0.0), ('USC00519523', '2017-04-17', 0.3), ('USC00519523', '2017-04-18', 0.15), ('USC00519523', '2017-04-19', 0.0), ('USC00519523', '2017-04-20', 0.35), ('USC00519523', '2017-04-21', 2.36), ('USC00519523', '2017-04-24', None), ('USC00519523', '2017-04-25', 0.0), ('USC00519523', '2017-04-26', 0.01), ('USC00519523', '2017-04-27', 0.0), ('USC00519523', '2017-04-28', 0.0), ('USC00519523', '2017-04-29', 6.25), ('USC00519523', '2017-04-30', 1.31), ('USC00519523', '2017-05-01', 0.07), ('USC00519523', '2017-05-02', 0.0), ('USC00519523', '2017-05-03', 0.0), ('USC00519523', '2017-05-04', 0.0), ('USC00519523', '2017-05-05', 0.0), ('USC00519523', '2017-05-06', 0.0), ('USC00519523', '2017-05-07', 0.0), ('USC00519523', '2017-05-08', 0.0), ('USC00519523', '2017-05-09', 0.68), ('USC00519523', '2017-05-10', 0.06), ('USC00519523', '2017-05-11', 0.0), ('USC00519523', '2017-05-12', 0.0), ('USC00519523', '2017-05-13', 0.0), ('USC00519523', '2017-05-14', 0.0), ('USC00519523', '2017-05-15', 0.06), ('USC00519523', '2017-05-16', 0.0), ('USC00519523', '2017-05-17', 0.0), ('USC00519523', '2017-05-18', 0.46), ('USC00519523', '2017-05-20', None), ('USC00519523', '2017-05-21', 0.0), ('USC00519523', '2017-05-22', 0.0), ('USC00519523', '2017-05-23', 0.0), ('USC00519523', '2017-05-24', 0.61), ('USC00519523', '2017-05-25', 0.55), ('USC00519523', '2017-05-26', 0.0), ('USC00519523', '2017-05-27', 0.0), ('USC00519523', '2017-05-28', 0.0), ('USC00519523', '2017-05-29', 0.0), ('USC00519523', '2017-05-30', 0.11), ('USC00519523', '2017-05-31', 0.0), ('USC00519523', '2017-06-01', 0.0), ('USC00519523', '2017-06-02', 0.0), ('USC00519523', '2017-06-03', 0.15), ('USC00519523', '2017-06-04', 0.0), ('USC00519523', '2017-06-05', 0.0), ('USC00519523', '2017-06-06', 0.0), ('USC00519523', '2017-06-07', 0.0), ('USC00519523', '2017-06-08', 0.0), ('USC00519523', '2017-06-09', 0.0), ('USC00519523', '2017-06-10', 0.13), ('USC00519523', '2017-06-11', 0.25), ('USC00519523', '2017-06-12', 0.14), ('USC00519523', '2017-06-13', 0.03), ('USC00519523', '2017-06-14', 0.06), ('USC00519523', '2017-06-15', 0.0), ('USC00519523', '2017-06-16', 0.0), ('USC00519523', '2017-06-17', 0.0), ('USC00519523', '2017-06-18', 0.0), ('USC00519523', '2017-06-19', 0.01), ('USC00519523', '2017-06-21', None), ('USC00519523', '2017-06-22', 0.0), ('USC00519523', '2017-06-23', 0.05), ('USC00519523', '2017-06-24', 0.0), ('USC00519523', '2017-06-25', 0.0), ('USC00519523', '2017-06-26', 0.0), ('USC00519523', '2017-06-27', 0.0), ('USC00519523', '2017-06-28', 0.0), ('USC00519523', '2017-06-29', 0.0), ('USC00519523', '2017-06-30', 0.07), ('USC00519523', '2017-07-02', None), ('USC00519523', '2017-07-03', 0.02), ('USC00519523', '2017-07-05', None), ('USC00519523', '2017-07-06', 0.0), ('USC00519523', '2017-07-07', 0.0), ('USC00519523', '2017-07-08', 0.0), ('USC00519523', '2017-07-09', 0.0), ('USC00519523', '2017-07-10', 0.0), ('USC00519523', '2017-07-11', 0.0), ('USC00519523', '2017-07-12', 0.0), ('USC00519523', '2017-07-13', 0.11), ('USC00519523', '2017-07-14', 0.0), ('USC00519523', '2017-07-15', 0.0), ('USC00519523', '2017-07-16', 0.0), ('USC00519523', '2017-07-17', 0.0), ('USC00519523', '2017-07-18', 0.0), ('USC00519523', '2017-07-19', 0.0), ('USC00519523', '2017-07-20', 0.33), ('USC00519523', '2017-07-21', 0.0), ('USC00519523', '2017-07-22', 0.0), ('USC00519523', '2017-07-24', None), ('USC00519523', '2017-07-25', 0.05), ('USC00519523', '2017-07-26', 0.0), ('USC00519523', '2017-07-27', 0.0), ('USC00519523', '2017-07-28', 0.0), ('USC00519523', '2017-07-29', 0.0), ('USC00519523', '2017-07-30', 0.0), ('USC00519523', '2017-07-31', 0.0), ('USC00519523', '2017-08-01', 0.0), ('USC00519523', '2017-08-02', 0.0), ('USC00519523', '2017-08-03', 0.0), ('USC00519523', '2017-08-04', 0.0), ('USC00519523', '2017-08-06', 0.0), ('USC00519523', '2017-08-07', 0.0), ('USC00519523', '2017-08-08', 0.0), ('USC00519523', '2017-08-10', 0.0), ('USC00519523', '2017-08-11', 0.0), ('USC00519523', '2017-08-12', 0.0), ('USC00519523', '2017-08-13', 0.0), ('USC00519523', '2017-08-14', 0.08), ('USC00519523', '2017-08-15', 0.06), ('USC00519523', '2017-08-16', 0.07), ('USC00519523', '2017-08-17', 0.05), ('USC00519523', '2017-08-19', None), ('USC00519523', '2017-08-21', None), ('USC00519523', '2017-08-22', 0.0), ('USC00519523', '2017-08-23', 0.08), ('USC00519281', '2016-08-24', 2.15), ('USC00519281', '2016-08-25', 0.06), ('USC00519281', '2016-08-26', 0.01), ('USC00519281', '2016-08-27', 0.12), ('USC00519281', '2016-08-28', 0.6), ('USC00519281', '2016-08-29', 0.35), ('USC00519281', '2016-08-30', 0.0), ('USC00519281', '2016-08-31', 0.24), ('USC00519281', '2016-09-01', 0.02), ('USC00519281', '2016-09-02', 0.01), ('USC00519281', '2016-09-03', 0.12), ('USC00519281', '2016-09-04', 0.14), ('USC00519281', '2016-09-05', 0.03), ('USC00519281', '2016-09-06', 0.11), ('USC00519281', '2016-09-07', 0.16), ('USC00519281', '2016-09-08', 0.07), ('USC00519281', '2016-09-09', 0.16), ('USC00519281', '2016-09-10', 0.09), ('USC00519281', '2016-09-11', 0.3), ('USC00519281', '2016-09-12', 0.31), ('USC00519281', '2016-09-13', 0.34), ('USC00519281', '2016-09-14', 2.33), ('USC00519281', '2016-09-15', 0.83), ('USC00519281', '2016-09-16', 0.06), ('USC00519281', '2016-09-17', 0.36), ('USC00519281', '2016-09-18', 0.07), ('USC00519281', '2016-09-19', 0.01), ('USC00519281', '2016-09-20', 0.22), ('USC00519281', '2016-09-21', 0.07), ('USC00519281', '2016-09-22', 0.34), ('USC00519281', '2016-09-23', 0.94), ('USC00519281', '2016-09-24', 0.01), ('USC00519281', '2016-09-25', 0.03), ('USC00519281', '2016-09-26', 0.17), ('USC00519281', '2016-09-27', 0.17), ('USC00519281', '2016-09-28', 0.0), ('USC00519281', '2016-09-29', 0.59), ('USC00519281', '2016-09-30', 0.25), ('USC00519281', '2016-10-01', 0.14), ('USC00519281', '2016-10-02', 0.06), ('USC00519281', '2016-10-03', 0.16), ('USC00519281', '2016-10-04', 0.03), ('USC00519281', '2016-10-05', 0.01), ('USC00519281', '2016-10-06', 0.0), ('USC00519281', '2016-10-07', 0.0), ('USC00519281', '2016-10-08', 0.0), ('USC00519281', '2016-10-09', 0.0), ('USC00519281', '2016-10-10', 0.0), ('USC00519281', '2016-10-11', 0.28), ('USC00519281', '2016-10-12', 0.03), ('USC00519281', '2016-10-13', 0.0), ('USC00519281', '2016-10-14', 0.0), ('USC00519281', '2016-10-15', 0.04), ('USC00519281', '2016-10-16', 0.0), ('USC00519281', '2016-10-17', 0.01), ('USC00519281', '2016-10-18', 0.02), ('USC00519281', '2016-10-19', 0.11), ('USC00519281', '2016-10-20', 0.0), ('USC00519281', '2016-10-21', 0.0), ('USC00519281', '2016-10-22', 0.15), ('USC00519281', '2016-10-23', 0.02), ('USC00519281', '2016-10-24', 0.08), ('USC00519281', '2016-10-25', 0.11), ('USC00519281', '2016-10-26', 0.01), ('USC00519281', '2016-10-27', 0.22), ('USC00519281', '2016-10-28', 0.05), ('USC00519281', '2016-10-29', 0.1), ('USC00519281', '2016-10-30', 0.16), ('USC00519281', '2016-10-31', 0.07), ('USC00519281', '2016-11-01', 0.1), ('USC00519281', '2016-11-02', 0.0), ('USC00519281', '2016-11-03', 0.0), ('USC00519281', '2016-11-04', 0.0), ('USC00519281', '2016-11-05', 0.03), ('USC00519281', '2016-11-06', 0.01), ('USC00519281', '2016-11-07', 0.0), ('USC00519281', '2016-11-08', 0.21), ('USC00519281', '2016-11-09', 0.11), ('USC00519281', '2016-11-10', 0.0), ('USC00519281', '2016-11-11', 0.0), ('USC00519281', '2016-11-12', 0.0), ('USC00519281', '2016-11-13', 0.0), ('USC00519281', '2016-11-14', 0.0), ('USC00519281', '2016-11-15', 0.0), ('USC00519281', '2016-11-16', 0.24), ('USC00519281', '2016-11-17', 0.01), ('USC00519281', '2016-11-18', 0.0), ('USC00519281', '2016-11-19', 0.11), ('USC00519281', '2016-11-20', 0.39), ('USC00519281', '2016-11-21', 0.11), ('USC00519281', '2016-11-22', 2.05), ('USC00519281', '2016-11-23', 0.25), ('USC00519281', '2016-11-24', 0.3), ('USC00519281', '2016-11-25', 0.08), ('USC00519281', '2016-11-26', 0.06), ('USC00519281', '2016-11-27', 0.17), ('USC00519281', '2016-11-28', 0.0), ('USC00519281', '2016-11-29', 0.09), ('USC00519281', '2016-11-30', 0.05), ('USC00519281', '2016-12-01', 0.37), ('USC00519281', '2016-12-02', 0.35), ('USC00519281', '2016-12-03', 0.77), ('USC00519281', '2016-12-04', 0.04), ('USC00519281', '2016-12-05', 0.22), ('USC00519281', '2016-12-06', 0.0), ('USC00519281', '2016-12-07', 0.12), ('USC00519281', '2016-12-08', 0.07), ('USC00519281', '2016-12-09', 0.31), ('USC00519281', '2016-12-10', 0.02), ('USC00519281', '2016-12-11', 0.0), ('USC00519281', '2016-12-12', 0.0), ('USC00519281', '2016-12-13', 0.04), ('USC00519281', '2016-12-14', 0.92), ('USC00519281', '2016-12-15', 0.14), ('USC00519281', '2016-12-16', 0.03), ('USC00519281', '2016-12-17', 0.07), ('USC00519281', '2016-12-18', 0.16), ('USC00519281', '2016-12-19', 0.03), ('USC00519281', '2016-12-20', 0.0), ('USC00519281', '2016-12-21', 0.11), ('USC00519281', '2016-12-22', 0.86), ('USC00519281', '2016-12-23', 0.24), ('USC00519281', '2016-12-24', 0.2), ('USC00519281', '2016-12-25', 0.02), ('USC00519281', '2016-12-26', 0.22), ('USC00519281', '2016-12-27', 0.05), ('USC00519281', '2016-12-28', 0.09), ('USC00519281', '2016-12-29', 0.52), ('USC00519281', '2016-12-30', 0.29), ('USC00519281', '2016-12-31', 0.25), ('USC00519281', '2017-01-01', 0.03), ('USC00519281', '2017-01-02', 0.01), ('USC00519281', '2017-01-03', 0.0), ('USC00519281', '2017-01-04', 0.0), ('USC00519281', '2017-01-05', 0.06), ('USC00519281', '2017-01-06', 0.1), ('USC00519281', '2017-01-07', 0.0), ('USC00519281', '2017-01-08', 0.0), ('USC00519281', '2017-01-09', 0.0), ('USC00519281', '2017-01-10', 0.0), ('USC00519281', '2017-01-11', 0.0), ('USC00519281', '2017-01-12', 0.0), ('USC00519281', '2017-01-13', 0.0), ('USC00519281', '2017-01-14', 0.01), ('USC00519281', '2017-01-15', 0.0), ('USC00519281', '2017-01-16', 0.0), ('USC00519281', '2017-01-17', 0.0), ('USC00519281', '2017-01-18', 0.0), ('USC00519281', '2017-01-19', 0.02), ('USC00519281', '2017-01-20', 0.0), ('USC00519281', '2017-01-21', 0.03), ('USC00519281', '2017-01-22', 0.09), ('USC00519281', '2017-01-23', 0.01), ('USC00519281', '2017-01-24', 0.13), ('USC00519281', '2017-01-25', 0.79), ('USC00519281', '2017-01-26', 0.0), ('USC00519281', '2017-01-27', 0.03), ('USC00519281', '2017-01-28', 0.0), ('USC00519281', '2017-01-29', 0.26), ('USC00519281', '2017-01-30', 0.0), ('USC00519281', '2017-01-31', 0.0), ('USC00519281', '2017-02-01', 0.0), ('USC00519281', '2017-02-02', 0.0), ('USC00519281', '2017-02-03', 0.0), ('USC00519281', '2017-02-04', 0.0), ('USC00519281', '2017-02-05', 0.0), ('USC00519281', '2017-02-06', 0.18), ('USC00519281', '2017-02-07', 1.32), ('USC00519281', '2017-02-08', 0.0), ('USC00519281', '2017-02-09', 0.0), ('USC00519281', '2017-02-10', 0.0), ('USC00519281', '2017-02-11', 1.73), ('USC00519281', '2017-02-12', 2.98), ('USC00519281', '2017-02-13', 0.01), ('USC00519281', '2017-02-14', 0.0), ('USC00519281', '2017-02-15', 0.01), ('USC00519281', '2017-02-16', 0.73), ('USC00519281', '2017-02-17', 0.13), ('USC00519281', '2017-02-18', 0.0), ('USC00519281', '2017-02-19', 0.09), ('USC00519281', '2017-02-20', 0.0), ('USC00519281', '2017-02-21', 0.0), ('USC00519281', '2017-02-22', 0.06), ('USC00519281', '2017-02-23', 0.0), ('USC00519281', '2017-02-24', 0.0), ('USC00519281', '2017-02-25', 0.0), ('USC00519281', '2017-02-26', 0.0), ('USC00519281', '2017-02-27', 0.0), ('USC00519281', '2017-02-28', 0.04), ('USC00519281', '2017-03-01', 2.12), ('USC00519281', '2017-03-02', 1.88), ('USC00519281', '2017-03-03', 0.27), ('USC00519281', '2017-03-04', 0.0), ('USC00519281', '2017-03-05', 0.41), ('USC00519281', '2017-03-06', 0.03), ('USC00519281', '2017-03-07', 0.0), ('USC00519281', '2017-03-08', 0.0), ('USC00519281', '2017-03-09', 0.65), ('USC00519281', '2017-03-10', 0.03), ('USC00519281', '2017-03-11', 0.01), ('USC00519281', '2017-03-12', 0.0), ('USC00519281', '2017-03-13', 0.0), ('USC00519281', '2017-03-14', 0.0), ('USC00519281', '2017-03-15', 0.06), ('USC00519281', '2017-03-16', 0.0), ('USC00519281', '2017-03-17', 0.12), ('USC00519281', '2017-03-18', 0.0), ('USC00519281', '2017-03-19', 0.0), ('USC00519281', '2017-03-20', 0.02), ('USC00519281', '2017-03-21', 0.09), ('USC00519281', '2017-03-22', 0.0), ('USC00519281', '2017-03-23', 0.0), ('USC00519281', '2017-03-24', 0.12), ('USC00519281', '2017-03-25', 0.93), ('USC00519281', '2017-03-26', 0.0), ('USC00519281', '2017-03-27', 0.01), ('USC00519281', '2017-03-28', 0.0), ('USC00519281', '2017-03-29', 0.01), ('USC00519281', '2017-03-30', 0.04), ('USC00519281', '2017-03-31', 0.01), ('USC00519281', '2017-04-01', 0.21), ('USC00519281', '2017-04-02', 0.0), ('USC00519281', '2017-04-03', 0.26), ('USC00519281', '2017-04-04', 0.09), ('USC00519281', '2017-04-05', 0.1), ('USC00519281', '2017-04-06', 0.06), ('USC00519281', '2017-04-07', 0.0), ('USC00519281', '2017-04-08', 0.0), ('USC00519281', '2017-04-09', 0.0), ('USC00519281', '2017-04-10', 0.01), ('USC00519281', '2017-04-11', 0.03), ('USC00519281', '2017-04-12', 0.11), ('USC00519281', '2017-04-13', 0.59), ('USC00519281', '2017-04-14', 2.3), ('USC00519281', '2017-04-15', 0.38), ('USC00519281', '2017-04-16', 0.47), ('USC00519281', '2017-04-17', 1.04), ('USC00519281', '2017-04-18', 2.03), ('USC00519281', '2017-04-19', 0.02), ('USC00519281', '2017-04-20', 0.05), ('USC00519281', '2017-04-21', 1.74), ('USC00519281', '2017-04-22', 1.58), ('USC00519281', '2017-04-23', 0.06), ('USC00519281', '2017-04-24', 0.01), ('USC00519281', '2017-04-25', 0.0), ('USC00519281', '2017-04-26', 0.02), ('USC00519281', '2017-04-27', 0.19), ('USC00519281', '2017-04-28', 0.76), ('USC00519281', '2017-04-29', 0.37), ('USC00519281', '2017-04-30', 1.04), ('USC00519281', '2017-05-01', 0.13), ('USC00519281', '2017-05-02', 0.01), ('USC00519281', '2017-05-03', 0.01), ('USC00519281', '2017-05-04', 0.0), ('USC00519281', '2017-05-05', 0.0), ('USC00519281', '2017-05-06', 0.0), ('USC00519281', '2017-05-07', 0.02), ('USC00519281', '2017-05-08', 0.73), ('USC00519281', '2017-05-09', 1.58), ('USC00519281', '2017-05-10', 0.2), ('USC00519281', '2017-05-11', 0.12), ('USC00519281', '2017-05-12', 0.02), ('USC00519281', '2017-05-13', 0.12), ('USC00519281', '2017-05-14', 0.17), ('USC00519281', '2017-05-15', 0.09), ('USC00519281', '2017-05-16', 0.03), ('USC00519281', '2017-05-17', 0.07), ('USC00519281', '2017-05-18', 0.13), ('USC00519281', '2017-05-19', 0.01), ('USC00519281', '2017-05-20', 0.02), ('USC00519281', '2017-05-21', 0.01), ('USC00519281', '2017-05-22', 0.06), ('USC00519281', '2017-05-23', 0.06), ('USC00519281', '2017-05-24', 0.3), ('USC00519281', '2017-05-25', 0.2), ('USC00519281', '2017-05-26', 0.0), ('USC00519281', '2017-05-27', 0.0), ('USC00519281', '2017-05-28', 0.08), ('USC00519281', '2017-05-29', 0.4), ('USC00519281', '2017-05-30', 1.12), ('USC00519281', '2017-05-31', 0.25), ('USC00519281', '2017-06-01', 0.0), ('USC00519281', '2017-06-02', 0.09), ('USC00519281', '2017-06-03', 0.08), ('USC00519281', '2017-06-04', 0.13), ('USC00519281', '2017-06-05', 0.05), ('USC00519281', '2017-06-06', 0.0), ('USC00519281', '2017-06-07', 0.0), ('USC00519281', '2017-06-08', 0.0), ('USC00519281', '2017-06-09', 0.02), ('USC00519281', '2017-06-10', 0.62), ('USC00519281', '2017-06-11', 0.74), ('USC00519281', '2017-06-12', 0.24), ('USC00519281', '2017-06-13', 0.24), ('USC00519281', '2017-06-14', 0.22), ('USC00519281', '2017-06-15', 0.55), ('USC00519281', '2017-06-16', 0.06), ('USC00519281', '2017-06-17', 0.07), ('USC00519281', '2017-06-18', 0.24), ('USC00519281', '2017-06-19', 0.08), ('USC00519281', '2017-06-20', 0.0), ('USC00519281', '2017-06-21', 0.19), ('USC00519281', '2017-06-22', 0.06), ('USC00519281', '2017-06-23', 0.12), ('USC00519281', '2017-06-24', 0.36), ('USC00519281', '2017-06-25', 0.02), ('USC00519281', '2017-06-26', 0.06), ('USC00519281', '2017-06-27', 0.01), ('USC00519281', '2017-06-28', 0.0), ('USC00519281', '2017-06-29', 0.0), ('USC00519281', '2017-06-30', 0.01), ('USC00519281', '2017-07-01', 0.08), ('USC00519281', '2017-07-02', 0.15), ('USC00519281', '2017-07-03', 0.15), ('USC00519281', '2017-07-04', 0.08), ('USC00519281', '2017-07-05', 0.0), ('USC00519281', '2017-07-06', 0.0), ('USC00519281', '2017-07-07', 0.18), ('USC00519281', '2017-07-08', 0.0), ('USC00519281', '2017-07-09', 0.11), ('USC00519281', '2017-07-10', 0.02), ('USC00519281', '2017-07-11', 0.02), ('USC00519281', '2017-07-12', 0.28), ('USC00519281', '2017-07-13', 0.32), ('USC00519281', '2017-07-14', 0.2), ('USC00519281', '2017-07-15', 0.05), ('USC00519281', '2017-07-16', 0.1), ('USC00519281', '2017-07-17', 0.21), ('USC00519281', '2017-07-18', 0.05), ('USC00519281', '2017-07-19', 0.05), ('USC00519281', '2017-07-20', 0.06), ('USC00519281', '2017-07-21', 0.03), ('USC00519281', '2017-07-22', 0.2), ('USC00519281', '2017-07-23', 0.2), ('USC00519281', '2017-07-24', 0.61), ('USC00519281', '2017-07-25', 0.11), ('USC00519281', '2017-07-26', 0.12), ('USC00519281', '2017-07-27', 0.01), ('USC00519281', '2017-07-28', 0.09), ('USC00519281', '2017-07-29', 0.23), ('USC00519281', '2017-07-30', 0.0), ('USC00519281', '2017-07-31', 0.0), ('USC00519281', '2017-08-04', 0.0), ('USC00519281', '2017-08-05', 0.06), ('USC00519281', '2017-08-06', 0.0), ('USC00519281', '2017-08-13', 0.0), ('USC00519281', '2017-08-14', 0.0), ('USC00519281', '2017-08-15', 0.32), ('USC00519281', '2017-08-16', 0.12), ('USC00519281', '2017-08-17', 0.01), ('USC00519281', '2017-08-18', 0.06), ('USC00516128', '2016-08-24', 1.45), ('USC00516128', '2016-08-25', 0.11), ('USC00516128', '2016-08-27', None), ('USC00516128', '2016-08-28', 2.07), ('USC00516128', '2016-08-29', 0.9), ('USC00516128', '2016-08-30', 0.05), ('USC00516128', '2016-08-31', 2.46), ('USC00516128', '2016-09-01', 0.01), ('USC00516128', '2016-09-02', 0.03), ('USC00516128', '2016-09-03', 1.0), ('USC00516128', '2016-09-04', 0.44), ('USC00516128', '2016-09-05', 0.18), ('USC00516128', '2016-09-06', 1.0), ('USC00516128', '2016-09-07', 1.35), ('USC00516128', '2016-09-08', 0.15), ('USC00516128', '2016-09-09', 0.35), ('USC00516128', '2016-09-10', 1.16), ('USC00516128', '2016-09-11', 0.6), ('USC00516128', '2016-09-12', 1.04), ('USC00516128', '2016-09-13', 1.2), ('USC00516128', '2016-09-14', 6.7), ('USC00516128', '2016-09-15', 3.35), ('USC00516128', '2016-09-16', 0.61), ('USC00516128', '2016-09-17', 0.23), ('USC00516128', '2016-09-18', 0.42), ('USC00516128', '2016-09-19', 0.25), ('USC00516128', '2016-09-20', 0.43), ('USC00516128', '2016-09-21', 1.02), ('USC00516128', '2016-09-22', 0.75), ('USC00516128', '2016-09-23', 0.33), ('USC00516128', '2016-09-24', 0.27), ('USC00516128', '2016-09-25', 0.04), ('USC00516128', '2016-09-26', 1.02), ('USC00516128', '2016-09-27', 1.0), ('USC00516128', '2016-09-28', 0.05), ('USC00516128', '2016-09-29', 1.49), ('USC00516128', '2016-09-30', 0.38), ('USC00516128', '2016-10-01', 1.02), ('USC00516128', '2016-10-02', 0.61), ('USC00516128', '2016-10-03', 0.46), ('USC00516128', '2016-10-04', 3.46), ('USC00516128', '2016-10-05', 0.81), ('USC00516128', '2016-10-06', 0.04), ('USC00516128', '2016-10-07', 0.01), ('USC00516128', '2016-10-08', 0.04), ('USC00516128', '2016-10-09', 0.0), ('USC00516128', '2016-10-10', 0.0), ('USC00516128', '2016-10-11', 0.35), ('USC00516128', '2016-10-12', 0.02), ('USC00516128', '2016-10-13', 0.06), ('USC00516128', '2016-10-14', 0.0), ('USC00516128', '2016-10-15', 0.33), ('USC00516128', '2016-10-16', 0.0), ('USC00516128', '2016-10-17', 0.38), ('USC00516128', '2016-10-18', 0.48), ('USC00516128', '2016-10-19', 0.0), ('USC00516128', '2016-10-20', 1.0), ('USC00516128', '2016-10-21', 0.09), ('USC00516128', '2016-10-22', 1.37), ('USC00516128', '2016-10-23', 0.24), ('USC00516128', '2016-10-24', 0.7), ('USC00516128', '2016-10-25', 0.4), ('USC00516128', '2016-10-26', 0.0), ('USC00516128', '2016-10-27', 1.25), ('USC00516128', '2016-10-28', 0.37), ('USC00516128', '2016-10-29', 0.25), ('USC00516128', '2016-10-30', 0.95), ('USC00516128', '2016-10-31', 1.35), ('USC00516128', '2016-11-01', 0.09), ('USC00516128', '2016-11-02', 0.04), ('USC00516128', '2016-11-03', 0.02), ('USC00516128', '2016-11-04', 0.06), ('USC00516128', '2016-11-05', 0.38), ('USC00516128', '2016-11-06', 0.05), ('USC00516128', '2016-11-07', 0.05), ('USC00516128', '2016-11-08', 0.53), ('USC00516128', '2016-11-09', 0.04), ('USC00516128', '2016-11-10', 0.01), ('USC00516128', '2016-11-11', 0.0), ('USC00516128', '2016-11-12', 0.0), ('USC00516128', '2016-11-13', 0.0), ('USC00516128', '2016-11-14', 0.02), ('USC00516128', '2016-11-15', 0.05), ('USC00516128', '2016-11-16', 0.91), ('USC00516128', '2016-11-17', 0.02), ('USC00516128', '2016-11-20', None), ('USC00516128', '2016-11-21', 2.87), ('USC00516128', '2016-11-22', 2.11), ('USC00516128', '2016-11-23', 0.22), ('USC00516128', '2016-11-24', 0.72), ('USC00516128', '2016-11-25', 1.03), ('USC00516128', '2016-11-26', 0.3), ('USC00516128', '2016-11-27', 0.29), ('USC00516128', '2016-11-28', 0.69), ('USC00516128', '2016-11-29', 0.2), ('USC00516128', '2016-11-30', 0.79), ('USC00516128', '2016-12-01', 0.72), ('USC00516128', '2016-12-02', 1.27), ('USC00516128', '2016-12-03', 1.62), ('USC00516128', '2016-12-04', 0.31), ('USC00516128', '2016-12-05', 1.6), ('USC00516128', '2016-12-06', 0.0), ('USC00516128', '2016-12-07', 0.02), ('USC00516128', '2016-12-08', 0.03), ('USC00516128', '2016-12-09', 0.42), ('USC00516128', '2016-12-10', 0.04), ('USC00516128', '2016-12-11', 0.13), ('USC00516128', '2016-12-12', 0.01), ('USC00516128', '2016-12-13', 0.09), ('USC00516128', '2016-12-14', 0.33), ('USC00516128', '2016-12-15', 0.03), ('USC00516128', '2016-12-16', 0.0), ('USC00516128', '2016-12-18', None), ('USC00516128', '2016-12-19', 0.15), ('USC00516128', '2016-12-20', 0.0), ('USC00516128', '2016-12-21', 0.55), ('USC00516128', '2016-12-22', 1.24), ('USC00516128', '2016-12-23', 0.83), ('USC00516128', '2016-12-24', 1.08), ('USC00516128', '2016-12-25', 0.38), ('USC00516128', '2016-12-26', 1.48), ('USC00516128', '2016-12-27', 0.14), ('USC00516128', '2016-12-28', 0.14), ('USC00516128', '2016-12-29', 1.03), ('USC00516128', '2016-12-30', 2.37), ('USC00516128', '2016-12-31', 0.9), ('USC00516128', '2017-01-01', 0.03), ('USC00516128', '2017-01-02', 0.0), ('USC00516128', '2017-01-03', 0.0), ('USC00516128', '2017-01-04', 0.0), ('USC00516128', '2017-01-05', 0.47), ('USC00516128', '2017-01-06', 0.1), ('USC00516128', '2017-01-07', 0.0), ('USC00516128', '2017-01-08', 0.03), ('USC00516128', '2017-01-09', 0.0), ('USC00516128', '2017-01-10', 0.0), ('USC00516128', '2017-01-11', 0.0), ('USC00516128', '2017-01-12', 0.0), ('USC00516128', '2017-01-13', 0.0), ('USC00516128', '2017-01-14', 0.0), ('USC00516128', '2017-01-15', 0.01), ('USC00516128', '2017-01-16', 0.0), ('USC00516128', '2017-01-17', 0.0), ('USC00516128', '2017-01-18', 0.07), ('USC00516128', '2017-01-19', 0.0), ('USC00516128', '2017-01-20', 0.0), ('USC00516128', '2017-01-21', 0.08), ('USC00516128', '2017-01-22', 0.72), ('USC00516128', '2017-01-23', 0.85), ('USC00516128', '2017-01-24', 1.85), ('USC00516128', '2017-01-25', 2.64), ('USC00516128', '2017-01-26', 0.1), ('USC00516128', '2017-01-27', 0.03), ('USC00516128', '2017-01-28', 0.0), ('USC00516128', '2017-01-29', 0.55), ('USC00516128', '2017-01-30', 0.0), ('USC00516128', '2017-01-31', 0.0), ('USC00516128', '2017-02-01', 0.0), ('USC00516128', '2017-02-02', 0.0), ('USC00516128', '2017-02-04', None), ('USC00516128', '2017-02-05', 0.0), ('USC00516128', '2017-02-06', 0.0), ('USC00516128', '2017-02-07', 1.79), ('USC00516128', '2017-02-08', 0.0), ('USC00516128', '2017-02-09', 0.0), ('USC00516128', '2017-02-10', 0.0), ('USC00516128', '2017-02-11', 0.73), ('USC00516128', '2017-02-12', 1.83), ('USC00516128', '2017-02-13', 0.0), ('USC00516128', '2017-02-14', 0.01), ('USC00516128', '2017-02-15', 0.07), ('USC00516128', '2017-02-16', 0.13), ('USC00516128', '2017-02-18', None), ('USC00516128', '2017-02-19', 0.1), ('USC00516128', '2017-02-20', 0.0), ('USC00516128', '2017-02-21', 0.07), ('USC00516128', '2017-02-22', 0.32), ('USC00516128', '2017-02-23', 0.0), ('USC00516128', '2017-02-24', 0.0), ('USC00516128', '2017-02-25', 0.12), ('USC00516128', '2017-02-26', 0.0), ('USC00516128', '2017-02-27', 0.0), ('USC00516128', '2017-02-28', 0.58), ('USC00516128', '2017-03-01', 2.0), ('USC00516128', '2017-03-02', 0.58), ('USC00516128', '2017-03-03', 0.56), ('USC00516128', '2017-03-04', 0.0), ('USC00516128', '2017-03-05', 0.35), ('USC00516128', '2017-03-06', 0.0), ('USC00516128', '2017-03-07', 0.0), ('USC00516128', '2017-03-08', 0.0), ('USC00516128', '2017-03-09', 0.01), ('USC00516128', '2017-03-10', 0.0), ('USC00516128', '2017-03-11', 0.0), ('USC00516128', '2017-03-13', None), ('USC00516128', '2017-03-14', 0.0), ('USC00516128', '2017-03-15', 0.0), ('USC00516128', '2017-03-16', 0.0), ('USC00516128', '2017-03-18', None), ('USC00516128', '2017-03-19', 0.0), ('USC00516128', '2017-03-20', 0.0), ('USC00516128', '2017-03-21', 0.0), ('USC00516128', '2017-03-22', 0.0), ('USC00516128', '2017-03-23', 0.03), ('USC00516128', '2017-03-24', 0.17), ('USC00516128', '2017-03-25', 0.48), ('USC00516128', '2017-03-26', 0.0), ('USC00516128', '2017-03-27', 0.0), ('USC00516128', '2017-03-28', 0.68), ('USC00516128', '2017-03-29', 0.07), ('USC00516128', '2017-03-31', None), ('USC00516128', '2017-04-01', 0.2), ('USC00516128', '2017-04-02', 0.0), ('USC00516128', '2017-04-03', 0.23), ('USC00516128', '2017-04-04', 0.02), ('USC00516128', '2017-04-05', 0.45), ('USC00516128', '2017-04-06', 0.0), ('USC00516128', '2017-04-08', None), ('USC00516128', '2017-04-09', 0.0), ('USC00516128', '2017-04-10', 0.0), ('USC00516128', '2017-04-11', 0.25), ('USC00516128', '2017-04-12', 0.65), ('USC00516128', '2017-04-13', 0.23), ('USC00516128', '2017-04-14', 2.82), ('USC00516128', '2017-04-15', 0.9), ('USC00516128', '2017-04-16', 0.11), ('USC00516128', '2017-04-17', 1.3), ('USC00516128', '2017-04-18', 0.98), ('USC00516128', '2017-04-19', 0.14), ('USC00516128', '2017-04-20', 0.0), ('USC00516128', '2017-04-21', 1.84), ('USC00516128', '2017-04-22', 1.35), ('USC00516128', '2017-04-23', 0.35), ('USC00516128', '2017-04-24', 0.05), ('USC00516128', '2017-04-25', 0.0), ('USC00516128', '2017-04-26', 0.22), ('USC00516128', '2017-04-27', 0.11), ('USC00516128', '2017-04-28', 0.79), ('USC00516128', '2017-04-29', 0.0), ('USC00516128', '2017-04-30', 0.8), ('USC00516128', '2017-05-01', 0.25), ('USC00516128', '2017-05-02', 0.0), ('USC00516128', '2017-05-04', None), ('USC00516128', '2017-05-05', 0.1), ('USC00516128', '2017-05-06', 0.0), ('USC00516128', '2017-05-07', 0.03), ('USC00516128', '2017-05-08', 1.11), ('USC00516128', '2017-05-09', 0.23), ('USC00516128', '2017-05-10', 0.55), ('USC00516128', '2017-05-11', 0.44), ('USC00516128', '2017-05-12', 0.1), ('USC00516128', '2017-05-13', 0.1), ('USC00516128', '2017-05-14', 1.0), ('USC00516128', '2017-05-15', 0.6), ('USC00516128', '2017-05-16', 0.3), ('USC00516128', '2017-05-17', 0.06), ('USC00516128', '2017-05-18', 0.0), ('USC00516128', '2017-05-20', None), ('USC00516128', '2017-05-21', 0.0), ('USC00516128', '2017-05-22', 0.3), ('USC00516128', '2017-05-23', 0.44), ('USC00516128', '2017-05-24', 2.17), ('USC00516128', '2017-05-25', 0.88), ('USC00516128', '2017-05-26', 0.0), ('USC00516128', '2017-05-27', 0.5), ('USC00516128', '2017-05-28', 0.0), ('USC00516128', '2017-05-30', None), ('USC00516128', '2017-06-01', 0.01), ('USC00516128', '2017-06-03', None), ('USC00516128', '2017-06-04', 0.82), ('USC00516128', '2017-06-05', 0.01), ('USC00516128', '2017-06-06', 0.0), ('USC00516128', '2017-06-07', 0.01), ('USC00516128', '2017-06-08', 0.0), ('USC00516128', '2017-06-10', None), ('USC00516128', '2017-06-11', 0.7), ('USC00516128', '2017-06-12', 0.81), ('USC00516128', '2017-06-13', 0.65), ('USC00516128', '2017-06-14', 0.81), ('USC00516128', '2017-06-15', 1.69), ('USC00516128', '2017-06-16', 0.1), ('USC00516128', '2017-06-17', 0.1), ('USC00516128', '2017-06-18', 0.7), ('USC00516128', '2017-06-19', 0.4), ('USC00516128', '2017-06-20', 0.31), ('USC00516128', '2017-06-21', 0.3), ('USC00516128', '2017-06-22', 0.28), ('USC00516128', '2017-06-23', 0.5), ('USC00516128', '2017-06-24', 0.22), ('USC00516128', '2017-06-25', 0.5), ('USC00516128', '2017-06-26', 0.02), ('USC00516128', '2017-06-27', 0.1), ('USC00516128', '2017-06-28', 0.02), ('USC00516128', '2017-06-29', 0.04), ('USC00516128', '2017-06-30', 0.2), ('USC00516128', '2017-07-01', 0.1), ('USC00516128', '2017-07-02', 0.5), ('USC00516128', '2017-07-03', 0.4), ('USC00516128', '2017-07-04', 0.0), ('USC00516128', '2017-07-05', 0.0), ('USC00516128', '2017-07-06', 0.02), ('USC00516128', '2017-07-07', 0.3), ('USC00516128', '2017-07-08', 0.02), ('USC00516128', '2017-07-09', 0.0), ('USC00516128', '2017-07-10', 0.02), ('USC00516128', '2017-07-11', 0.0), ('USC00516128', '2017-07-12', 0.05), ('USC00516128', '2017-07-13', 0.68), ('USC00516128', '2017-07-14', 0.68), ('USC00516128', '2017-07-15', 0.1), ('USC00516128', '2017-07-16', 0.5), ('USC00516128', '2017-07-17', 0.39), ('USC00516128', '2017-07-18', 2.4), ('USC00516128', '2017-07-19', 0.27), ('USC00516128', '2017-07-20', 0.7), ('USC00516128', '2017-07-21', 0.1), ('USC00516128', '2017-07-22', 4.0), ('USC00516128', '2017-07-23', 0.8), ('USC00516128', '2017-07-24', 0.84), ('USC00516128', '2017-07-25', 0.3), ('USC00516128', '2017-07-26', 0.3), ('USC00516128', '2017-07-27', 0.0), ('USC00516128', '2017-07-28', 0.4), ('USC00516128', '2017-07-29', 0.3), ('USC00516128', '2017-07-30', 0.3), ('USC00516128', '2017-07-31', 0.0), ('USC00516128', '2017-08-01', None), ('USC00516128', '2017-08-02', 0.25), ('USC00516128', '2017-08-03', 0.06), ('USC00516128', '2017-08-05', None), ('USC00516128', '2017-08-06', None), ('USC00516128', '2017-08-07', 0.05), ('USC00516128', '2017-08-08', 0.34), ('USC00516128', '2017-08-09', 0.15), ('USC00516128', '2017-08-10', 0.07), ('USC00516128', '2017-08-11', None), ('USC00516128', '2017-08-12', 0.14), ('USC00516128', '2017-08-13', None), ('USC00516128', '2017-08-14', 0.22), ('USC00516128', '2017-08-15', 0.42), ('USC00516128', '2017-08-16', 0.42), ('USC00516128', '2017-08-17', 0.13), ('USC00516128', '2017-08-18', None), ('USC00516128', '2017-08-19', 0.09), ('USC00516128', '2017-08-20', None), ('USC00516128', '2017-08-21', 0.56), ('USC00516128', '2017-08-22', 0.5), ('USC00516128', '2017-08-23', 0.45)]\n"
     ]
    }
   ],
   "metadata": {}
  },
  {
   "cell_type": "code",
   "execution_count": 171,
   "source": [
    "# V1 * * * This version creates empty list\n",
    "# INSTRUCTIONS: Perform a query to retrieve the data and precipitation scores\n",
    "# So what you are actually asking for is a sum across all of the stations? \n",
    "# As opposed to plotting each station separately?\n",
    "\n",
    "## currently has HARD-CODED date\n",
    "\n",
    "precip_output1 = session.query(Measurement.date, func.sum(Measurement.prcp)).\\\n",
    "    filter(func.strftime(\"%m\", Measurement.date) >= start_hand).\\\n",
    "    group_by(Measurement.date).\\\n",
    "    order_by(Measurement.date).all() # when I take out .all(), it doesn't seem to do anything"
   ],
   "outputs": [
    {
     "output_type": "stream",
     "name": "stdout",
     "text": [
      "2021-07-23 13:42:11,228 INFO sqlalchemy.engine.base.Engine SELECT measurement.date AS measurement_date, sum(measurement.prcp) AS sum_1 \n",
      "FROM measurement \n",
      "WHERE strftime(?, measurement.date) >= ? GROUP BY measurement.date ORDER BY measurement.date\n",
      "2021-07-23 13:42:11,230 INFO sqlalchemy.engine.base.Engine ('%m', '2016-08-24')\n"
     ]
    }
   ],
   "metadata": {}
  },
  {
   "cell_type": "code",
   "execution_count": null,
   "source": [
    "# V2 * * * This version creates a list of tuples, BUT has ALL DATES; \n",
    "# difference btwn V1 & V2 is where parens are in filter line\n",
    "\n",
    "## currently has HARD-CODED date\n",
    "#precip_output = session.query(Measurement.date, Measurement.station, Measurement.prcp).\\\n",
    "\n",
    "precip_output2 = session.query(Measurement.date, func.sum(Measurement.prcp)).\\\n",
    "    filter(func.strftime(\"%m\", Measurement.date >= start_hand)).\\\n",
    "    group_by(Measurement.date).\\\n",
    "    order_by(Measurement.date).all()\n",
    "    # group_by(Measurement.date) # returns only the first station's measurements -- WHY?!?!"
   ],
   "outputs": [
    {
     "output_type": "stream",
     "name": "stdout",
     "text": [
      "2021-07-23 13:42:33,389 INFO sqlalchemy.engine.base.Engine SELECT measurement.date AS measurement_date, sum(measurement.prcp) AS sum_1 \n",
      "FROM measurement \n",
      "WHERE strftime(?, measurement.date >= ?) GROUP BY measurement.date ORDER BY measurement.date\n",
      "2021-07-23 13:42:33,392 INFO sqlalchemy.engine.base.Engine ('%m', '2016-08-24')\n"
     ]
    }
   ],
   "metadata": {}
  },
  {
   "cell_type": "code",
   "execution_count": 175,
   "source": [
    "# V3 * * * This version doesn't even seem to populate the filter\n",
    "\n",
    "## currently has HARD-CODED date\n",
    "#precip_output = session.query(Measurement.date, Measurement.station, Measurement.prcp).\\\n",
    "\n",
    "precip_output3 = session.query(Measurement.date, func.sum(Measurement.prcp)).\\\n",
    "    filter(func.strftime(\"%m\", Measurement.date >= start_hand)).\\\n",
    "    order_by(Measurement.date)#.all()\n"
   ],
   "outputs": [],
   "metadata": {}
  },
  {
   "cell_type": "code",
   "execution_count": 178,
   "source": [
    "# V4 * * * This version doesn't even seem to populate the filter\n",
    "\n",
    "## currently has HARD-CODED date\n",
    "#precip_output = session.query(Measurement.date, Measurement.station, Measurement.prcp).\\\n",
    "\n",
    "precip_output4 = session.query(Measurement.date, func.sum(Measurement.prcp)).\\\n",
    "    filter(func.strftime(\"%m\", Measurement.date >= start_hand)) #.\\\n",
    "    # order_by(Measurement.date)#.all()\n"
   ],
   "outputs": [],
   "metadata": {}
  },
  {
   "cell_type": "code",
   "execution_count": 172,
   "source": [
    "# It's not running the filter when I put .all(), but when I don't put .all(), it won't show me anything\n",
    "print(precip_output1)"
   ],
   "outputs": [
    {
     "output_type": "stream",
     "name": "stdout",
     "text": [
      "[]\n"
     ]
    }
   ],
   "metadata": {}
  },
  {
   "cell_type": "code",
   "execution_count": 174,
   "source": [
    "print(precip_output2)"
   ],
   "outputs": [
    {
     "output_type": "stream",
     "name": "stdout",
     "text": [
      "[('2010-01-01', 1.06), ('2010-01-02', 0.02), ('2010-01-03', 0.0), ('2010-01-04', 0.01), ('2010-01-05', 0.03), ('2010-01-06', 0.5800000000000001), ('2010-01-07', 1.65), ('2010-01-08', 0.06), ('2010-01-09', 0.02), ('2010-01-10', 0.02), ('2010-01-11', 0.8800000000000001), ('2010-01-12', 0.02), ('2010-01-13', 0.02), ('2010-01-14', 0.0), ('2010-01-15', 0.0), ('2010-01-16', 0.0), ('2010-01-17', 0.0), ('2010-01-18', 0.0), ('2010-01-19', 0.0), ('2010-01-20', 0.01), ('2010-01-21', 0.65), ('2010-01-22', 0.0), ('2010-01-23', 0.0), ('2010-01-24', 0.02), ('2010-01-25', 0.0), ('2010-01-26', 0.25), ('2010-01-27', 1.6), ('2010-01-28', 0.73), ('2010-01-29', 2.19), ('2010-01-30', 7.3500000000000005), ('2010-01-31', 2.16), ('2010-02-01', 0.05), ('2010-02-02', 0.05), ('2010-02-03', 3.21), ('2010-02-04', 0.02), ('2010-02-05', 0.16), ('2010-02-06', 0.12), ('2010-02-07', 0.01), ('2010-02-08', 0.0), ('2010-02-09', 0.0), ('2010-02-10', 0.0), ('2010-02-11', 0.0), ('2010-02-12', 0.8200000000000001), ('2010-02-13', 0.78), ('2010-02-14', 0.03), ('2010-02-15', 0.0), ('2010-02-16', 0.0), ('2010-02-17', 0.06), ('2010-02-18', 0.0), ('2010-02-19', 0.69), ('2010-02-20', 1.61), ('2010-02-21', 0.22000000000000003), ('2010-02-22', 1.23), ('2010-02-23', 0.03), ('2010-02-24', 0.01), ('2010-02-25', 0.02), ('2010-02-26', 0.02), ('2010-02-27', 0.03), ('2010-02-28', 0.51), ('2010-03-01', 0.2), ('2010-03-02', 0.0), ('2010-03-03', 0.13), ('2010-03-04', 2.9299999999999997), ('2010-03-05', 2.3200000000000003), ('2010-03-06', 2.69), ('2010-03-07', 0.6), ('2010-03-08', 2.74), ('2010-03-09', 0.71), ('2010-03-10', 0.79), ('2010-03-11', 1.1400000000000001), ('2010-03-12', 0.24), ('2010-03-13', 0.13), ('2010-03-14', 0.12000000000000001), ('2010-03-15', 1.58), ('2010-03-16', 3.7300000000000004), ('2010-03-17', 1.96), ('2010-03-18', 2.53), ('2010-03-19', 0.38), ('2010-03-20', 0.19), ('2010-03-21', 1.05), ('2010-03-22', 0.0), ('2010-03-23', 0.01), ('2010-03-24', 0.15000000000000002), ('2010-03-25', 0.6699999999999999), ('2010-03-26', 1.1), ('2010-03-27', 0.03), ('2010-03-28', 0.060000000000000005), ('2010-03-29', 0.17), ('2010-03-30', 0.63), ('2010-03-31', 0.14), ('2010-04-01', 0.13), ('2010-04-02', 0.38), ('2010-04-03', 2.02), ('2010-04-04', 4.0600000000000005), ('2010-04-05', 3.91), ('2010-04-06', 2.5500000000000003), ('2010-04-07', 8.31), ('2010-04-08', 2.11), ('2010-04-09', 1.61), ('2010-04-10', 0.6200000000000001), ('2010-04-11', 1.2), ('2010-04-12', 0.05), ('2010-04-13', 1.1600000000000001), ('2010-04-14', 0.26), ('2010-04-15', 0.0), ('2010-04-16', 0.14), ('2010-04-17', 0.11), ('2010-04-18', 0.23), ('2010-04-19', 0.02), ('2010-04-20', 1.1), ('2010-04-21', 0.47), ('2010-04-22', 0.6700000000000002), ('2010-04-23', 0.6300000000000001), ('2010-04-24', 0.36), ('2010-04-25', 0.09), ('2010-04-26', 0.0), ('2010-04-27', 0.03), ('2010-04-28', 0.72), ('2010-04-29', 1.49), ('2010-04-30', 1.17), ('2010-05-01', 1.25), ('2010-05-02', 0.83), ('2010-05-03', 5.3500000000000005), ('2010-05-04', 0.59), ('2010-05-05', 0.06999999999999999), ('2010-05-06', 0.1), ('2010-05-07', 0.63), ('2010-05-08', 0.15000000000000002), ('2010-05-09', 0.25), ('2010-05-10', 0.65), ('2010-05-11', 0.14), ('2010-05-12', 0.19999999999999998), ('2010-05-13', 0.45), ('2010-05-14', 0.02), ('2010-05-15', 0.6000000000000001), ('2010-05-16', 0.95), ('2010-05-17', 0.16999999999999998), ('2010-05-18', 0.0), ('2010-05-19', 0.0), ('2010-05-20', 1.6500000000000001), ('2010-05-21', 0.9400000000000001), ('2010-05-22', 0.29000000000000004), ('2010-05-23', 1.1300000000000001), ('2010-05-24', 0.62), ('2010-05-25', 1.42), ('2010-05-26', 0.68), ('2010-05-27', 0.05), ('2010-05-28', 0.0), ('2010-05-29', 0.81), ('2010-05-30', 0.05), ('2010-05-31', 0.06), ('2010-06-01', 0.15000000000000002), ('2010-06-02', 0.07), ('2010-06-03', 0.24000000000000002), ('2010-06-04', 0.01), ('2010-06-05', 0.09), ('2010-06-06', 0.13), ('2010-06-07', 0.72), ('2010-06-08', 0.28), ('2010-06-09', 0.0), ('2010-06-10', 0.02), ('2010-06-11', 0.0), ('2010-06-12', 0.03), ('2010-06-13', 0.06), ('2010-06-14', 0.18), ('2010-06-15', 0.14), ('2010-06-16', 0.01), ('2010-06-17', 0.09), ('2010-06-18', 0.81), ('2010-06-19', 0.5700000000000001), ('2010-06-20', 0.05), ('2010-06-21', 0.01), ('2010-06-22', 0.02), ('2010-06-23', 0.17), ('2010-06-24', 0.6900000000000001), ('2010-06-25', 1.55), ('2010-06-26', 1.63), ('2010-06-27', 0.54), ('2010-06-28', 0.44999999999999996), ('2010-06-29', 0.25), ('2010-06-30', 0.84), ('2010-07-01', 0.7), ('2010-07-02', 1.8), ('2010-07-03', 3.43), ('2010-07-04', 1.16), ('2010-07-05', 0.36000000000000004), ('2010-07-06', 2.02), ('2010-07-07', 1.9100000000000001), ('2010-07-08', 1.27), ('2010-07-09', 1.17), ('2010-07-10', 1.73), ('2010-07-11', 0.33999999999999997), ('2010-07-12', 0.25), ('2010-07-13', 0.63), ('2010-07-14', 1.21), ('2010-07-15', 0.5900000000000001), ('2010-07-16', 0.31), ('2010-07-17', 0.66), ('2010-07-18', 2.5700000000000003), ('2010-07-19', 0.68), ('2010-07-20', 1.8), ('2010-07-21', 0.11), ('2010-07-22', 0.52), ('2010-07-23', 1.23), ('2010-07-24', 0.38999999999999996), ('2010-07-25', 0.0), ('2010-07-26', 0.0), ('2010-07-27', 0.57), ('2010-07-28', 0.68), ('2010-07-29', 0.42), ('2010-07-30', 0.36), ('2010-07-31', 0.23000000000000004), ('2010-08-01', 1.27), ('2010-08-02', 2.1799999999999997), ('2010-08-03', 1.02), ('2010-08-04', 2.96), ('2010-08-05', 2.12), ('2010-08-06', 0.69), ('2010-08-07', 0.56), ('2010-08-08', 1.12), ('2010-08-09', 0.29000000000000004), ('2010-08-10', 0.06), ('2010-08-11', 0.42000000000000004), ('2010-08-12', 0.13), ('2010-08-13', 0.46), ('2010-08-14', 0.0), ('2010-08-15', 0.03), ('2010-08-16', 0.97), ('2010-08-17', 1.5), ('2010-08-18', 0.3), ('2010-08-19', 0.79), ('2010-08-20', 0.3), ('2010-08-21', 0.06999999999999999), ('2010-08-22', 0.05), ('2010-08-23', 0.06999999999999999), ('2010-08-24', 0.49), ('2010-08-25', 1.06), ('2010-08-26', 1.04), ('2010-08-27', 1.68), ('2010-08-28', 0.45999999999999996), ('2010-08-29', 1.82), ('2010-08-30', 0.46), ('2010-08-31', 0.51), ('2010-09-01', 0.26), ('2010-09-02', 1.0), ('2010-09-03', 1.5699999999999998), ('2010-09-04', 0.47), ('2010-09-05', 0.45), ('2010-09-06', 0.55), ('2010-09-07', 2.15), ('2010-09-08', 0.56), ('2010-09-09', 0.09), ('2010-09-10', 0.42000000000000004), ('2010-09-11', 0.54), ('2010-09-12', 0.01), ('2010-09-13', 0.02), ('2010-09-14', 0.38), ('2010-09-15', 0.07), ('2010-09-16', 0.27), ('2010-09-17', 0.03), ('2010-09-18', 0.3), ('2010-09-19', 0.98), ('2010-09-20', 0.45999999999999996), ('2010-09-21', 0.37), ('2010-09-22', 2.21), ('2010-09-23', 3.2399999999999998), ('2010-09-24', 0.06), ('2010-09-25', 0.62), ('2010-09-26', 0.0), ('2010-09-27', 0.02), ('2010-09-28', 0.01), ('2010-09-29', 0.0), ('2010-09-30', 2.48), ('2010-10-01', 5.82), ('2010-10-02', 2.77), ('2010-10-03', 0.24), ('2010-10-04', 1.1), ('2010-10-05', 0.54), ('2010-10-06', 0.17), ('2010-10-07', 0.03), ('2010-10-08', 0.01), ('2010-10-09', 0.0), ('2010-10-10', 0.12), ('2010-10-11', 0.52), ('2010-10-12', 0.51), ('2010-10-13', 0.14), ('2010-10-14', 0.04), ('2010-10-15', 0.01), ('2010-10-16', 0.08), ('2010-10-17', 0.43), ('2010-10-18', 0.12000000000000001), ('2010-10-19', 4.29), ('2010-10-20', 0.0), ('2010-10-21', 3.16), ('2010-10-22', 1.3699999999999999), ('2010-10-23', 0.02), ('2010-10-24', 0.0), ('2010-10-25', 0.0), ('2010-10-26', 2.4800000000000004), ('2010-10-27', 1.87), ('2010-10-28', 1.56), ('2010-10-29', 0.81), ('2010-10-30', 2.79), ('2010-10-31', 0.42000000000000004), ('2010-11-01', 3.05), ('2010-11-02', 0.6699999999999999), ('2010-11-03', 1.99), ('2010-11-04', 7.130000000000001), ('2010-11-05', 3.48), ('2010-11-06', 5.779999999999999), ('2010-11-07', 1.37), ('2010-11-08', 0.01), ('2010-11-09', 0.04), ('2010-11-10', 1.1), ('2010-11-11', 0.16999999999999998), ('2010-11-12', 0.14), ('2010-11-13', 0.52), ('2010-11-14', 0.35), ('2010-11-15', 1.92), ('2010-11-16', 0.8999999999999999), ('2010-11-17', 0.03), ('2010-11-18', 0.0), ('2010-11-19', 1.9299999999999997), ('2010-11-20', 0.060000000000000005), ('2010-11-21', 0.16), ('2010-11-22', 0.05), ('2010-11-23', 0.07), ('2010-11-24', 0.27), ('2010-11-25', 0.78), ('2010-11-26', 0.1), ('2010-11-27', 0.2), ('2010-11-28', 3.25), ('2010-11-29', 1.1800000000000002), ('2010-11-30', 0.47000000000000003), ('2010-12-01', 4.52), ('2010-12-02', 0.81), ('2010-12-03', 3.24), ('2010-12-04', 0.19), ('2010-12-05', 0.0), ('2010-12-06', 0.02), ('2010-12-07', 0.02), ('2010-12-08', 0.48), ('2010-12-09', 1.71), ('2010-12-10', 17.19), ('2010-12-11', 5.72), ('2010-12-12', 1.02), ('2010-12-13', 1.54), ('2010-12-14', 0.2), ('2010-12-15', 0.1), ('2010-12-16', 0.05), ('2010-12-17', 0.0), ('2010-12-18', 0.0), ('2010-12-19', 18.79), ('2010-12-20', 23.59), ('2010-12-21', 3.8699999999999997), ('2010-12-22', 0.7400000000000001), ('2010-12-23', 0.38), ('2010-12-24', 0.24), ('2010-12-25', 6.12), ('2010-12-26', 8.21), ('2010-12-27', 0.9900000000000001), ('2010-12-28', 4.5), ('2010-12-29', 0.38), ('2010-12-30', 0.8), ('2010-12-31', 0.17), ('2011-01-01', 1.04), ('2011-01-02', 0.15), ('2011-01-03', 0.47), ('2011-01-04', 0.05), ('2011-01-05', 0.36), ('2011-01-06', 1.02), ('2011-01-07', 0.06), ('2011-01-08', 0.02), ('2011-01-09', 0.08), ('2011-01-10', 0.0), ('2011-01-11', 2.58), ('2011-01-12', 4.49), ('2011-01-13', 33.56), ('2011-01-14', 2.2), ('2011-01-15', 0.04), ('2011-01-16', 0.02), ('2011-01-17', 0.52), ('2011-01-18', 0.27), ('2011-01-19', 0.36), ('2011-01-20', 0.25), ('2011-01-21', 0.6), ('2011-01-22', 0.02), ('2011-01-23', 0.19), ('2011-01-24', 0.060000000000000005), ('2011-01-25', 0.05), ('2011-01-26', 0.08), ('2011-01-27', 0.03), ('2011-01-28', 0.04), ('2011-01-29', 0.22), ('2011-01-30', 0.02), ('2011-01-31', 0.8600000000000001), ('2011-02-01', 0.25), ('2011-02-02', 0.01), ('2011-02-03', 0.0), ('2011-02-04', 0.02), ('2011-02-05', 0.0), ('2011-02-06', 0.31), ('2011-02-07', 6.88), ('2011-02-08', 6.970000000000001), ('2011-02-09', 0.02), ('2011-02-10', 0.69), ('2011-02-11', 3.66), ('2011-02-12', 4.789999999999999), ('2011-02-13', 2.5100000000000002), ('2011-02-14', 0.17), ('2011-02-15', 0.13), ('2011-02-16', 1.26), ('2011-02-17', 0.21000000000000002), ('2011-02-18', 0.66), ('2011-02-19', 0.0), ('2011-02-20', 11.379999999999999), ('2011-02-21', 0.03), ('2011-02-22', 1.06), ('2011-02-23', 0.19000000000000003), ('2011-02-24', 10.010000000000002), ('2011-02-25', 0.05), ('2011-02-26', 0.22999999999999998), ('2011-02-27', 0.19), ('2011-02-28', 0.02), ('2011-03-01', 0.74), ('2011-03-02', 0.01), ('2011-03-03', 1.99), ('2011-03-04', 9.29), ('2011-03-05', 1.56), ('2011-03-06', 3.8500000000000005), ('2011-03-07', 0.37), ('2011-03-08', 1.6800000000000002), ('2011-03-09', 3.53), ('2011-03-10', 6.82), ('2011-03-11', 1.1400000000000001), ('2011-03-12', 0.16000000000000003), ('2011-03-13', 0.02), ('2011-03-14', 0.0), ('2011-03-15', 0.0), ('2011-03-16', 0.01), ('2011-03-17', 0.36000000000000004), ('2011-03-18', 0.47), ('2011-03-19', 0.9000000000000001), ('2011-03-20', 1.78), ('2011-03-21', 0.0), ('2011-03-22', 1.69), ('2011-03-23', 0.6100000000000001), ('2011-03-24', 2.4699999999999998), ('2011-03-25', 0.24000000000000002), ('2011-03-26', 0.66), ('2011-03-27', 0.56), ('2011-03-28', 0.38), ('2011-03-29', 0.25), ('2011-03-30', 0.32999999999999996), ('2011-03-31', 0.02), ('2011-04-01', 2.4000000000000004), ('2011-04-02', 1.2999999999999998), ('2011-04-03', 0.61), ('2011-04-04', 0.060000000000000005), ('2011-04-05', 0.43), ('2011-04-06', 0.72), ('2011-04-07', 11.04), ('2011-04-08', 3.55), ('2011-04-09', 0.44999999999999996), ('2011-04-10', 0.09999999999999999), ('2011-04-11', 0.35), ('2011-04-12', 0.31), ('2011-04-13', 0.06), ('2011-04-14', 0.57), ('2011-04-15', 0.22), ('2011-04-16', 1.01), ('2011-04-17', 0.0), ('2011-04-18', 0.28), ('2011-04-19', 0.02), ('2011-04-20', 0.03), ('2011-04-21', 0.19), ('2011-04-22', 0.0), ('2011-04-23', 0.04), ('2011-04-24', 0.06), ('2011-04-25', 0.23), ('2011-04-26', 0.8600000000000001), ('2011-04-27', 0.44000000000000006), ('2011-04-28', 0.41000000000000003), ('2011-04-29', 1.52), ('2011-04-30', 0.79), ('2011-05-01', 1.24), ('2011-05-02', 2.15), ('2011-05-03', 8.93), ('2011-05-04', 2.8600000000000003), ('2011-05-05', 1.4500000000000002), ('2011-05-06', 5.819999999999999), ('2011-05-07', 6.61), ('2011-05-08', 8.940000000000001), ('2011-05-09', 2.8699999999999997), ('2011-05-10', 1.5600000000000003), ('2011-05-11', 3.3600000000000003), ('2011-05-12', 0.34), ('2011-05-13', 0.36), ('2011-05-14', 0.06), ('2011-05-15', 0.0), ('2011-05-16', 0.02), ('2011-05-17', 0.09), ('2011-05-18', 1.7000000000000002), ('2011-05-19', 0.36), ('2011-05-20', 0.04), ('2011-05-21', 0.09999999999999999), ('2011-05-22', 0.9299999999999999), ('2011-05-23', 0.36), ('2011-05-24', 0.05), ('2011-05-25', 0.14), ('2011-05-26', 0.03), ('2011-05-27', 0.55), ('2011-05-28', 0.06999999999999999), ('2011-05-29', 0.38), ('2011-05-30', 0.19), ('2011-05-31', 0.29000000000000004), ('2011-06-01', 1.29), ('2011-06-02', 0.77), ('2011-06-03', 7.1000000000000005), ('2011-06-04', 10.0), ('2011-06-05', 8.649999999999999), ('2011-06-06', 0.15000000000000002), ('2011-06-07', 0.33), ('2011-06-08', 0.65), ('2011-06-09', 0.21000000000000002), ('2011-06-10', 0.18), ('2011-06-11', 0.21000000000000002), ('2011-06-12', 2.05), ('2011-06-13', 0.7), ('2011-06-14', 0.41000000000000003), ('2011-06-15', 0.06999999999999999), ('2011-06-16', 1.25), ('2011-06-17', 0.21), ('2011-06-18', 0.1), ('2011-06-19', 2.41), ('2011-06-20', 1.2000000000000002), ('2011-06-21', 2.92), ('2011-06-22', 3.8499999999999996), ('2011-06-23', 1.1400000000000001), ('2011-06-24', 2.48), ('2011-06-25', 0.1), ('2011-06-26', 0.56), ('2011-06-27', 1.13), ('2011-06-28', 0.62), ('2011-06-29', 0.14), ('2011-06-30', 0.03), ('2011-07-01', 0.33), ('2011-07-02', 0.17), ('2011-07-03', 0.47), ('2011-07-04', 0.27), ('2011-07-05', 0.52), ('2011-07-06', 0.33999999999999997), ('2011-07-07', 1.1199999999999999), ('2011-07-08', 0.38), ('2011-07-09', 0.21000000000000002), ('2011-07-10', 0.12999999999999998), ('2011-07-11', 0.22), ('2011-07-12', 0.01), ('2011-07-13', 0.19), ('2011-07-14', 0.4), ('2011-07-15', 0.75), ('2011-07-16', 0.37), ('2011-07-17', 1.1), ('2011-07-18', 0.26), ('2011-07-19', 0.11), ('2011-07-20', 1.14), ('2011-07-21', 0.35000000000000003), ('2011-07-22', 1.71), ('2011-07-23', 0.2), ('2011-07-24', 0.42), ('2011-07-25', 0.8099999999999999), ('2011-07-26', 0.38999999999999996), ('2011-07-27', 2.97), ('2011-07-28', 0.28), ('2011-07-29', 1.0899999999999999), ('2011-07-30', 2.31), ('2011-07-31', 0.01), ('2011-08-01', 0.01), ('2011-08-02', 0.38), ('2011-08-03', 0.26), ('2011-08-04', 0.44), ('2011-08-05', 0.67), ('2011-08-06', 0.11000000000000001), ('2011-08-07', 0.39), ('2011-08-08', 0.01), ('2011-08-09', 2.02), ('2011-08-10', 0.04), ('2011-08-11', 0.22), ('2011-08-12', 0.09000000000000001), ('2011-08-13', 0.12), ('2011-08-14', 0.65), ('2011-08-15', 0.64), ('2011-08-16', 0.31000000000000005), ('2011-08-17', 0.79), ('2011-08-18', 0.22), ('2011-08-19', 0.19), ('2011-08-20', 0.5), ('2011-08-21', 0.35), ('2011-08-22', 0.46), ('2011-08-23', 0.62), ('2011-08-24', 0.38), ('2011-08-25', 0.51), ('2011-08-26', 0.38), ('2011-08-27', 0.75), ('2011-08-28', 1.04), ('2011-08-29', 1.81), ('2011-08-30', 1.15), ('2011-08-31', 0.7899999999999999), ('2011-09-01', 0.61), ('2011-09-02', 0.63), ('2011-09-03', 0.07), ('2011-09-04', 0.24), ('2011-09-05', 0.05), ('2011-09-06', 0.22), ('2011-09-07', 0.02), ('2011-09-08', 0.08), ('2011-09-09', 0.09), ('2011-09-10', 0.84), ('2011-09-11', 0.39), ('2011-09-12', 0.38), ('2011-09-13', 0.66), ('2011-09-14', 0.3), ('2011-09-15', 0.52), ('2011-09-16', 2.4699999999999998), ('2011-09-17', 0.36), ('2011-09-18', 1.6), ('2011-09-19', 0.39), ('2011-09-20', 0.17), ('2011-09-21', 0.38), ('2011-09-22', 0.53), ('2011-09-23', 0.5), ('2011-09-24', 0.03), ('2011-09-25', 0.0), ('2011-09-26', 0.0), ('2011-09-27', 0.0), ('2011-09-28', 0.30000000000000004), ('2011-09-29', 0.14), ('2011-09-30', 0.21000000000000002), ('2011-10-01', 0.2), ('2011-10-02', 0.03), ('2011-10-03', 0.0), ('2011-10-04', 0.8899999999999999), ('2011-10-05', 0.37000000000000005), ('2011-10-06', 0.8), ('2011-10-07', 0.77), ('2011-10-08', 0.17), ('2011-10-09', 0.28), ('2011-10-10', 0.02), ('2011-10-11', 0.37000000000000005), ('2011-10-12', 0.02), ('2011-10-13', 0.28), ('2011-10-14', 0.83), ('2011-10-15', 2.46), ('2011-10-16', 0.06), ('2011-10-17', 0.6799999999999999), ('2011-10-18', 0.9), ('2011-10-19', 1.43), ('2011-10-20', 0.42000000000000004), ('2011-10-21', 0.47000000000000003), ('2011-10-22', 0.65), ('2011-10-23', 3.04), ('2011-10-24', 7.949999999999999), ('2011-10-25', 1.6600000000000001), ('2011-10-26', 0.05), ('2011-10-27', 0.04), ('2011-10-28', 0.5700000000000001), ('2011-10-29', 0.21000000000000002), ('2011-10-30', 0.6600000000000001), ('2011-10-31', 2.06), ('2011-11-01', 6.62), ('2011-11-02', 1.75), ('2011-11-03', 1.2399999999999998), ('2011-11-04', 4.01), ('2011-11-05', 0.39), ('2011-11-06', 0.23), ('2011-11-07', 0.16), ('2011-11-08', 0.5700000000000001), ('2011-11-09', 0.6400000000000001), ('2011-11-10', 0.36), ('2011-11-11', 2.45), ('2011-11-12', 0.51), ('2011-11-13', 0.16), ('2011-11-14', 0.08), ('2011-11-15', 0.0), ('2011-11-16', 0.0), ('2011-11-17', 0.15000000000000002), ('2011-11-18', 0.31999999999999995), ('2011-11-19', 0.6799999999999999), ('2011-11-20', 0.5), ('2011-11-21', 1.7599999999999998), ('2011-11-22', 1.3699999999999999), ('2011-11-23', 0.15999999999999998), ('2011-11-24', 0.03), ('2011-11-25', 0.27), ('2011-11-26', 0.02), ('2011-11-27', 0.36), ('2011-11-28', 0.01), ('2011-11-29', 0.14), ('2011-11-30', 1.74), ('2011-12-01', 0.51), ('2011-12-02', 1.64), ('2011-12-03', 0.25), ('2011-12-04', 0.06), ('2011-12-05', 0.23), ('2011-12-06', 0.13), ('2011-12-07', 0.46), ('2011-12-08', 0.66), ('2011-12-09', 0.6100000000000001), ('2011-12-10', 0.8700000000000001), ('2011-12-11', 4.18), ('2011-12-12', 3.26), ('2011-12-13', 13.149999999999999), ('2011-12-14', 3.2300000000000004), ('2011-12-15', 1.66), ('2011-12-16', 1.23), ('2011-12-17', 1.35), ('2011-12-18', 0.6100000000000001), ('2011-12-19', 1.62), ('2011-12-20', 0.5), ('2011-12-21', 2.99), ('2011-12-22', 0.63), ('2011-12-23', 0.62), ('2011-12-24', 1.1400000000000001), ('2011-12-25', 0.77), ('2011-12-26', 0.1), ('2011-12-27', 0.18), ('2011-12-28', 0.11), ('2011-12-29', 0.02), ('2011-12-30', 0.08), ('2011-12-31', 0.49), ('2012-01-01', 0.07), ('2012-01-02', 0.19), ('2012-01-03', 0.0), ('2012-01-04', 0.1), ('2012-01-05', 0.36), ('2012-01-06', 0.0), ('2012-01-07', 0.0), ('2012-01-08', 0.0), ('2012-01-09', 0.12), ('2012-01-10', 0.09), ('2012-01-11', 0.16), ('2012-01-12', 0.32), ('2012-01-13', 0.02), ('2012-01-14', 0.0), ('2012-01-15', 0.0), ('2012-01-16', 1.31), ('2012-01-17', 0.66), ('2012-01-18', 1.36), ('2012-01-19', 0.03), ('2012-01-20', 0.0), ('2012-01-21', 0.01), ('2012-01-22', 0.03), ('2012-01-23', 0.29000000000000004), ('2012-01-24', 0.0), ('2012-01-25', 1.98), ('2012-01-26', 0.06), ('2012-01-27', 2.21), ('2012-01-28', 0.25), ('2012-01-29', 1.9100000000000001), ('2012-01-30', 0.66), ('2012-01-31', 0.17), ('2012-02-01', 0.01), ('2012-02-02', 0.0), ('2012-02-03', 0.0), ('2012-02-04', 0.0), ('2012-02-05', 0.0), ('2012-02-06', 0.49), ('2012-02-07', 3.4499999999999993), ('2012-02-08', 2.9000000000000004), ('2012-02-09', 0.08), ('2012-02-10', 0.01), ('2012-02-11', 0.01), ('2012-02-12', 0.07), ('2012-02-13', 1.42), ('2012-02-14', 0.13999999999999999), ('2012-02-15', 0.05), ('2012-02-16', 0.0), ('2012-02-17', 0.55), ('2012-02-18', 1.03), ('2012-02-19', 2.01), ('2012-02-20', 0.05), ('2012-02-21', 0.02), ('2012-02-22', 0.12), ('2012-02-23', 1.6500000000000001), ('2012-02-24', 0.8300000000000001), ('2012-02-25', 0.13), ('2012-02-26', 1.51), ('2012-02-27', 0.9), ('2012-02-28', 0.48000000000000004), ('2012-02-29', 0.6000000000000001), ('2012-03-01', 0.7), ('2012-03-02', 0.26), ('2012-03-03', 6.1899999999999995), ('2012-03-04', 4.96), ('2012-03-05', 22.73), ('2012-03-06', 22.619999999999997), ('2012-03-07', 16.38), ('2012-03-08', 3.71), ('2012-03-09', 10.26), ('2012-03-10', 4.790000000000001), ('2012-03-11', 0.6799999999999999), ('2012-03-12', 2.2), ('2012-03-13', 0.47000000000000003), ('2012-03-14', 0.03), ('2012-03-15', 0.11), ('2012-03-16', 0.2), ('2012-03-17', 0.05), ('2012-03-18', 0.9), ('2012-03-19', 2.0300000000000002), ('2012-03-20', 0.12), ('2012-03-21', 0.66), ('2012-03-22', 0.86), ('2012-03-23', 0.09), ('2012-03-24', 0.24), ('2012-03-25', 2.27), ('2012-03-26', 0.67), ('2012-03-27', 0.94), ('2012-03-28', 0.22999999999999998), ('2012-03-29', 0.0), ('2012-03-30', 0.02), ('2012-03-31', 0.0), ('2012-04-01', 0.04), ('2012-04-02', 0.0), ('2012-04-03', 0.0), ('2012-04-04', 0.12), ('2012-04-05', 1.52), ('2012-04-06', 0.1), ('2012-04-07', 2.16), ('2012-04-08', 0.04), ('2012-04-09', 3.8200000000000003), ('2012-04-10', 2.6100000000000003), ('2012-04-11', 2.39), ('2012-04-12', 0.66), ('2012-04-13', 0.43), ('2012-04-14', 0.02), ('2012-04-15', 0.38), ('2012-04-16', 0.22), ('2012-04-17', 0.01), ('2012-04-18', 0.01), ('2012-04-19', 0.03), ('2012-04-20', 0.08), ('2012-04-21', 0.03), ('2012-04-22', 0.44), ('2012-04-23', 2.3000000000000003), ('2012-04-24', 0.23), ('2012-04-25', 0.43), ('2012-04-26', 0.66), ('2012-04-27', 0.8800000000000001), ('2012-04-28', 0.77), ('2012-04-29', 0.2), ('2012-04-30', 0.16999999999999998), ('2012-05-01', 0.05), ('2012-05-02', 0.8899999999999999), ('2012-05-03', 0.5), ('2012-05-04', 1.53), ('2012-05-05', 1.34), ('2012-05-06', 0.17), ('2012-05-07', 0.65), ('2012-05-08', 0.04), ('2012-05-09', 0.05), ('2012-05-10', 0.0), ('2012-05-11', 0.33), ('2012-05-12', 0.01), ('2012-05-13', 0.0), ('2012-05-14', 0.0), ('2012-05-15', 0.0), ('2012-05-16', 0.05), ('2012-05-17', 0.07), ('2012-05-18', 0.39999999999999997), ('2012-05-19', 0.16), ('2012-05-20', 0.05), ('2012-05-21', 0.45), ('2012-05-22', 0.0), ('2012-05-23', 0.0), ('2012-05-24', 0.18), ('2012-05-25', 0.35), ('2012-05-26', 0.5), ('2012-05-27', 0.7200000000000001), ('2012-05-28', 0.35), ('2012-05-29', 0.03), ('2012-05-30', 0.02), ('2012-05-31', 0.87), ('2012-06-01', 0.46), ('2012-06-02', 0.37), ('2012-06-03', 0.0), ('2012-06-04', 0.02), ('2012-06-05', 0.0), ('2012-06-06', 0.98), ('2012-06-07', 0.19), ('2012-06-08', 0.31), ('2012-06-09', 0.0), ('2012-06-10', 0.08), ('2012-06-11', 0.22999999999999998), ('2012-06-12', 0.33), ('2012-06-13', 0.64), ('2012-06-14', 0.75), ('2012-06-15', 0.0), ('2012-06-16', 0.0), ('2012-06-17', 0.14), ('2012-06-18', 0.0), ('2012-06-19', 0.68), ('2012-06-20', 2.63), ('2012-06-21', 0.7), ('2012-06-22', 0.05), ('2012-06-23', 1.77), ('2012-06-24', 1.54), ('2012-06-25', 1.73), ('2012-06-26', 1.73), ('2012-06-27', 1.76), ('2012-06-28', 0.38), ('2012-06-29', 1.33), ('2012-06-30', 0.03), ('2012-07-01', 0.23000000000000004), ('2012-07-02', 0.33), ('2012-07-03', 2.0100000000000002), ('2012-07-04', 1.6800000000000002), ('2012-07-05', 1.48), ('2012-07-06', 1.44), ('2012-07-07', 1.3399999999999999), ('2012-07-08', 0.07), ('2012-07-09', 0.02), ('2012-07-10', 0.16999999999999998), ('2012-07-11', 0.42000000000000004), ('2012-07-12', 0.02), ('2012-07-13', 1.05), ('2012-07-14', 0.56), ('2012-07-15', 0.21), ('2012-07-16', 1.26), ('2012-07-17', 1.15), ('2012-07-18', 1.22), ('2012-07-19', 0.8200000000000001), ('2012-07-20', 1.1600000000000001), ('2012-07-21', 0.5700000000000001), ('2012-07-22', 0.51), ('2012-07-23', 0.5700000000000001), ('2012-07-24', 0.23), ('2012-07-25', 0.43), ('2012-07-26', 0.04), ('2012-07-27', 0.34), ('2012-07-28', 1.61), ('2012-07-29', 3.34), ('2012-07-30', 0.59), ('2012-07-31', 0.83), ('2012-08-01', 0.05), ('2012-08-02', 0.0), ('2012-08-03', 0.09), ('2012-08-04', 0.08), ('2012-08-05', 0.77), ('2012-08-06', 0.69), ('2012-08-07', 0.28), ('2012-08-08', 0.52), ('2012-08-09', 0.23), ('2012-08-10', 0.03), ('2012-08-11', 0.5800000000000001), ('2012-08-12', 0.38), ('2012-08-13', 0.09999999999999999), ('2012-08-14', 0.56), ('2012-08-15', 0.05), ('2012-08-16', 0.03), ('2012-08-17', 0.24), ('2012-08-18', 0.31000000000000005), ('2012-08-19', 0.09), ('2012-08-20', 0.41000000000000003), ('2012-08-21', 0.47), ('2012-08-22', 1.01), ('2012-08-23', 0.2), ('2012-08-24', 0.54), ('2012-08-25', 0.0), ('2012-08-26', 0.03), ('2012-08-27', 0.09), ('2012-08-28', 3.31), ('2012-08-29', 1.35), ('2012-08-30', 1.03), ('2012-08-31', 0.33), ('2012-09-01', 0.15000000000000002), ('2012-09-02', 0.91), ('2012-09-03', 0.41000000000000003), ('2012-09-04', 0.09), ('2012-09-05', 0.74), ('2012-09-06', 0.46), ('2012-09-07', 1.63), ('2012-09-08', 2.9699999999999998), ('2012-09-09', 2.9499999999999997), ('2012-09-10', 0.6499999999999999), ('2012-09-11', 0.54), ('2012-09-12', 0.37), ('2012-09-13', 0.16), ('2012-09-14', 0.89), ('2012-09-15', 0.52), ('2012-09-16', 0.76), ('2012-09-17', 0.35), ('2012-09-18', 0.61), ('2012-09-19', 1.48), ('2012-09-20', 1.71), ('2012-09-21', 1.38), ('2012-09-22', 0.2), ('2012-09-23', 1.26), ('2012-09-24', 1.96), ('2012-09-25', 0.65), ('2012-09-26', 0.33999999999999997), ('2012-09-27', 0.19), ('2012-09-28', 0.5700000000000001), ('2012-09-29', 0.11), ('2012-09-30', 0.06999999999999999), ('2012-10-01', 0.13999999999999999), ('2012-10-02', 0.12), ('2012-10-03', 0.0), ('2012-10-04', 0.0), ('2012-10-05', 0.0), ('2012-10-06', 0.03), ('2012-10-07', 0.01), ('2012-10-08', 0.2), ('2012-10-09', 0.01), ('2012-10-10', 0.0), ('2012-10-11', 0.78), ('2012-10-12', 0.01), ('2012-10-13', 0.0), ('2012-10-14', 0.13), ('2012-10-15', 0.62), ('2012-10-16', 0.22), ('2012-10-17', 0.37), ('2012-10-18', 0.25), ('2012-10-19', 0.2), ('2012-10-20', 0.0), ('2012-10-21', 0.12), ('2012-10-22', 0.0), ('2012-10-23', 0.1), ('2012-10-24', 0.13999999999999999), ('2012-10-25', 1.98), ('2012-10-26', 0.02), ('2012-10-27', 0.01), ('2012-10-28', 0.6699999999999999), ('2012-10-29', 0.78), ('2012-10-30', 0.4), ('2012-10-31', 0.33), ('2012-11-01', 0.04), ('2012-11-02', 0.0), ('2012-11-03', 0.0), ('2012-11-04', 0.0), ('2012-11-05', 0.02), ('2012-11-06', 0.88), ('2012-11-07', 0.5599999999999999), ('2012-11-08', 0.55), ('2012-11-09', 0.42000000000000004), ('2012-11-10', 0.24), ('2012-11-11', 0.02), ('2012-11-12', 0.28), ('2012-11-13', 0.71), ('2012-11-14', 0.54), ('2012-11-15', 1.4100000000000001), ('2012-11-16', 1.6), ('2012-11-17', 0.54), ('2012-11-18', 0.49), ('2012-11-19', 0.31), ('2012-11-20', 0.38), ('2012-11-21', 0.12), ('2012-11-22', 1.08), ('2012-11-23', 0.09000000000000001), ('2012-11-24', 0.35), ('2012-11-25', 0.01), ('2012-11-26', 0.81), ('2012-11-27', 0.04), ('2012-11-28', 0.01), ('2012-11-29', 0.0), ('2012-11-30', 0.01), ('2012-12-01', 0.0), ('2012-12-02', 0.01), ('2012-12-03', 0.0), ('2012-12-04', 0.48000000000000004), ('2012-12-05', 1.6400000000000001), ('2012-12-06', 0.03), ('2012-12-07', 0.0), ('2012-12-08', 0.01), ('2012-12-09', 0.04), ('2012-12-10', 0.22999999999999998), ('2012-12-11', 0.0), ('2012-12-12', 0.4), ('2012-12-13', 1.23), ('2012-12-14', 1.67), ('2012-12-15', 0.8799999999999999), ('2012-12-16', 0.6599999999999999), ('2012-12-17', 0.81), ('2012-12-18', 3.49), ('2012-12-19', 1.1600000000000001), ('2012-12-20', 2.42), ('2012-12-21', 0.8), ('2012-12-22', 0.21), ('2012-12-23', 0.12000000000000001), ('2012-12-24', 0.0), ('2012-12-25', 0.14), ('2012-12-26', 0.28), ('2012-12-27', 0.02), ('2012-12-28', 0.0), ('2012-12-29', 0.01), ('2012-12-30', 0.69), ('2012-12-31', 0.67), ('2013-01-01', 1.1600000000000001), ('2013-01-02', 2.66), ('2013-01-03', 7.97), ('2013-01-04', 3.41), ('2013-01-05', 2.0700000000000003), ('2013-01-06', 1.35), ('2013-01-07', 0.73), ('2013-01-08', 0.81), ('2013-01-09', 4.46), ('2013-01-10', 0.43000000000000005), ('2013-01-11', 0.12), ('2013-01-12', 0.4), ('2013-01-13', 1.1400000000000001), ('2013-01-14', 0.05), ('2013-01-15', 5.78), ('2013-01-16', 0.02), ('2013-01-17', 0.16), ('2013-01-18', 0.01), ('2013-01-19', 0.09), ('2013-01-20', 0.0), ('2013-01-21', 0.0), ('2013-01-22', 0.0), ('2013-01-23', 1.26), ('2013-01-24', 3.98), ('2013-01-25', 3.2700000000000005), ('2013-01-26', 0.19), ('2013-01-27', 0.33), ('2013-01-28', 12.46), ('2013-01-29', 3.26), ('2013-01-30', 0.22), ('2013-01-31', 0.07), ('2013-02-01', 0.09), ('2013-02-02', 0.0), ('2013-02-03', 0.0), ('2013-02-04', 0.01), ('2013-02-05', 0.25), ('2013-02-06', 1.03), ('2013-02-07', 1.8), ('2013-02-08', 1.3199999999999998), ('2013-02-09', 0.06999999999999999), ('2013-02-10', 0.02), ('2013-02-11', 0.68), ('2013-02-12', 1.7999999999999998), ('2013-02-13', 0.09000000000000001), ('2013-02-14', 0.01), ('2013-02-15', 0.09), ('2013-02-16', 0.36), ('2013-02-17', 0.0), ('2013-02-18', 0.0), ('2013-02-19', 1.01), ('2013-02-20', 1.5500000000000003), ('2013-02-21', 1.35), ('2013-02-22', 8.270000000000001), ('2013-02-23', 2.92), ('2013-02-24', 1.49), ('2013-02-25', 0.21000000000000002), ('2013-02-26', 0.82), ('2013-02-27', 0.21999999999999997), ('2013-02-28', 0.13), ('2013-03-01', 0.03), ('2013-03-02', 0.07), ('2013-03-03', 0.0), ('2013-03-04', 0.0), ('2013-03-05', 0.0), ('2013-03-06', 0.06), ('2013-03-07', 0.26), ('2013-03-08', 0.29000000000000004), ('2013-03-09', 0.3), ('2013-03-10', 10.73), ('2013-03-11', 7.569999999999999), ('2013-03-12', 0.06999999999999999), ('2013-03-13', 0.13), ('2013-03-14', 0.16), ('2013-03-15', 0.0), ('2013-03-16', 0.01), ('2013-03-17', 0.0), ('2013-03-18', 0.58), ('2013-03-19', 0.19), ('2013-03-20', 0.0), ('2013-03-21', 0.0), ('2013-03-22', 0.09), ('2013-03-23', 1.1), ('2013-03-24', 1.72), ('2013-03-25', 3.1000000000000005), ('2013-03-26', 0.1), ('2013-03-27', 0.21000000000000002), ('2013-03-28', 2.2600000000000002), ('2013-03-29', 2.1900000000000004), ('2013-03-30', 0.8300000000000001), ('2013-03-31', 0.33), ('2013-04-01', 0.0), ('2013-04-02', 0.03), ('2013-04-03', 0.07), ('2013-04-04', 0.5800000000000001), ('2013-04-05', 0.0), ('2013-04-06', 0.2), ('2013-04-07', 0.04), ('2013-04-08', 0.0), ('2013-04-09', 0.3), ('2013-04-10', 0.72), ('2013-04-11', 0.13), ('2013-04-12', 0.26), ('2013-04-13', 0.12), ('2013-04-14', 0.11), ('2013-04-15', 4.359999999999999), ('2013-04-16', 0.65), ('2013-04-17', 0.0), ('2013-04-18', 0.09000000000000001), ('2013-04-19', 0.97), ('2013-04-20', 2.16), ('2013-04-21', 0.02), ('2013-04-22', 2.18), ('2013-04-23', 1.1900000000000002), ('2013-04-24', 7.5), ('2013-04-25', 2.7199999999999998), ('2013-04-26', 0.02), ('2013-04-27', 0.0), ('2013-04-28', 0.0), ('2013-04-29', 0.0), ('2013-04-30', 0.0), ('2013-05-01', 0.6900000000000001), ('2013-05-02', 0.63), ('2013-05-03', 0.13), ('2013-05-04', 0.16), ('2013-05-05', 3.7199999999999993), ('2013-05-06', 2.76), ('2013-05-07', 0.06), ('2013-05-08', 0.0), ('2013-05-09', 0.0), ('2013-05-10', 0.4), ('2013-05-11', 2.0300000000000002), ('2013-05-12', 2.3800000000000003), ('2013-05-13', 8.719999999999999), ('2013-05-14', 1.33), ('2013-05-15', 0.03), ('2013-05-16', 0.77), ('2013-05-17', 0.19), ('2013-05-18', 0.4), ('2013-05-19', 0.6399999999999999), ('2013-05-20', 2.7900000000000005), ('2013-05-21', 0.02), ('2013-05-22', 0.02), ('2013-05-23', 0.03), ('2013-05-24', 0.0), ('2013-05-25', 0.6900000000000001), ('2013-05-26', 1.25), ('2013-05-27', 0.13), ('2013-05-28', 2.06), ('2013-05-29', 5.12), ('2013-05-30', 6.3), ('2013-05-31', 0.32), ('2013-06-01', 0.83), ('2013-06-02', 1.08), ('2013-06-03', 0.61), ('2013-06-04', 0.03), ('2013-06-05', 0.02), ('2013-06-06', 0.17), ('2013-06-07', 0.15000000000000002), ('2013-06-08', 0.08), ('2013-06-09', 0.03), ('2013-06-10', 0.05), ('2013-06-11', 0.07), ('2013-06-12', 0.32), ('2013-06-13', 0.6699999999999999), ('2013-06-14', 3.55), ('2013-06-15', 0.22), ('2013-06-16', 0.32999999999999996), ('2013-06-17', 0.53), ('2013-06-18', 0.63), ('2013-06-19', 0.14), ('2013-06-20', 0.36), ('2013-06-21', 2.85), ('2013-06-22', 3.2800000000000002), ('2013-06-23', 0.8300000000000001), ('2013-06-24', 1.22), ('2013-06-25', 2.67), ('2013-06-26', 5.279999999999999), ('2013-06-27', 0.26), ('2013-06-28', 0.4), ('2013-06-29', 1.3399999999999999), ('2013-06-30', 1.56), ('2013-07-01', 0.03), ('2013-07-02', 0.8799999999999999), ('2013-07-03', 1.25), ('2013-07-04', 0.35), ('2013-07-05', 0.0), ('2013-07-06', 0.01), ('2013-07-07', 0.0), ('2013-07-08', 0.07), ('2013-07-09', 0.24), ('2013-07-10', 0.67), ('2013-07-11', 0.45), ('2013-07-12', 0.77), ('2013-07-13', 0.23), ('2013-07-14', 0.0), ('2013-07-15', 0.2), ('2013-07-16', 0.28), ('2013-07-17', 0.02), ('2013-07-18', 0.03), ('2013-07-19', 0.2), ('2013-07-20', 0.44), ('2013-07-21', 0.32), ('2013-07-22', 0.5), ('2013-07-23', 2.6399999999999997), ('2013-07-24', 0.03), ('2013-07-25', 0.01), ('2013-07-26', 0.01), ('2013-07-27', 0.07), ('2013-07-28', 0.5900000000000001), ('2013-07-29', 0.67), ('2013-07-30', 1.8199999999999998), ('2013-07-31', 1.1600000000000001), ('2013-08-01', 0.83), ('2013-08-02', 0.19), ('2013-08-03', 0.21), ('2013-08-04', 0.33999999999999997), ('2013-08-05', 0.49), ('2013-08-06', 0.34), ('2013-08-07', 0.0), ('2013-08-08', 0.0), ('2013-08-09', 0.31000000000000005), ('2013-08-10', 11.780000000000001), ('2013-08-11', 3.7800000000000002), ('2013-08-12', 0.49), ('2013-08-13', 0.03), ('2013-08-14', 0.56), ('2013-08-15', 0.0), ('2013-08-16', 0.18000000000000002), ('2013-08-17', 0.0), ('2013-08-18', 0.0), ('2013-08-19', 0.03), ('2013-08-20', 0.02), ('2013-08-21', 2.44), ('2013-08-22', 0.01), ('2013-08-23', 0.01), ('2013-08-24', 0.24000000000000002), ('2013-08-25', 0.0), ('2013-08-26', 0.0), ('2013-08-27', 0.0), ('2013-08-28', 0.0), ('2013-08-29', 0.8300000000000001), ('2013-08-30', 0.16), ('2013-08-31', 0.29000000000000004), ('2013-09-01', 0.99), ('2013-09-02', 0.08), ('2013-09-03', 0.18), ('2013-09-04', 0.27), ('2013-09-05', 0.02), ('2013-09-06', 0.02), ('2013-09-07', 3.13), ('2013-09-08', 0.48), ('2013-09-09', 0.07), ('2013-09-10', 0.01), ('2013-09-11', 0.5700000000000001), ('2013-09-12', 0.1), ('2013-09-13', 4.9799999999999995), ('2013-09-14', 2.05), ('2013-09-15', 0.97), ('2013-09-16', 0.03), ('2013-09-17', 0.9400000000000001), ('2013-09-18', 1.28), ('2013-09-19', 0.23), ('2013-09-20', 0.01), ('2013-09-21', 0.060000000000000005), ('2013-09-22', 0.53), ('2013-09-23', 0.39), ('2013-09-24', 0.43000000000000005), ('2013-09-25', 1.42), ('2013-09-26', 1.43), ('2013-09-27', 0.1), ('2013-09-28', 0.11), ('2013-09-29', 0.79), ('2013-09-30', 0.95), ('2013-10-01', 1.2800000000000002), ('2013-10-02', 0.25), ('2013-10-03', 0.08), ('2013-10-04', 0.11000000000000001), ('2013-10-05', 0.76), ('2013-10-06', 0.73), ('2013-10-07', 0.6599999999999999), ('2013-10-08', 0.23), ('2013-10-09', 1.04), ('2013-10-10', 0.8600000000000001), ('2013-10-11', 2.7500000000000004), ('2013-10-12', 2.4699999999999998), ('2013-10-13', 0.02), ('2013-10-14', 3.61), ('2013-10-15', 2.15), ('2013-10-16', 1.4200000000000002), ('2013-10-17', 0.2), ('2013-10-18', 0.09), ('2013-10-19', 0.07), ('2013-10-20', 0.060000000000000005), ('2013-10-21', 0.060000000000000005), ('2013-10-22', 0.01), ('2013-10-23', 0.05), ('2013-10-24', 0.25), ('2013-10-25', 0.37), ('2013-10-26', 0.32), ('2013-10-27', 0.01), ('2013-10-28', 0.8899999999999999), ('2013-10-29', 0.09), ('2013-10-30', 0.12), ('2013-10-31', 0.9400000000000001), ('2013-11-01', 0.12), ('2013-11-02', 0.8300000000000001), ('2013-11-03', 0.02), ('2013-11-04', 0.25), ('2013-11-05', 0.25), ('2013-11-06', 1.8), ('2013-11-07', 1.2400000000000002), ('2013-11-08', 3.4200000000000004), ('2013-11-09', 4.67), ('2013-11-10', 27.07), ('2013-11-11', 2.83), ('2013-11-12', 0.76), ('2013-11-13', 0.13999999999999999), ('2013-11-14', 0.08), ('2013-11-15', 4.5600000000000005), ('2013-11-16', 0.04), ('2013-11-17', 0.01), ('2013-11-18', 0.17), ('2013-11-19', 0.01), ('2013-11-20', 0.0), ('2013-11-21', 0.0), ('2013-11-22', 0.01), ('2013-11-23', 0.3), ('2013-11-24', 0.02), ('2013-11-25', 0.0), ('2013-11-26', 0.0), ('2013-11-27', 0.0), ('2013-11-28', 0.12000000000000001), ('2013-11-29', 0.97), ('2013-11-30', 3.4799999999999995), ('2013-12-01', 0.81), ('2013-12-02', 9.79), ('2013-12-03', 1.8199999999999998), ('2013-12-04', 0.02), ('2013-12-05', 0.01), ('2013-12-06', 0.07), ('2013-12-07', 0.05), ('2013-12-08', 0.0), ('2013-12-09', 0.0), ('2013-12-10', 0.51), ('2013-12-11', 0.67), ('2013-12-12', 0.16), ('2013-12-13', 0.55), ('2013-12-14', 0.62), ('2013-12-15', 0.23), ('2013-12-16', 8.79), ('2013-12-17', 0.08), ('2013-12-18', 0.09), ('2013-12-19', 4.85), ('2013-12-20', 2.9299999999999997), ('2013-12-21', 1.3099999999999998), ('2013-12-22', 0.06), ('2013-12-23', 0.24), ('2013-12-24', 0.22), ('2013-12-25', 0.48), ('2013-12-26', 0.21000000000000002), ('2013-12-27', 0.04), ('2013-12-28', 0.13), ('2013-12-29', 0.6599999999999999), ('2013-12-30', 0.03), ('2013-12-31', 0.57), ('2014-01-01', 0.01), ('2014-01-02', 0.49999999999999994), ('2014-01-03', 9.33), ('2014-01-04', 0.01), ('2014-01-05', 0.04), ('2014-01-06', 0.6000000000000001), ('2014-01-07', 0.01), ('2014-01-08', 0.0), ('2014-01-09', 0.49), ('2014-01-10', 0.18), ('2014-01-11', 1.62), ('2014-01-12', 0.5800000000000001), ('2014-01-13', 0.42), ('2014-01-14', 5.63), ('2014-01-15', 0.5), ('2014-01-16', 0.66), ('2014-01-17', 0.21), ('2014-01-18', 0.21000000000000002), ('2014-01-19', 0.01), ('2014-01-20', 0.38), ('2014-01-21', 0.02), ('2014-01-22', 3.2800000000000002), ('2014-01-23', 0.0), ('2014-01-24', 0.0), ('2014-01-25', 0.0), ('2014-01-26', 0.32), ('2014-01-27', 1.2899999999999998), ('2014-01-28', 2.13), ('2014-01-29', 4.59), ('2014-01-30', 2.37), ('2014-01-31', 0.02), ('2014-02-01', 2.7), ('2014-02-02', 2.19), ('2014-02-03', 0.03), ('2014-02-04', 5.41), ('2014-02-05', 2.7399999999999998), ('2014-02-06', 0.69), ('2014-02-07', 0.5700000000000001), ('2014-02-08', 3.68), ('2014-02-09', 2.16), ('2014-02-10', 0.09999999999999999), ('2014-02-11', 0.0), ('2014-02-12', 0.060000000000000005), ('2014-02-13', 0.0), ('2014-02-14', 0.25), ('2014-02-15', 4.3100000000000005), ('2014-02-16', 1.6800000000000002), ('2014-02-17', 1.9100000000000001), ('2014-02-18', 0.76), ('2014-02-19', 0.9900000000000001), ('2014-02-20', 0.02), ('2014-02-21', 0.46), ('2014-02-22', 0.68), ('2014-02-23', 0.14), ('2014-02-24', 0.060000000000000005), ('2014-02-25', 0.08), ('2014-02-26', 0.23000000000000004), ('2014-02-27', 0.32), ('2014-02-28', 0.51), ('2014-03-01', 2.15), ('2014-03-02', 2.45), ('2014-03-03', 1.15), ('2014-03-04', 0.03), ('2014-03-05', 0.0), ('2014-03-06', 0.0), ('2014-03-07', 1.3399999999999999), ('2014-03-08', 5.010000000000001), ('2014-03-09', 6.32), ('2014-03-10', 4.199999999999999), ('2014-03-11', 1.33), ('2014-03-12', 0.01), ('2014-03-13', 0.02), ('2014-03-14', 0.16000000000000003), ('2014-03-15', 1.2999999999999998), ('2014-03-16', 0.72), ('2014-03-17', 0.16), ('2014-03-18', 0.06), ('2014-03-19', 0.01), ('2014-03-20', 0.0), ('2014-03-21', 0.02), ('2014-03-22', 0.06), ('2014-03-23', 0.0), ('2014-03-24', 0.0), ('2014-03-25', 0.13), ('2014-03-26', 3.23), ('2014-03-27', 1.2400000000000002), ('2014-03-28', 5.92), ('2014-03-29', 4.67), ('2014-03-30', 2.68), ('2014-03-31', 0.26), ('2014-04-01', 1.1400000000000001), ('2014-04-02', 1.82), ('2014-04-03', 0.9199999999999999), ('2014-04-04', 0.03), ('2014-04-05', 0.03), ('2014-04-06', 0.32000000000000006), ('2014-04-07', 2.34), ('2014-04-08', 0.9500000000000001), ('2014-04-09', 0.0), ('2014-04-10', 0.1), ('2014-04-11', 0.04), ('2014-04-12', 2.26), ('2014-04-13', 0.7000000000000001), ('2014-04-14', 0.84), ('2014-04-15', 0.22999999999999998), ('2014-04-16', 1.23), ('2014-04-17', 0.26), ('2014-04-18', 1.02), ('2014-04-19', 0.69), ('2014-04-20', 0.36), ('2014-04-21', 2.63), ('2014-04-22', 2.29), ('2014-04-23', 0.07), ('2014-04-24', 0.45), ('2014-04-25', 1.53), ('2014-04-26', 0.16), ('2014-04-27', 3.7), ('2014-04-28', 2.06), ('2014-04-29', 0.12), ('2014-04-30', 0.65), ('2014-05-01', 0.6), ('2014-05-02', 1.2599999999999998), ('2014-05-03', 2.11), ('2014-05-04', 0.04), ('2014-05-05', 0.22), ('2014-05-06', 1.82), ('2014-05-07', 0.37), ('2014-05-08', 0.4), ('2014-05-09', 0.62), ('2014-05-10', 0.19), ('2014-05-11', 0.27), ('2014-05-12', 5.32), ('2014-05-13', 0.41000000000000003), ('2014-05-14', 0.01), ('2014-05-15', 0.18), ('2014-05-16', 1.8699999999999999), ('2014-05-17', 0.24000000000000002), ('2014-05-18', 0.30000000000000004), ('2014-05-19', 0.64), ('2014-05-20', 0.64), ('2014-05-21', 0.5900000000000001), ('2014-05-22', 0.14), ('2014-05-23', 0.52), ('2014-05-24', 0.5000000000000001), ('2014-05-25', 3.99), ('2014-05-26', 3.0), ('2014-05-27', 2.3), ('2014-05-28', 0.79), ('2014-05-29', 0.25), ('2014-05-30', 0.6699999999999999), ('2014-05-31', 0.37), ('2014-06-01', 0.33), ('2014-06-02', 1.52), ('2014-06-03', 0.2), ('2014-06-04', 0.09999999999999999), ('2014-06-05', 0.04), ('2014-06-06', 1.33), ('2014-06-07', 0.43000000000000005), ('2014-06-08', 0.49), ('2014-06-09', 1.06), ('2014-06-10', 0.59), ('2014-06-11', 1.3900000000000001), ('2014-06-12', 0.04), ('2014-06-13', 0.01), ('2014-06-14', 0.02), ('2014-06-15', 0.07), ('2014-06-16', 0.53), ('2014-06-17', 2.58), ('2014-06-18', 0.8), ('2014-06-19', 0.4), ('2014-06-20', 2.02), ('2014-06-21', 0.49), ('2014-06-22', 0.24000000000000002), ('2014-06-23', 1.67), ('2014-06-24', 0.34), ('2014-06-25', 1.51), ('2014-06-26', 1.04), ('2014-06-27', 1.1800000000000002), ('2014-06-28', 2.14), ('2014-06-29', 2.02), ('2014-06-30', 0.17), ('2014-07-01', 0.01), ('2014-07-02', 0.54), ('2014-07-03', 1.6800000000000002), ('2014-07-04', 0.21000000000000002), ('2014-07-05', 0.22), ('2014-07-06', 2.19), ('2014-07-07', 0.9299999999999999), ('2014-07-08', 0.62), ('2014-07-09', 0.92), ('2014-07-10', 0.54), ('2014-07-11', 0.26), ('2014-07-12', 0.18), ('2014-07-13', 1.71), ('2014-07-14', 1.68), ('2014-07-15', 1.41), ('2014-07-16', 1.24), ('2014-07-17', 0.13), ('2014-07-18', 1.4500000000000002), ('2014-07-19', 0.01), ('2014-07-20', 37.41), ('2014-07-21', 1.5899999999999999), ('2014-07-22', 1.1), ('2014-07-23', 1.58), ('2014-07-24', 0.17), ('2014-07-25', 0.07), ('2014-07-26', 0.41000000000000003), ('2014-07-27', 2.52), ('2014-07-28', 0.0), ('2014-07-29', 0.0), ('2014-07-30', 0.0), ('2014-07-31', 0.02), ('2014-08-01', 0.06), ('2014-08-02', 1.45), ('2014-08-03', 0.1), ('2014-08-04', 0.02), ('2014-08-05', 0.0), ('2014-08-06', 0.71), ('2014-08-07', 0.53), ('2014-08-08', 2.1100000000000003), ('2014-08-09', 3.5599999999999996), ('2014-08-10', 0.51), ('2014-08-11', 0.0), ('2014-08-12', 0.01), ('2014-08-13', 1.04), ('2014-08-14', 0.17), ('2014-08-15', 0.14), ('2014-08-16', 0.33999999999999997), ('2014-08-17', 0.33999999999999997), ('2014-08-18', 0.27), ('2014-08-19', 0.03), ('2014-08-20', 0.5), ('2014-08-21', 0.8500000000000001), ('2014-08-22', 1.3), ('2014-08-23', 0.12), ('2014-08-24', 0.81), ('2014-08-25', 0.87), ('2014-08-26', 2.3600000000000003), ('2014-08-27', 1.19), ('2014-08-28', 0.15000000000000002), ('2014-08-29', 0.16), ('2014-08-30', 0.6), ('2014-08-31', 0.01), ('2014-09-01', 0.03), ('2014-09-02', 4.579999999999999), ('2014-09-03', 0.07), ('2014-09-04', 0.32999999999999996), ('2014-09-05', 1.0699999999999998), ('2014-09-06', 1.76), ('2014-09-07', 0.44), ('2014-09-08', 0.0), ('2014-09-09', 0.03), ('2014-09-10', 0.05), ('2014-09-11', 0.02), ('2014-09-12', 0.4), ('2014-09-13', 0.0), ('2014-09-14', 0.0), ('2014-09-15', 1.4), ('2014-09-16', 0.01), ('2014-09-17', 0.77), ('2014-09-18', 0.6500000000000001), ('2014-09-19', 1.01), ('2014-09-20', 0.44000000000000006), ('2014-09-21', 1.23), ('2014-09-22', 0.15), ('2014-09-23', 0.11000000000000001), ('2014-09-24', 0.0), ('2014-09-25', 1.3399999999999999), ('2014-09-26', 2.7199999999999998), ('2014-09-27', 1.62), ('2014-09-28', 0.8200000000000001), ('2014-09-29', 1.72), ('2014-09-30', 0.9500000000000001), ('2014-10-01', 8.17), ('2014-10-02', 0.17), ('2014-10-03', 0.43000000000000005), ('2014-10-04', 1.42), ('2014-10-05', 2.12), ('2014-10-06', 1.7599999999999998), ('2014-10-07', 1.62), ('2014-10-08', 0.32), ('2014-10-09', 0.06999999999999999), ('2014-10-10', 0.32), ('2014-10-11', 0.38), ('2014-10-12', 0.04), ('2014-10-13', 0.24), ('2014-10-14', 0.54), ('2014-10-15', 0.78), ('2014-10-16', 0.08), ('2014-10-17', 0.4), ('2014-10-18', 3.0300000000000002), ('2014-10-19', 17.580000000000002), ('2014-10-20', 13.08), ('2014-10-21', 0.04), ('2014-10-22', 0.92), ('2014-10-23', 4.16), ('2014-10-24', 1.5300000000000002), ('2014-10-25', 0.78), ('2014-10-26', 0.47), ('2014-10-27', 0.02), ('2014-10-28', 0.74), ('2014-10-29', 1.29), ('2014-10-30', 1.3), ('2014-10-31', 0.37), ('2014-11-01', 1.35), ('2014-11-02', 1.57), ('2014-11-03', 1.54), ('2014-11-04', 0.2), ('2014-11-05', 1.45), ('2014-11-06', 1.04), ('2014-11-07', 0.35000000000000003), ('2014-11-08', 3.04), ('2014-11-09', 0.04), ('2014-11-10', 0.0), ('2014-11-11', 0.0), ('2014-11-12', 1.38), ('2014-11-13', 0.0), ('2014-11-14', 0.09), ('2014-11-15', 4.98), ('2014-11-16', 1.64), ('2014-11-17', 0.01), ('2014-11-18', 0.0), ('2014-11-19', 0.01), ('2014-11-20', 0.73), ('2014-11-21', 0.05), ('2014-11-22', 0.45), ('2014-11-23', 0.0), ('2014-11-24', 0.61), ('2014-11-25', 0.28), ('2014-11-26', 0.02), ('2014-11-27', 0.0), ('2014-11-28', 0.03), ('2014-11-29', 1.3599999999999999), ('2014-11-30', 1.96), ('2014-12-01', 0.28), ('2014-12-02', 0.09000000000000001), ('2014-12-03', 2.91), ('2014-12-04', 7.18), ('2014-12-05', 0.31), ('2014-12-06', 1.22), ('2014-12-07', 0.01), ('2014-12-08', 0.01), ('2014-12-09', 0.0), ('2014-12-10', 0.0), ('2014-12-11', 1.73), ('2014-12-12', 1.18), ('2014-12-13', 0.15000000000000002), ('2014-12-14', 2.22), ('2014-12-15', 0.7200000000000001), ('2014-12-16', 0.75), ('2014-12-17', 1.15), ('2014-12-18', 0.43999999999999995), ('2014-12-19', 0.61), ('2014-12-20', 0.0), ('2014-12-21', 0.0), ('2014-12-22', 0.64), ('2014-12-23', 9.43), ('2014-12-24', 3.81), ('2014-12-25', 1.03), ('2014-12-26', 0.0), ('2014-12-27', 0.0), ('2014-12-28', 0.0), ('2014-12-29', 0.0), ('2014-12-30', 0.0), ('2014-12-31', 2.76), ('2015-01-01', 0.01), ('2015-01-02', 0.07), ('2015-01-03', 7.38), ('2015-01-04', 0.18), ('2015-01-05', 0.0), ('2015-01-06', 0.28), ('2015-01-07', 0.0), ('2015-01-08', 0.0), ('2015-01-09', 0.0), ('2015-01-10', 0.09), ('2015-01-11', 0.0), ('2015-01-12', 0.04), ('2015-01-13', 0.01), ('2015-01-14', 0.0), ('2015-01-15', 0.0), ('2015-01-16', 0.05), ('2015-01-17', 0.05), ('2015-01-18', 0.0), ('2015-01-19', 0.0), ('2015-01-20', 0.01), ('2015-01-21', 0.0), ('2015-01-22', 0.0), ('2015-01-23', 0.0), ('2015-01-24', 1.5499999999999998), ('2015-01-25', 2.19), ('2015-01-26', 1.98), ('2015-01-27', 0.01), ('2015-01-28', 0.25), ('2015-01-29', 0.01), ('2015-01-30', 0.2), ('2015-01-31', 0.0), ('2015-02-01', 0.06), ('2015-02-02', 0.0), ('2015-02-03', 0.11), ('2015-02-04', 2.5000000000000004), ('2015-02-05', 0.29000000000000004), ('2015-02-06', 0.0), ('2015-02-07', 0.0), ('2015-02-08', 0.0), ('2015-02-09', 0.0), ('2015-02-10', 0.7899999999999999), ('2015-02-11', 0.0), ('2015-02-12', 0.0), ('2015-02-13', 0.0), ('2015-02-14', 1.54), ('2015-02-15', 3.67), ('2015-02-16', 0.02), ('2015-02-17', 0.01), ('2015-02-18', 0.01), ('2015-02-19', 0.01), ('2015-02-20', 0.32000000000000006), ('2015-02-21', 2.9799999999999995), ('2015-02-22', 0.0), ('2015-02-23', 0.03), ('2015-02-24', 0.03), ('2015-02-25', 0.11), ('2015-02-26', 0.87), ('2015-02-27', 0.16000000000000003), ('2015-02-28', 1.6400000000000001), ('2015-03-01', 0.5900000000000001), ('2015-03-02', 0.6000000000000001), ('2015-03-03', 0.23), ('2015-03-04', 0.39), ('2015-03-05', 5.07), ('2015-03-06', 1.74), ('2015-03-07', 0.04), ('2015-03-08', 0.01), ('2015-03-09', 0.04), ('2015-03-10', 0.23), ('2015-03-11', 0.0), ('2015-03-12', 0.03), ('2015-03-13', 0.22), ('2015-03-14', 0.0), ('2015-03-15', 0.0), ('2015-03-16', 0.03), ('2015-03-17', 0.0), ('2015-03-18', 0.0), ('2015-03-19', 0.0), ('2015-03-20', 0.5), ('2015-03-21', 0.4), ('2015-03-22', 0.23000000000000004), ('2015-03-23', 0.1), ('2015-03-24', 0.13), ('2015-03-25', 0.12000000000000001), ('2015-03-26', 0.9600000000000001), ('2015-03-27', 0.07), ('2015-03-28', 0.0), ('2015-03-29', 5.24), ('2015-03-30', 1.3599999999999999), ('2015-03-31', 3.2399999999999998), ('2015-04-01', 1.6400000000000001), ('2015-04-02', 0.48), ('2015-04-03', 0.0), ('2015-04-04', 0.0), ('2015-04-05', 0.41000000000000003), ('2015-04-06', 0.06), ('2015-04-07', 0.0), ('2015-04-08', 0.92), ('2015-04-09', 0.25), ('2015-04-10', 0.0), ('2015-04-11', 0.09), ('2015-04-12', 1.01), ('2015-04-13', 0.44000000000000006), ('2015-04-14', 1.1099999999999999), ('2015-04-15', 1.1), ('2015-04-16', 0.25), ('2015-04-17', 1.5), ('2015-04-18', 0.08), ('2015-04-19', 0.13), ('2015-04-20', 0.0), ('2015-04-21', 0.07), ('2015-04-22', 1.93), ('2015-04-23', 0.55), ('2015-04-24', 0.9500000000000001), ('2015-04-25', 0.11000000000000001), ('2015-04-26', 0.08), ('2015-04-27', 5.75), ('2015-04-28', 3.9399999999999995), ('2015-04-29', 0.73), ('2015-04-30', 0.18000000000000002), ('2015-05-01', 2.25), ('2015-05-02', 0.0), ('2015-05-03', 0.0), ('2015-05-04', 0.22), ('2015-05-05', 1.34), ('2015-05-06', 0.05), ('2015-05-07', 0.13999999999999999), ('2015-05-08', 2.51), ('2015-05-09', 1.28), ('2015-05-10', 1.32), ('2015-05-11', 0.34), ('2015-05-12', 0.09), ('2015-05-13', 0.02), ('2015-05-14', 1.12), ('2015-05-15', 0.85), ('2015-05-16', 0.36), ('2015-05-17', 0.13), ('2015-05-18', 0.66), ('2015-05-19', 0.02), ('2015-05-20', 0.58), ('2015-05-21', 0.9299999999999999), ('2015-05-22', 0.0), ('2015-05-23', 4.67), ('2015-05-24', 0.0), ('2015-05-25', 0.01), ('2015-05-26', 0.25), ('2015-05-27', 0.64), ('2015-05-28', 3.36), ('2015-05-29', 0.05), ('2015-05-30', 0.17000000000000004), ('2015-05-31', 2.05), ('2015-06-01', 3.12), ('2015-06-02', 0.29000000000000004), ('2015-06-03', 0.01), ('2015-06-04', 2.92), ('2015-06-05', 0.22999999999999998), ('2015-06-06', 0.0), ('2015-06-07', 0.08), ('2015-06-08', 0.46), ('2015-06-09', 0.66), ('2015-06-10', 0.18000000000000002), ('2015-06-11', 0.13), ('2015-06-12', 0.11), ('2015-06-13', 0.01), ('2015-06-14', 0.59), ('2015-06-15', 0.7000000000000001), ('2015-06-16', 1.29), ('2015-06-17', 1.1300000000000001), ('2015-06-18', 1.35), ('2015-06-19', 0.9299999999999999), ('2015-06-20', 0.4), ('2015-06-21', 0.16), ('2015-06-22', 0.29000000000000004), ('2015-06-23', 0.51), ('2015-06-24', 1.2200000000000002), ('2015-06-25', 2.1500000000000004), ('2015-06-26', 0.64), ('2015-06-27', 0.53), ('2015-06-28', 0.18), ('2015-06-29', 2.0), ('2015-06-30', 1.26), ('2015-07-01', 0.01), ('2015-07-02', 0.0), ('2015-07-03', 0.28), ('2015-07-04', 0.0), ('2015-07-05', 0.0), ('2015-07-06', 0.05), ('2015-07-07', 0.14), ('2015-07-08', 1.87), ('2015-07-09', 0.32000000000000006), ('2015-07-10', 3.31), ('2015-07-11', 2.71), ('2015-07-12', 1.66), ('2015-07-13', 2.9699999999999998), ('2015-07-14', 1.0899999999999999), ('2015-07-15', 1.03), ('2015-07-16', 0.9199999999999999), ('2015-07-17', 2.5300000000000002), ('2015-07-18', 0.79), ('2015-07-19', 0.98), ('2015-07-20', 0.04), ('2015-07-21', 0.26), ('2015-07-22', 2.76), ('2015-07-23', 0.09000000000000001), ('2015-07-24', 0.49), ('2015-07-25', 0.4), ('2015-07-26', 0.03), ('2015-07-27', 0.09), ('2015-07-28', 0.56), ('2015-07-29', 0.13999999999999999), ('2015-07-30', 0.06999999999999999), ('2015-07-31', 0.12), ('2015-08-01', 0.77), ('2015-08-02', 0.04), ('2015-08-03', 0.05), ('2015-08-04', 0.01), ('2015-08-05', 0.83), ('2015-08-06', 1.47), ('2015-08-07', 0.6), ('2015-08-08', 0.44000000000000006), ('2015-08-09', 0.6900000000000001), ('2015-08-10', 0.48), ('2015-08-11', 0.29000000000000004), ('2015-08-12', 0.49), ('2015-08-13', 0.76), ('2015-08-14', 1.65), ('2015-08-15', 1.82), ('2015-08-16', 0.32999999999999996), ('2015-08-17', 0.96), ('2015-08-18', 4.12), ('2015-08-19', 0.75), ('2015-08-20', 1.3400000000000003), ('2015-08-21', 1.84), ('2015-08-22', 0.79), ('2015-08-23', 4.33), ('2015-08-24', 16.21), ('2015-08-25', 2.68), ('2015-08-26', 5.949999999999999), ('2015-08-27', 8.59), ('2015-08-28', 0.42), ('2015-08-29', 0.26), ('2015-08-30', 0.11000000000000001), ('2015-08-31', 0.28), ('2015-09-01', 1.0), ('2015-09-02', 0.29000000000000004), ('2015-09-03', 2.49), ('2015-09-04', 4.66), ('2015-09-05', 0.14), ('2015-09-06', 0.73), ('2015-09-07', 2.02), ('2015-09-08', 2.5999999999999996), ('2015-09-09', 0.0), ('2015-09-10', 0.15), ('2015-09-11', 2.82), ('2015-09-12', 11.02), ('2015-09-13', 1.3900000000000001), ('2015-09-14', 4.8), ('2015-09-15', 11.18), ('2015-09-16', 3.25), ('2015-09-17', 0.41000000000000003), ('2015-09-18', 1.12), ('2015-09-19', 0.3), ('2015-09-20', 0.5800000000000001), ('2015-09-21', 2.21), ('2015-09-22', 2.25), ('2015-09-23', 1.47), ('2015-09-24', 1.61), ('2015-09-25', 0.9500000000000001), ('2015-09-26', 2.3), ('2015-09-27', 3.09), ('2015-09-28', 5.6), ('2015-09-29', 1.67), ('2015-09-30', 1.81), ('2015-10-01', 0.51), ('2015-10-02', 0.28), ('2015-10-03', 0.02), ('2015-10-04', 0.4), ('2015-10-05', 3.0199999999999996), ('2015-10-06', 1.3699999999999999), ('2015-10-07', 0.58), ('2015-10-08', 0.17), ('2015-10-09', 2.2299999999999995), ('2015-10-10', 0.11), ('2015-10-11', 1.27), ('2015-10-12', 5.85), ('2015-10-13', 8.020000000000001), ('2015-10-14', 4.03), ('2015-10-15', 4.67), ('2015-10-16', 2.5), ('2015-10-17', 2.56), ('2015-10-18', 0.19), ('2015-10-19', 0.18), ('2015-10-20', 0.97), ('2015-10-21', 0.98), ('2015-10-22', 0.66), ('2015-10-23', 0.35), ('2015-10-24', 0.05), ('2015-10-25', 0.03), ('2015-10-26', 0.19), ('2015-10-27', 2.75), ('2015-10-28', 0.51), ('2015-10-29', 1.8), ('2015-10-30', 0.13), ('2015-10-31', 3.18), ('2015-11-01', 2.7199999999999998), ('2015-11-02', 0.03), ('2015-11-03', 0.0), ('2015-11-04', 0.6799999999999999), ('2015-11-05', 1.72), ('2015-11-06', 1.23), ('2015-11-07', 1.9700000000000002), ('2015-11-08', 1.05), ('2015-11-09', 2.21), ('2015-11-10', 1.0), ('2015-11-11', 0.45), ('2015-11-12', 1.13), ('2015-11-13', 1.2200000000000002), ('2015-11-14', 2.98), ('2015-11-15', 0.17), ('2015-11-16', 0.11), ('2015-11-17', 0.1), ('2015-11-18', 1.6), ('2015-11-19', 0.8), ('2015-11-20', 11.17), ('2015-11-21', 9.17), ('2015-11-22', 5.1), ('2015-11-23', 7.09), ('2015-11-24', 6.090000000000001), ('2015-11-25', 0.49), ('2015-11-26', 6.07), ('2015-11-27', 6.1499999999999995), ('2015-11-28', 0.4), ('2015-11-29', 0.46), ('2015-11-30', 0.13), ('2015-12-01', 0.05), ('2015-12-02', 0.4100000000000001), ('2015-12-03', 1.13), ('2015-12-04', 0.09999999999999999), ('2015-12-05', 0.33), ('2015-12-06', 0.67), ('2015-12-07', 0.06), ('2015-12-08', 0.31), ('2015-12-09', 0.69), ('2015-12-10', 1.4), ('2015-12-11', 0.37), ('2015-12-12', 2.11), ('2015-12-13', 0.04), ('2015-12-14', 0.9), ('2015-12-15', 0.9500000000000001), ('2015-12-16', 0.23), ('2015-12-17', 0.8600000000000001), ('2015-12-18', 1.4300000000000002), ('2015-12-19', 2.23), ('2015-12-20', 0.75), ('2015-12-21', 0.19), ('2015-12-22', 0.18000000000000002), ('2015-12-23', 1.87), ('2015-12-24', 0.46), ('2015-12-25', 2.41), ('2015-12-26', 1.3900000000000001), ('2015-12-27', 4.17), ('2015-12-28', 0.67), ('2015-12-29', 0.29000000000000004), ('2015-12-30', 0.56), ('2015-12-31', 0.25), ('2016-01-01', 0.04), ('2016-01-02', 0.35), ('2016-01-03', 0.0), ('2016-01-04', 0.0), ('2016-01-05', 0.47000000000000003), ('2016-01-06', 2.1799999999999997), ('2016-01-07', 1.9100000000000001), ('2016-01-08', 0.04), ('2016-01-09', 0.05), ('2016-01-10', 0.04), ('2016-01-11', 0.01), ('2016-01-12', 0.37), ('2016-01-13', 0.0), ('2016-01-14', 0.0), ('2016-01-15', 0.16999999999999998), ('2016-01-16', 0.14), ('2016-01-17', 0.02), ('2016-01-18', 0.0), ('2016-01-19', 0.0), ('2016-01-20', 0.09), ('2016-01-21', 1.4100000000000001), ('2016-01-22', 0.01), ('2016-01-23', 0.0), ('2016-01-24', 0.0), ('2016-01-25', 0.56), ('2016-01-26', 1.44), ('2016-01-27', 0.02), ('2016-01-28', 0.0), ('2016-01-29', 0.15), ('2016-01-30', 0.01), ('2016-01-31', 0.1), ('2016-02-01', 0.22), ('2016-02-02', 1.81), ('2016-02-03', 0.74), ('2016-02-04', 0.04), ('2016-02-05', 0.08), ('2016-02-06', 0.0), ('2016-02-07', 0.9), ('2016-02-08', 0.01), ('2016-02-09', 0.0), ('2016-02-10', 0.0), ('2016-02-11', 0.0), ('2016-02-12', 0.29000000000000004), ('2016-02-13', 0.45999999999999996), ('2016-02-14', 0.11), ('2016-02-15', 0.28), ('2016-02-16', 0.18000000000000002), ('2016-02-17', 0.77), ('2016-02-18', 0.06), ('2016-02-19', 1.01), ('2016-02-20', 0.38), ('2016-02-21', 0.18), ('2016-02-22', 0.09), ('2016-02-23', 0.0), ('2016-02-24', 0.0), ('2016-02-25', 0.0), ('2016-02-26', 1.08), ('2016-02-27', 0.08), ('2016-02-28', 0.0), ('2016-02-29', 0.05), ('2016-03-01', 0.43000000000000005), ('2016-03-02', 0.0), ('2016-03-03', 0.0), ('2016-03-04', 0.0), ('2016-03-05', 0.0), ('2016-03-06', 0.0), ('2016-03-07', 0.0), ('2016-03-08', 0.04), ('2016-03-09', 1.39), ('2016-03-10', 0.01), ('2016-03-11', 0.25), ('2016-03-12', 0.0), ('2016-03-13', 0.13), ('2016-03-14', 0.19), ('2016-03-15', 2.8499999999999996), ('2016-03-16', 1.12), ('2016-03-17', 0.03), ('2016-03-18', 0.31), ('2016-03-19', 0.43000000000000005), ('2016-03-20', 0.0), ('2016-03-21', 0.06), ('2016-03-22', 0.1), ('2016-03-23', 3.86), ('2016-03-24', 0.02), ('2016-03-25', 2.46), ('2016-03-26', 1.1600000000000001), ('2016-03-27', 0.1), ('2016-03-28', 0.0), ('2016-03-29', 0.19999999999999998), ('2016-03-30', 0.09000000000000001), ('2016-03-31', 0.01), ('2016-04-01', 0.02), ('2016-04-02', 0.02), ('2016-04-03', 0.0), ('2016-04-04', 0.29), ('2016-04-05', 0.29000000000000004), ('2016-04-06', 1.26), ('2016-04-07', 1.17), ('2016-04-08', 1.57), ('2016-04-09', 1.21), ('2016-04-10', 0.25), ('2016-04-11', 0.56), ('2016-04-12', 0.93), ('2016-04-13', 0.64), ('2016-04-14', 0.9299999999999999), ('2016-04-15', 0.59), ('2016-04-16', 0.4), ('2016-04-17', 1.26), ('2016-04-18', 7.39), ('2016-04-19', 0.21), ('2016-04-20', 0.28), ('2016-04-21', 0.17), ('2016-04-22', 0.30000000000000004), ('2016-04-23', 1.4), ('2016-04-24', 1.66), ('2016-04-25', 0.09), ('2016-04-26', 0.03), ('2016-04-27', 0.31000000000000005), ('2016-04-28', 0.08), ('2016-04-29', 0.25), ('2016-04-30', 0.28), ('2016-05-01', 0.53), ('2016-05-02', 0.8), ('2016-05-03', 0.06), ('2016-05-04', 1.83), ('2016-05-05', 3.67), ('2016-05-06', 0.37), ('2016-05-07', 4.380000000000001), ('2016-05-08', 2.0300000000000002), ('2016-05-09', 0.27), ('2016-05-10', 1.31), ('2016-05-11', 0.18), ('2016-05-12', 0.07), ('2016-05-13', 0.45), ('2016-05-14', 0.27), ('2016-05-15', 0.48000000000000004), ('2016-05-16', 0.08), ('2016-05-17', 0.08), ('2016-05-18', 1.0699999999999998), ('2016-05-19', 0.67), ('2016-05-20', 1.02), ('2016-05-21', 0.31), ('2016-05-22', 0.08), ('2016-05-23', 0.11), ('2016-05-24', 0.1), ('2016-05-25', 0.58), ('2016-05-26', 3.9399999999999995), ('2016-05-27', 0.24000000000000002), ('2016-05-28', 0.55), ('2016-05-29', 0.54), ('2016-05-30', 0.24), ('2016-05-31', 3.4799999999999995), ('2016-06-01', 4.34), ('2016-06-02', 1.77), ('2016-06-03', 0.7699999999999999), ('2016-06-04', 0.02), ('2016-06-05', 0.99), ('2016-06-06', 1.52), ('2016-06-07', 2.09), ('2016-06-08', 0.01), ('2016-06-09', 2.48), ('2016-06-10', 2.4899999999999998), ('2016-06-11', 0.81), ('2016-06-12', 1.26), ('2016-06-13', 0.29), ('2016-06-14', 0.45), ('2016-06-15', 2.7), ('2016-06-16', 0.38), ('2016-06-17', 2.29), ('2016-06-18', 1.45), ('2016-06-19', 0.96), ('2016-06-20', 1.69), ('2016-06-21', 0.88), ('2016-06-22', 0.42000000000000004), ('2016-06-23', 1.6400000000000001), ('2016-06-24', 0.18), ('2016-06-25', 2.23), ('2016-06-26', 0.83), ('2016-06-27', 0.74), ('2016-06-28', 0.5), ('2016-06-29', 0.54), ('2016-06-30', 0.01), ('2016-07-01', 0.0), ('2016-07-02', 0.0), ('2016-07-03', 0.2), ('2016-07-04', 0.48000000000000004), ('2016-07-05', 0.8600000000000001), ('2016-07-06', 3.07), ('2016-07-07', 1.33), ('2016-07-08', 0.42), ('2016-07-09', 0.19), ('2016-07-10', 2.4299999999999997), ('2016-07-11', 0.43), ('2016-07-12', 0.11), ('2016-07-13', 0.32), ('2016-07-14', 2.76), ('2016-07-15', 3.38), ('2016-07-16', 4.29), ('2016-07-17', 0.73), ('2016-07-18', 2.35), ('2016-07-19', 2.29), ('2016-07-20', 0.12), ('2016-07-21', 0.15000000000000002), ('2016-07-22', 0.21000000000000002), ('2016-07-23', 0.23), ('2016-07-24', 3.66), ('2016-07-25', 29.85), ('2016-07-26', 0.9400000000000001), ('2016-07-27', 0.12), ('2016-07-28', 0.05), ('2016-07-29', 0.060000000000000005), ('2016-07-30', 0.52), ('2016-07-31', 3.92), ('2016-08-01', 8.71), ('2016-08-02', 2.84), ('2016-08-03', 0.05), ('2016-08-04', 1.81), ('2016-08-05', 0.34), ('2016-08-06', 0.25), ('2016-08-07', 3.34), ('2016-08-08', 0.6600000000000001), ('2016-08-09', 0.5900000000000001), ('2016-08-10', 0.0), ('2016-08-11', 0.09), ('2016-08-12', 0.58), ('2016-08-13', 0.54), ('2016-08-14', 1.02), ('2016-08-15', 1.35), ('2016-08-16', 1.0899999999999999), ('2016-08-17', 0.61), ('2016-08-18', 0.22), ('2016-08-19', 2.86), ('2016-08-20', 0.36), ('2016-08-21', 2.01), ('2016-08-22', 5.26), ('2016-08-23', 2.71), ('2016-08-24', 9.329999999999998), ('2016-08-25', 0.54), ('2016-08-26', 0.09999999999999999), ('2016-08-27', 0.31999999999999995), ('2016-08-28', 3.0999999999999996), ('2016-08-29', 1.46), ('2016-08-30', 0.07), ('2016-08-31', 3.1799999999999997), ('2016-09-01', 0.03), ('2016-09-02', 0.25), ('2016-09-03', 1.27), ('2016-09-04', 1.3800000000000001), ('2016-09-05', 0.33999999999999997), ('2016-09-06', 1.23), ('2016-09-07', 2.0), ('2016-09-08', 0.4600000000000001), ('2016-09-09', 1.0699999999999998), ('2016-09-10', 1.4), ('2016-09-11', 1.25), ('2016-09-12', 1.54), ('2016-09-13', 2.71), ('2016-09-14', 14.280000000000001), ('2016-09-15', 4.96), ('2016-09-16', 0.8200000000000001), ('2016-09-17', 0.6799999999999999), ('2016-09-18', 0.53), ('2016-09-19', 0.32), ('2016-09-20', 1.03), ('2016-09-21', 1.17), ('2016-09-22', 1.44), ('2016-09-23', 1.57), ('2016-09-24', 0.28), ('2016-09-25', 0.09), ('2016-09-26', 1.67), ('2016-09-27', 1.3599999999999999), ('2016-09-28', 0.13), ('2016-09-29', 2.99), ('2016-09-30', 1.15), ('2016-10-01', 1.4500000000000002), ('2016-10-02', 0.72), ('2016-10-03', 0.6900000000000001), ('2016-10-04', 3.4899999999999998), ('2016-10-05', 0.8200000000000001), ('2016-10-06', 0.16), ('2016-10-07', 0.01), ('2016-10-08', 0.04), ('2016-10-09', 0.0), ('2016-10-10', 0.0), ('2016-10-11', 0.69), ('2016-10-12', 0.08), ('2016-10-13', 0.08), ('2016-10-14', 0.0), ('2016-10-15', 0.39), ('2016-10-16', 0.0), ('2016-10-17', 0.55), ('2016-10-18', 0.6), ('2016-10-19', 0.16999999999999998), ('2016-10-20', 1.01), ('2016-10-21', 0.32), ('2016-10-22', 1.77), ('2016-10-23', 0.27999999999999997), ('2016-10-24', 0.7899999999999999), ('2016-10-25', 1.1), ('2016-10-26', 0.29000000000000004), ('2016-10-27', 1.8599999999999999), ('2016-10-28', 0.5700000000000001), ('2016-10-29', 0.64), ('2016-10-30', 1.5899999999999999), ('2016-10-31', 1.61), ('2016-11-01', 0.21000000000000002), ('2016-11-02', 0.04), ('2016-11-03', 0.02), ('2016-11-04', 0.06), ('2016-11-05', 0.45), ('2016-11-06', 0.08), ('2016-11-07', 0.18), ('2016-11-08', 1.12), ('2016-11-09', 0.39999999999999997), ('2016-11-10', 0.01), ('2016-11-11', 0.0), ('2016-11-12', 0.0), ('2016-11-13', 0.0), ('2016-11-14', 0.15), ('2016-11-15', 0.05), ('2016-11-16', 1.54), ('2016-11-17', 0.06), ('2016-11-18', 0.03), ('2016-11-19', 0.38), ('2016-11-20', 0.9500000000000001), ('2016-11-21', 3.08), ('2016-11-22', 5.01), ('2016-11-23', 0.67), ('2016-11-24', 1.48), ('2016-11-25', 1.32), ('2016-11-26', 0.51), ('2016-11-27', 0.55), ('2016-11-28', 0.72), ('2016-11-29', 0.43000000000000005), ('2016-11-30', 1.06), ('2016-12-01', 1.77), ('2016-12-02', 2.36), ('2016-12-03', 2.71), ('2016-12-04', 0.8), ('2016-12-05', 3.24), ('2016-12-06', 0.04), ('2016-12-07', 0.38), ('2016-12-08', 0.4600000000000001), ('2016-12-09', 1.85), ('2016-12-10', 0.13), ('2016-12-11', 0.25), ('2016-12-12', 0.05), ('2016-12-13', 0.77), ('2016-12-14', 1.5), ('2016-12-15', 0.26), ('2016-12-16', 0.04), ('2016-12-17', 0.35000000000000003), ('2016-12-18', 0.89), ('2016-12-19', 0.42000000000000004), ('2016-12-20', 0.03), ('2016-12-21', 0.9), ('2016-12-22', 2.4699999999999998), ('2016-12-23', 1.23), ('2016-12-24', 1.62), ('2016-12-25', 0.43), ('2016-12-26', 2.04), ('2016-12-27', 0.24000000000000002), ('2016-12-28', 0.41000000000000003), ('2016-12-29', 2.38), ('2016-12-30', 3.35), ('2016-12-31', 2.14), ('2017-01-01', 0.35), ('2017-01-02', 0.02), ('2017-01-03', 0.0), ('2017-01-04', 0.18), ('2017-01-05', 0.95), ('2017-01-06', 0.7999999999999999), ('2017-01-07', 0.06), ('2017-01-08', 0.06), ('2017-01-09', 0.0), ('2017-01-10', 0.0), ('2017-01-11', 0.0), ('2017-01-12', 0.0), ('2017-01-13', 0.0), ('2017-01-14', 0.01), ('2017-01-15', 0.01), ('2017-01-16', 0.0), ('2017-01-17', 0.0), ('2017-01-18', 0.07), ('2017-01-19', 0.02), ('2017-01-20', 0.0), ('2017-01-21', 0.27999999999999997), ('2017-01-22', 1.02), ('2017-01-23', 0.94), ('2017-01-24', 2.25), ('2017-01-25', 3.58), ('2017-01-26', 0.11), ('2017-01-27', 0.06), ('2017-01-28', 0.14), ('2017-01-29', 0.99), ('2017-01-30', 0.05), ('2017-01-31', 0.0), ('2017-02-01', 0.0), ('2017-02-02', 0.0), ('2017-02-03', 0.0), ('2017-02-04', 0.0), ('2017-02-05', 0.0), ('2017-02-06', 0.38), ('2017-02-07', 7.4), ('2017-02-08', 1.08), ('2017-02-09', 0.02), ('2017-02-10', 0.0), ('2017-02-11', 11.200000000000001), ('2017-02-12', 10.48), ('2017-02-13', 2.9199999999999995), ('2017-02-14', 0.01), ('2017-02-15', 0.08), ('2017-02-16', 2.2199999999999998), ('2017-02-17', 1.0500000000000003), ('2017-02-18', 0.01), ('2017-02-19', 0.19), ('2017-02-20', 0.0), ('2017-02-21', 0.13), ('2017-02-22', 0.9100000000000001), ('2017-02-23', 0.01), ('2017-02-24', 0.0), ('2017-02-25', 0.15), ('2017-02-26', 0.0), ('2017-02-27', 0.0), ('2017-02-28', 0.82), ('2017-03-01', 11.620000000000001), ('2017-03-02', 6.56), ('2017-03-03', 2.23), ('2017-03-04', 0.0), ('2017-03-05', 1.21), ('2017-03-06', 0.54), ('2017-03-07', 0.0), ('2017-03-08', 0.0), ('2017-03-09', 1.9600000000000002), ('2017-03-10', 0.29000000000000004), ('2017-03-11', 0.04), ('2017-03-12', 0.0), ('2017-03-13', 0.0), ('2017-03-14', 0.06), ('2017-03-15', 0.06), ('2017-03-16', 0.0), ('2017-03-17', 0.72), ('2017-03-18', 0.0), ('2017-03-19', 0.0), ('2017-03-20', 0.02), ('2017-03-21', 0.09), ('2017-03-22', 0.0), ('2017-03-23', 0.05), ('2017-03-24', 1.1300000000000001), ('2017-03-25', 1.9700000000000002), ('2017-03-26', 0.0), ('2017-03-27', 0.01), ('2017-03-28', 0.7100000000000001), ('2017-03-29', 0.19), ('2017-03-30', 0.15), ('2017-03-31', 0.01), ('2017-04-01', 0.41000000000000003), ('2017-04-02', 0.0), ('2017-04-03', 0.66), ('2017-04-04', 0.15), ('2017-04-05', 0.66), ('2017-04-06', 0.06), ('2017-04-07', 0.0), ('2017-04-08', 0.0), ('2017-04-09', 0.0), ('2017-04-10', 0.02), ('2017-04-11', 0.47), ('2017-04-12', 1.08), ('2017-04-13', 1.09), ('2017-04-14', 6.72), ('2017-04-15', 1.7400000000000002), ('2017-04-16', 1.07), ('2017-04-17', 3.0700000000000003), ('2017-04-18', 3.36), ('2017-04-19', 0.2), ('2017-04-20', 0.78), ('2017-04-21', 8.38), ('2017-04-22', 4.960000000000001), ('2017-04-23', 0.45999999999999996), ('2017-04-24', 0.060000000000000005), ('2017-04-25', 0.0), ('2017-04-26', 0.39), ('2017-04-27', 0.42), ('2017-04-28', 4.24), ('2017-04-29', 8.04), ('2017-04-30', 6.42), ('2017-05-01', 0.81), ('2017-05-02', 0.05), ('2017-05-03', 0.03), ('2017-05-04', 0.08), ('2017-05-05', 0.38), ('2017-05-06', 0.06), ('2017-05-07', 0.12000000000000001), ('2017-05-08', 3.01), ('2017-05-09', 4.630000000000001), ('2017-05-10', 0.8600000000000001), ('2017-05-11', 0.6), ('2017-05-12', 0.16), ('2017-05-13', 0.24), ('2017-05-14', 1.22), ('2017-05-15', 0.88), ('2017-05-16', 0.42), ('2017-05-17', 0.15000000000000002), ('2017-05-18', 0.85), ('2017-05-19', 0.04), ('2017-05-20', 0.03), ('2017-05-21', 0.01), ('2017-05-22', 0.36), ('2017-05-23', 0.71), ('2017-05-24', 3.8899999999999997), ('2017-05-25', 2.22), ('2017-05-26', 0.02), ('2017-05-27', 0.51), ('2017-05-28', 0.41000000000000003), ('2017-05-29', 0.42000000000000004), ('2017-05-30', 1.73), ('2017-05-31', 0.37), ('2017-06-01', 0.04), ('2017-06-02', 0.33999999999999997), ('2017-06-03', 0.61), ('2017-06-04', 1.15), ('2017-06-05', 0.08), ('2017-06-06', 0.0), ('2017-06-07', 0.01), ('2017-06-08', 0.03), ('2017-06-09', 0.04), ('2017-06-10', 1.53), ('2017-06-11', 2.15), ('2017-06-12', 1.75), ('2017-06-13', 1.38), ('2017-06-14', 1.57), ('2017-06-15', 2.71), ('2017-06-16', 0.2), ('2017-06-17', 0.54), ('2017-06-18', 1.42), ('2017-06-19', 0.73), ('2017-06-20', 0.55), ('2017-06-21', 0.51), ('2017-06-22', 0.44000000000000006), ('2017-06-23', 0.6699999999999999), ('2017-06-24', 0.64), ('2017-06-25', 0.6), ('2017-06-26', 0.1), ('2017-06-27', 0.11), ('2017-06-28', 0.03), ('2017-06-29', 0.07), ('2017-06-30', 0.52), ('2017-07-01', 0.26), ('2017-07-02', 0.72), ('2017-07-03', 0.74), ('2017-07-04', 0.15000000000000002), ('2017-07-05', 0.0), ('2017-07-06', 0.02), ('2017-07-07', 0.5), ('2017-07-08', 0.1), ('2017-07-09', 0.2), ('2017-07-10', 0.04), ('2017-07-11', 0.03), ('2017-07-12', 0.36000000000000004), ('2017-07-13', 1.81), ('2017-07-14', 0.9500000000000001), ('2017-07-15', 0.19), ('2017-07-16', 0.81), ('2017-07-17', 0.91), ('2017-07-18', 2.53), ('2017-07-19', 0.41000000000000003), ('2017-07-20', 1.24), ('2017-07-21', 0.13), ('2017-07-22', 4.42), ('2017-07-23', 1.1300000000000001), ('2017-07-24', 3.2699999999999996), ('2017-07-25', 0.61), ('2017-07-26', 0.5), ('2017-07-27', 0.01), ('2017-07-28', 0.77), ('2017-07-29', 0.61), ('2017-07-30', 0.3), ('2017-07-31', 0.0), ('2017-08-01', 0.13999999999999999), ('2017-08-02', 0.3), ('2017-08-03', 0.06999999999999999), ('2017-08-04', 0.06), ('2017-08-05', 0.06), ('2017-08-06', 0.0), ('2017-08-07', 0.05), ('2017-08-08', 0.44000000000000006), ('2017-08-09', 0.15), ('2017-08-10', 0.07), ('2017-08-11', 0.0), ('2017-08-12', 0.14), ('2017-08-13', 0.0), ('2017-08-14', 0.31), ('2017-08-15', 0.8200000000000001), ('2017-08-16', 0.61), ('2017-08-17', 0.19), ('2017-08-18', 0.06), ('2017-08-19', 0.09), ('2017-08-20', 0.01), ('2017-08-21', 0.5800000000000001), ('2017-08-22', 0.5), ('2017-08-23', 0.53)]\n"
     ]
    }
   ],
   "metadata": {}
  },
  {
   "cell_type": "code",
   "execution_count": 176,
   "source": [
    "print(precip_output3)"
   ],
   "outputs": [
    {
     "output_type": "stream",
     "name": "stdout",
     "text": [
      "SELECT measurement.date AS measurement_date, sum(measurement.prcp) AS sum_1 \n",
      "FROM measurement \n",
      "WHERE strftime(?, measurement.date >= ?) ORDER BY measurement.date\n"
     ]
    }
   ],
   "metadata": {}
  },
  {
   "cell_type": "code",
   "execution_count": 179,
   "source": [
    "print(precip_output4)"
   ],
   "outputs": [
    {
     "output_type": "stream",
     "name": "stdout",
     "text": [
      "SELECT measurement.date AS measurement_date, sum(measurement.prcp) AS sum_1 \n",
      "FROM measurement \n",
      "WHERE strftime(?, measurement.date >= ?)\n"
     ]
    }
   ],
   "metadata": {}
  },
  {
   "cell_type": "code",
   "execution_count": 205,
   "source": [
    "# Save the query results as a Pandas DataFrame and set the index to the date column \n",
    "# -- which means precipitation is summed on date above\n",
    "# **trying to pass list of tuples** 7-22; 7-23 now an empty list\n",
    "precipitation_df = pd.DataFrame(precip_output0)\n",
    "precipitation_df"
   ],
   "outputs": [
    {
     "output_type": "execute_result",
     "data": {
      "text/plain": [
       "          station        date  prcp\n",
       "0     USC00519397  2016-08-24  0.08\n",
       "1     USC00519397  2016-08-25  0.08\n",
       "2     USC00519397  2016-08-26  0.00\n",
       "3     USC00519397  2016-08-27  0.00\n",
       "4     USC00519397  2016-08-28  0.01\n",
       "...           ...         ...   ...\n",
       "2218  USC00516128  2017-08-19  0.09\n",
       "2219  USC00516128  2017-08-20   NaN\n",
       "2220  USC00516128  2017-08-21  0.56\n",
       "2221  USC00516128  2017-08-22  0.50\n",
       "2222  USC00516128  2017-08-23  0.45\n",
       "\n",
       "[2223 rows x 3 columns]"
      ],
      "text/html": [
       "<div>\n",
       "<style scoped>\n",
       "    .dataframe tbody tr th:only-of-type {\n",
       "        vertical-align: middle;\n",
       "    }\n",
       "\n",
       "    .dataframe tbody tr th {\n",
       "        vertical-align: top;\n",
       "    }\n",
       "\n",
       "    .dataframe thead th {\n",
       "        text-align: right;\n",
       "    }\n",
       "</style>\n",
       "<table border=\"1\" class=\"dataframe\">\n",
       "  <thead>\n",
       "    <tr style=\"text-align: right;\">\n",
       "      <th></th>\n",
       "      <th>station</th>\n",
       "      <th>date</th>\n",
       "      <th>prcp</th>\n",
       "    </tr>\n",
       "  </thead>\n",
       "  <tbody>\n",
       "    <tr>\n",
       "      <th>0</th>\n",
       "      <td>USC00519397</td>\n",
       "      <td>2016-08-24</td>\n",
       "      <td>0.08</td>\n",
       "    </tr>\n",
       "    <tr>\n",
       "      <th>1</th>\n",
       "      <td>USC00519397</td>\n",
       "      <td>2016-08-25</td>\n",
       "      <td>0.08</td>\n",
       "    </tr>\n",
       "    <tr>\n",
       "      <th>2</th>\n",
       "      <td>USC00519397</td>\n",
       "      <td>2016-08-26</td>\n",
       "      <td>0.00</td>\n",
       "    </tr>\n",
       "    <tr>\n",
       "      <th>3</th>\n",
       "      <td>USC00519397</td>\n",
       "      <td>2016-08-27</td>\n",
       "      <td>0.00</td>\n",
       "    </tr>\n",
       "    <tr>\n",
       "      <th>4</th>\n",
       "      <td>USC00519397</td>\n",
       "      <td>2016-08-28</td>\n",
       "      <td>0.01</td>\n",
       "    </tr>\n",
       "    <tr>\n",
       "      <th>...</th>\n",
       "      <td>...</td>\n",
       "      <td>...</td>\n",
       "      <td>...</td>\n",
       "    </tr>\n",
       "    <tr>\n",
       "      <th>2218</th>\n",
       "      <td>USC00516128</td>\n",
       "      <td>2017-08-19</td>\n",
       "      <td>0.09</td>\n",
       "    </tr>\n",
       "    <tr>\n",
       "      <th>2219</th>\n",
       "      <td>USC00516128</td>\n",
       "      <td>2017-08-20</td>\n",
       "      <td>NaN</td>\n",
       "    </tr>\n",
       "    <tr>\n",
       "      <th>2220</th>\n",
       "      <td>USC00516128</td>\n",
       "      <td>2017-08-21</td>\n",
       "      <td>0.56</td>\n",
       "    </tr>\n",
       "    <tr>\n",
       "      <th>2221</th>\n",
       "      <td>USC00516128</td>\n",
       "      <td>2017-08-22</td>\n",
       "      <td>0.50</td>\n",
       "    </tr>\n",
       "    <tr>\n",
       "      <th>2222</th>\n",
       "      <td>USC00516128</td>\n",
       "      <td>2017-08-23</td>\n",
       "      <td>0.45</td>\n",
       "    </tr>\n",
       "  </tbody>\n",
       "</table>\n",
       "<p>2223 rows × 3 columns</p>\n",
       "</div>"
      ]
     },
     "metadata": {},
     "execution_count": 205
    }
   ],
   "metadata": {}
  },
  {
   "cell_type": "code",
   "execution_count": 206,
   "source": [
    "# Sort the dataframe by date\n",
    "precipitation_df = precipitation_df.sort_values(precipitation_df['date'])\n",
    "# precipitation_df"
   ],
   "outputs": [
    {
     "output_type": "error",
     "ename": "KeyError",
     "evalue": "0       2016-08-24\n1       2016-08-25\n2       2016-08-26\n3       2016-08-27\n4       2016-08-28\n           ...    \n2218    2017-08-19\n2219    2017-08-20\n2220    2017-08-21\n2221    2017-08-22\n2222    2017-08-23\nName: date, Length: 2223, dtype: object",
     "traceback": [
      "\u001b[0;31m---------------------------------------------------------------------------\u001b[0m",
      "\u001b[0;31mKeyError\u001b[0m                                  Traceback (most recent call last)",
      "\u001b[0;32m<ipython-input-206-d34cede6f1f3>\u001b[0m in \u001b[0;36m<module>\u001b[0;34m\u001b[0m\n\u001b[1;32m      1\u001b[0m \u001b[0;31m# Sort the dataframe by date\u001b[0m\u001b[0;34m\u001b[0m\u001b[0;34m\u001b[0m\u001b[0;34m\u001b[0m\u001b[0m\n\u001b[0;32m----> 2\u001b[0;31m \u001b[0mprecipitation_df\u001b[0m \u001b[0;34m=\u001b[0m \u001b[0mprecipitation_df\u001b[0m\u001b[0;34m.\u001b[0m\u001b[0msort_values\u001b[0m\u001b[0;34m(\u001b[0m\u001b[0mprecipitation_df\u001b[0m\u001b[0;34m[\u001b[0m\u001b[0;34m'date'\u001b[0m\u001b[0;34m]\u001b[0m\u001b[0;34m)\u001b[0m\u001b[0;34m\u001b[0m\u001b[0;34m\u001b[0m\u001b[0m\n\u001b[0m\u001b[1;32m      3\u001b[0m \u001b[0;31m# precipitation_df\u001b[0m\u001b[0;34m\u001b[0m\u001b[0;34m\u001b[0m\u001b[0;34m\u001b[0m\u001b[0m\n",
      "\u001b[0;32m~/opt/anaconda3/lib/python3.8/site-packages/pandas/core/frame.py\u001b[0m in \u001b[0;36msort_values\u001b[0;34m(self, by, axis, ascending, inplace, kind, na_position, ignore_index, key)\u001b[0m\n\u001b[1;32m   5292\u001b[0m \u001b[0;34m\u001b[0m\u001b[0m\n\u001b[1;32m   5293\u001b[0m             \u001b[0mby\u001b[0m \u001b[0;34m=\u001b[0m \u001b[0mby\u001b[0m\u001b[0;34m[\u001b[0m\u001b[0;36m0\u001b[0m\u001b[0;34m]\u001b[0m\u001b[0;34m\u001b[0m\u001b[0;34m\u001b[0m\u001b[0m\n\u001b[0;32m-> 5294\u001b[0;31m             \u001b[0mk\u001b[0m \u001b[0;34m=\u001b[0m \u001b[0mself\u001b[0m\u001b[0;34m.\u001b[0m\u001b[0m_get_label_or_level_values\u001b[0m\u001b[0;34m(\u001b[0m\u001b[0mby\u001b[0m\u001b[0;34m,\u001b[0m \u001b[0maxis\u001b[0m\u001b[0;34m=\u001b[0m\u001b[0maxis\u001b[0m\u001b[0;34m)\u001b[0m\u001b[0;34m\u001b[0m\u001b[0;34m\u001b[0m\u001b[0m\n\u001b[0m\u001b[1;32m   5295\u001b[0m \u001b[0;34m\u001b[0m\u001b[0m\n\u001b[1;32m   5296\u001b[0m             \u001b[0;31m# need to rewrap column in Series to apply key function\u001b[0m\u001b[0;34m\u001b[0m\u001b[0;34m\u001b[0m\u001b[0;34m\u001b[0m\u001b[0m\n",
      "\u001b[0;32m~/opt/anaconda3/lib/python3.8/site-packages/pandas/core/generic.py\u001b[0m in \u001b[0;36m_get_label_or_level_values\u001b[0;34m(self, key, axis)\u001b[0m\n\u001b[1;32m   1561\u001b[0m             \u001b[0mvalues\u001b[0m \u001b[0;34m=\u001b[0m \u001b[0mself\u001b[0m\u001b[0;34m.\u001b[0m\u001b[0maxes\u001b[0m\u001b[0;34m[\u001b[0m\u001b[0maxis\u001b[0m\u001b[0;34m]\u001b[0m\u001b[0;34m.\u001b[0m\u001b[0mget_level_values\u001b[0m\u001b[0;34m(\u001b[0m\u001b[0mkey\u001b[0m\u001b[0;34m)\u001b[0m\u001b[0;34m.\u001b[0m\u001b[0m_values\u001b[0m\u001b[0;34m\u001b[0m\u001b[0;34m\u001b[0m\u001b[0m\n\u001b[1;32m   1562\u001b[0m         \u001b[0;32melse\u001b[0m\u001b[0;34m:\u001b[0m\u001b[0;34m\u001b[0m\u001b[0;34m\u001b[0m\u001b[0m\n\u001b[0;32m-> 1563\u001b[0;31m             \u001b[0;32mraise\u001b[0m \u001b[0mKeyError\u001b[0m\u001b[0;34m(\u001b[0m\u001b[0mkey\u001b[0m\u001b[0;34m)\u001b[0m\u001b[0;34m\u001b[0m\u001b[0;34m\u001b[0m\u001b[0m\n\u001b[0m\u001b[1;32m   1564\u001b[0m \u001b[0;34m\u001b[0m\u001b[0m\n\u001b[1;32m   1565\u001b[0m         \u001b[0;31m# Check for duplicates\u001b[0m\u001b[0;34m\u001b[0m\u001b[0;34m\u001b[0m\u001b[0;34m\u001b[0m\u001b[0m\n",
      "\u001b[0;31mKeyError\u001b[0m: 0       2016-08-24\n1       2016-08-25\n2       2016-08-26\n3       2016-08-27\n4       2016-08-28\n           ...    \n2218    2017-08-19\n2219    2017-08-20\n2220    2017-08-21\n2221    2017-08-22\n2222    2017-08-23\nName: date, Length: 2223, dtype: object"
     ]
    }
   ],
   "metadata": {}
  },
  {
   "cell_type": "code",
   "execution_count": null,
   "source": [
    "## Use Pandas Plotting with Matplotlib to plot the data\n"
   ],
   "outputs": [],
   "metadata": {}
  },
  {
   "cell_type": "code",
   "execution_count": null,
   "source": [
    "## Use Pandas to calcualte the summary statistics for the precipitation data\n",
    "precip_summary_df = precipitation_df.describe()"
   ],
   "outputs": [],
   "metadata": {}
  },
  {
   "cell_type": "markdown",
   "source": [
    "# Exploratory Station Analysis"
   ],
   "metadata": {}
  },
  {
   "cell_type": "code",
   "execution_count": null,
   "source": [
    "# Design a query to calculate the total number stations in the dataset\n"
   ],
   "outputs": [],
   "metadata": {}
  },
  {
   "cell_type": "code",
   "execution_count": null,
   "source": [
    "# Design a query to find the most active stations (i.e. what stations have the most rows?)\n",
    "# List the stations and the counts in descending order.\n"
   ],
   "outputs": [],
   "metadata": {}
  },
  {
   "cell_type": "code",
   "execution_count": null,
   "source": [
    "# Using the most active station id from the previous query, calculate the lowest, highest, and average temperature.\n"
   ],
   "outputs": [],
   "metadata": {}
  },
  {
   "cell_type": "code",
   "execution_count": null,
   "source": [
    "# Using the most active station id\n",
    "# Query the last 12 months of temperature observation data for this station and plot the results as a histogram\n"
   ],
   "outputs": [],
   "metadata": {}
  },
  {
   "cell_type": "markdown",
   "source": [
    "# Close session"
   ],
   "metadata": {}
  },
  {
   "cell_type": "code",
   "execution_count": null,
   "source": [
    "# Close Session\n",
    "session.close()"
   ],
   "outputs": [],
   "metadata": {}
  },
  {
   "cell_type": "code",
   "execution_count": null,
   "source": [],
   "outputs": [],
   "metadata": {}
  }
 ],
 "metadata": {
  "anaconda-cloud": {},
  "kernel_info": {
   "name": "python3"
  },
  "kernelspec": {
   "name": "python3",
   "display_name": "Python 3.8.5 64-bit ('base': conda)"
  },
  "language_info": {
   "codemirror_mode": {
    "name": "ipython",
    "version": 3
   },
   "file_extension": ".py",
   "mimetype": "text/x-python",
   "name": "python",
   "nbconvert_exporter": "python",
   "pygments_lexer": "ipython3",
   "version": "3.8.5"
  },
  "nteract": {
   "version": "0.12.3"
  },
  "varInspector": {
   "cols": {
    "lenName": 16,
    "lenType": 16,
    "lenVar": 40
   },
   "kernels_config": {
    "python": {
     "delete_cmd_postfix": "",
     "delete_cmd_prefix": "del ",
     "library": "var_list.py",
     "varRefreshCmd": "print(var_dic_list())"
    },
    "r": {
     "delete_cmd_postfix": ") ",
     "delete_cmd_prefix": "rm(",
     "library": "var_list.r",
     "varRefreshCmd": "cat(var_dic_list()) "
    }
   },
   "types_to_exclude": [
    "module",
    "function",
    "builtin_function_or_method",
    "instance",
    "_Feature"
   ],
   "window_display": false
  },
  "interpreter": {
   "hash": "797aaa517c2851f29685343c41d423cf5c6e3497bc2091e34cd352c6f05b7b6f"
  }
 },
 "nbformat": 4,
 "nbformat_minor": 2
}