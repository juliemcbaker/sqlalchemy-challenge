{
 "cells": [
  {
   "cell_type": "code",
   "execution_count": 1,
   "source": [
    "%matplotlib inline\n",
    "from matplotlib import style\n",
    "style.use('fivethirtyeight')\n",
    "import matplotlib.pyplot as plt"
   ],
   "outputs": [],
   "metadata": {}
  },
  {
   "cell_type": "code",
   "execution_count": 2,
   "source": [
    "import numpy as np\n",
    "import pandas as pd\n",
    "import datetime as dt"
   ],
   "outputs": [],
   "metadata": {}
  },
  {
   "cell_type": "markdown",
   "source": [
    "# Reflect Tables into SQLAlchemy ORM"
   ],
   "metadata": {}
  },
  {
   "cell_type": "code",
   "execution_count": 3,
   "source": [
    "# Python SQL toolkit and Object Relational Mapper\n",
    "import sqlalchemy\n",
    "from sqlalchemy.ext.automap import automap_base\n",
    "from sqlalchemy.orm import Session\n",
    "from sqlalchemy import create_engine, func, inspect\n",
    "from sqlalchemy.sql import label"
   ],
   "outputs": [],
   "metadata": {}
  },
  {
   "cell_type": "code",
   "execution_count": 4,
   "source": [
    "# create engine to hawaii.sqlite\n",
    "engine = create_engine(\"sqlite:///Resources/hawaii.sqlite\",echo=True)\n",
    "this_conn = engine.connect()"
   ],
   "outputs": [
    {
     "output_type": "stream",
     "name": "stdout",
     "text": [
      "2021-07-23 15:31:06,212 INFO sqlalchemy.engine.base.Engine SELECT CAST('test plain returns' AS VARCHAR(60)) AS anon_1\n",
      "2021-07-23 15:31:06,214 INFO sqlalchemy.engine.base.Engine ()\n",
      "2021-07-23 15:31:06,217 INFO sqlalchemy.engine.base.Engine SELECT CAST('test unicode returns' AS VARCHAR(60)) AS anon_1\n",
      "2021-07-23 15:31:06,222 INFO sqlalchemy.engine.base.Engine ()\n"
     ]
    }
   ],
   "metadata": {}
  },
  {
   "cell_type": "code",
   "execution_count": 5,
   "source": [
    "# reflect an existing database into a new model\n",
    "Base = automap_base()\n",
    "\n",
    "# reflect the tables\n",
    "Base.prepare(engine, reflect=True)"
   ],
   "outputs": [
    {
     "output_type": "stream",
     "name": "stdout",
     "text": [
      "2021-07-23 15:31:07,805 INFO sqlalchemy.engine.base.Engine SELECT name FROM sqlite_master WHERE type='table' ORDER BY name\n",
      "2021-07-23 15:31:07,809 INFO sqlalchemy.engine.base.Engine ()\n",
      "2021-07-23 15:31:07,817 INFO sqlalchemy.engine.base.Engine PRAGMA main.table_xinfo(\"measurement\")\n",
      "2021-07-23 15:31:07,818 INFO sqlalchemy.engine.base.Engine ()\n",
      "2021-07-23 15:31:07,823 INFO sqlalchemy.engine.base.Engine SELECT sql FROM  (SELECT * FROM sqlite_master UNION ALL   SELECT * FROM sqlite_temp_master) WHERE name = ? AND type = 'table'\n",
      "2021-07-23 15:31:07,824 INFO sqlalchemy.engine.base.Engine ('measurement',)\n",
      "2021-07-23 15:31:07,828 INFO sqlalchemy.engine.base.Engine PRAGMA main.foreign_key_list(\"measurement\")\n",
      "2021-07-23 15:31:07,830 INFO sqlalchemy.engine.base.Engine ()\n",
      "2021-07-23 15:31:07,832 INFO sqlalchemy.engine.base.Engine PRAGMA temp.foreign_key_list(\"measurement\")\n",
      "2021-07-23 15:31:07,833 INFO sqlalchemy.engine.base.Engine ()\n",
      "2021-07-23 15:31:07,835 INFO sqlalchemy.engine.base.Engine SELECT sql FROM  (SELECT * FROM sqlite_master UNION ALL   SELECT * FROM sqlite_temp_master) WHERE name = ? AND type = 'table'\n",
      "2021-07-23 15:31:07,837 INFO sqlalchemy.engine.base.Engine ('measurement',)\n",
      "2021-07-23 15:31:07,842 INFO sqlalchemy.engine.base.Engine PRAGMA main.index_list(\"measurement\")\n",
      "2021-07-23 15:31:07,843 INFO sqlalchemy.engine.base.Engine ()\n",
      "2021-07-23 15:31:07,845 INFO sqlalchemy.engine.base.Engine PRAGMA temp.index_list(\"measurement\")\n",
      "2021-07-23 15:31:07,847 INFO sqlalchemy.engine.base.Engine ()\n",
      "2021-07-23 15:31:07,849 INFO sqlalchemy.engine.base.Engine PRAGMA main.index_list(\"measurement\")\n",
      "2021-07-23 15:31:07,850 INFO sqlalchemy.engine.base.Engine ()\n",
      "2021-07-23 15:31:07,852 INFO sqlalchemy.engine.base.Engine PRAGMA temp.index_list(\"measurement\")\n",
      "2021-07-23 15:31:07,854 INFO sqlalchemy.engine.base.Engine ()\n",
      "2021-07-23 15:31:07,856 INFO sqlalchemy.engine.base.Engine SELECT sql FROM  (SELECT * FROM sqlite_master UNION ALL   SELECT * FROM sqlite_temp_master) WHERE name = ? AND type = 'table'\n",
      "2021-07-23 15:31:07,858 INFO sqlalchemy.engine.base.Engine ('measurement',)\n",
      "2021-07-23 15:31:07,862 INFO sqlalchemy.engine.base.Engine PRAGMA main.table_xinfo(\"station\")\n",
      "2021-07-23 15:31:07,864 INFO sqlalchemy.engine.base.Engine ()\n",
      "2021-07-23 15:31:07,866 INFO sqlalchemy.engine.base.Engine SELECT sql FROM  (SELECT * FROM sqlite_master UNION ALL   SELECT * FROM sqlite_temp_master) WHERE name = ? AND type = 'table'\n",
      "2021-07-23 15:31:07,868 INFO sqlalchemy.engine.base.Engine ('station',)\n",
      "2021-07-23 15:31:07,870 INFO sqlalchemy.engine.base.Engine PRAGMA main.foreign_key_list(\"station\")\n",
      "2021-07-23 15:31:07,871 INFO sqlalchemy.engine.base.Engine ()\n",
      "2021-07-23 15:31:07,874 INFO sqlalchemy.engine.base.Engine PRAGMA temp.foreign_key_list(\"station\")\n",
      "2021-07-23 15:31:07,875 INFO sqlalchemy.engine.base.Engine ()\n",
      "2021-07-23 15:31:07,878 INFO sqlalchemy.engine.base.Engine SELECT sql FROM  (SELECT * FROM sqlite_master UNION ALL   SELECT * FROM sqlite_temp_master) WHERE name = ? AND type = 'table'\n",
      "2021-07-23 15:31:07,879 INFO sqlalchemy.engine.base.Engine ('station',)\n",
      "2021-07-23 15:31:07,881 INFO sqlalchemy.engine.base.Engine PRAGMA main.index_list(\"station\")\n",
      "2021-07-23 15:31:07,883 INFO sqlalchemy.engine.base.Engine ()\n",
      "2021-07-23 15:31:07,886 INFO sqlalchemy.engine.base.Engine PRAGMA temp.index_list(\"station\")\n",
      "2021-07-23 15:31:07,888 INFO sqlalchemy.engine.base.Engine ()\n",
      "2021-07-23 15:31:07,890 INFO sqlalchemy.engine.base.Engine PRAGMA main.index_list(\"station\")\n",
      "2021-07-23 15:31:07,891 INFO sqlalchemy.engine.base.Engine ()\n",
      "2021-07-23 15:31:07,893 INFO sqlalchemy.engine.base.Engine PRAGMA temp.index_list(\"station\")\n",
      "2021-07-23 15:31:07,895 INFO sqlalchemy.engine.base.Engine ()\n",
      "2021-07-23 15:31:07,897 INFO sqlalchemy.engine.base.Engine SELECT sql FROM  (SELECT * FROM sqlite_master UNION ALL   SELECT * FROM sqlite_temp_master) WHERE name = ? AND type = 'table'\n",
      "2021-07-23 15:31:07,899 INFO sqlalchemy.engine.base.Engine ('station',)\n"
     ]
    }
   ],
   "metadata": {}
  },
  {
   "cell_type": "code",
   "execution_count": 6,
   "source": [
    "# View all of the classes that automap found\n",
    "Base.classes.keys()"
   ],
   "outputs": [
    {
     "output_type": "execute_result",
     "data": {
      "text/plain": [
       "['measurement', 'station']"
      ]
     },
     "metadata": {},
     "execution_count": 6
    }
   ],
   "metadata": {}
  },
  {
   "cell_type": "code",
   "execution_count": 7,
   "source": [
    "### Create the inspector and connect it to the engine\n",
    "inspector = inspect(engine)"
   ],
   "outputs": [],
   "metadata": {}
  },
  {
   "cell_type": "code",
   "execution_count": 8,
   "source": [
    "# Save references to each table\n",
    "### Collect the names of tables within the database\n",
    "inspector.get_table_names()"
   ],
   "outputs": [
    {
     "output_type": "stream",
     "name": "stdout",
     "text": [
      "2021-07-23 15:31:26,135 INFO sqlalchemy.engine.base.Engine SELECT name FROM sqlite_master WHERE type='table' ORDER BY name\n",
      "2021-07-23 15:31:26,138 INFO sqlalchemy.engine.base.Engine ()\n"
     ]
    },
    {
     "output_type": "execute_result",
     "data": {
      "text/plain": [
       "['measurement', 'station']"
      ]
     },
     "metadata": {},
     "execution_count": 8
    }
   ],
   "metadata": {}
  },
  {
   "cell_type": "code",
   "execution_count": 9,
   "source": [
    "# get columns for measurement table\n",
    "meas_cols = inspector.get_columns('measurement')\n",
    "for c in meas_cols:\n",
    "    print(c['name'], c['type'])"
   ],
   "outputs": [
    {
     "output_type": "stream",
     "name": "stdout",
     "text": [
      "2021-07-23 15:31:28,611 INFO sqlalchemy.engine.base.Engine PRAGMA main.table_xinfo(\"measurement\")\n",
      "2021-07-23 15:31:28,612 INFO sqlalchemy.engine.base.Engine ()\n",
      "id INTEGER\n",
      "station TEXT\n",
      "date TEXT\n",
      "prcp FLOAT\n",
      "tobs FLOAT\n"
     ]
    }
   ],
   "metadata": {}
  },
  {
   "cell_type": "code",
   "execution_count": 10,
   "source": [
    "# get columns for station table\n",
    "stat_cols = inspector.get_columns('station')\n",
    "for c in stat_cols:\n",
    "    print(c['name'], c['type'])"
   ],
   "outputs": [
    {
     "output_type": "stream",
     "name": "stdout",
     "text": [
      "2021-07-23 15:31:32,663 INFO sqlalchemy.engine.base.Engine PRAGMA main.table_xinfo(\"station\")\n",
      "2021-07-23 15:31:32,666 INFO sqlalchemy.engine.base.Engine ()\n",
      "id INTEGER\n",
      "station TEXT\n",
      "name TEXT\n",
      "latitude FLOAT\n",
      "longitude FLOAT\n",
      "elevation FLOAT\n"
     ]
    }
   ],
   "metadata": {}
  },
  {
   "cell_type": "code",
   "execution_count": 11,
   "source": [
    "# not sure I need these, but doing it because it was in very first activity Query All Records in the Database\n",
    "measurement_data = engine.execute(\"SELECT * FROM measurement\")\n",
    "measurement_df = pd.read_sql(\"SELECT * FROM measurement\", this_conn)\n",
    "\n",
    "measurement_df.head()"
   ],
   "outputs": [
    {
     "output_type": "stream",
     "name": "stdout",
     "text": [
      "2021-07-23 15:31:39,566 INFO sqlalchemy.engine.base.Engine SELECT * FROM measurement\n",
      "2021-07-23 15:31:39,568 INFO sqlalchemy.engine.base.Engine ()\n",
      "2021-07-23 15:31:39,571 INFO sqlalchemy.engine.base.Engine PRAGMA main.table_info(\"SELECT * FROM measurement\")\n",
      "2021-07-23 15:31:39,573 INFO sqlalchemy.engine.base.Engine ()\n",
      "2021-07-23 15:31:39,575 INFO sqlalchemy.engine.base.Engine PRAGMA temp.table_info(\"SELECT * FROM measurement\")\n",
      "2021-07-23 15:31:39,579 INFO sqlalchemy.engine.base.Engine ()\n",
      "2021-07-23 15:31:39,580 INFO sqlalchemy.engine.base.Engine SELECT * FROM measurement\n",
      "2021-07-23 15:31:39,582 INFO sqlalchemy.engine.base.Engine ()\n"
     ]
    },
    {
     "output_type": "execute_result",
     "data": {
      "text/plain": [
       "   id      station        date  prcp  tobs\n",
       "0   1  USC00519397  2010-01-01  0.08  65.0\n",
       "1   2  USC00519397  2010-01-02  0.00  63.0\n",
       "2   3  USC00519397  2010-01-03  0.00  74.0\n",
       "3   4  USC00519397  2010-01-04  0.00  76.0\n",
       "4   5  USC00519397  2010-01-06   NaN  73.0"
      ],
      "text/html": [
       "<div>\n",
       "<style scoped>\n",
       "    .dataframe tbody tr th:only-of-type {\n",
       "        vertical-align: middle;\n",
       "    }\n",
       "\n",
       "    .dataframe tbody tr th {\n",
       "        vertical-align: top;\n",
       "    }\n",
       "\n",
       "    .dataframe thead th {\n",
       "        text-align: right;\n",
       "    }\n",
       "</style>\n",
       "<table border=\"1\" class=\"dataframe\">\n",
       "  <thead>\n",
       "    <tr style=\"text-align: right;\">\n",
       "      <th></th>\n",
       "      <th>id</th>\n",
       "      <th>station</th>\n",
       "      <th>date</th>\n",
       "      <th>prcp</th>\n",
       "      <th>tobs</th>\n",
       "    </tr>\n",
       "  </thead>\n",
       "  <tbody>\n",
       "    <tr>\n",
       "      <th>0</th>\n",
       "      <td>1</td>\n",
       "      <td>USC00519397</td>\n",
       "      <td>2010-01-01</td>\n",
       "      <td>0.08</td>\n",
       "      <td>65.0</td>\n",
       "    </tr>\n",
       "    <tr>\n",
       "      <th>1</th>\n",
       "      <td>2</td>\n",
       "      <td>USC00519397</td>\n",
       "      <td>2010-01-02</td>\n",
       "      <td>0.00</td>\n",
       "      <td>63.0</td>\n",
       "    </tr>\n",
       "    <tr>\n",
       "      <th>2</th>\n",
       "      <td>3</td>\n",
       "      <td>USC00519397</td>\n",
       "      <td>2010-01-03</td>\n",
       "      <td>0.00</td>\n",
       "      <td>74.0</td>\n",
       "    </tr>\n",
       "    <tr>\n",
       "      <th>3</th>\n",
       "      <td>4</td>\n",
       "      <td>USC00519397</td>\n",
       "      <td>2010-01-04</td>\n",
       "      <td>0.00</td>\n",
       "      <td>76.0</td>\n",
       "    </tr>\n",
       "    <tr>\n",
       "      <th>4</th>\n",
       "      <td>5</td>\n",
       "      <td>USC00519397</td>\n",
       "      <td>2010-01-06</td>\n",
       "      <td>NaN</td>\n",
       "      <td>73.0</td>\n",
       "    </tr>\n",
       "  </tbody>\n",
       "</table>\n",
       "</div>"
      ]
     },
     "metadata": {},
     "execution_count": 11
    }
   ],
   "metadata": {}
  },
  {
   "cell_type": "code",
   "execution_count": 12,
   "source": [
    "# not sure I need these, but doing it because it was in very first activity Query All Records in the Database\n",
    "station_data = engine.execute(\"SELECT * FROM station\")\n",
    "station_df = pd.read_sql(\"SELECT * FROM station\", this_conn)\n",
    "\n",
    "station_df"
   ],
   "outputs": [
    {
     "output_type": "stream",
     "name": "stdout",
     "text": [
      "2021-07-23 15:31:45,785 INFO sqlalchemy.engine.base.Engine SELECT * FROM station\n",
      "2021-07-23 15:31:45,787 INFO sqlalchemy.engine.base.Engine ()\n",
      "2021-07-23 15:31:45,790 INFO sqlalchemy.engine.base.Engine PRAGMA main.table_info(\"SELECT * FROM station\")\n",
      "2021-07-23 15:31:45,791 INFO sqlalchemy.engine.base.Engine ()\n",
      "2021-07-23 15:31:45,794 INFO sqlalchemy.engine.base.Engine PRAGMA temp.table_info(\"SELECT * FROM station\")\n",
      "2021-07-23 15:31:45,795 INFO sqlalchemy.engine.base.Engine ()\n",
      "2021-07-23 15:31:45,797 INFO sqlalchemy.engine.base.Engine SELECT * FROM station\n",
      "2021-07-23 15:31:45,798 INFO sqlalchemy.engine.base.Engine ()\n"
     ]
    },
    {
     "output_type": "execute_result",
     "data": {
      "text/plain": [
       "   id      station                                    name  latitude  \\\n",
       "0   1  USC00519397                    WAIKIKI 717.2, HI US  21.27160   \n",
       "1   2  USC00513117                    KANEOHE 838.1, HI US  21.42340   \n",
       "2   3  USC00514830  KUALOA RANCH HEADQUARTERS 886.9, HI US  21.52130   \n",
       "3   4  USC00517948                       PEARL CITY, HI US  21.39340   \n",
       "4   5  USC00518838              UPPER WAHIAWA 874.3, HI US  21.49920   \n",
       "5   6  USC00519523      WAIMANALO EXPERIMENTAL FARM, HI US  21.33556   \n",
       "6   7  USC00519281                     WAIHEE 837.5, HI US  21.45167   \n",
       "7   8  USC00511918       HONOLULU OBSERVATORY 702.2, HI US  21.31520   \n",
       "8   9  USC00516128            MANOA LYON ARBO 785.2, HI US  21.33310   \n",
       "\n",
       "   longitude  elevation  \n",
       "0 -157.81680        3.0  \n",
       "1 -157.80150       14.6  \n",
       "2 -157.83740        7.0  \n",
       "3 -157.97510       11.9  \n",
       "4 -158.01110      306.6  \n",
       "5 -157.71139       19.5  \n",
       "6 -157.84889       32.9  \n",
       "7 -157.99920        0.9  \n",
       "8 -157.80250      152.4  "
      ],
      "text/html": [
       "<div>\n",
       "<style scoped>\n",
       "    .dataframe tbody tr th:only-of-type {\n",
       "        vertical-align: middle;\n",
       "    }\n",
       "\n",
       "    .dataframe tbody tr th {\n",
       "        vertical-align: top;\n",
       "    }\n",
       "\n",
       "    .dataframe thead th {\n",
       "        text-align: right;\n",
       "    }\n",
       "</style>\n",
       "<table border=\"1\" class=\"dataframe\">\n",
       "  <thead>\n",
       "    <tr style=\"text-align: right;\">\n",
       "      <th></th>\n",
       "      <th>id</th>\n",
       "      <th>station</th>\n",
       "      <th>name</th>\n",
       "      <th>latitude</th>\n",
       "      <th>longitude</th>\n",
       "      <th>elevation</th>\n",
       "    </tr>\n",
       "  </thead>\n",
       "  <tbody>\n",
       "    <tr>\n",
       "      <th>0</th>\n",
       "      <td>1</td>\n",
       "      <td>USC00519397</td>\n",
       "      <td>WAIKIKI 717.2, HI US</td>\n",
       "      <td>21.27160</td>\n",
       "      <td>-157.81680</td>\n",
       "      <td>3.0</td>\n",
       "    </tr>\n",
       "    <tr>\n",
       "      <th>1</th>\n",
       "      <td>2</td>\n",
       "      <td>USC00513117</td>\n",
       "      <td>KANEOHE 838.1, HI US</td>\n",
       "      <td>21.42340</td>\n",
       "      <td>-157.80150</td>\n",
       "      <td>14.6</td>\n",
       "    </tr>\n",
       "    <tr>\n",
       "      <th>2</th>\n",
       "      <td>3</td>\n",
       "      <td>USC00514830</td>\n",
       "      <td>KUALOA RANCH HEADQUARTERS 886.9, HI US</td>\n",
       "      <td>21.52130</td>\n",
       "      <td>-157.83740</td>\n",
       "      <td>7.0</td>\n",
       "    </tr>\n",
       "    <tr>\n",
       "      <th>3</th>\n",
       "      <td>4</td>\n",
       "      <td>USC00517948</td>\n",
       "      <td>PEARL CITY, HI US</td>\n",
       "      <td>21.39340</td>\n",
       "      <td>-157.97510</td>\n",
       "      <td>11.9</td>\n",
       "    </tr>\n",
       "    <tr>\n",
       "      <th>4</th>\n",
       "      <td>5</td>\n",
       "      <td>USC00518838</td>\n",
       "      <td>UPPER WAHIAWA 874.3, HI US</td>\n",
       "      <td>21.49920</td>\n",
       "      <td>-158.01110</td>\n",
       "      <td>306.6</td>\n",
       "    </tr>\n",
       "    <tr>\n",
       "      <th>5</th>\n",
       "      <td>6</td>\n",
       "      <td>USC00519523</td>\n",
       "      <td>WAIMANALO EXPERIMENTAL FARM, HI US</td>\n",
       "      <td>21.33556</td>\n",
       "      <td>-157.71139</td>\n",
       "      <td>19.5</td>\n",
       "    </tr>\n",
       "    <tr>\n",
       "      <th>6</th>\n",
       "      <td>7</td>\n",
       "      <td>USC00519281</td>\n",
       "      <td>WAIHEE 837.5, HI US</td>\n",
       "      <td>21.45167</td>\n",
       "      <td>-157.84889</td>\n",
       "      <td>32.9</td>\n",
       "    </tr>\n",
       "    <tr>\n",
       "      <th>7</th>\n",
       "      <td>8</td>\n",
       "      <td>USC00511918</td>\n",
       "      <td>HONOLULU OBSERVATORY 702.2, HI US</td>\n",
       "      <td>21.31520</td>\n",
       "      <td>-157.99920</td>\n",
       "      <td>0.9</td>\n",
       "    </tr>\n",
       "    <tr>\n",
       "      <th>8</th>\n",
       "      <td>9</td>\n",
       "      <td>USC00516128</td>\n",
       "      <td>MANOA LYON ARBO 785.2, HI US</td>\n",
       "      <td>21.33310</td>\n",
       "      <td>-157.80250</td>\n",
       "      <td>152.4</td>\n",
       "    </tr>\n",
       "  </tbody>\n",
       "</table>\n",
       "</div>"
      ]
     },
     "metadata": {},
     "execution_count": 12
    }
   ],
   "metadata": {}
  },
  {
   "cell_type": "code",
   "execution_count": 13,
   "source": [
    "### Assign classes to variables \n",
    "Measurement = Base.classes.measurement\n",
    "Station = Base.classes.station"
   ],
   "outputs": [],
   "metadata": {}
  },
  {
   "cell_type": "code",
   "execution_count": 14,
   "source": [
    "# Create our session (link) from Python to the DB\n",
    "session = Session(engine)"
   ],
   "outputs": [],
   "metadata": {}
  },
  {
   "cell_type": "markdown",
   "source": [
    "# Exploratory Precipitation Analysis"
   ],
   "metadata": {}
  },
  {
   "cell_type": "code",
   "execution_count": 15,
   "source": [
    "### This is the first date as a check to make sure things were working while I searched for last date\n",
    "# Find the most recent date in the data set.\n",
    "earliest_date = session.query(Measurement.date).order_by(Measurement.date).first()\n",
    "print(earliest_date)"
   ],
   "outputs": [
    {
     "output_type": "stream",
     "name": "stdout",
     "text": [
      "2021-07-23 15:31:55,787 INFO sqlalchemy.engine.base.Engine BEGIN (implicit)\n",
      "2021-07-23 15:31:55,789 INFO sqlalchemy.engine.base.Engine SELECT measurement.date AS measurement_date \n",
      "FROM measurement ORDER BY measurement.date\n",
      " LIMIT ? OFFSET ?\n",
      "2021-07-23 15:31:55,791 INFO sqlalchemy.engine.base.Engine (1, 0)\n",
      "('2010-01-01',)\n"
     ]
    }
   ],
   "metadata": {}
  },
  {
   "cell_type": "code",
   "execution_count": 16,
   "source": [
    "# find most recent date in the database\n",
    "last_date = session.query(func.max(Measurement.date)).first()\n",
    "print(last_date)"
   ],
   "outputs": [
    {
     "output_type": "stream",
     "name": "stdout",
     "text": [
      "2021-07-23 15:31:59,088 INFO sqlalchemy.engine.base.Engine SELECT max(measurement.date) AS max_1 \n",
      "FROM measurement\n",
      " LIMIT ? OFFSET ?\n",
      "2021-07-23 15:31:59,089 INFO sqlalchemy.engine.base.Engine (1, 0)\n",
      "('2017-08-23',)\n"
     ]
    }
   ],
   "metadata": {}
  },
  {
   "cell_type": "markdown",
   "source": [
    "## Design a query to retrieve the last 12 months of precipitation data and plot the results. "
   ],
   "metadata": {}
  },
  {
   "cell_type": "code",
   "execution_count": 17,
   "source": [
    "# Starting from the most recent data point in the database. \n",
    "# The date that was pulled was a tuple & I saw online to use a marker to pull just the date \n",
    "# end_date = dt.date(last_date[0])  # The date is 2017-08-23; *the code DOES WORK, but I hard-coded to be sure*\n",
    "end_hand = dt.date(2017, 8, 23)\n",
    "# Calculate the date one year from the last date in data set.\n",
    "# start_date = end_date - dt.timedelta(days=365)  # THIS date should be 2016-08-24; hadn't gotten to work yet\n",
    "start_hand = dt.date(2016, 8, 24) \n",
    "print(f'start date is {start_hand} & end date is {end_hand}')"
   ],
   "outputs": [
    {
     "output_type": "stream",
     "name": "stdout",
     "text": [
      "start date is 2016-08-24 & end date is 2017-08-23\n"
     ]
    }
   ],
   "metadata": {}
  },
  {
   "cell_type": "markdown",
   "source": [
    "# Starting from the most recent data point in the database. \n",
    "# The date that was pulled was a tuple & I saw online to use a marker to pull just the date \n",
    "end_date = dt.date(last_date[0])  # The date is 2017-08-23; ***the code DID WORK***\n",
    "# print(end_date)\n",
    "# end_hand = dt.date(2017, 8, 23)\n",
    "# Calculate the date one year from the last date in data set.\n",
    "start_date = end_date - dt.timedelta(days=365)  # THIS date should be 2016-08-24; hadn't gotten to work yet\n",
    "# start_hand = dt.date(2016, 8, 24) \n",
    "print(f'start date is {start_date} & end date is {end_date}')"
   ],
   "metadata": {}
  },
  {
   "cell_type": "markdown",
   "source": [
    "sel = [Dow.stock, \n",
    "       func.avg(Dow.open_price), \n",
    "       func.avg(Dow.high_price), \n",
    "       func.avg(Dow.low_price), \n",
    "       func.avg(Dow.close_price)]\n",
    "may_averages = session.query(*sel).\\\n",
    "    filter(func.strftime(\"%m\", Dow.date) == \"05\").\\\n",
    "    group_by(Dow.stock).\\\n",
    "    order_by(Dow.stock).all()\n",
    "may_averages"
   ],
   "metadata": {}
  },
  {
   "cell_type": "code",
   "execution_count": 46,
   "source": [
    "# V0 produces list of tuples; has appropriate dates, but need to collapse so there is only 1 pair per date\n",
    "precip_output0 = session.query(Measurement.id, Measurement.date, func.sum(Measurement.prcp)).\\\n",
    "    filter(Measurement.date >=start_hand).\\\n",
    "    group_by(Measurement.date).all()\n",
    "    # order_by(Measurement.date)\n",
    "    # all()"
   ],
   "outputs": [
    {
     "output_type": "stream",
     "name": "stdout",
     "text": [
      "2021-07-23 15:59:11,348 INFO sqlalchemy.engine.base.Engine SELECT measurement.id AS measurement_id, measurement.date AS measurement_date, sum(measurement.prcp) AS sum_1 \n",
      "FROM measurement \n",
      "WHERE measurement.date >= ? GROUP BY measurement.date\n",
      "2021-07-23 15:59:11,351 INFO sqlalchemy.engine.base.Engine ('2016-08-24',)\n"
     ]
    }
   ],
   "metadata": {}
  },
  {
   "cell_type": "code",
   "execution_count": 47,
   "source": [
    "print(precip_output0)"
   ],
   "outputs": [
    {
     "output_type": "stream",
     "name": "stdout",
     "text": [
      "[(2365, '2016-08-24', 9.329999999999998), (2366, '2016-08-25', 0.54), (2367, '2016-08-26', 0.09999999999999999), (2368, '2016-08-27', 0.31999999999999995), (2369, '2016-08-28', 3.0999999999999996), (2370, '2016-08-29', 1.46), (2371, '2016-08-30', 0.07), (2372, '2016-08-31', 3.1799999999999997), (2373, '2016-09-01', 0.03), (2374, '2016-09-02', 0.25), (2375, '2016-09-03', 1.27), (2376, '2016-09-04', 1.3800000000000001), (2377, '2016-09-05', 0.33999999999999997), (2378, '2016-09-06', 1.23), (2379, '2016-09-07', 2.0), (2380, '2016-09-08', 0.4600000000000001), (2381, '2016-09-09', 1.0699999999999998), (2382, '2016-09-10', 1.4), (2383, '2016-09-11', 1.25), (2384, '2016-09-12', 1.54), (2385, '2016-09-13', 2.71), (2386, '2016-09-14', 14.280000000000001), (2387, '2016-09-15', 4.96), (2388, '2016-09-16', 0.8200000000000001), (2389, '2016-09-17', 0.6799999999999999), (2390, '2016-09-18', 0.53), (2391, '2016-09-19', 0.32), (2392, '2016-09-20', 1.03), (2393, '2016-09-21', 1.17), (2394, '2016-09-22', 1.44), (2395, '2016-09-23', 1.57), (2396, '2016-09-24', 0.28), (2397, '2016-09-25', 0.09), (2398, '2016-09-26', 1.67), (2399, '2016-09-27', 1.3599999999999999), (2400, '2016-09-28', 0.13), (2401, '2016-09-29', 2.99), (2402, '2016-09-30', 1.15), (2403, '2016-10-01', 1.4500000000000002), (2404, '2016-10-02', 0.72), (2405, '2016-10-03', 0.6900000000000001), (2406, '2016-10-04', 3.4899999999999998), (2407, '2016-10-05', 0.8200000000000001), (2408, '2016-10-06', 0.16), (2409, '2016-10-07', 0.01), (2410, '2016-10-08', 0.04), (2411, '2016-10-09', 0.0), (2412, '2016-10-10', 0.0), (2413, '2016-10-11', 0.69), (2414, '2016-10-12', 0.08), (2415, '2016-10-13', 0.08), (2416, '2016-10-14', 0.0), (2417, '2016-10-15', 0.39), (2418, '2016-10-16', 0.0), (2419, '2016-10-17', 0.55), (2420, '2016-10-18', 0.6), (2421, '2016-10-19', 0.16999999999999998), (2422, '2016-10-20', 1.01), (2423, '2016-10-21', 0.32), (2424, '2016-10-22', 1.77), (2425, '2016-10-23', 0.27999999999999997), (2426, '2016-10-24', 0.7899999999999999), (2427, '2016-10-25', 1.1), (2428, '2016-10-26', 0.29000000000000004), (2429, '2016-10-27', 1.8599999999999999), (2430, '2016-10-28', 0.5700000000000001), (2431, '2016-10-29', 0.64), (2432, '2016-10-30', 1.5899999999999999), (2433, '2016-10-31', 1.61), (2434, '2016-11-01', 0.21000000000000002), (2435, '2016-11-02', 0.04), (2436, '2016-11-03', 0.02), (2437, '2016-11-04', 0.06), (2438, '2016-11-05', 0.45), (2439, '2016-11-06', 0.08), (2440, '2016-11-07', 0.18), (2441, '2016-11-08', 1.12), (2442, '2016-11-09', 0.39999999999999997), (2443, '2016-11-10', 0.01), (2444, '2016-11-11', 0.0), (2445, '2016-11-12', 0.0), (2446, '2016-11-13', 0.0), (2447, '2016-11-14', 0.15), (2448, '2016-11-15', 0.05), (2449, '2016-11-16', 1.54), (2450, '2016-11-17', 0.06), (2451, '2016-11-18', 0.03), (2452, '2016-11-19', 0.38), (2453, '2016-11-20', 0.9500000000000001), (2454, '2016-11-21', 3.08), (2455, '2016-11-22', 5.01), (2456, '2016-11-23', 0.67), (2457, '2016-11-24', 1.48), (2458, '2016-11-25', 1.32), (2459, '2016-11-26', 0.51), (2460, '2016-11-27', 0.55), (2461, '2016-11-28', 0.72), (2462, '2016-11-29', 0.43000000000000005), (2463, '2016-11-30', 1.06), (2464, '2016-12-01', 1.77), (2465, '2016-12-02', 2.36), (2466, '2016-12-03', 2.71), (2467, '2016-12-04', 0.8), (2468, '2016-12-05', 3.24), (2469, '2016-12-06', 0.04), (2470, '2016-12-07', 0.38), (2471, '2016-12-08', 0.4600000000000001), (2472, '2016-12-09', 1.85), (2473, '2016-12-10', 0.13), (2474, '2016-12-11', 0.25), (2475, '2016-12-12', 0.05), (2476, '2016-12-13', 0.77), (2477, '2016-12-14', 1.5), (2478, '2016-12-15', 0.26), (2479, '2016-12-16', 0.04), (2480, '2016-12-17', 0.35000000000000003), (2481, '2016-12-18', 0.89), (2482, '2016-12-19', 0.42000000000000004), (2483, '2016-12-20', 0.03), (2484, '2016-12-21', 0.9), (2485, '2016-12-22', 2.4699999999999998), (2486, '2016-12-23', 1.23), (2487, '2016-12-24', 1.62), (2488, '2016-12-25', 0.43), (2489, '2016-12-26', 2.04), (2490, '2016-12-27', 0.24000000000000002), (2491, '2016-12-28', 0.41000000000000003), (2492, '2016-12-29', 2.38), (2493, '2016-12-30', 3.35), (2494, '2016-12-31', 2.14), (2495, '2017-01-01', 0.35), (2496, '2017-01-02', 0.02), (2497, '2017-01-03', 0.0), (2498, '2017-01-04', 0.18), (2499, '2017-01-05', 0.95), (2500, '2017-01-06', 0.7999999999999999), (2501, '2017-01-07', 0.06), (2502, '2017-01-08', 0.06), (2503, '2017-01-09', 0.0), (2504, '2017-01-10', 0.0), (2505, '2017-01-11', 0.0), (2506, '2017-01-12', 0.0), (2507, '2017-01-13', 0.0), (2508, '2017-01-14', 0.01), (2509, '2017-01-15', 0.01), (2510, '2017-01-16', 0.0), (2511, '2017-01-17', 0.0), (2512, '2017-01-18', 0.07), (2513, '2017-01-19', 0.02), (2514, '2017-01-20', 0.0), (2515, '2017-01-21', 0.27999999999999997), (2516, '2017-01-22', 1.02), (2517, '2017-01-23', 0.94), (2518, '2017-01-24', 2.25), (2519, '2017-01-25', 3.58), (2520, '2017-01-26', 0.11), (2521, '2017-01-27', 0.06), (2522, '2017-01-28', 0.14), (2523, '2017-01-29', 0.99), (2524, '2017-01-30', 0.05), (2525, '2017-01-31', 0.0), (2526, '2017-02-01', 0.0), (2527, '2017-02-02', 0.0), (2528, '2017-02-03', 0.0), (2529, '2017-02-04', 0.0), (2530, '2017-02-05', 0.0), (2531, '2017-02-06', 0.38), (2532, '2017-02-07', 7.4), (2533, '2017-02-08', 1.08), (2534, '2017-02-09', 0.02), (2535, '2017-02-10', 0.0), (2536, '2017-02-11', 11.200000000000001), (2537, '2017-02-12', 10.48), (2538, '2017-02-13', 2.9199999999999995), (2539, '2017-02-14', 0.01), (2540, '2017-02-15', 0.08), (2541, '2017-02-16', 2.2199999999999998), (2542, '2017-02-17', 1.0500000000000003), (2543, '2017-02-18', 0.01), (2544, '2017-02-19', 0.19), (2545, '2017-02-20', 0.0), (2546, '2017-02-21', 0.13), (2547, '2017-02-22', 0.9100000000000001), (2548, '2017-02-23', 0.01), (2549, '2017-02-24', 0.0), (2550, '2017-02-25', 0.15), (2551, '2017-02-26', 0.0), (2552, '2017-02-27', 0.0), (2553, '2017-02-28', 0.82), (2554, '2017-03-01', 11.620000000000001), (2555, '2017-03-02', 6.56), (2556, '2017-03-03', 2.23), (2557, '2017-03-04', 0.0), (2558, '2017-03-05', 1.21), (2559, '2017-03-06', 0.54), (2560, '2017-03-07', 0.0), (2561, '2017-03-08', 0.0), (2562, '2017-03-09', 1.9600000000000002), (2563, '2017-03-10', 0.29000000000000004), (2564, '2017-03-11', 0.04), (2565, '2017-03-12', 0.0), (2566, '2017-03-13', 0.0), (2567, '2017-03-14', 0.06), (2568, '2017-03-15', 0.06), (2569, '2017-03-16', 0.0), (2570, '2017-03-17', 0.72), (2571, '2017-03-18', 0.0), (2572, '2017-03-19', 0.0), (2573, '2017-03-20', 0.02), (2574, '2017-03-21', 0.09), (2575, '2017-03-22', 0.0), (2576, '2017-03-23', 0.05), (2577, '2017-03-24', 1.1300000000000001), (2578, '2017-03-25', 1.9700000000000002), (2579, '2017-03-26', 0.0), (2580, '2017-03-27', 0.01), (2581, '2017-03-28', 0.7100000000000001), (2582, '2017-03-29', 0.19), (2583, '2017-03-30', 0.15), (2584, '2017-03-31', 0.01), (2585, '2017-04-01', 0.41000000000000003), (2586, '2017-04-02', 0.0), (2587, '2017-04-03', 0.66), (2588, '2017-04-04', 0.15), (2589, '2017-04-05', 0.66), (2590, '2017-04-06', 0.06), (2591, '2017-04-07', 0.0), (2592, '2017-04-08', 0.0), (2593, '2017-04-09', 0.0), (2594, '2017-04-10', 0.02), (2595, '2017-04-11', 0.47), (2596, '2017-04-12', 1.08), (2597, '2017-04-13', 1.09), (2598, '2017-04-14', 6.72), (2599, '2017-04-15', 1.7400000000000002), (2600, '2017-04-16', 1.07), (2601, '2017-04-17', 3.0700000000000003), (2602, '2017-04-18', 3.36), (2603, '2017-04-19', 0.2), (2604, '2017-04-20', 0.78), (2605, '2017-04-21', 8.38), (2606, '2017-04-22', 4.960000000000001), (2607, '2017-04-23', 0.45999999999999996), (2608, '2017-04-24', 0.060000000000000005), (2609, '2017-04-25', 0.0), (2610, '2017-04-26', 0.39), (2611, '2017-04-27', 0.42), (2612, '2017-04-28', 4.24), (2613, '2017-04-29', 8.04), (2614, '2017-04-30', 6.42), (2615, '2017-05-01', 0.81), (2616, '2017-05-02', 0.05), (2617, '2017-05-03', 0.03), (2618, '2017-05-04', 0.08), (2619, '2017-05-05', 0.38), (2620, '2017-05-06', 0.06), (2621, '2017-05-07', 0.12000000000000001), (2622, '2017-05-08', 3.01), (5350, '2017-05-09', 4.630000000000001), (2623, '2017-05-10', 0.8600000000000001), (2624, '2017-05-11', 0.6), (2625, '2017-05-12', 0.16), (2626, '2017-05-13', 0.24), (2627, '2017-05-14', 1.22), (2628, '2017-05-15', 0.88), (2629, '2017-05-16', 0.42), (2630, '2017-05-17', 0.15000000000000002), (2631, '2017-05-18', 0.85), (2632, '2017-05-19', 0.04), (2633, '2017-05-20', 0.03), (2634, '2017-05-21', 0.01), (2635, '2017-05-22', 0.36), (2636, '2017-05-23', 0.71), (2637, '2017-05-24', 3.8899999999999997), (2638, '2017-05-25', 2.22), (5367, '2017-05-26', 0.02), (2639, '2017-05-27', 0.51), (2640, '2017-05-28', 0.41000000000000003), (2641, '2017-05-29', 0.42000000000000004), (2642, '2017-05-30', 1.73), (2643, '2017-05-31', 0.37), (2644, '2017-06-01', 0.04), (2645, '2017-06-02', 0.33999999999999997), (2646, '2017-06-03', 0.61), (2647, '2017-06-04', 1.15), (2648, '2017-06-05', 0.08), (2649, '2017-06-06', 0.0), (2650, '2017-06-07', 0.01), (2651, '2017-06-08', 0.03), (2652, '2017-06-09', 0.04), (2653, '2017-06-10', 1.53), (2654, '2017-06-11', 2.15), (2655, '2017-06-12', 1.75), (2656, '2017-06-13', 1.38), (2657, '2017-06-14', 1.57), (2658, '2017-06-15', 2.71), (2659, '2017-06-16', 0.2), (2660, '2017-06-17', 0.54), (2661, '2017-06-18', 1.42), (2662, '2017-06-19', 0.73), (2663, '2017-06-20', 0.55), (2664, '2017-06-21', 0.51), (2665, '2017-06-22', 0.44000000000000006), (2666, '2017-06-23', 0.6699999999999999), (2667, '2017-06-24', 0.64), (2668, '2017-06-25', 0.6), (2669, '2017-06-26', 0.1), (2670, '2017-06-27', 0.11), (2671, '2017-06-28', 0.03), (2672, '2017-06-29', 0.07), (2673, '2017-06-30', 0.52), (2674, '2017-07-01', 0.26), (2675, '2017-07-02', 0.72), (2676, '2017-07-03', 0.74), (2677, '2017-07-04', 0.15000000000000002), (2678, '2017-07-05', 0.0), (2679, '2017-07-06', 0.02), (2680, '2017-07-07', 0.5), (2681, '2017-07-08', 0.1), (2682, '2017-07-09', 0.2), (2683, '2017-07-10', 0.04), (2684, '2017-07-11', 0.03), (2685, '2017-07-12', 0.36000000000000004), (2686, '2017-07-13', 1.81), (2687, '2017-07-14', 0.9500000000000001), (2688, '2017-07-15', 0.19), (2689, '2017-07-16', 0.81), (2690, '2017-07-17', 0.91), (2691, '2017-07-18', 2.53), (5421, '2017-07-19', 0.41000000000000003), (2692, '2017-07-20', 1.24), (2693, '2017-07-21', 0.13), (2694, '2017-07-22', 4.42), (2695, '2017-07-23', 1.1300000000000001), (2696, '2017-07-24', 3.2699999999999996), (2697, '2017-07-25', 0.61), (2698, '2017-07-26', 0.5), (2699, '2017-07-27', 0.01), (2700, '2017-07-28', 0.77), (2701, '2017-07-29', 0.61), (2702, '2017-07-30', 0.3), (2703, '2017-07-31', 0.0), (2704, '2017-08-01', 0.13999999999999999), (2705, '2017-08-02', 0.3), (2706, '2017-08-03', 0.06999999999999999), (2707, '2017-08-04', 0.06), (2708, '2017-08-05', 0.06), (2709, '2017-08-06', 0.0), (2710, '2017-08-07', 0.05), (2711, '2017-08-08', 0.44000000000000006), (2712, '2017-08-09', 0.15), (2713, '2017-08-10', 0.07), (2714, '2017-08-11', 0.0), (2715, '2017-08-12', 0.14), (2716, '2017-08-13', 0.0), (2717, '2017-08-14', 0.31), (2718, '2017-08-15', 0.8200000000000001), (7629, '2017-08-16', 0.61), (7630, '2017-08-17', 0.19), (2719, '2017-08-18', 0.06), (2720, '2017-08-19', 0.09), (2721, '2017-08-20', 0.01), (2722, '2017-08-21', 0.5800000000000001), (2723, '2017-08-22', 0.5), (2724, '2017-08-23', 0.53)]\n"
     ]
    }
   ],
   "metadata": {}
  },
  {
   "cell_type": "code",
   "execution_count": 171,
   "source": [
    "# V1 * * * This version creates empty list\n",
    "# INSTRUCTIONS: Perform a query to retrieve the data and precipitation scores\n",
    "# So what you are actually asking for is a sum across all of the stations? \n",
    "# As opposed to plotting each station separately?\n",
    "\n",
    "## currently has HARD-CODED date\n",
    "\n",
    "precip_output1 = session.query(Measurement.date, func.sum(Measurement.prcp)).\\\n",
    "    filter(func.strftime(\"%m\", Measurement.date) >= start_hand).\\\n",
    "    group_by(Measurement.date).\\\n",
    "    order_by(Measurement.date).all() # when I take out .all(), it doesn't seem to do anything"
   ],
   "outputs": [
    {
     "output_type": "stream",
     "name": "stdout",
     "text": [
      "2021-07-23 13:42:11,228 INFO sqlalchemy.engine.base.Engine SELECT measurement.date AS measurement_date, sum(measurement.prcp) AS sum_1 \n",
      "FROM measurement \n",
      "WHERE strftime(?, measurement.date) >= ? GROUP BY measurement.date ORDER BY measurement.date\n",
      "2021-07-23 13:42:11,230 INFO sqlalchemy.engine.base.Engine ('%m', '2016-08-24')\n"
     ]
    }
   ],
   "metadata": {}
  },
  {
   "cell_type": "code",
   "execution_count": null,
   "source": [
    "# V2 * * * This version creates a list of tuples, BUT has ALL DATES; \n",
    "# difference btwn V1 & V2 is where parens are in filter line\n",
    "\n",
    "## currently has HARD-CODED date\n",
    "#precip_output = session.query(Measurement.date, Measurement.station, Measurement.prcp).\\\n",
    "\n",
    "precip_output2 = session.query(Measurement.date, func.sum(Measurement.prcp)).\\\n",
    "    filter(func.strftime(\"%m\", Measurement.date >= start_hand)).\\\n",
    "    group_by(Measurement.date).\\\n",
    "    order_by(Measurement.date).all()\n",
    "    # group_by(Measurement.date) # returns only the first station's measurements -- WHY?!?!"
   ],
   "outputs": [
    {
     "output_type": "stream",
     "name": "stdout",
     "text": [
      "2021-07-23 13:42:33,389 INFO sqlalchemy.engine.base.Engine SELECT measurement.date AS measurement_date, sum(measurement.prcp) AS sum_1 \n",
      "FROM measurement \n",
      "WHERE strftime(?, measurement.date >= ?) GROUP BY measurement.date ORDER BY measurement.date\n",
      "2021-07-23 13:42:33,392 INFO sqlalchemy.engine.base.Engine ('%m', '2016-08-24')\n"
     ]
    }
   ],
   "metadata": {}
  },
  {
   "cell_type": "code",
   "execution_count": 175,
   "source": [
    "# V3 * * * This version doesn't even seem to populate the filter\n",
    "\n",
    "## currently has HARD-CODED date\n",
    "#precip_output = session.query(Measurement.date, Measurement.station, Measurement.prcp).\\\n",
    "\n",
    "precip_output3 = session.query(Measurement.date, func.sum(Measurement.prcp)).\\\n",
    "    filter(func.strftime(\"%m\", Measurement.date >= start_hand)).\\\n",
    "    order_by(Measurement.date)#.all()\n"
   ],
   "outputs": [],
   "metadata": {}
  },
  {
   "cell_type": "code",
   "execution_count": 178,
   "source": [
    "# V4 * * * This version doesn't even seem to populate the filter\n",
    "\n",
    "## currently has HARD-CODED date\n",
    "#precip_output = session.query(Measurement.date, Measurement.station, Measurement.prcp).\\\n",
    "\n",
    "precip_output4 = session.query(Measurement.date, func.sum(Measurement.prcp)).\\\n",
    "    filter(func.strftime(\"%m\", Measurement.date >= start_hand)) #.\\\n",
    "    # order_by(Measurement.date)#.all()\n"
   ],
   "outputs": [],
   "metadata": {}
  },
  {
   "cell_type": "code",
   "execution_count": 172,
   "source": [
    "# It's not running the filter when I put .all(), but when I don't put .all(), it won't show me anything\n",
    "print(precip_output1)"
   ],
   "outputs": [
    {
     "output_type": "stream",
     "name": "stdout",
     "text": [
      "[]\n"
     ]
    }
   ],
   "metadata": {}
  },
  {
   "cell_type": "code",
   "execution_count": 174,
   "source": [
    "print(precip_output2)"
   ],
   "outputs": [
    {
     "output_type": "stream",
     "name": "stdout",
     "text": [
      "[('2010-01-01', 1.06), ('2010-01-02', 0.02), ('2010-01-03', 0.0), ('2010-01-04', 0.01), ('2010-01-05', 0.03), ('2010-01-06', 0.5800000000000001), ('2010-01-07', 1.65), ('2010-01-08', 0.06), ('2010-01-09', 0.02), ('2010-01-10', 0.02), ('2010-01-11', 0.8800000000000001), ('2010-01-12', 0.02), ('2010-01-13', 0.02), ('2010-01-14', 0.0), ('2010-01-15', 0.0), ('2010-01-16', 0.0), ('2010-01-17', 0.0), ('2010-01-18', 0.0), ('2010-01-19', 0.0), ('2010-01-20', 0.01), ('2010-01-21', 0.65), ('2010-01-22', 0.0), ('2010-01-23', 0.0), ('2010-01-24', 0.02), ('2010-01-25', 0.0), ('2010-01-26', 0.25), ('2010-01-27', 1.6), ('2010-01-28', 0.73), ('2010-01-29', 2.19), ('2010-01-30', 7.3500000000000005), ('2010-01-31', 2.16), ('2010-02-01', 0.05), ('2010-02-02', 0.05), ('2010-02-03', 3.21), ('2010-02-04', 0.02), ('2010-02-05', 0.16), ('2010-02-06', 0.12), ('2010-02-07', 0.01), ('2010-02-08', 0.0), ('2010-02-09', 0.0), ('2010-02-10', 0.0), ('2010-02-11', 0.0), ('2010-02-12', 0.8200000000000001), ('2010-02-13', 0.78), ('2010-02-14', 0.03), ('2010-02-15', 0.0), ('2010-02-16', 0.0), ('2010-02-17', 0.06), ('2010-02-18', 0.0), ('2010-02-19', 0.69), ('2010-02-20', 1.61), ('2010-02-21', 0.22000000000000003), ('2010-02-22', 1.23), ('2010-02-23', 0.03), ('2010-02-24', 0.01), ('2010-02-25', 0.02), ('2010-02-26', 0.02), ('2010-02-27', 0.03), ('2010-02-28', 0.51), ('2010-03-01', 0.2), ('2010-03-02', 0.0), ('2010-03-03', 0.13), ('2010-03-04', 2.9299999999999997), ('2010-03-05', 2.3200000000000003), ('2010-03-06', 2.69), ('2010-03-07', 0.6), ('2010-03-08', 2.74), ('2010-03-09', 0.71), ('2010-03-10', 0.79), ('2010-03-11', 1.1400000000000001), ('2010-03-12', 0.24), ('2010-03-13', 0.13), ('2010-03-14', 0.12000000000000001), ('2010-03-15', 1.58), ('2010-03-16', 3.7300000000000004), ('2010-03-17', 1.96), ('2010-03-18', 2.53), ('2010-03-19', 0.38), ('2010-03-20', 0.19), ('2010-03-21', 1.05), ('2010-03-22', 0.0), ('2010-03-23', 0.01), ('2010-03-24', 0.15000000000000002), ('2010-03-25', 0.6699999999999999), ('2010-03-26', 1.1), ('2010-03-27', 0.03), ('2010-03-28', 0.060000000000000005), ('2010-03-29', 0.17), ('2010-03-30', 0.63), ('2010-03-31', 0.14), ('2010-04-01', 0.13), ('2010-04-02', 0.38), ('2010-04-03', 2.02), ('2010-04-04', 4.0600000000000005), ('2010-04-05', 3.91), ('2010-04-06', 2.5500000000000003), ('2010-04-07', 8.31), ('2010-04-08', 2.11), ('2010-04-09', 1.61), ('2010-04-10', 0.6200000000000001), ('2010-04-11', 1.2), ('2010-04-12', 0.05), ('2010-04-13', 1.1600000000000001), ('2010-04-14', 0.26), ('2010-04-15', 0.0), ('2010-04-16', 0.14), ('2010-04-17', 0.11), ('2010-04-18', 0.23), ('2010-04-19', 0.02), ('2010-04-20', 1.1), ('2010-04-21', 0.47), ('2010-04-22', 0.6700000000000002), ('2010-04-23', 0.6300000000000001), ('2010-04-24', 0.36), ('2010-04-25', 0.09), ('2010-04-26', 0.0), ('2010-04-27', 0.03), ('2010-04-28', 0.72), ('2010-04-29', 1.49), ('2010-04-30', 1.17), ('2010-05-01', 1.25), ('2010-05-02', 0.83), ('2010-05-03', 5.3500000000000005), ('2010-05-04', 0.59), ('2010-05-05', 0.06999999999999999), ('2010-05-06', 0.1), ('2010-05-07', 0.63), ('2010-05-08', 0.15000000000000002), ('2010-05-09', 0.25), ('2010-05-10', 0.65), ('2010-05-11', 0.14), ('2010-05-12', 0.19999999999999998), ('2010-05-13', 0.45), ('2010-05-14', 0.02), ('2010-05-15', 0.6000000000000001), ('2010-05-16', 0.95), ('2010-05-17', 0.16999999999999998), ('2010-05-18', 0.0), ('2010-05-19', 0.0), ('2010-05-20', 1.6500000000000001), ('2010-05-21', 0.9400000000000001), ('2010-05-22', 0.29000000000000004), ('2010-05-23', 1.1300000000000001), ('2010-05-24', 0.62), ('2010-05-25', 1.42), ('2010-05-26', 0.68), ('2010-05-27', 0.05), ('2010-05-28', 0.0), ('2010-05-29', 0.81), ('2010-05-30', 0.05), ('2010-05-31', 0.06), ('2010-06-01', 0.15000000000000002), ('2010-06-02', 0.07), ('2010-06-03', 0.24000000000000002), ('2010-06-04', 0.01), ('2010-06-05', 0.09), ('2010-06-06', 0.13), ('2010-06-07', 0.72), ('2010-06-08', 0.28), ('2010-06-09', 0.0), ('2010-06-10', 0.02), ('2010-06-11', 0.0), ('2010-06-12', 0.03), ('2010-06-13', 0.06), ('2010-06-14', 0.18), ('2010-06-15', 0.14), ('2010-06-16', 0.01), ('2010-06-17', 0.09), ('2010-06-18', 0.81), ('2010-06-19', 0.5700000000000001), ('2010-06-20', 0.05), ('2010-06-21', 0.01), ('2010-06-22', 0.02), ('2010-06-23', 0.17), ('2010-06-24', 0.6900000000000001), ('2010-06-25', 1.55), ('2010-06-26', 1.63), ('2010-06-27', 0.54), ('2010-06-28', 0.44999999999999996), ('2010-06-29', 0.25), ('2010-06-30', 0.84), ('2010-07-01', 0.7), ('2010-07-02', 1.8), ('2010-07-03', 3.43), ('2010-07-04', 1.16), ('2010-07-05', 0.36000000000000004), ('2010-07-06', 2.02), ('2010-07-07', 1.9100000000000001), ('2010-07-08', 1.27), ('2010-07-09', 1.17), ('2010-07-10', 1.73), ('2010-07-11', 0.33999999999999997), ('2010-07-12', 0.25), ('2010-07-13', 0.63), ('2010-07-14', 1.21), ('2010-07-15', 0.5900000000000001), ('2010-07-16', 0.31), ('2010-07-17', 0.66), ('2010-07-18', 2.5700000000000003), ('2010-07-19', 0.68), ('2010-07-20', 1.8), ('2010-07-21', 0.11), ('2010-07-22', 0.52), ('2010-07-23', 1.23), ('2010-07-24', 0.38999999999999996), ('2010-07-25', 0.0), ('2010-07-26', 0.0), ('2010-07-27', 0.57), ('2010-07-28', 0.68), ('2010-07-29', 0.42), ('2010-07-30', 0.36), ('2010-07-31', 0.23000000000000004), ('2010-08-01', 1.27), ('2010-08-02', 2.1799999999999997), ('2010-08-03', 1.02), ('2010-08-04', 2.96), ('2010-08-05', 2.12), ('2010-08-06', 0.69), ('2010-08-07', 0.56), ('2010-08-08', 1.12), ('2010-08-09', 0.29000000000000004), ('2010-08-10', 0.06), ('2010-08-11', 0.42000000000000004), ('2010-08-12', 0.13), ('2010-08-13', 0.46), ('2010-08-14', 0.0), ('2010-08-15', 0.03), ('2010-08-16', 0.97), ('2010-08-17', 1.5), ('2010-08-18', 0.3), ('2010-08-19', 0.79), ('2010-08-20', 0.3), ('2010-08-21', 0.06999999999999999), ('2010-08-22', 0.05), ('2010-08-23', 0.06999999999999999), ('2010-08-24', 0.49), ('2010-08-25', 1.06), ('2010-08-26', 1.04), ('2010-08-27', 1.68), ('2010-08-28', 0.45999999999999996), ('2010-08-29', 1.82), ('2010-08-30', 0.46), ('2010-08-31', 0.51), ('2010-09-01', 0.26), ('2010-09-02', 1.0), ('2010-09-03', 1.5699999999999998), ('2010-09-04', 0.47), ('2010-09-05', 0.45), ('2010-09-06', 0.55), ('2010-09-07', 2.15), ('2010-09-08', 0.56), ('2010-09-09', 0.09), ('2010-09-10', 0.42000000000000004), ('2010-09-11', 0.54), ('2010-09-12', 0.01), ('2010-09-13', 0.02), ('2010-09-14', 0.38), ('2010-09-15', 0.07), ('2010-09-16', 0.27), ('2010-09-17', 0.03), ('2010-09-18', 0.3), ('2010-09-19', 0.98), ('2010-09-20', 0.45999999999999996), ('2010-09-21', 0.37), ('2010-09-22', 2.21), ('2010-09-23', 3.2399999999999998), ('2010-09-24', 0.06), ('2010-09-25', 0.62), ('2010-09-26', 0.0), ('2010-09-27', 0.02), ('2010-09-28', 0.01), ('2010-09-29', 0.0), ('2010-09-30', 2.48), ('2010-10-01', 5.82), ('2010-10-02', 2.77), ('2010-10-03', 0.24), ('2010-10-04', 1.1), ('2010-10-05', 0.54), ('2010-10-06', 0.17), ('2010-10-07', 0.03), ('2010-10-08', 0.01), ('2010-10-09', 0.0), ('2010-10-10', 0.12), ('2010-10-11', 0.52), ('2010-10-12', 0.51), ('2010-10-13', 0.14), ('2010-10-14', 0.04), ('2010-10-15', 0.01), ('2010-10-16', 0.08), ('2010-10-17', 0.43), ('2010-10-18', 0.12000000000000001), ('2010-10-19', 4.29), ('2010-10-20', 0.0), ('2010-10-21', 3.16), ('2010-10-22', 1.3699999999999999), ('2010-10-23', 0.02), ('2010-10-24', 0.0), ('2010-10-25', 0.0), ('2010-10-26', 2.4800000000000004), ('2010-10-27', 1.87), ('2010-10-28', 1.56), ('2010-10-29', 0.81), ('2010-10-30', 2.79), ('2010-10-31', 0.42000000000000004), ('2010-11-01', 3.05), ('2010-11-02', 0.6699999999999999), ('2010-11-03', 1.99), ('2010-11-04', 7.130000000000001), ('2010-11-05', 3.48), ('2010-11-06', 5.779999999999999), ('2010-11-07', 1.37), ('2010-11-08', 0.01), ('2010-11-09', 0.04), ('2010-11-10', 1.1), ('2010-11-11', 0.16999999999999998), ('2010-11-12', 0.14), ('2010-11-13', 0.52), ('2010-11-14', 0.35), ('2010-11-15', 1.92), ('2010-11-16', 0.8999999999999999), ('2010-11-17', 0.03), ('2010-11-18', 0.0), ('2010-11-19', 1.9299999999999997), ('2010-11-20', 0.060000000000000005), ('2010-11-21', 0.16), ('2010-11-22', 0.05), ('2010-11-23', 0.07), ('2010-11-24', 0.27), ('2010-11-25', 0.78), ('2010-11-26', 0.1), ('2010-11-27', 0.2), ('2010-11-28', 3.25), ('2010-11-29', 1.1800000000000002), ('2010-11-30', 0.47000000000000003), ('2010-12-01', 4.52), ('2010-12-02', 0.81), ('2010-12-03', 3.24), ('2010-12-04', 0.19), ('2010-12-05', 0.0), ('2010-12-06', 0.02), ('2010-12-07', 0.02), ('2010-12-08', 0.48), ('2010-12-09', 1.71), ('2010-12-10', 17.19), ('2010-12-11', 5.72), ('2010-12-12', 1.02), ('2010-12-13', 1.54), ('2010-12-14', 0.2), ('2010-12-15', 0.1), ('2010-12-16', 0.05), ('2010-12-17', 0.0), ('2010-12-18', 0.0), ('2010-12-19', 18.79), ('2010-12-20', 23.59), ('2010-12-21', 3.8699999999999997), ('2010-12-22', 0.7400000000000001), ('2010-12-23', 0.38), ('2010-12-24', 0.24), ('2010-12-25', 6.12), ('2010-12-26', 8.21), ('2010-12-27', 0.9900000000000001), ('2010-12-28', 4.5), ('2010-12-29', 0.38), ('2010-12-30', 0.8), ('2010-12-31', 0.17), ('2011-01-01', 1.04), ('2011-01-02', 0.15), ('2011-01-03', 0.47), ('2011-01-04', 0.05), ('2011-01-05', 0.36), ('2011-01-06', 1.02), ('2011-01-07', 0.06), ('2011-01-08', 0.02), ('2011-01-09', 0.08), ('2011-01-10', 0.0), ('2011-01-11', 2.58), ('2011-01-12', 4.49), ('2011-01-13', 33.56), ('2011-01-14', 2.2), ('2011-01-15', 0.04), ('2011-01-16', 0.02), ('2011-01-17', 0.52), ('2011-01-18', 0.27), ('2011-01-19', 0.36), ('2011-01-20', 0.25), ('2011-01-21', 0.6), ('2011-01-22', 0.02), ('2011-01-23', 0.19), ('2011-01-24', 0.060000000000000005), ('2011-01-25', 0.05), ('2011-01-26', 0.08), ('2011-01-27', 0.03), ('2011-01-28', 0.04), ('2011-01-29', 0.22), ('2011-01-30', 0.02), ('2011-01-31', 0.8600000000000001), ('2011-02-01', 0.25), ('2011-02-02', 0.01), ('2011-02-03', 0.0), ('2011-02-04', 0.02), ('2011-02-05', 0.0), ('2011-02-06', 0.31), ('2011-02-07', 6.88), ('2011-02-08', 6.970000000000001), ('2011-02-09', 0.02), ('2011-02-10', 0.69), ('2011-02-11', 3.66), ('2011-02-12', 4.789999999999999), ('2011-02-13', 2.5100000000000002), ('2011-02-14', 0.17), ('2011-02-15', 0.13), ('2011-02-16', 1.26), ('2011-02-17', 0.21000000000000002), ('2011-02-18', 0.66), ('2011-02-19', 0.0), ('2011-02-20', 11.379999999999999), ('2011-02-21', 0.03), ('2011-02-22', 1.06), ('2011-02-23', 0.19000000000000003), ('2011-02-24', 10.010000000000002), ('2011-02-25', 0.05), ('2011-02-26', 0.22999999999999998), ('2011-02-27', 0.19), ('2011-02-28', 0.02), ('2011-03-01', 0.74), ('2011-03-02', 0.01), ('2011-03-03', 1.99), ('2011-03-04', 9.29), ('2011-03-05', 1.56), ('2011-03-06', 3.8500000000000005), ('2011-03-07', 0.37), ('2011-03-08', 1.6800000000000002), ('2011-03-09', 3.53), ('2011-03-10', 6.82), ('2011-03-11', 1.1400000000000001), ('2011-03-12', 0.16000000000000003), ('2011-03-13', 0.02), ('2011-03-14', 0.0), ('2011-03-15', 0.0), ('2011-03-16', 0.01), ('2011-03-17', 0.36000000000000004), ('2011-03-18', 0.47), ('2011-03-19', 0.9000000000000001), ('2011-03-20', 1.78), ('2011-03-21', 0.0), ('2011-03-22', 1.69), ('2011-03-23', 0.6100000000000001), ('2011-03-24', 2.4699999999999998), ('2011-03-25', 0.24000000000000002), ('2011-03-26', 0.66), ('2011-03-27', 0.56), ('2011-03-28', 0.38), ('2011-03-29', 0.25), ('2011-03-30', 0.32999999999999996), ('2011-03-31', 0.02), ('2011-04-01', 2.4000000000000004), ('2011-04-02', 1.2999999999999998), ('2011-04-03', 0.61), ('2011-04-04', 0.060000000000000005), ('2011-04-05', 0.43), ('2011-04-06', 0.72), ('2011-04-07', 11.04), ('2011-04-08', 3.55), ('2011-04-09', 0.44999999999999996), ('2011-04-10', 0.09999999999999999), ('2011-04-11', 0.35), ('2011-04-12', 0.31), ('2011-04-13', 0.06), ('2011-04-14', 0.57), ('2011-04-15', 0.22), ('2011-04-16', 1.01), ('2011-04-17', 0.0), ('2011-04-18', 0.28), ('2011-04-19', 0.02), ('2011-04-20', 0.03), ('2011-04-21', 0.19), ('2011-04-22', 0.0), ('2011-04-23', 0.04), ('2011-04-24', 0.06), ('2011-04-25', 0.23), ('2011-04-26', 0.8600000000000001), ('2011-04-27', 0.44000000000000006), ('2011-04-28', 0.41000000000000003), ('2011-04-29', 1.52), ('2011-04-30', 0.79), ('2011-05-01', 1.24), ('2011-05-02', 2.15), ('2011-05-03', 8.93), ('2011-05-04', 2.8600000000000003), ('2011-05-05', 1.4500000000000002), ('2011-05-06', 5.819999999999999), ('2011-05-07', 6.61), ('2011-05-08', 8.940000000000001), ('2011-05-09', 2.8699999999999997), ('2011-05-10', 1.5600000000000003), ('2011-05-11', 3.3600000000000003), ('2011-05-12', 0.34), ('2011-05-13', 0.36), ('2011-05-14', 0.06), ('2011-05-15', 0.0), ('2011-05-16', 0.02), ('2011-05-17', 0.09), ('2011-05-18', 1.7000000000000002), ('2011-05-19', 0.36), ('2011-05-20', 0.04), ('2011-05-21', 0.09999999999999999), ('2011-05-22', 0.9299999999999999), ('2011-05-23', 0.36), ('2011-05-24', 0.05), ('2011-05-25', 0.14), ('2011-05-26', 0.03), ('2011-05-27', 0.55), ('2011-05-28', 0.06999999999999999), ('2011-05-29', 0.38), ('2011-05-30', 0.19), ('2011-05-31', 0.29000000000000004), ('2011-06-01', 1.29), ('2011-06-02', 0.77), ('2011-06-03', 7.1000000000000005), ('2011-06-04', 10.0), ('2011-06-05', 8.649999999999999), ('2011-06-06', 0.15000000000000002), ('2011-06-07', 0.33), ('2011-06-08', 0.65), ('2011-06-09', 0.21000000000000002), ('2011-06-10', 0.18), ('2011-06-11', 0.21000000000000002), ('2011-06-12', 2.05), ('2011-06-13', 0.7), ('2011-06-14', 0.41000000000000003), ('2011-06-15', 0.06999999999999999), ('2011-06-16', 1.25), ('2011-06-17', 0.21), ('2011-06-18', 0.1), ('2011-06-19', 2.41), ('2011-06-20', 1.2000000000000002), ('2011-06-21', 2.92), ('2011-06-22', 3.8499999999999996), ('2011-06-23', 1.1400000000000001), ('2011-06-24', 2.48), ('2011-06-25', 0.1), ('2011-06-26', 0.56), ('2011-06-27', 1.13), ('2011-06-28', 0.62), ('2011-06-29', 0.14), ('2011-06-30', 0.03), ('2011-07-01', 0.33), ('2011-07-02', 0.17), ('2011-07-03', 0.47), ('2011-07-04', 0.27), ('2011-07-05', 0.52), ('2011-07-06', 0.33999999999999997), ('2011-07-07', 1.1199999999999999), ('2011-07-08', 0.38), ('2011-07-09', 0.21000000000000002), ('2011-07-10', 0.12999999999999998), ('2011-07-11', 0.22), ('2011-07-12', 0.01), ('2011-07-13', 0.19), ('2011-07-14', 0.4), ('2011-07-15', 0.75), ('2011-07-16', 0.37), ('2011-07-17', 1.1), ('2011-07-18', 0.26), ('2011-07-19', 0.11), ('2011-07-20', 1.14), ('2011-07-21', 0.35000000000000003), ('2011-07-22', 1.71), ('2011-07-23', 0.2), ('2011-07-24', 0.42), ('2011-07-25', 0.8099999999999999), ('2011-07-26', 0.38999999999999996), ('2011-07-27', 2.97), ('2011-07-28', 0.28), ('2011-07-29', 1.0899999999999999), ('2011-07-30', 2.31), ('2011-07-31', 0.01), ('2011-08-01', 0.01), ('2011-08-02', 0.38), ('2011-08-03', 0.26), ('2011-08-04', 0.44), ('2011-08-05', 0.67), ('2011-08-06', 0.11000000000000001), ('2011-08-07', 0.39), ('2011-08-08', 0.01), ('2011-08-09', 2.02), ('2011-08-10', 0.04), ('2011-08-11', 0.22), ('2011-08-12', 0.09000000000000001), ('2011-08-13', 0.12), ('2011-08-14', 0.65), ('2011-08-15', 0.64), ('2011-08-16', 0.31000000000000005), ('2011-08-17', 0.79), ('2011-08-18', 0.22), ('2011-08-19', 0.19), ('2011-08-20', 0.5), ('2011-08-21', 0.35), ('2011-08-22', 0.46), ('2011-08-23', 0.62), ('2011-08-24', 0.38), ('2011-08-25', 0.51), ('2011-08-26', 0.38), ('2011-08-27', 0.75), ('2011-08-28', 1.04), ('2011-08-29', 1.81), ('2011-08-30', 1.15), ('2011-08-31', 0.7899999999999999), ('2011-09-01', 0.61), ('2011-09-02', 0.63), ('2011-09-03', 0.07), ('2011-09-04', 0.24), ('2011-09-05', 0.05), ('2011-09-06', 0.22), ('2011-09-07', 0.02), ('2011-09-08', 0.08), ('2011-09-09', 0.09), ('2011-09-10', 0.84), ('2011-09-11', 0.39), ('2011-09-12', 0.38), ('2011-09-13', 0.66), ('2011-09-14', 0.3), ('2011-09-15', 0.52), ('2011-09-16', 2.4699999999999998), ('2011-09-17', 0.36), ('2011-09-18', 1.6), ('2011-09-19', 0.39), ('2011-09-20', 0.17), ('2011-09-21', 0.38), ('2011-09-22', 0.53), ('2011-09-23', 0.5), ('2011-09-24', 0.03), ('2011-09-25', 0.0), ('2011-09-26', 0.0), ('2011-09-27', 0.0), ('2011-09-28', 0.30000000000000004), ('2011-09-29', 0.14), ('2011-09-30', 0.21000000000000002), ('2011-10-01', 0.2), ('2011-10-02', 0.03), ('2011-10-03', 0.0), ('2011-10-04', 0.8899999999999999), ('2011-10-05', 0.37000000000000005), ('2011-10-06', 0.8), ('2011-10-07', 0.77), ('2011-10-08', 0.17), ('2011-10-09', 0.28), ('2011-10-10', 0.02), ('2011-10-11', 0.37000000000000005), ('2011-10-12', 0.02), ('2011-10-13', 0.28), ('2011-10-14', 0.83), ('2011-10-15', 2.46), ('2011-10-16', 0.06), ('2011-10-17', 0.6799999999999999), ('2011-10-18', 0.9), ('2011-10-19', 1.43), ('2011-10-20', 0.42000000000000004), ('2011-10-21', 0.47000000000000003), ('2011-10-22', 0.65), ('2011-10-23', 3.04), ('2011-10-24', 7.949999999999999), ('2011-10-25', 1.6600000000000001), ('2011-10-26', 0.05), ('2011-10-27', 0.04), ('2011-10-28', 0.5700000000000001), ('2011-10-29', 0.21000000000000002), ('2011-10-30', 0.6600000000000001), ('2011-10-31', 2.06), ('2011-11-01', 6.62), ('2011-11-02', 1.75), ('2011-11-03', 1.2399999999999998), ('2011-11-04', 4.01), ('2011-11-05', 0.39), ('2011-11-06', 0.23), ('2011-11-07', 0.16), ('2011-11-08', 0.5700000000000001), ('2011-11-09', 0.6400000000000001), ('2011-11-10', 0.36), ('2011-11-11', 2.45), ('2011-11-12', 0.51), ('2011-11-13', 0.16), ('2011-11-14', 0.08), ('2011-11-15', 0.0), ('2011-11-16', 0.0), ('2011-11-17', 0.15000000000000002), ('2011-11-18', 0.31999999999999995), ('2011-11-19', 0.6799999999999999), ('2011-11-20', 0.5), ('2011-11-21', 1.7599999999999998), ('2011-11-22', 1.3699999999999999), ('2011-11-23', 0.15999999999999998), ('2011-11-24', 0.03), ('2011-11-25', 0.27), ('2011-11-26', 0.02), ('2011-11-27', 0.36), ('2011-11-28', 0.01), ('2011-11-29', 0.14), ('2011-11-30', 1.74), ('2011-12-01', 0.51), ('2011-12-02', 1.64), ('2011-12-03', 0.25), ('2011-12-04', 0.06), ('2011-12-05', 0.23), ('2011-12-06', 0.13), ('2011-12-07', 0.46), ('2011-12-08', 0.66), ('2011-12-09', 0.6100000000000001), ('2011-12-10', 0.8700000000000001), ('2011-12-11', 4.18), ('2011-12-12', 3.26), ('2011-12-13', 13.149999999999999), ('2011-12-14', 3.2300000000000004), ('2011-12-15', 1.66), ('2011-12-16', 1.23), ('2011-12-17', 1.35), ('2011-12-18', 0.6100000000000001), ('2011-12-19', 1.62), ('2011-12-20', 0.5), ('2011-12-21', 2.99), ('2011-12-22', 0.63), ('2011-12-23', 0.62), ('2011-12-24', 1.1400000000000001), ('2011-12-25', 0.77), ('2011-12-26', 0.1), ('2011-12-27', 0.18), ('2011-12-28', 0.11), ('2011-12-29', 0.02), ('2011-12-30', 0.08), ('2011-12-31', 0.49), ('2012-01-01', 0.07), ('2012-01-02', 0.19), ('2012-01-03', 0.0), ('2012-01-04', 0.1), ('2012-01-05', 0.36), ('2012-01-06', 0.0), ('2012-01-07', 0.0), ('2012-01-08', 0.0), ('2012-01-09', 0.12), ('2012-01-10', 0.09), ('2012-01-11', 0.16), ('2012-01-12', 0.32), ('2012-01-13', 0.02), ('2012-01-14', 0.0), ('2012-01-15', 0.0), ('2012-01-16', 1.31), ('2012-01-17', 0.66), ('2012-01-18', 1.36), ('2012-01-19', 0.03), ('2012-01-20', 0.0), ('2012-01-21', 0.01), ('2012-01-22', 0.03), ('2012-01-23', 0.29000000000000004), ('2012-01-24', 0.0), ('2012-01-25', 1.98), ('2012-01-26', 0.06), ('2012-01-27', 2.21), ('2012-01-28', 0.25), ('2012-01-29', 1.9100000000000001), ('2012-01-30', 0.66), ('2012-01-31', 0.17), ('2012-02-01', 0.01), ('2012-02-02', 0.0), ('2012-02-03', 0.0), ('2012-02-04', 0.0), ('2012-02-05', 0.0), ('2012-02-06', 0.49), ('2012-02-07', 3.4499999999999993), ('2012-02-08', 2.9000000000000004), ('2012-02-09', 0.08), ('2012-02-10', 0.01), ('2012-02-11', 0.01), ('2012-02-12', 0.07), ('2012-02-13', 1.42), ('2012-02-14', 0.13999999999999999), ('2012-02-15', 0.05), ('2012-02-16', 0.0), ('2012-02-17', 0.55), ('2012-02-18', 1.03), ('2012-02-19', 2.01), ('2012-02-20', 0.05), ('2012-02-21', 0.02), ('2012-02-22', 0.12), ('2012-02-23', 1.6500000000000001), ('2012-02-24', 0.8300000000000001), ('2012-02-25', 0.13), ('2012-02-26', 1.51), ('2012-02-27', 0.9), ('2012-02-28', 0.48000000000000004), ('2012-02-29', 0.6000000000000001), ('2012-03-01', 0.7), ('2012-03-02', 0.26), ('2012-03-03', 6.1899999999999995), ('2012-03-04', 4.96), ('2012-03-05', 22.73), ('2012-03-06', 22.619999999999997), ('2012-03-07', 16.38), ('2012-03-08', 3.71), ('2012-03-09', 10.26), ('2012-03-10', 4.790000000000001), ('2012-03-11', 0.6799999999999999), ('2012-03-12', 2.2), ('2012-03-13', 0.47000000000000003), ('2012-03-14', 0.03), ('2012-03-15', 0.11), ('2012-03-16', 0.2), ('2012-03-17', 0.05), ('2012-03-18', 0.9), ('2012-03-19', 2.0300000000000002), ('2012-03-20', 0.12), ('2012-03-21', 0.66), ('2012-03-22', 0.86), ('2012-03-23', 0.09), ('2012-03-24', 0.24), ('2012-03-25', 2.27), ('2012-03-26', 0.67), ('2012-03-27', 0.94), ('2012-03-28', 0.22999999999999998), ('2012-03-29', 0.0), ('2012-03-30', 0.02), ('2012-03-31', 0.0), ('2012-04-01', 0.04), ('2012-04-02', 0.0), ('2012-04-03', 0.0), ('2012-04-04', 0.12), ('2012-04-05', 1.52), ('2012-04-06', 0.1), ('2012-04-07', 2.16), ('2012-04-08', 0.04), ('2012-04-09', 3.8200000000000003), ('2012-04-10', 2.6100000000000003), ('2012-04-11', 2.39), ('2012-04-12', 0.66), ('2012-04-13', 0.43), ('2012-04-14', 0.02), ('2012-04-15', 0.38), ('2012-04-16', 0.22), ('2012-04-17', 0.01), ('2012-04-18', 0.01), ('2012-04-19', 0.03), ('2012-04-20', 0.08), ('2012-04-21', 0.03), ('2012-04-22', 0.44), ('2012-04-23', 2.3000000000000003), ('2012-04-24', 0.23), ('2012-04-25', 0.43), ('2012-04-26', 0.66), ('2012-04-27', 0.8800000000000001), ('2012-04-28', 0.77), ('2012-04-29', 0.2), ('2012-04-30', 0.16999999999999998), ('2012-05-01', 0.05), ('2012-05-02', 0.8899999999999999), ('2012-05-03', 0.5), ('2012-05-04', 1.53), ('2012-05-05', 1.34), ('2012-05-06', 0.17), ('2012-05-07', 0.65), ('2012-05-08', 0.04), ('2012-05-09', 0.05), ('2012-05-10', 0.0), ('2012-05-11', 0.33), ('2012-05-12', 0.01), ('2012-05-13', 0.0), ('2012-05-14', 0.0), ('2012-05-15', 0.0), ('2012-05-16', 0.05), ('2012-05-17', 0.07), ('2012-05-18', 0.39999999999999997), ('2012-05-19', 0.16), ('2012-05-20', 0.05), ('2012-05-21', 0.45), ('2012-05-22', 0.0), ('2012-05-23', 0.0), ('2012-05-24', 0.18), ('2012-05-25', 0.35), ('2012-05-26', 0.5), ('2012-05-27', 0.7200000000000001), ('2012-05-28', 0.35), ('2012-05-29', 0.03), ('2012-05-30', 0.02), ('2012-05-31', 0.87), ('2012-06-01', 0.46), ('2012-06-02', 0.37), ('2012-06-03', 0.0), ('2012-06-04', 0.02), ('2012-06-05', 0.0), ('2012-06-06', 0.98), ('2012-06-07', 0.19), ('2012-06-08', 0.31), ('2012-06-09', 0.0), ('2012-06-10', 0.08), ('2012-06-11', 0.22999999999999998), ('2012-06-12', 0.33), ('2012-06-13', 0.64), ('2012-06-14', 0.75), ('2012-06-15', 0.0), ('2012-06-16', 0.0), ('2012-06-17', 0.14), ('2012-06-18', 0.0), ('2012-06-19', 0.68), ('2012-06-20', 2.63), ('2012-06-21', 0.7), ('2012-06-22', 0.05), ('2012-06-23', 1.77), ('2012-06-24', 1.54), ('2012-06-25', 1.73), ('2012-06-26', 1.73), ('2012-06-27', 1.76), ('2012-06-28', 0.38), ('2012-06-29', 1.33), ('2012-06-30', 0.03), ('2012-07-01', 0.23000000000000004), ('2012-07-02', 0.33), ('2012-07-03', 2.0100000000000002), ('2012-07-04', 1.6800000000000002), ('2012-07-05', 1.48), ('2012-07-06', 1.44), ('2012-07-07', 1.3399999999999999), ('2012-07-08', 0.07), ('2012-07-09', 0.02), ('2012-07-10', 0.16999999999999998), ('2012-07-11', 0.42000000000000004), ('2012-07-12', 0.02), ('2012-07-13', 1.05), ('2012-07-14', 0.56), ('2012-07-15', 0.21), ('2012-07-16', 1.26), ('2012-07-17', 1.15), ('2012-07-18', 1.22), ('2012-07-19', 0.8200000000000001), ('2012-07-20', 1.1600000000000001), ('2012-07-21', 0.5700000000000001), ('2012-07-22', 0.51), ('2012-07-23', 0.5700000000000001), ('2012-07-24', 0.23), ('2012-07-25', 0.43), ('2012-07-26', 0.04), ('2012-07-27', 0.34), ('2012-07-28', 1.61), ('2012-07-29', 3.34), ('2012-07-30', 0.59), ('2012-07-31', 0.83), ('2012-08-01', 0.05), ('2012-08-02', 0.0), ('2012-08-03', 0.09), ('2012-08-04', 0.08), ('2012-08-05', 0.77), ('2012-08-06', 0.69), ('2012-08-07', 0.28), ('2012-08-08', 0.52), ('2012-08-09', 0.23), ('2012-08-10', 0.03), ('2012-08-11', 0.5800000000000001), ('2012-08-12', 0.38), ('2012-08-13', 0.09999999999999999), ('2012-08-14', 0.56), ('2012-08-15', 0.05), ('2012-08-16', 0.03), ('2012-08-17', 0.24), ('2012-08-18', 0.31000000000000005), ('2012-08-19', 0.09), ('2012-08-20', 0.41000000000000003), ('2012-08-21', 0.47), ('2012-08-22', 1.01), ('2012-08-23', 0.2), ('2012-08-24', 0.54), ('2012-08-25', 0.0), ('2012-08-26', 0.03), ('2012-08-27', 0.09), ('2012-08-28', 3.31), ('2012-08-29', 1.35), ('2012-08-30', 1.03), ('2012-08-31', 0.33), ('2012-09-01', 0.15000000000000002), ('2012-09-02', 0.91), ('2012-09-03', 0.41000000000000003), ('2012-09-04', 0.09), ('2012-09-05', 0.74), ('2012-09-06', 0.46), ('2012-09-07', 1.63), ('2012-09-08', 2.9699999999999998), ('2012-09-09', 2.9499999999999997), ('2012-09-10', 0.6499999999999999), ('2012-09-11', 0.54), ('2012-09-12', 0.37), ('2012-09-13', 0.16), ('2012-09-14', 0.89), ('2012-09-15', 0.52), ('2012-09-16', 0.76), ('2012-09-17', 0.35), ('2012-09-18', 0.61), ('2012-09-19', 1.48), ('2012-09-20', 1.71), ('2012-09-21', 1.38), ('2012-09-22', 0.2), ('2012-09-23', 1.26), ('2012-09-24', 1.96), ('2012-09-25', 0.65), ('2012-09-26', 0.33999999999999997), ('2012-09-27', 0.19), ('2012-09-28', 0.5700000000000001), ('2012-09-29', 0.11), ('2012-09-30', 0.06999999999999999), ('2012-10-01', 0.13999999999999999), ('2012-10-02', 0.12), ('2012-10-03', 0.0), ('2012-10-04', 0.0), ('2012-10-05', 0.0), ('2012-10-06', 0.03), ('2012-10-07', 0.01), ('2012-10-08', 0.2), ('2012-10-09', 0.01), ('2012-10-10', 0.0), ('2012-10-11', 0.78), ('2012-10-12', 0.01), ('2012-10-13', 0.0), ('2012-10-14', 0.13), ('2012-10-15', 0.62), ('2012-10-16', 0.22), ('2012-10-17', 0.37), ('2012-10-18', 0.25), ('2012-10-19', 0.2), ('2012-10-20', 0.0), ('2012-10-21', 0.12), ('2012-10-22', 0.0), ('2012-10-23', 0.1), ('2012-10-24', 0.13999999999999999), ('2012-10-25', 1.98), ('2012-10-26', 0.02), ('2012-10-27', 0.01), ('2012-10-28', 0.6699999999999999), ('2012-10-29', 0.78), ('2012-10-30', 0.4), ('2012-10-31', 0.33), ('2012-11-01', 0.04), ('2012-11-02', 0.0), ('2012-11-03', 0.0), ('2012-11-04', 0.0), ('2012-11-05', 0.02), ('2012-11-06', 0.88), ('2012-11-07', 0.5599999999999999), ('2012-11-08', 0.55), ('2012-11-09', 0.42000000000000004), ('2012-11-10', 0.24), ('2012-11-11', 0.02), ('2012-11-12', 0.28), ('2012-11-13', 0.71), ('2012-11-14', 0.54), ('2012-11-15', 1.4100000000000001), ('2012-11-16', 1.6), ('2012-11-17', 0.54), ('2012-11-18', 0.49), ('2012-11-19', 0.31), ('2012-11-20', 0.38), ('2012-11-21', 0.12), ('2012-11-22', 1.08), ('2012-11-23', 0.09000000000000001), ('2012-11-24', 0.35), ('2012-11-25', 0.01), ('2012-11-26', 0.81), ('2012-11-27', 0.04), ('2012-11-28', 0.01), ('2012-11-29', 0.0), ('2012-11-30', 0.01), ('2012-12-01', 0.0), ('2012-12-02', 0.01), ('2012-12-03', 0.0), ('2012-12-04', 0.48000000000000004), ('2012-12-05', 1.6400000000000001), ('2012-12-06', 0.03), ('2012-12-07', 0.0), ('2012-12-08', 0.01), ('2012-12-09', 0.04), ('2012-12-10', 0.22999999999999998), ('2012-12-11', 0.0), ('2012-12-12', 0.4), ('2012-12-13', 1.23), ('2012-12-14', 1.67), ('2012-12-15', 0.8799999999999999), ('2012-12-16', 0.6599999999999999), ('2012-12-17', 0.81), ('2012-12-18', 3.49), ('2012-12-19', 1.1600000000000001), ('2012-12-20', 2.42), ('2012-12-21', 0.8), ('2012-12-22', 0.21), ('2012-12-23', 0.12000000000000001), ('2012-12-24', 0.0), ('2012-12-25', 0.14), ('2012-12-26', 0.28), ('2012-12-27', 0.02), ('2012-12-28', 0.0), ('2012-12-29', 0.01), ('2012-12-30', 0.69), ('2012-12-31', 0.67), ('2013-01-01', 1.1600000000000001), ('2013-01-02', 2.66), ('2013-01-03', 7.97), ('2013-01-04', 3.41), ('2013-01-05', 2.0700000000000003), ('2013-01-06', 1.35), ('2013-01-07', 0.73), ('2013-01-08', 0.81), ('2013-01-09', 4.46), ('2013-01-10', 0.43000000000000005), ('2013-01-11', 0.12), ('2013-01-12', 0.4), ('2013-01-13', 1.1400000000000001), ('2013-01-14', 0.05), ('2013-01-15', 5.78), ('2013-01-16', 0.02), ('2013-01-17', 0.16), ('2013-01-18', 0.01), ('2013-01-19', 0.09), ('2013-01-20', 0.0), ('2013-01-21', 0.0), ('2013-01-22', 0.0), ('2013-01-23', 1.26), ('2013-01-24', 3.98), ('2013-01-25', 3.2700000000000005), ('2013-01-26', 0.19), ('2013-01-27', 0.33), ('2013-01-28', 12.46), ('2013-01-29', 3.26), ('2013-01-30', 0.22), ('2013-01-31', 0.07), ('2013-02-01', 0.09), ('2013-02-02', 0.0), ('2013-02-03', 0.0), ('2013-02-04', 0.01), ('2013-02-05', 0.25), ('2013-02-06', 1.03), ('2013-02-07', 1.8), ('2013-02-08', 1.3199999999999998), ('2013-02-09', 0.06999999999999999), ('2013-02-10', 0.02), ('2013-02-11', 0.68), ('2013-02-12', 1.7999999999999998), ('2013-02-13', 0.09000000000000001), ('2013-02-14', 0.01), ('2013-02-15', 0.09), ('2013-02-16', 0.36), ('2013-02-17', 0.0), ('2013-02-18', 0.0), ('2013-02-19', 1.01), ('2013-02-20', 1.5500000000000003), ('2013-02-21', 1.35), ('2013-02-22', 8.270000000000001), ('2013-02-23', 2.92), ('2013-02-24', 1.49), ('2013-02-25', 0.21000000000000002), ('2013-02-26', 0.82), ('2013-02-27', 0.21999999999999997), ('2013-02-28', 0.13), ('2013-03-01', 0.03), ('2013-03-02', 0.07), ('2013-03-03', 0.0), ('2013-03-04', 0.0), ('2013-03-05', 0.0), ('2013-03-06', 0.06), ('2013-03-07', 0.26), ('2013-03-08', 0.29000000000000004), ('2013-03-09', 0.3), ('2013-03-10', 10.73), ('2013-03-11', 7.569999999999999), ('2013-03-12', 0.06999999999999999), ('2013-03-13', 0.13), ('2013-03-14', 0.16), ('2013-03-15', 0.0), ('2013-03-16', 0.01), ('2013-03-17', 0.0), ('2013-03-18', 0.58), ('2013-03-19', 0.19), ('2013-03-20', 0.0), ('2013-03-21', 0.0), ('2013-03-22', 0.09), ('2013-03-23', 1.1), ('2013-03-24', 1.72), ('2013-03-25', 3.1000000000000005), ('2013-03-26', 0.1), ('2013-03-27', 0.21000000000000002), ('2013-03-28', 2.2600000000000002), ('2013-03-29', 2.1900000000000004), ('2013-03-30', 0.8300000000000001), ('2013-03-31', 0.33), ('2013-04-01', 0.0), ('2013-04-02', 0.03), ('2013-04-03', 0.07), ('2013-04-04', 0.5800000000000001), ('2013-04-05', 0.0), ('2013-04-06', 0.2), ('2013-04-07', 0.04), ('2013-04-08', 0.0), ('2013-04-09', 0.3), ('2013-04-10', 0.72), ('2013-04-11', 0.13), ('2013-04-12', 0.26), ('2013-04-13', 0.12), ('2013-04-14', 0.11), ('2013-04-15', 4.359999999999999), ('2013-04-16', 0.65), ('2013-04-17', 0.0), ('2013-04-18', 0.09000000000000001), ('2013-04-19', 0.97), ('2013-04-20', 2.16), ('2013-04-21', 0.02), ('2013-04-22', 2.18), ('2013-04-23', 1.1900000000000002), ('2013-04-24', 7.5), ('2013-04-25', 2.7199999999999998), ('2013-04-26', 0.02), ('2013-04-27', 0.0), ('2013-04-28', 0.0), ('2013-04-29', 0.0), ('2013-04-30', 0.0), ('2013-05-01', 0.6900000000000001), ('2013-05-02', 0.63), ('2013-05-03', 0.13), ('2013-05-04', 0.16), ('2013-05-05', 3.7199999999999993), ('2013-05-06', 2.76), ('2013-05-07', 0.06), ('2013-05-08', 0.0), ('2013-05-09', 0.0), ('2013-05-10', 0.4), ('2013-05-11', 2.0300000000000002), ('2013-05-12', 2.3800000000000003), ('2013-05-13', 8.719999999999999), ('2013-05-14', 1.33), ('2013-05-15', 0.03), ('2013-05-16', 0.77), ('2013-05-17', 0.19), ('2013-05-18', 0.4), ('2013-05-19', 0.6399999999999999), ('2013-05-20', 2.7900000000000005), ('2013-05-21', 0.02), ('2013-05-22', 0.02), ('2013-05-23', 0.03), ('2013-05-24', 0.0), ('2013-05-25', 0.6900000000000001), ('2013-05-26', 1.25), ('2013-05-27', 0.13), ('2013-05-28', 2.06), ('2013-05-29', 5.12), ('2013-05-30', 6.3), ('2013-05-31', 0.32), ('2013-06-01', 0.83), ('2013-06-02', 1.08), ('2013-06-03', 0.61), ('2013-06-04', 0.03), ('2013-06-05', 0.02), ('2013-06-06', 0.17), ('2013-06-07', 0.15000000000000002), ('2013-06-08', 0.08), ('2013-06-09', 0.03), ('2013-06-10', 0.05), ('2013-06-11', 0.07), ('2013-06-12', 0.32), ('2013-06-13', 0.6699999999999999), ('2013-06-14', 3.55), ('2013-06-15', 0.22), ('2013-06-16', 0.32999999999999996), ('2013-06-17', 0.53), ('2013-06-18', 0.63), ('2013-06-19', 0.14), ('2013-06-20', 0.36), ('2013-06-21', 2.85), ('2013-06-22', 3.2800000000000002), ('2013-06-23', 0.8300000000000001), ('2013-06-24', 1.22), ('2013-06-25', 2.67), ('2013-06-26', 5.279999999999999), ('2013-06-27', 0.26), ('2013-06-28', 0.4), ('2013-06-29', 1.3399999999999999), ('2013-06-30', 1.56), ('2013-07-01', 0.03), ('2013-07-02', 0.8799999999999999), ('2013-07-03', 1.25), ('2013-07-04', 0.35), ('2013-07-05', 0.0), ('2013-07-06', 0.01), ('2013-07-07', 0.0), ('2013-07-08', 0.07), ('2013-07-09', 0.24), ('2013-07-10', 0.67), ('2013-07-11', 0.45), ('2013-07-12', 0.77), ('2013-07-13', 0.23), ('2013-07-14', 0.0), ('2013-07-15', 0.2), ('2013-07-16', 0.28), ('2013-07-17', 0.02), ('2013-07-18', 0.03), ('2013-07-19', 0.2), ('2013-07-20', 0.44), ('2013-07-21', 0.32), ('2013-07-22', 0.5), ('2013-07-23', 2.6399999999999997), ('2013-07-24', 0.03), ('2013-07-25', 0.01), ('2013-07-26', 0.01), ('2013-07-27', 0.07), ('2013-07-28', 0.5900000000000001), ('2013-07-29', 0.67), ('2013-07-30', 1.8199999999999998), ('2013-07-31', 1.1600000000000001), ('2013-08-01', 0.83), ('2013-08-02', 0.19), ('2013-08-03', 0.21), ('2013-08-04', 0.33999999999999997), ('2013-08-05', 0.49), ('2013-08-06', 0.34), ('2013-08-07', 0.0), ('2013-08-08', 0.0), ('2013-08-09', 0.31000000000000005), ('2013-08-10', 11.780000000000001), ('2013-08-11', 3.7800000000000002), ('2013-08-12', 0.49), ('2013-08-13', 0.03), ('2013-08-14', 0.56), ('2013-08-15', 0.0), ('2013-08-16', 0.18000000000000002), ('2013-08-17', 0.0), ('2013-08-18', 0.0), ('2013-08-19', 0.03), ('2013-08-20', 0.02), ('2013-08-21', 2.44), ('2013-08-22', 0.01), ('2013-08-23', 0.01), ('2013-08-24', 0.24000000000000002), ('2013-08-25', 0.0), ('2013-08-26', 0.0), ('2013-08-27', 0.0), ('2013-08-28', 0.0), ('2013-08-29', 0.8300000000000001), ('2013-08-30', 0.16), ('2013-08-31', 0.29000000000000004), ('2013-09-01', 0.99), ('2013-09-02', 0.08), ('2013-09-03', 0.18), ('2013-09-04', 0.27), ('2013-09-05', 0.02), ('2013-09-06', 0.02), ('2013-09-07', 3.13), ('2013-09-08', 0.48), ('2013-09-09', 0.07), ('2013-09-10', 0.01), ('2013-09-11', 0.5700000000000001), ('2013-09-12', 0.1), ('2013-09-13', 4.9799999999999995), ('2013-09-14', 2.05), ('2013-09-15', 0.97), ('2013-09-16', 0.03), ('2013-09-17', 0.9400000000000001), ('2013-09-18', 1.28), ('2013-09-19', 0.23), ('2013-09-20', 0.01), ('2013-09-21', 0.060000000000000005), ('2013-09-22', 0.53), ('2013-09-23', 0.39), ('2013-09-24', 0.43000000000000005), ('2013-09-25', 1.42), ('2013-09-26', 1.43), ('2013-09-27', 0.1), ('2013-09-28', 0.11), ('2013-09-29', 0.79), ('2013-09-30', 0.95), ('2013-10-01', 1.2800000000000002), ('2013-10-02', 0.25), ('2013-10-03', 0.08), ('2013-10-04', 0.11000000000000001), ('2013-10-05', 0.76), ('2013-10-06', 0.73), ('2013-10-07', 0.6599999999999999), ('2013-10-08', 0.23), ('2013-10-09', 1.04), ('2013-10-10', 0.8600000000000001), ('2013-10-11', 2.7500000000000004), ('2013-10-12', 2.4699999999999998), ('2013-10-13', 0.02), ('2013-10-14', 3.61), ('2013-10-15', 2.15), ('2013-10-16', 1.4200000000000002), ('2013-10-17', 0.2), ('2013-10-18', 0.09), ('2013-10-19', 0.07), ('2013-10-20', 0.060000000000000005), ('2013-10-21', 0.060000000000000005), ('2013-10-22', 0.01), ('2013-10-23', 0.05), ('2013-10-24', 0.25), ('2013-10-25', 0.37), ('2013-10-26', 0.32), ('2013-10-27', 0.01), ('2013-10-28', 0.8899999999999999), ('2013-10-29', 0.09), ('2013-10-30', 0.12), ('2013-10-31', 0.9400000000000001), ('2013-11-01', 0.12), ('2013-11-02', 0.8300000000000001), ('2013-11-03', 0.02), ('2013-11-04', 0.25), ('2013-11-05', 0.25), ('2013-11-06', 1.8), ('2013-11-07', 1.2400000000000002), ('2013-11-08', 3.4200000000000004), ('2013-11-09', 4.67), ('2013-11-10', 27.07), ('2013-11-11', 2.83), ('2013-11-12', 0.76), ('2013-11-13', 0.13999999999999999), ('2013-11-14', 0.08), ('2013-11-15', 4.5600000000000005), ('2013-11-16', 0.04), ('2013-11-17', 0.01), ('2013-11-18', 0.17), ('2013-11-19', 0.01), ('2013-11-20', 0.0), ('2013-11-21', 0.0), ('2013-11-22', 0.01), ('2013-11-23', 0.3), ('2013-11-24', 0.02), ('2013-11-25', 0.0), ('2013-11-26', 0.0), ('2013-11-27', 0.0), ('2013-11-28', 0.12000000000000001), ('2013-11-29', 0.97), ('2013-11-30', 3.4799999999999995), ('2013-12-01', 0.81), ('2013-12-02', 9.79), ('2013-12-03', 1.8199999999999998), ('2013-12-04', 0.02), ('2013-12-05', 0.01), ('2013-12-06', 0.07), ('2013-12-07', 0.05), ('2013-12-08', 0.0), ('2013-12-09', 0.0), ('2013-12-10', 0.51), ('2013-12-11', 0.67), ('2013-12-12', 0.16), ('2013-12-13', 0.55), ('2013-12-14', 0.62), ('2013-12-15', 0.23), ('2013-12-16', 8.79), ('2013-12-17', 0.08), ('2013-12-18', 0.09), ('2013-12-19', 4.85), ('2013-12-20', 2.9299999999999997), ('2013-12-21', 1.3099999999999998), ('2013-12-22', 0.06), ('2013-12-23', 0.24), ('2013-12-24', 0.22), ('2013-12-25', 0.48), ('2013-12-26', 0.21000000000000002), ('2013-12-27', 0.04), ('2013-12-28', 0.13), ('2013-12-29', 0.6599999999999999), ('2013-12-30', 0.03), ('2013-12-31', 0.57), ('2014-01-01', 0.01), ('2014-01-02', 0.49999999999999994), ('2014-01-03', 9.33), ('2014-01-04', 0.01), ('2014-01-05', 0.04), ('2014-01-06', 0.6000000000000001), ('2014-01-07', 0.01), ('2014-01-08', 0.0), ('2014-01-09', 0.49), ('2014-01-10', 0.18), ('2014-01-11', 1.62), ('2014-01-12', 0.5800000000000001), ('2014-01-13', 0.42), ('2014-01-14', 5.63), ('2014-01-15', 0.5), ('2014-01-16', 0.66), ('2014-01-17', 0.21), ('2014-01-18', 0.21000000000000002), ('2014-01-19', 0.01), ('2014-01-20', 0.38), ('2014-01-21', 0.02), ('2014-01-22', 3.2800000000000002), ('2014-01-23', 0.0), ('2014-01-24', 0.0), ('2014-01-25', 0.0), ('2014-01-26', 0.32), ('2014-01-27', 1.2899999999999998), ('2014-01-28', 2.13), ('2014-01-29', 4.59), ('2014-01-30', 2.37), ('2014-01-31', 0.02), ('2014-02-01', 2.7), ('2014-02-02', 2.19), ('2014-02-03', 0.03), ('2014-02-04', 5.41), ('2014-02-05', 2.7399999999999998), ('2014-02-06', 0.69), ('2014-02-07', 0.5700000000000001), ('2014-02-08', 3.68), ('2014-02-09', 2.16), ('2014-02-10', 0.09999999999999999), ('2014-02-11', 0.0), ('2014-02-12', 0.060000000000000005), ('2014-02-13', 0.0), ('2014-02-14', 0.25), ('2014-02-15', 4.3100000000000005), ('2014-02-16', 1.6800000000000002), ('2014-02-17', 1.9100000000000001), ('2014-02-18', 0.76), ('2014-02-19', 0.9900000000000001), ('2014-02-20', 0.02), ('2014-02-21', 0.46), ('2014-02-22', 0.68), ('2014-02-23', 0.14), ('2014-02-24', 0.060000000000000005), ('2014-02-25', 0.08), ('2014-02-26', 0.23000000000000004), ('2014-02-27', 0.32), ('2014-02-28', 0.51), ('2014-03-01', 2.15), ('2014-03-02', 2.45), ('2014-03-03', 1.15), ('2014-03-04', 0.03), ('2014-03-05', 0.0), ('2014-03-06', 0.0), ('2014-03-07', 1.3399999999999999), ('2014-03-08', 5.010000000000001), ('2014-03-09', 6.32), ('2014-03-10', 4.199999999999999), ('2014-03-11', 1.33), ('2014-03-12', 0.01), ('2014-03-13', 0.02), ('2014-03-14', 0.16000000000000003), ('2014-03-15', 1.2999999999999998), ('2014-03-16', 0.72), ('2014-03-17', 0.16), ('2014-03-18', 0.06), ('2014-03-19', 0.01), ('2014-03-20', 0.0), ('2014-03-21', 0.02), ('2014-03-22', 0.06), ('2014-03-23', 0.0), ('2014-03-24', 0.0), ('2014-03-25', 0.13), ('2014-03-26', 3.23), ('2014-03-27', 1.2400000000000002), ('2014-03-28', 5.92), ('2014-03-29', 4.67), ('2014-03-30', 2.68), ('2014-03-31', 0.26), ('2014-04-01', 1.1400000000000001), ('2014-04-02', 1.82), ('2014-04-03', 0.9199999999999999), ('2014-04-04', 0.03), ('2014-04-05', 0.03), ('2014-04-06', 0.32000000000000006), ('2014-04-07', 2.34), ('2014-04-08', 0.9500000000000001), ('2014-04-09', 0.0), ('2014-04-10', 0.1), ('2014-04-11', 0.04), ('2014-04-12', 2.26), ('2014-04-13', 0.7000000000000001), ('2014-04-14', 0.84), ('2014-04-15', 0.22999999999999998), ('2014-04-16', 1.23), ('2014-04-17', 0.26), ('2014-04-18', 1.02), ('2014-04-19', 0.69), ('2014-04-20', 0.36), ('2014-04-21', 2.63), ('2014-04-22', 2.29), ('2014-04-23', 0.07), ('2014-04-24', 0.45), ('2014-04-25', 1.53), ('2014-04-26', 0.16), ('2014-04-27', 3.7), ('2014-04-28', 2.06), ('2014-04-29', 0.12), ('2014-04-30', 0.65), ('2014-05-01', 0.6), ('2014-05-02', 1.2599999999999998), ('2014-05-03', 2.11), ('2014-05-04', 0.04), ('2014-05-05', 0.22), ('2014-05-06', 1.82), ('2014-05-07', 0.37), ('2014-05-08', 0.4), ('2014-05-09', 0.62), ('2014-05-10', 0.19), ('2014-05-11', 0.27), ('2014-05-12', 5.32), ('2014-05-13', 0.41000000000000003), ('2014-05-14', 0.01), ('2014-05-15', 0.18), ('2014-05-16', 1.8699999999999999), ('2014-05-17', 0.24000000000000002), ('2014-05-18', 0.30000000000000004), ('2014-05-19', 0.64), ('2014-05-20', 0.64), ('2014-05-21', 0.5900000000000001), ('2014-05-22', 0.14), ('2014-05-23', 0.52), ('2014-05-24', 0.5000000000000001), ('2014-05-25', 3.99), ('2014-05-26', 3.0), ('2014-05-27', 2.3), ('2014-05-28', 0.79), ('2014-05-29', 0.25), ('2014-05-30', 0.6699999999999999), ('2014-05-31', 0.37), ('2014-06-01', 0.33), ('2014-06-02', 1.52), ('2014-06-03', 0.2), ('2014-06-04', 0.09999999999999999), ('2014-06-05', 0.04), ('2014-06-06', 1.33), ('2014-06-07', 0.43000000000000005), ('2014-06-08', 0.49), ('2014-06-09', 1.06), ('2014-06-10', 0.59), ('2014-06-11', 1.3900000000000001), ('2014-06-12', 0.04), ('2014-06-13', 0.01), ('2014-06-14', 0.02), ('2014-06-15', 0.07), ('2014-06-16', 0.53), ('2014-06-17', 2.58), ('2014-06-18', 0.8), ('2014-06-19', 0.4), ('2014-06-20', 2.02), ('2014-06-21', 0.49), ('2014-06-22', 0.24000000000000002), ('2014-06-23', 1.67), ('2014-06-24', 0.34), ('2014-06-25', 1.51), ('2014-06-26', 1.04), ('2014-06-27', 1.1800000000000002), ('2014-06-28', 2.14), ('2014-06-29', 2.02), ('2014-06-30', 0.17), ('2014-07-01', 0.01), ('2014-07-02', 0.54), ('2014-07-03', 1.6800000000000002), ('2014-07-04', 0.21000000000000002), ('2014-07-05', 0.22), ('2014-07-06', 2.19), ('2014-07-07', 0.9299999999999999), ('2014-07-08', 0.62), ('2014-07-09', 0.92), ('2014-07-10', 0.54), ('2014-07-11', 0.26), ('2014-07-12', 0.18), ('2014-07-13', 1.71), ('2014-07-14', 1.68), ('2014-07-15', 1.41), ('2014-07-16', 1.24), ('2014-07-17', 0.13), ('2014-07-18', 1.4500000000000002), ('2014-07-19', 0.01), ('2014-07-20', 37.41), ('2014-07-21', 1.5899999999999999), ('2014-07-22', 1.1), ('2014-07-23', 1.58), ('2014-07-24', 0.17), ('2014-07-25', 0.07), ('2014-07-26', 0.41000000000000003), ('2014-07-27', 2.52), ('2014-07-28', 0.0), ('2014-07-29', 0.0), ('2014-07-30', 0.0), ('2014-07-31', 0.02), ('2014-08-01', 0.06), ('2014-08-02', 1.45), ('2014-08-03', 0.1), ('2014-08-04', 0.02), ('2014-08-05', 0.0), ('2014-08-06', 0.71), ('2014-08-07', 0.53), ('2014-08-08', 2.1100000000000003), ('2014-08-09', 3.5599999999999996), ('2014-08-10', 0.51), ('2014-08-11', 0.0), ('2014-08-12', 0.01), ('2014-08-13', 1.04), ('2014-08-14', 0.17), ('2014-08-15', 0.14), ('2014-08-16', 0.33999999999999997), ('2014-08-17', 0.33999999999999997), ('2014-08-18', 0.27), ('2014-08-19', 0.03), ('2014-08-20', 0.5), ('2014-08-21', 0.8500000000000001), ('2014-08-22', 1.3), ('2014-08-23', 0.12), ('2014-08-24', 0.81), ('2014-08-25', 0.87), ('2014-08-26', 2.3600000000000003), ('2014-08-27', 1.19), ('2014-08-28', 0.15000000000000002), ('2014-08-29', 0.16), ('2014-08-30', 0.6), ('2014-08-31', 0.01), ('2014-09-01', 0.03), ('2014-09-02', 4.579999999999999), ('2014-09-03', 0.07), ('2014-09-04', 0.32999999999999996), ('2014-09-05', 1.0699999999999998), ('2014-09-06', 1.76), ('2014-09-07', 0.44), ('2014-09-08', 0.0), ('2014-09-09', 0.03), ('2014-09-10', 0.05), ('2014-09-11', 0.02), ('2014-09-12', 0.4), ('2014-09-13', 0.0), ('2014-09-14', 0.0), ('2014-09-15', 1.4), ('2014-09-16', 0.01), ('2014-09-17', 0.77), ('2014-09-18', 0.6500000000000001), ('2014-09-19', 1.01), ('2014-09-20', 0.44000000000000006), ('2014-09-21', 1.23), ('2014-09-22', 0.15), ('2014-09-23', 0.11000000000000001), ('2014-09-24', 0.0), ('2014-09-25', 1.3399999999999999), ('2014-09-26', 2.7199999999999998), ('2014-09-27', 1.62), ('2014-09-28', 0.8200000000000001), ('2014-09-29', 1.72), ('2014-09-30', 0.9500000000000001), ('2014-10-01', 8.17), ('2014-10-02', 0.17), ('2014-10-03', 0.43000000000000005), ('2014-10-04', 1.42), ('2014-10-05', 2.12), ('2014-10-06', 1.7599999999999998), ('2014-10-07', 1.62), ('2014-10-08', 0.32), ('2014-10-09', 0.06999999999999999), ('2014-10-10', 0.32), ('2014-10-11', 0.38), ('2014-10-12', 0.04), ('2014-10-13', 0.24), ('2014-10-14', 0.54), ('2014-10-15', 0.78), ('2014-10-16', 0.08), ('2014-10-17', 0.4), ('2014-10-18', 3.0300000000000002), ('2014-10-19', 17.580000000000002), ('2014-10-20', 13.08), ('2014-10-21', 0.04), ('2014-10-22', 0.92), ('2014-10-23', 4.16), ('2014-10-24', 1.5300000000000002), ('2014-10-25', 0.78), ('2014-10-26', 0.47), ('2014-10-27', 0.02), ('2014-10-28', 0.74), ('2014-10-29', 1.29), ('2014-10-30', 1.3), ('2014-10-31', 0.37), ('2014-11-01', 1.35), ('2014-11-02', 1.57), ('2014-11-03', 1.54), ('2014-11-04', 0.2), ('2014-11-05', 1.45), ('2014-11-06', 1.04), ('2014-11-07', 0.35000000000000003), ('2014-11-08', 3.04), ('2014-11-09', 0.04), ('2014-11-10', 0.0), ('2014-11-11', 0.0), ('2014-11-12', 1.38), ('2014-11-13', 0.0), ('2014-11-14', 0.09), ('2014-11-15', 4.98), ('2014-11-16', 1.64), ('2014-11-17', 0.01), ('2014-11-18', 0.0), ('2014-11-19', 0.01), ('2014-11-20', 0.73), ('2014-11-21', 0.05), ('2014-11-22', 0.45), ('2014-11-23', 0.0), ('2014-11-24', 0.61), ('2014-11-25', 0.28), ('2014-11-26', 0.02), ('2014-11-27', 0.0), ('2014-11-28', 0.03), ('2014-11-29', 1.3599999999999999), ('2014-11-30', 1.96), ('2014-12-01', 0.28), ('2014-12-02', 0.09000000000000001), ('2014-12-03', 2.91), ('2014-12-04', 7.18), ('2014-12-05', 0.31), ('2014-12-06', 1.22), ('2014-12-07', 0.01), ('2014-12-08', 0.01), ('2014-12-09', 0.0), ('2014-12-10', 0.0), ('2014-12-11', 1.73), ('2014-12-12', 1.18), ('2014-12-13', 0.15000000000000002), ('2014-12-14', 2.22), ('2014-12-15', 0.7200000000000001), ('2014-12-16', 0.75), ('2014-12-17', 1.15), ('2014-12-18', 0.43999999999999995), ('2014-12-19', 0.61), ('2014-12-20', 0.0), ('2014-12-21', 0.0), ('2014-12-22', 0.64), ('2014-12-23', 9.43), ('2014-12-24', 3.81), ('2014-12-25', 1.03), ('2014-12-26', 0.0), ('2014-12-27', 0.0), ('2014-12-28', 0.0), ('2014-12-29', 0.0), ('2014-12-30', 0.0), ('2014-12-31', 2.76), ('2015-01-01', 0.01), ('2015-01-02', 0.07), ('2015-01-03', 7.38), ('2015-01-04', 0.18), ('2015-01-05', 0.0), ('2015-01-06', 0.28), ('2015-01-07', 0.0), ('2015-01-08', 0.0), ('2015-01-09', 0.0), ('2015-01-10', 0.09), ('2015-01-11', 0.0), ('2015-01-12', 0.04), ('2015-01-13', 0.01), ('2015-01-14', 0.0), ('2015-01-15', 0.0), ('2015-01-16', 0.05), ('2015-01-17', 0.05), ('2015-01-18', 0.0), ('2015-01-19', 0.0), ('2015-01-20', 0.01), ('2015-01-21', 0.0), ('2015-01-22', 0.0), ('2015-01-23', 0.0), ('2015-01-24', 1.5499999999999998), ('2015-01-25', 2.19), ('2015-01-26', 1.98), ('2015-01-27', 0.01), ('2015-01-28', 0.25), ('2015-01-29', 0.01), ('2015-01-30', 0.2), ('2015-01-31', 0.0), ('2015-02-01', 0.06), ('2015-02-02', 0.0), ('2015-02-03', 0.11), ('2015-02-04', 2.5000000000000004), ('2015-02-05', 0.29000000000000004), ('2015-02-06', 0.0), ('2015-02-07', 0.0), ('2015-02-08', 0.0), ('2015-02-09', 0.0), ('2015-02-10', 0.7899999999999999), ('2015-02-11', 0.0), ('2015-02-12', 0.0), ('2015-02-13', 0.0), ('2015-02-14', 1.54), ('2015-02-15', 3.67), ('2015-02-16', 0.02), ('2015-02-17', 0.01), ('2015-02-18', 0.01), ('2015-02-19', 0.01), ('2015-02-20', 0.32000000000000006), ('2015-02-21', 2.9799999999999995), ('2015-02-22', 0.0), ('2015-02-23', 0.03), ('2015-02-24', 0.03), ('2015-02-25', 0.11), ('2015-02-26', 0.87), ('2015-02-27', 0.16000000000000003), ('2015-02-28', 1.6400000000000001), ('2015-03-01', 0.5900000000000001), ('2015-03-02', 0.6000000000000001), ('2015-03-03', 0.23), ('2015-03-04', 0.39), ('2015-03-05', 5.07), ('2015-03-06', 1.74), ('2015-03-07', 0.04), ('2015-03-08', 0.01), ('2015-03-09', 0.04), ('2015-03-10', 0.23), ('2015-03-11', 0.0), ('2015-03-12', 0.03), ('2015-03-13', 0.22), ('2015-03-14', 0.0), ('2015-03-15', 0.0), ('2015-03-16', 0.03), ('2015-03-17', 0.0), ('2015-03-18', 0.0), ('2015-03-19', 0.0), ('2015-03-20', 0.5), ('2015-03-21', 0.4), ('2015-03-22', 0.23000000000000004), ('2015-03-23', 0.1), ('2015-03-24', 0.13), ('2015-03-25', 0.12000000000000001), ('2015-03-26', 0.9600000000000001), ('2015-03-27', 0.07), ('2015-03-28', 0.0), ('2015-03-29', 5.24), ('2015-03-30', 1.3599999999999999), ('2015-03-31', 3.2399999999999998), ('2015-04-01', 1.6400000000000001), ('2015-04-02', 0.48), ('2015-04-03', 0.0), ('2015-04-04', 0.0), ('2015-04-05', 0.41000000000000003), ('2015-04-06', 0.06), ('2015-04-07', 0.0), ('2015-04-08', 0.92), ('2015-04-09', 0.25), ('2015-04-10', 0.0), ('2015-04-11', 0.09), ('2015-04-12', 1.01), ('2015-04-13', 0.44000000000000006), ('2015-04-14', 1.1099999999999999), ('2015-04-15', 1.1), ('2015-04-16', 0.25), ('2015-04-17', 1.5), ('2015-04-18', 0.08), ('2015-04-19', 0.13), ('2015-04-20', 0.0), ('2015-04-21', 0.07), ('2015-04-22', 1.93), ('2015-04-23', 0.55), ('2015-04-24', 0.9500000000000001), ('2015-04-25', 0.11000000000000001), ('2015-04-26', 0.08), ('2015-04-27', 5.75), ('2015-04-28', 3.9399999999999995), ('2015-04-29', 0.73), ('2015-04-30', 0.18000000000000002), ('2015-05-01', 2.25), ('2015-05-02', 0.0), ('2015-05-03', 0.0), ('2015-05-04', 0.22), ('2015-05-05', 1.34), ('2015-05-06', 0.05), ('2015-05-07', 0.13999999999999999), ('2015-05-08', 2.51), ('2015-05-09', 1.28), ('2015-05-10', 1.32), ('2015-05-11', 0.34), ('2015-05-12', 0.09), ('2015-05-13', 0.02), ('2015-05-14', 1.12), ('2015-05-15', 0.85), ('2015-05-16', 0.36), ('2015-05-17', 0.13), ('2015-05-18', 0.66), ('2015-05-19', 0.02), ('2015-05-20', 0.58), ('2015-05-21', 0.9299999999999999), ('2015-05-22', 0.0), ('2015-05-23', 4.67), ('2015-05-24', 0.0), ('2015-05-25', 0.01), ('2015-05-26', 0.25), ('2015-05-27', 0.64), ('2015-05-28', 3.36), ('2015-05-29', 0.05), ('2015-05-30', 0.17000000000000004), ('2015-05-31', 2.05), ('2015-06-01', 3.12), ('2015-06-02', 0.29000000000000004), ('2015-06-03', 0.01), ('2015-06-04', 2.92), ('2015-06-05', 0.22999999999999998), ('2015-06-06', 0.0), ('2015-06-07', 0.08), ('2015-06-08', 0.46), ('2015-06-09', 0.66), ('2015-06-10', 0.18000000000000002), ('2015-06-11', 0.13), ('2015-06-12', 0.11), ('2015-06-13', 0.01), ('2015-06-14', 0.59), ('2015-06-15', 0.7000000000000001), ('2015-06-16', 1.29), ('2015-06-17', 1.1300000000000001), ('2015-06-18', 1.35), ('2015-06-19', 0.9299999999999999), ('2015-06-20', 0.4), ('2015-06-21', 0.16), ('2015-06-22', 0.29000000000000004), ('2015-06-23', 0.51), ('2015-06-24', 1.2200000000000002), ('2015-06-25', 2.1500000000000004), ('2015-06-26', 0.64), ('2015-06-27', 0.53), ('2015-06-28', 0.18), ('2015-06-29', 2.0), ('2015-06-30', 1.26), ('2015-07-01', 0.01), ('2015-07-02', 0.0), ('2015-07-03', 0.28), ('2015-07-04', 0.0), ('2015-07-05', 0.0), ('2015-07-06', 0.05), ('2015-07-07', 0.14), ('2015-07-08', 1.87), ('2015-07-09', 0.32000000000000006), ('2015-07-10', 3.31), ('2015-07-11', 2.71), ('2015-07-12', 1.66), ('2015-07-13', 2.9699999999999998), ('2015-07-14', 1.0899999999999999), ('2015-07-15', 1.03), ('2015-07-16', 0.9199999999999999), ('2015-07-17', 2.5300000000000002), ('2015-07-18', 0.79), ('2015-07-19', 0.98), ('2015-07-20', 0.04), ('2015-07-21', 0.26), ('2015-07-22', 2.76), ('2015-07-23', 0.09000000000000001), ('2015-07-24', 0.49), ('2015-07-25', 0.4), ('2015-07-26', 0.03), ('2015-07-27', 0.09), ('2015-07-28', 0.56), ('2015-07-29', 0.13999999999999999), ('2015-07-30', 0.06999999999999999), ('2015-07-31', 0.12), ('2015-08-01', 0.77), ('2015-08-02', 0.04), ('2015-08-03', 0.05), ('2015-08-04', 0.01), ('2015-08-05', 0.83), ('2015-08-06', 1.47), ('2015-08-07', 0.6), ('2015-08-08', 0.44000000000000006), ('2015-08-09', 0.6900000000000001), ('2015-08-10', 0.48), ('2015-08-11', 0.29000000000000004), ('2015-08-12', 0.49), ('2015-08-13', 0.76), ('2015-08-14', 1.65), ('2015-08-15', 1.82), ('2015-08-16', 0.32999999999999996), ('2015-08-17', 0.96), ('2015-08-18', 4.12), ('2015-08-19', 0.75), ('2015-08-20', 1.3400000000000003), ('2015-08-21', 1.84), ('2015-08-22', 0.79), ('2015-08-23', 4.33), ('2015-08-24', 16.21), ('2015-08-25', 2.68), ('2015-08-26', 5.949999999999999), ('2015-08-27', 8.59), ('2015-08-28', 0.42), ('2015-08-29', 0.26), ('2015-08-30', 0.11000000000000001), ('2015-08-31', 0.28), ('2015-09-01', 1.0), ('2015-09-02', 0.29000000000000004), ('2015-09-03', 2.49), ('2015-09-04', 4.66), ('2015-09-05', 0.14), ('2015-09-06', 0.73), ('2015-09-07', 2.02), ('2015-09-08', 2.5999999999999996), ('2015-09-09', 0.0), ('2015-09-10', 0.15), ('2015-09-11', 2.82), ('2015-09-12', 11.02), ('2015-09-13', 1.3900000000000001), ('2015-09-14', 4.8), ('2015-09-15', 11.18), ('2015-09-16', 3.25), ('2015-09-17', 0.41000000000000003), ('2015-09-18', 1.12), ('2015-09-19', 0.3), ('2015-09-20', 0.5800000000000001), ('2015-09-21', 2.21), ('2015-09-22', 2.25), ('2015-09-23', 1.47), ('2015-09-24', 1.61), ('2015-09-25', 0.9500000000000001), ('2015-09-26', 2.3), ('2015-09-27', 3.09), ('2015-09-28', 5.6), ('2015-09-29', 1.67), ('2015-09-30', 1.81), ('2015-10-01', 0.51), ('2015-10-02', 0.28), ('2015-10-03', 0.02), ('2015-10-04', 0.4), ('2015-10-05', 3.0199999999999996), ('2015-10-06', 1.3699999999999999), ('2015-10-07', 0.58), ('2015-10-08', 0.17), ('2015-10-09', 2.2299999999999995), ('2015-10-10', 0.11), ('2015-10-11', 1.27), ('2015-10-12', 5.85), ('2015-10-13', 8.020000000000001), ('2015-10-14', 4.03), ('2015-10-15', 4.67), ('2015-10-16', 2.5), ('2015-10-17', 2.56), ('2015-10-18', 0.19), ('2015-10-19', 0.18), ('2015-10-20', 0.97), ('2015-10-21', 0.98), ('2015-10-22', 0.66), ('2015-10-23', 0.35), ('2015-10-24', 0.05), ('2015-10-25', 0.03), ('2015-10-26', 0.19), ('2015-10-27', 2.75), ('2015-10-28', 0.51), ('2015-10-29', 1.8), ('2015-10-30', 0.13), ('2015-10-31', 3.18), ('2015-11-01', 2.7199999999999998), ('2015-11-02', 0.03), ('2015-11-03', 0.0), ('2015-11-04', 0.6799999999999999), ('2015-11-05', 1.72), ('2015-11-06', 1.23), ('2015-11-07', 1.9700000000000002), ('2015-11-08', 1.05), ('2015-11-09', 2.21), ('2015-11-10', 1.0), ('2015-11-11', 0.45), ('2015-11-12', 1.13), ('2015-11-13', 1.2200000000000002), ('2015-11-14', 2.98), ('2015-11-15', 0.17), ('2015-11-16', 0.11), ('2015-11-17', 0.1), ('2015-11-18', 1.6), ('2015-11-19', 0.8), ('2015-11-20', 11.17), ('2015-11-21', 9.17), ('2015-11-22', 5.1), ('2015-11-23', 7.09), ('2015-11-24', 6.090000000000001), ('2015-11-25', 0.49), ('2015-11-26', 6.07), ('2015-11-27', 6.1499999999999995), ('2015-11-28', 0.4), ('2015-11-29', 0.46), ('2015-11-30', 0.13), ('2015-12-01', 0.05), ('2015-12-02', 0.4100000000000001), ('2015-12-03', 1.13), ('2015-12-04', 0.09999999999999999), ('2015-12-05', 0.33), ('2015-12-06', 0.67), ('2015-12-07', 0.06), ('2015-12-08', 0.31), ('2015-12-09', 0.69), ('2015-12-10', 1.4), ('2015-12-11', 0.37), ('2015-12-12', 2.11), ('2015-12-13', 0.04), ('2015-12-14', 0.9), ('2015-12-15', 0.9500000000000001), ('2015-12-16', 0.23), ('2015-12-17', 0.8600000000000001), ('2015-12-18', 1.4300000000000002), ('2015-12-19', 2.23), ('2015-12-20', 0.75), ('2015-12-21', 0.19), ('2015-12-22', 0.18000000000000002), ('2015-12-23', 1.87), ('2015-12-24', 0.46), ('2015-12-25', 2.41), ('2015-12-26', 1.3900000000000001), ('2015-12-27', 4.17), ('2015-12-28', 0.67), ('2015-12-29', 0.29000000000000004), ('2015-12-30', 0.56), ('2015-12-31', 0.25), ('2016-01-01', 0.04), ('2016-01-02', 0.35), ('2016-01-03', 0.0), ('2016-01-04', 0.0), ('2016-01-05', 0.47000000000000003), ('2016-01-06', 2.1799999999999997), ('2016-01-07', 1.9100000000000001), ('2016-01-08', 0.04), ('2016-01-09', 0.05), ('2016-01-10', 0.04), ('2016-01-11', 0.01), ('2016-01-12', 0.37), ('2016-01-13', 0.0), ('2016-01-14', 0.0), ('2016-01-15', 0.16999999999999998), ('2016-01-16', 0.14), ('2016-01-17', 0.02), ('2016-01-18', 0.0), ('2016-01-19', 0.0), ('2016-01-20', 0.09), ('2016-01-21', 1.4100000000000001), ('2016-01-22', 0.01), ('2016-01-23', 0.0), ('2016-01-24', 0.0), ('2016-01-25', 0.56), ('2016-01-26', 1.44), ('2016-01-27', 0.02), ('2016-01-28', 0.0), ('2016-01-29', 0.15), ('2016-01-30', 0.01), ('2016-01-31', 0.1), ('2016-02-01', 0.22), ('2016-02-02', 1.81), ('2016-02-03', 0.74), ('2016-02-04', 0.04), ('2016-02-05', 0.08), ('2016-02-06', 0.0), ('2016-02-07', 0.9), ('2016-02-08', 0.01), ('2016-02-09', 0.0), ('2016-02-10', 0.0), ('2016-02-11', 0.0), ('2016-02-12', 0.29000000000000004), ('2016-02-13', 0.45999999999999996), ('2016-02-14', 0.11), ('2016-02-15', 0.28), ('2016-02-16', 0.18000000000000002), ('2016-02-17', 0.77), ('2016-02-18', 0.06), ('2016-02-19', 1.01), ('2016-02-20', 0.38), ('2016-02-21', 0.18), ('2016-02-22', 0.09), ('2016-02-23', 0.0), ('2016-02-24', 0.0), ('2016-02-25', 0.0), ('2016-02-26', 1.08), ('2016-02-27', 0.08), ('2016-02-28', 0.0), ('2016-02-29', 0.05), ('2016-03-01', 0.43000000000000005), ('2016-03-02', 0.0), ('2016-03-03', 0.0), ('2016-03-04', 0.0), ('2016-03-05', 0.0), ('2016-03-06', 0.0), ('2016-03-07', 0.0), ('2016-03-08', 0.04), ('2016-03-09', 1.39), ('2016-03-10', 0.01), ('2016-03-11', 0.25), ('2016-03-12', 0.0), ('2016-03-13', 0.13), ('2016-03-14', 0.19), ('2016-03-15', 2.8499999999999996), ('2016-03-16', 1.12), ('2016-03-17', 0.03), ('2016-03-18', 0.31), ('2016-03-19', 0.43000000000000005), ('2016-03-20', 0.0), ('2016-03-21', 0.06), ('2016-03-22', 0.1), ('2016-03-23', 3.86), ('2016-03-24', 0.02), ('2016-03-25', 2.46), ('2016-03-26', 1.1600000000000001), ('2016-03-27', 0.1), ('2016-03-28', 0.0), ('2016-03-29', 0.19999999999999998), ('2016-03-30', 0.09000000000000001), ('2016-03-31', 0.01), ('2016-04-01', 0.02), ('2016-04-02', 0.02), ('2016-04-03', 0.0), ('2016-04-04', 0.29), ('2016-04-05', 0.29000000000000004), ('2016-04-06', 1.26), ('2016-04-07', 1.17), ('2016-04-08', 1.57), ('2016-04-09', 1.21), ('2016-04-10', 0.25), ('2016-04-11', 0.56), ('2016-04-12', 0.93), ('2016-04-13', 0.64), ('2016-04-14', 0.9299999999999999), ('2016-04-15', 0.59), ('2016-04-16', 0.4), ('2016-04-17', 1.26), ('2016-04-18', 7.39), ('2016-04-19', 0.21), ('2016-04-20', 0.28), ('2016-04-21', 0.17), ('2016-04-22', 0.30000000000000004), ('2016-04-23', 1.4), ('2016-04-24', 1.66), ('2016-04-25', 0.09), ('2016-04-26', 0.03), ('2016-04-27', 0.31000000000000005), ('2016-04-28', 0.08), ('2016-04-29', 0.25), ('2016-04-30', 0.28), ('2016-05-01', 0.53), ('2016-05-02', 0.8), ('2016-05-03', 0.06), ('2016-05-04', 1.83), ('2016-05-05', 3.67), ('2016-05-06', 0.37), ('2016-05-07', 4.380000000000001), ('2016-05-08', 2.0300000000000002), ('2016-05-09', 0.27), ('2016-05-10', 1.31), ('2016-05-11', 0.18), ('2016-05-12', 0.07), ('2016-05-13', 0.45), ('2016-05-14', 0.27), ('2016-05-15', 0.48000000000000004), ('2016-05-16', 0.08), ('2016-05-17', 0.08), ('2016-05-18', 1.0699999999999998), ('2016-05-19', 0.67), ('2016-05-20', 1.02), ('2016-05-21', 0.31), ('2016-05-22', 0.08), ('2016-05-23', 0.11), ('2016-05-24', 0.1), ('2016-05-25', 0.58), ('2016-05-26', 3.9399999999999995), ('2016-05-27', 0.24000000000000002), ('2016-05-28', 0.55), ('2016-05-29', 0.54), ('2016-05-30', 0.24), ('2016-05-31', 3.4799999999999995), ('2016-06-01', 4.34), ('2016-06-02', 1.77), ('2016-06-03', 0.7699999999999999), ('2016-06-04', 0.02), ('2016-06-05', 0.99), ('2016-06-06', 1.52), ('2016-06-07', 2.09), ('2016-06-08', 0.01), ('2016-06-09', 2.48), ('2016-06-10', 2.4899999999999998), ('2016-06-11', 0.81), ('2016-06-12', 1.26), ('2016-06-13', 0.29), ('2016-06-14', 0.45), ('2016-06-15', 2.7), ('2016-06-16', 0.38), ('2016-06-17', 2.29), ('2016-06-18', 1.45), ('2016-06-19', 0.96), ('2016-06-20', 1.69), ('2016-06-21', 0.88), ('2016-06-22', 0.42000000000000004), ('2016-06-23', 1.6400000000000001), ('2016-06-24', 0.18), ('2016-06-25', 2.23), ('2016-06-26', 0.83), ('2016-06-27', 0.74), ('2016-06-28', 0.5), ('2016-06-29', 0.54), ('2016-06-30', 0.01), ('2016-07-01', 0.0), ('2016-07-02', 0.0), ('2016-07-03', 0.2), ('2016-07-04', 0.48000000000000004), ('2016-07-05', 0.8600000000000001), ('2016-07-06', 3.07), ('2016-07-07', 1.33), ('2016-07-08', 0.42), ('2016-07-09', 0.19), ('2016-07-10', 2.4299999999999997), ('2016-07-11', 0.43), ('2016-07-12', 0.11), ('2016-07-13', 0.32), ('2016-07-14', 2.76), ('2016-07-15', 3.38), ('2016-07-16', 4.29), ('2016-07-17', 0.73), ('2016-07-18', 2.35), ('2016-07-19', 2.29), ('2016-07-20', 0.12), ('2016-07-21', 0.15000000000000002), ('2016-07-22', 0.21000000000000002), ('2016-07-23', 0.23), ('2016-07-24', 3.66), ('2016-07-25', 29.85), ('2016-07-26', 0.9400000000000001), ('2016-07-27', 0.12), ('2016-07-28', 0.05), ('2016-07-29', 0.060000000000000005), ('2016-07-30', 0.52), ('2016-07-31', 3.92), ('2016-08-01', 8.71), ('2016-08-02', 2.84), ('2016-08-03', 0.05), ('2016-08-04', 1.81), ('2016-08-05', 0.34), ('2016-08-06', 0.25), ('2016-08-07', 3.34), ('2016-08-08', 0.6600000000000001), ('2016-08-09', 0.5900000000000001), ('2016-08-10', 0.0), ('2016-08-11', 0.09), ('2016-08-12', 0.58), ('2016-08-13', 0.54), ('2016-08-14', 1.02), ('2016-08-15', 1.35), ('2016-08-16', 1.0899999999999999), ('2016-08-17', 0.61), ('2016-08-18', 0.22), ('2016-08-19', 2.86), ('2016-08-20', 0.36), ('2016-08-21', 2.01), ('2016-08-22', 5.26), ('2016-08-23', 2.71), ('2016-08-24', 9.329999999999998), ('2016-08-25', 0.54), ('2016-08-26', 0.09999999999999999), ('2016-08-27', 0.31999999999999995), ('2016-08-28', 3.0999999999999996), ('2016-08-29', 1.46), ('2016-08-30', 0.07), ('2016-08-31', 3.1799999999999997), ('2016-09-01', 0.03), ('2016-09-02', 0.25), ('2016-09-03', 1.27), ('2016-09-04', 1.3800000000000001), ('2016-09-05', 0.33999999999999997), ('2016-09-06', 1.23), ('2016-09-07', 2.0), ('2016-09-08', 0.4600000000000001), ('2016-09-09', 1.0699999999999998), ('2016-09-10', 1.4), ('2016-09-11', 1.25), ('2016-09-12', 1.54), ('2016-09-13', 2.71), ('2016-09-14', 14.280000000000001), ('2016-09-15', 4.96), ('2016-09-16', 0.8200000000000001), ('2016-09-17', 0.6799999999999999), ('2016-09-18', 0.53), ('2016-09-19', 0.32), ('2016-09-20', 1.03), ('2016-09-21', 1.17), ('2016-09-22', 1.44), ('2016-09-23', 1.57), ('2016-09-24', 0.28), ('2016-09-25', 0.09), ('2016-09-26', 1.67), ('2016-09-27', 1.3599999999999999), ('2016-09-28', 0.13), ('2016-09-29', 2.99), ('2016-09-30', 1.15), ('2016-10-01', 1.4500000000000002), ('2016-10-02', 0.72), ('2016-10-03', 0.6900000000000001), ('2016-10-04', 3.4899999999999998), ('2016-10-05', 0.8200000000000001), ('2016-10-06', 0.16), ('2016-10-07', 0.01), ('2016-10-08', 0.04), ('2016-10-09', 0.0), ('2016-10-10', 0.0), ('2016-10-11', 0.69), ('2016-10-12', 0.08), ('2016-10-13', 0.08), ('2016-10-14', 0.0), ('2016-10-15', 0.39), ('2016-10-16', 0.0), ('2016-10-17', 0.55), ('2016-10-18', 0.6), ('2016-10-19', 0.16999999999999998), ('2016-10-20', 1.01), ('2016-10-21', 0.32), ('2016-10-22', 1.77), ('2016-10-23', 0.27999999999999997), ('2016-10-24', 0.7899999999999999), ('2016-10-25', 1.1), ('2016-10-26', 0.29000000000000004), ('2016-10-27', 1.8599999999999999), ('2016-10-28', 0.5700000000000001), ('2016-10-29', 0.64), ('2016-10-30', 1.5899999999999999), ('2016-10-31', 1.61), ('2016-11-01', 0.21000000000000002), ('2016-11-02', 0.04), ('2016-11-03', 0.02), ('2016-11-04', 0.06), ('2016-11-05', 0.45), ('2016-11-06', 0.08), ('2016-11-07', 0.18), ('2016-11-08', 1.12), ('2016-11-09', 0.39999999999999997), ('2016-11-10', 0.01), ('2016-11-11', 0.0), ('2016-11-12', 0.0), ('2016-11-13', 0.0), ('2016-11-14', 0.15), ('2016-11-15', 0.05), ('2016-11-16', 1.54), ('2016-11-17', 0.06), ('2016-11-18', 0.03), ('2016-11-19', 0.38), ('2016-11-20', 0.9500000000000001), ('2016-11-21', 3.08), ('2016-11-22', 5.01), ('2016-11-23', 0.67), ('2016-11-24', 1.48), ('2016-11-25', 1.32), ('2016-11-26', 0.51), ('2016-11-27', 0.55), ('2016-11-28', 0.72), ('2016-11-29', 0.43000000000000005), ('2016-11-30', 1.06), ('2016-12-01', 1.77), ('2016-12-02', 2.36), ('2016-12-03', 2.71), ('2016-12-04', 0.8), ('2016-12-05', 3.24), ('2016-12-06', 0.04), ('2016-12-07', 0.38), ('2016-12-08', 0.4600000000000001), ('2016-12-09', 1.85), ('2016-12-10', 0.13), ('2016-12-11', 0.25), ('2016-12-12', 0.05), ('2016-12-13', 0.77), ('2016-12-14', 1.5), ('2016-12-15', 0.26), ('2016-12-16', 0.04), ('2016-12-17', 0.35000000000000003), ('2016-12-18', 0.89), ('2016-12-19', 0.42000000000000004), ('2016-12-20', 0.03), ('2016-12-21', 0.9), ('2016-12-22', 2.4699999999999998), ('2016-12-23', 1.23), ('2016-12-24', 1.62), ('2016-12-25', 0.43), ('2016-12-26', 2.04), ('2016-12-27', 0.24000000000000002), ('2016-12-28', 0.41000000000000003), ('2016-12-29', 2.38), ('2016-12-30', 3.35), ('2016-12-31', 2.14), ('2017-01-01', 0.35), ('2017-01-02', 0.02), ('2017-01-03', 0.0), ('2017-01-04', 0.18), ('2017-01-05', 0.95), ('2017-01-06', 0.7999999999999999), ('2017-01-07', 0.06), ('2017-01-08', 0.06), ('2017-01-09', 0.0), ('2017-01-10', 0.0), ('2017-01-11', 0.0), ('2017-01-12', 0.0), ('2017-01-13', 0.0), ('2017-01-14', 0.01), ('2017-01-15', 0.01), ('2017-01-16', 0.0), ('2017-01-17', 0.0), ('2017-01-18', 0.07), ('2017-01-19', 0.02), ('2017-01-20', 0.0), ('2017-01-21', 0.27999999999999997), ('2017-01-22', 1.02), ('2017-01-23', 0.94), ('2017-01-24', 2.25), ('2017-01-25', 3.58), ('2017-01-26', 0.11), ('2017-01-27', 0.06), ('2017-01-28', 0.14), ('2017-01-29', 0.99), ('2017-01-30', 0.05), ('2017-01-31', 0.0), ('2017-02-01', 0.0), ('2017-02-02', 0.0), ('2017-02-03', 0.0), ('2017-02-04', 0.0), ('2017-02-05', 0.0), ('2017-02-06', 0.38), ('2017-02-07', 7.4), ('2017-02-08', 1.08), ('2017-02-09', 0.02), ('2017-02-10', 0.0), ('2017-02-11', 11.200000000000001), ('2017-02-12', 10.48), ('2017-02-13', 2.9199999999999995), ('2017-02-14', 0.01), ('2017-02-15', 0.08), ('2017-02-16', 2.2199999999999998), ('2017-02-17', 1.0500000000000003), ('2017-02-18', 0.01), ('2017-02-19', 0.19), ('2017-02-20', 0.0), ('2017-02-21', 0.13), ('2017-02-22', 0.9100000000000001), ('2017-02-23', 0.01), ('2017-02-24', 0.0), ('2017-02-25', 0.15), ('2017-02-26', 0.0), ('2017-02-27', 0.0), ('2017-02-28', 0.82), ('2017-03-01', 11.620000000000001), ('2017-03-02', 6.56), ('2017-03-03', 2.23), ('2017-03-04', 0.0), ('2017-03-05', 1.21), ('2017-03-06', 0.54), ('2017-03-07', 0.0), ('2017-03-08', 0.0), ('2017-03-09', 1.9600000000000002), ('2017-03-10', 0.29000000000000004), ('2017-03-11', 0.04), ('2017-03-12', 0.0), ('2017-03-13', 0.0), ('2017-03-14', 0.06), ('2017-03-15', 0.06), ('2017-03-16', 0.0), ('2017-03-17', 0.72), ('2017-03-18', 0.0), ('2017-03-19', 0.0), ('2017-03-20', 0.02), ('2017-03-21', 0.09), ('2017-03-22', 0.0), ('2017-03-23', 0.05), ('2017-03-24', 1.1300000000000001), ('2017-03-25', 1.9700000000000002), ('2017-03-26', 0.0), ('2017-03-27', 0.01), ('2017-03-28', 0.7100000000000001), ('2017-03-29', 0.19), ('2017-03-30', 0.15), ('2017-03-31', 0.01), ('2017-04-01', 0.41000000000000003), ('2017-04-02', 0.0), ('2017-04-03', 0.66), ('2017-04-04', 0.15), ('2017-04-05', 0.66), ('2017-04-06', 0.06), ('2017-04-07', 0.0), ('2017-04-08', 0.0), ('2017-04-09', 0.0), ('2017-04-10', 0.02), ('2017-04-11', 0.47), ('2017-04-12', 1.08), ('2017-04-13', 1.09), ('2017-04-14', 6.72), ('2017-04-15', 1.7400000000000002), ('2017-04-16', 1.07), ('2017-04-17', 3.0700000000000003), ('2017-04-18', 3.36), ('2017-04-19', 0.2), ('2017-04-20', 0.78), ('2017-04-21', 8.38), ('2017-04-22', 4.960000000000001), ('2017-04-23', 0.45999999999999996), ('2017-04-24', 0.060000000000000005), ('2017-04-25', 0.0), ('2017-04-26', 0.39), ('2017-04-27', 0.42), ('2017-04-28', 4.24), ('2017-04-29', 8.04), ('2017-04-30', 6.42), ('2017-05-01', 0.81), ('2017-05-02', 0.05), ('2017-05-03', 0.03), ('2017-05-04', 0.08), ('2017-05-05', 0.38), ('2017-05-06', 0.06), ('2017-05-07', 0.12000000000000001), ('2017-05-08', 3.01), ('2017-05-09', 4.630000000000001), ('2017-05-10', 0.8600000000000001), ('2017-05-11', 0.6), ('2017-05-12', 0.16), ('2017-05-13', 0.24), ('2017-05-14', 1.22), ('2017-05-15', 0.88), ('2017-05-16', 0.42), ('2017-05-17', 0.15000000000000002), ('2017-05-18', 0.85), ('2017-05-19', 0.04), ('2017-05-20', 0.03), ('2017-05-21', 0.01), ('2017-05-22', 0.36), ('2017-05-23', 0.71), ('2017-05-24', 3.8899999999999997), ('2017-05-25', 2.22), ('2017-05-26', 0.02), ('2017-05-27', 0.51), ('2017-05-28', 0.41000000000000003), ('2017-05-29', 0.42000000000000004), ('2017-05-30', 1.73), ('2017-05-31', 0.37), ('2017-06-01', 0.04), ('2017-06-02', 0.33999999999999997), ('2017-06-03', 0.61), ('2017-06-04', 1.15), ('2017-06-05', 0.08), ('2017-06-06', 0.0), ('2017-06-07', 0.01), ('2017-06-08', 0.03), ('2017-06-09', 0.04), ('2017-06-10', 1.53), ('2017-06-11', 2.15), ('2017-06-12', 1.75), ('2017-06-13', 1.38), ('2017-06-14', 1.57), ('2017-06-15', 2.71), ('2017-06-16', 0.2), ('2017-06-17', 0.54), ('2017-06-18', 1.42), ('2017-06-19', 0.73), ('2017-06-20', 0.55), ('2017-06-21', 0.51), ('2017-06-22', 0.44000000000000006), ('2017-06-23', 0.6699999999999999), ('2017-06-24', 0.64), ('2017-06-25', 0.6), ('2017-06-26', 0.1), ('2017-06-27', 0.11), ('2017-06-28', 0.03), ('2017-06-29', 0.07), ('2017-06-30', 0.52), ('2017-07-01', 0.26), ('2017-07-02', 0.72), ('2017-07-03', 0.74), ('2017-07-04', 0.15000000000000002), ('2017-07-05', 0.0), ('2017-07-06', 0.02), ('2017-07-07', 0.5), ('2017-07-08', 0.1), ('2017-07-09', 0.2), ('2017-07-10', 0.04), ('2017-07-11', 0.03), ('2017-07-12', 0.36000000000000004), ('2017-07-13', 1.81), ('2017-07-14', 0.9500000000000001), ('2017-07-15', 0.19), ('2017-07-16', 0.81), ('2017-07-17', 0.91), ('2017-07-18', 2.53), ('2017-07-19', 0.41000000000000003), ('2017-07-20', 1.24), ('2017-07-21', 0.13), ('2017-07-22', 4.42), ('2017-07-23', 1.1300000000000001), ('2017-07-24', 3.2699999999999996), ('2017-07-25', 0.61), ('2017-07-26', 0.5), ('2017-07-27', 0.01), ('2017-07-28', 0.77), ('2017-07-29', 0.61), ('2017-07-30', 0.3), ('2017-07-31', 0.0), ('2017-08-01', 0.13999999999999999), ('2017-08-02', 0.3), ('2017-08-03', 0.06999999999999999), ('2017-08-04', 0.06), ('2017-08-05', 0.06), ('2017-08-06', 0.0), ('2017-08-07', 0.05), ('2017-08-08', 0.44000000000000006), ('2017-08-09', 0.15), ('2017-08-10', 0.07), ('2017-08-11', 0.0), ('2017-08-12', 0.14), ('2017-08-13', 0.0), ('2017-08-14', 0.31), ('2017-08-15', 0.8200000000000001), ('2017-08-16', 0.61), ('2017-08-17', 0.19), ('2017-08-18', 0.06), ('2017-08-19', 0.09), ('2017-08-20', 0.01), ('2017-08-21', 0.5800000000000001), ('2017-08-22', 0.5), ('2017-08-23', 0.53)]\n"
     ]
    }
   ],
   "metadata": {}
  },
  {
   "cell_type": "code",
   "execution_count": 176,
   "source": [
    "print(precip_output3)"
   ],
   "outputs": [
    {
     "output_type": "stream",
     "name": "stdout",
     "text": [
      "SELECT measurement.date AS measurement_date, sum(measurement.prcp) AS sum_1 \n",
      "FROM measurement \n",
      "WHERE strftime(?, measurement.date >= ?) ORDER BY measurement.date\n"
     ]
    }
   ],
   "metadata": {}
  },
  {
   "cell_type": "code",
   "execution_count": 179,
   "source": [
    "print(precip_output4)"
   ],
   "outputs": [
    {
     "output_type": "stream",
     "name": "stdout",
     "text": [
      "SELECT measurement.date AS measurement_date, sum(measurement.prcp) AS sum_1 \n",
      "FROM measurement \n",
      "WHERE strftime(?, measurement.date >= ?)\n"
     ]
    }
   ],
   "metadata": {}
  },
  {
   "cell_type": "code",
   "execution_count": 33,
   "source": [
    "print(precip_output0)"
   ],
   "outputs": [
    {
     "output_type": "stream",
     "name": "stdout",
     "text": [
      "[(2365, '2016-08-24', 0.08), (2366, '2016-08-25', 0.08), (2367, '2016-08-26', 0.0), (2368, '2016-08-27', 0.0), (2369, '2016-08-28', 0.01), (2370, '2016-08-29', 0.0), (2371, '2016-08-30', 0.0), (2372, '2016-08-31', 0.13), (2373, '2016-09-01', 0.0), (2374, '2016-09-02', 0.0), (2375, '2016-09-03', 0.0), (2376, '2016-09-04', 0.03), (2377, '2016-09-05', None), (2378, '2016-09-06', None), (2379, '2016-09-07', 0.05), (2380, '2016-09-08', 0.0), (2381, '2016-09-09', 0.03), (2382, '2016-09-10', 0.0), (2383, '2016-09-11', 0.05), (2384, '2016-09-12', 0.0), (2385, '2016-09-13', 0.02), (2386, '2016-09-14', 1.32), (2387, '2016-09-15', 0.42), (2388, '2016-09-16', 0.06), (2389, '2016-09-17', 0.05), (2390, '2016-09-18', 0.0), (2391, '2016-09-19', 0.0), (2392, '2016-09-20', 0.0), (2393, '2016-09-21', 0.0), (2394, '2016-09-22', 0.02), (2395, '2016-09-23', 0.0), (2396, '2016-09-24', 0.0), (2397, '2016-09-25', 0.0), (2398, '2016-09-26', 0.06), (2399, '2016-09-27', 0.02), (2400, '2016-09-28', 0.0), (2401, '2016-09-29', 0.0), (2402, '2016-09-30', 0.0), (2403, '2016-10-01', 0.0), (2404, '2016-10-02', 0.0), (2405, '2016-10-03', 0.0), (2406, '2016-10-04', 0.0), (2407, '2016-10-05', 0.0), (2408, '2016-10-06', 0.0), (2409, '2016-10-07', 0.0), (2410, '2016-10-08', 0.0), (2411, '2016-10-09', 0.0), (2412, '2016-10-10', 0.0), (2413, '2016-10-11', 0.0), (2414, '2016-10-12', 0.0), (2415, '2016-10-13', 0.0), (2416, '2016-10-14', 0.0), (2417, '2016-10-15', 0.0), (2418, '2016-10-16', 0.0), (2419, '2016-10-17', 0.01), (2420, '2016-10-18', 0.0), (2421, '2016-10-19', 0.0), (2422, '2016-10-20', 0.0), (2423, '2016-10-21', 0.05), (2424, '2016-10-22', 0.15), (2425, '2016-10-23', 0.01), (2426, '2016-10-24', 0.0), (2427, '2016-10-25', 0.03), (2428, '2016-10-26', 0.0), (2429, '2016-10-27', 0.0), (2430, '2016-10-28', 0.0), (2431, '2016-10-29', 0.0), (2432, '2016-10-30', 0.24), (2433, '2016-10-31', 0.03), (2434, '2016-11-01', 0.0), (2435, '2016-11-02', 0.0), (2436, '2016-11-03', 0.0), (2437, '2016-11-04', 0.0), (2438, '2016-11-05', 0.0), (2439, '2016-11-06', 0.0), (2440, '2016-11-07', 0.0), (2441, '2016-11-08', 0.07), (2442, '2016-11-09', 0.0), (2443, '2016-11-10', 0.0), (2444, '2016-11-11', 0.0), (2445, '2016-11-12', 0.0), (2446, '2016-11-13', 0.0), (2447, '2016-11-14', 0.0), (2448, '2016-11-15', 0.0), (2449, '2016-11-16', 0.0), (2450, '2016-11-17', 0.0), (2451, '2016-11-18', 0.0), (2452, '2016-11-19', 0.03), (2453, '2016-11-20', 0.05), (2454, '2016-11-21', 0.01), (2455, '2016-11-22', 0.13), (2456, '2016-11-23', 0.14), (2457, '2016-11-24', 0.05), (2458, '2016-11-25', 0.05), (2459, '2016-11-26', 0.05), (2460, '2016-11-27', 0.0), (2461, '2016-11-28', 0.01), (2462, '2016-11-29', 0.0), (2463, '2016-11-30', 0.14), (2464, '2016-12-01', 0.12), (2465, '2016-12-02', 0.03), (2466, '2016-12-03', 0.0), (2467, '2016-12-04', 0.03), (2468, '2016-12-05', 0.43), (2469, '2016-12-06', 0.02), (2470, '2016-12-07', 0.0), (2471, '2016-12-08', 0.03), (2472, '2016-12-09', 0.52), (2473, '2016-12-10', 0.05), (2474, '2016-12-11', 0.04), (2475, '2016-12-12', 0.01), (2476, '2016-12-13', 0.05), (2477, '2016-12-14', 0.03), (2478, '2016-12-15', 0.0), (2479, '2016-12-16', 0.0), (2480, '2016-12-17', 0.01), (2481, '2016-12-18', 0.13), (2482, '2016-12-19', 0.01), (2483, '2016-12-20', 0.0), (2484, '2016-12-21', 0.0), (2485, '2016-12-22', 0.01), (2486, '2016-12-23', 0.01), (2487, '2016-12-24', 0.01), (2488, '2016-12-25', 0.0), (2489, '2016-12-26', 0.02), (2490, '2016-12-27', 0.0), (2491, '2016-12-28', 0.02), (2492, '2016-12-29', 0.04), (2493, '2016-12-30', 0.12), (2494, '2016-12-31', 0.01), (2495, '2017-01-01', 0.0), (2496, '2017-01-02', 0.0), (2497, '2017-01-03', 0.0), (2498, '2017-01-04', 0.0), (2499, '2017-01-05', 0.0), (2500, '2017-01-06', 0.0), (2501, '2017-01-07', 0.0), (2502, '2017-01-08', 0.0), (2503, '2017-01-09', 0.0), (2504, '2017-01-10', 0.0), (2505, '2017-01-11', 0.0), (2506, '2017-01-12', 0.0), (2507, '2017-01-13', 0.0), (2508, '2017-01-14', 0.0), (2509, '2017-01-15', 0.0), (2510, '2017-01-16', 0.0), (2511, '2017-01-17', 0.0), (2512, '2017-01-18', 0.0), (2513, '2017-01-19', 0.0), (2514, '2017-01-20', 0.0), (2515, '2017-01-21', 0.0), (2516, '2017-01-22', 0.16), (2517, '2017-01-23', 0.0), (2518, '2017-01-24', 0.04), (2519, '2017-01-25', 0.03), (2520, '2017-01-26', 0.0), (2521, '2017-01-27', 0.0), (2522, '2017-01-28', 0.0), (2523, '2017-01-29', 0.18), (2524, '2017-01-30', 0.0), (2525, '2017-01-31', 0.0), (2526, '2017-02-01', 0.0), (2527, '2017-02-02', 0.0), (2528, '2017-02-03', 0.0), (2529, '2017-02-04', 0.0), (2530, '2017-02-05', 0.0), (2531, '2017-02-06', 0.0), (2532, '2017-02-07', 0.51), (2533, '2017-02-08', 0.0), (2534, '2017-02-09', 0.0), (2535, '2017-02-10', 0.0), (2536, '2017-02-11', 0.31), (2537, '2017-02-12', 2.62), (2538, '2017-02-13', 0.01), (2539, '2017-02-14', 0.0), (2540, '2017-02-15', 0.0), (2541, '2017-02-16', 0.07), (2542, '2017-02-17', 0.0), (2543, '2017-02-18', 0.0), (2544, '2017-02-19', 0.0), (2545, '2017-02-20', 0.0), (2546, '2017-02-21', 0.06), (2547, '2017-02-22', 0.06), (2548, '2017-02-23', 0.01), (2549, '2017-02-24', 0.0), (2550, '2017-02-25', 0.03), (2551, '2017-02-26', 0.0), (2552, '2017-02-27', 0.0), (2553, '2017-02-28', 0.0), (2554, '2017-03-01', 1.19), (2555, '2017-03-02', 0.73), (2556, '2017-03-03', 0.47), (2557, '2017-03-04', 0.0), (2558, '2017-03-05', 0.35), (2559, '2017-03-06', 0.0), (2560, '2017-03-07', 0.0), (2561, '2017-03-08', 0.0), (2562, '2017-03-09', 0.0), (2563, '2017-03-10', 0.0), (2564, '2017-03-11', 0.0), (2565, '2017-03-12', 0.0), (2566, '2017-03-13', 0.0), (2567, '2017-03-14', 0.0), (2568, '2017-03-15', 0.0), (2569, '2017-03-16', 0.0), (2570, '2017-03-17', 0.0), (2571, '2017-03-18', 0.0), (2572, '2017-03-19', 0.0), (2573, '2017-03-20', 0.0), (2574, '2017-03-21', 0.0), (2575, '2017-03-22', 0.0), (2576, '2017-03-23', 0.0), (2577, '2017-03-24', 0.02), (2578, '2017-03-25', 0.0), (2579, '2017-03-26', 0.0), (2580, '2017-03-27', 0.0), (2581, '2017-03-28', 0.0), (2582, '2017-03-29', 0.0), (2583, '2017-03-30', 0.0), (2584, '2017-03-31', 0.0), (2585, '2017-04-01', 0.0), (2586, '2017-04-02', 0.0), (2587, '2017-04-03', 0.0), (2588, '2017-04-04', 0.0), (2589, '2017-04-05', 0.0), (2590, '2017-04-06', 0.0), (2591, '2017-04-07', 0.0), (2592, '2017-04-08', 0.0), (2593, '2017-04-09', 0.0), (2594, '2017-04-10', 0.0), (2595, '2017-04-11', 0.0), (2596, '2017-04-12', 0.0), (2597, '2017-04-13', 0.0), (2598, '2017-04-14', 0.26), (2599, '2017-04-15', 0.01), (2600, '2017-04-16', 0.0), (2601, '2017-04-17', 0.02), (2602, '2017-04-18', 0.0), (2603, '2017-04-19', 0.02), (2604, '2017-04-20', 0.05), (2605, '2017-04-21', 0.23), (2606, '2017-04-22', 0.32), (2607, '2017-04-23', 0.03), (2608, '2017-04-24', 0.0), (2609, '2017-04-25', 0.0), (2610, '2017-04-26', 0.0), (2611, '2017-04-27', 0.0), (2612, '2017-04-28', 0.0), (2613, '2017-04-29', 0.12), (2614, '2017-04-30', 0.89), (2615, '2017-05-01', 0.26), (2616, '2017-05-02', 0.0), (2617, '2017-05-03', 0.0), (2618, '2017-05-04', 0.0), (2619, '2017-05-05', 0.0), (2620, '2017-05-06', 0.0), (2621, '2017-05-07', 0.0), (2622, '2017-05-08', 0.0), (2623, '2017-05-10', 0.0), (2624, '2017-05-11', 0.01), (2625, '2017-05-12', 0.0), (2626, '2017-05-13', 0.0), (2627, '2017-05-14', 0.0), (2628, '2017-05-15', 0.05), (2629, '2017-05-16', 0.01), (2630, '2017-05-17', 0.0), (2631, '2017-05-18', 0.01), (2632, '2017-05-19', 0.0), (2633, '2017-05-20', 0.0), (2634, '2017-05-21', 0.0), (2635, '2017-05-22', 0.0), (2636, '2017-05-23', 0.08), (2637, '2017-05-24', 0.13), (2638, '2017-05-25', 0.15), (2639, '2017-05-27', 0.01), (2640, '2017-05-28', 0.02), (2641, '2017-05-29', 0.0), (2642, '2017-05-30', 0.26), (2643, '2017-05-31', 0.02), (2644, '2017-06-01', 0.0), (2645, '2017-06-02', 0.0), (2646, '2017-06-03', 0.02), (2647, '2017-06-04', 0.0), (2648, '2017-06-05', 0.0), (2649, '2017-06-06', 0.0), (2650, '2017-06-07', 0.0), (2651, '2017-06-08', 0.0), (2652, '2017-06-09', 0.0), (2653, '2017-06-10', 0.04), (2654, '2017-06-11', 0.08), (2655, '2017-06-12', 0.02), (2656, '2017-06-13', 0.0), (2657, '2017-06-14', 0.0), (2658, '2017-06-15', 0.0), (2659, '2017-06-16', 0.0), (2660, '2017-06-17', 0.0), (2661, '2017-06-18', 0.05), (2662, '2017-06-19', 0.0), (2663, '2017-06-20', 0.02), (2664, '2017-06-21', 0.0), (2665, '2017-06-22', 0.0), (2666, '2017-06-23', 0.0), (2667, '2017-06-24', 0.06), (2668, '2017-06-25', 0.0), (2669, '2017-06-26', 0.0), (2670, '2017-06-27', 0.0), (2671, '2017-06-28', 0.0), (2672, '2017-06-29', 0.0), (2673, '2017-06-30', 0.08), (2674, '2017-07-01', 0.02), (2675, '2017-07-02', 0.02), (2676, '2017-07-03', 0.04), (2677, '2017-07-04', 0.04), (2678, '2017-07-05', 0.0), (2679, '2017-07-06', 0.0), (2680, '2017-07-07', 0.0), (2681, '2017-07-08', 0.0), (2682, '2017-07-09', 0.0), (2683, '2017-07-10', 0.0), (2684, '2017-07-11', 0.0), (2685, '2017-07-12', 0.0), (2686, '2017-07-13', 0.07), (2687, '2017-07-14', 0.02), (2688, '2017-07-15', 0.0), (2689, '2017-07-16', 0.02), (2690, '2017-07-17', 0.03), (2691, '2017-07-18', 0.05), (2692, '2017-07-20', 0.03), (2693, '2017-07-21', 0.0), (2694, '2017-07-22', 0.03), (2695, '2017-07-23', 0.0), (2696, '2017-07-24', 0.05), (2697, '2017-07-25', 0.0), (2698, '2017-07-26', 0.0), (2699, '2017-07-27', 0.0), (2700, '2017-07-28', 0.0), (2701, '2017-07-29', 0.0), (2702, '2017-07-30', 0.0), (2703, '2017-07-31', 0.0), (2704, '2017-08-01', 0.02), (2705, '2017-08-02', 0.0), (2706, '2017-08-03', 0.0), (2707, '2017-08-04', 0.02), (2708, '2017-08-05', 0.0), (2709, '2017-08-06', 0.0), (2710, '2017-08-07', 0.0), (2711, '2017-08-08', 0.0), (2712, '2017-08-09', 0.0), (2713, '2017-08-10', 0.0), (2714, '2017-08-11', 0.0), (2715, '2017-08-12', 0.0), (2716, '2017-08-13', 0.0), (2717, '2017-08-14', 0.0), (2718, '2017-08-15', 0.02), (2719, '2017-08-18', 0.0), (2720, '2017-08-19', 0.0), (2721, '2017-08-20', 0.0), (2722, '2017-08-21', 0.0), (2723, '2017-08-22', 0.0), (2724, '2017-08-23', 0.0), (5092, '2016-08-24', 2.15), (5093, '2016-08-25', 0.08), (5094, '2016-08-26', 0.03), (5095, '2016-08-27', 0.18), (5096, '2016-08-28', 0.14), (5097, '2016-08-29', 0.17), (5098, '2016-08-30', 0.0), (5099, '2016-08-31', 0.1), (5100, '2016-09-01', 0.0), (5101, '2016-09-02', 0.02), (5102, '2016-09-03', 0.07), (5103, '2016-09-04', 0.03), (5104, '2016-09-05', 0.11), (5105, '2016-09-06', 0.05), (5106, '2016-09-07', 0.1), (5107, '2016-09-08', 0.22), (5108, '2016-09-09', 0.01), (5109, '2016-09-10', 0.01), (5110, '2016-09-11', 0.18), (5111, '2016-09-12', 0.04), (5112, '2016-09-13', 0.37), (5113, '2016-09-14', 0.9), (5114, '2016-09-15', 0.12), (5115, '2016-09-16', 0.01), (5116, '2016-09-17', 0.04), (5117, '2016-09-18', 0.0), (5118, '2016-09-19', 0.01), (5119, '2016-09-20', 0.09), (5120, '2016-09-21', 0.06), (5121, '2016-09-22', 0.09), (5122, '2016-09-23', 0.15), (5123, '2016-09-24', 0.0), (5124, '2016-09-25', 0.02), (5125, '2016-09-26', 0.06), (5126, '2016-09-27', 0.12), (5127, '2016-09-28', 0.08), (5128, '2016-09-29', 0.49), (5129, '2016-09-30', 0.31), (5130, '2016-10-01', 0.14), (5131, '2016-10-02', 0.02), (5132, '2016-10-03', 0.04), (5133, '2016-10-04', 0.0), (5134, '2016-10-05', 0.0), (5135, '2016-10-06', 0.05), (5136, '2016-10-07', 0.0), (5137, '2016-10-08', 0.0), (5138, '2016-10-09', 0.0), (5139, '2016-10-10', 0.0), (5140, '2016-10-11', 0.02), (5141, '2016-10-12', 0.03), (5142, '2016-10-13', 0.0), (5143, '2016-10-14', 0.0), (5144, '2016-10-15', 0.0), (5145, '2016-10-16', 0.0), (5146, '2016-10-17', 0.03), (5147, '2016-10-18', 0.05), (5148, '2016-10-19', 0.06), (5149, '2016-10-20', 0.0), (5150, '2016-10-21', 0.15), (5151, '2016-10-22', 0.1), (5152, '2016-10-23', 0.01), (5153, '2016-10-24', 0.0), (5154, '2016-10-25', 0.04), (5155, '2016-10-26', 0.06), (5156, '2016-10-27', 0.11), (5157, '2016-10-28', 0.02), (5158, '2016-10-29', 0.02), (5159, '2016-10-30', 0.1), (5160, '2016-10-31', 0.03), (5161, '2016-11-01', 0.01), (5162, '2016-11-02', 0.0), (5163, '2016-11-03', 0.0), (5164, '2016-11-04', 0.0), (5165, '2016-11-05', 0.02), (5166, '2016-11-06', 0.02), (5167, '2016-11-07', 0.0), (5168, '2016-11-08', 0.14), (5169, '2016-11-09', 0.08), (5170, '2016-11-10', 0.0), (5171, '2016-11-11', 0.0), (5172, '2016-11-12', 0.0), (5173, '2016-11-13', 0.0), (5174, '2016-11-14', 0.06), (5175, '2016-11-15', 0.0), (5176, '2016-11-16', 0.14), (5177, '2016-11-17', 0.03), (5178, '2016-11-18', 0.01), (5179, '2016-11-19', 0.11), (5180, '2016-11-20', 0.11), (5181, '2016-11-21', 0.02), (5182, '2016-11-22', 0.41), (5183, '2016-11-23', 0.03), (5184, '2016-11-24', 0.2), (5185, '2016-11-25', 0.05), (5186, '2016-11-26', 0.05), (5187, '2016-11-27', 0.06), (5188, '2016-11-28', 0.02), (5189, '2016-11-29', 0.04), (5190, '2016-11-30', 0.05), (5191, '2016-12-01', 0.33), (5192, '2016-12-02', 0.3), (5193, '2016-12-03', 0.04), (5194, '2016-12-04', 0.1), (5195, '2016-12-05', 0.34), (5196, '2016-12-06', 0.02), (5197, '2016-12-07', 0.17), (5198, '2016-12-08', 0.03), (5199, '2016-12-09', 0.34), (5200, '2016-12-10', 0.02), (5201, '2016-12-11', 0.02), (5202, '2016-12-12', 0.01), (5203, '2016-12-13', 0.1), (5204, '2016-12-14', 0.05), (5205, '2016-12-15', 0.02), (5206, '2016-12-16', 0.01), (5207, '2016-12-17', 0.11), (5208, '2016-12-18', 0.29), (5209, '2016-12-19', 0.21), (5210, '2016-12-20', 0.02), (5211, '2016-12-21', 0.03), (5212, '2016-12-22', 0.17), (5213, '2016-12-23', 0.1), (5214, '2016-12-24', 0.14), (5215, '2016-12-25', 0.03), (5216, '2016-12-26', 0.26), (5217, '2016-12-27', 0.03), (5218, '2016-12-28', 0.09), (5219, '2016-12-29', 0.18), (5220, '2016-12-30', 0.21), (5221, '2016-12-31', 0.62), (5222, '2017-01-01', 0.29), (5223, '2017-01-02', 0.0), (5224, '2017-01-03', 0.0), (5225, '2017-01-04', 0.0), (5226, '2017-01-05', 0.0), (5227, '2017-01-06', 0.0), (5228, '2017-01-07', 0.06), (5229, '2017-01-08', 0.0), (5230, '2017-01-09', 0.0), (5231, '2017-01-10', 0.0), (5232, '2017-01-11', 0.0), (5233, '2017-01-12', 0.0), (5234, '2017-01-13', 0.0), (5235, '2017-01-14', 0.0), (5236, '2017-01-15', 0.0), (5237, '2017-01-16', 0.0), (5238, '2017-01-17', 0.0), (5239, '2017-01-18', 0.0), (5240, '2017-01-19', 0.0), (5241, '2017-01-20', 0.0), (5242, '2017-01-21', 0.04), (5243, '2017-01-22', 0.01), (5244, '2017-01-23', 0.08), (5245, '2017-01-24', 0.15), (5246, '2017-01-25', 0.12), (5247, '2017-01-26', 0.0), (5248, '2017-01-27', 0.0), (5249, '2017-01-28', 0.14), (5250, '2017-01-29', 0.0), (5251, '2017-01-30', 0.0), (5252, '2017-01-31', 0.0), (5253, '2017-02-01', 0.0), (5254, '2017-02-02', 0.0), (5255, '2017-02-03', 0.0), (5256, '2017-02-04', 0.0), (5257, '2017-02-05', 0.0), (5258, '2017-02-06', 0.16), (5259, '2017-02-07', 1.08), (5260, '2017-02-08', 1.08), (5261, '2017-02-09', 0.02), (5262, '2017-02-10', 0.0), (5263, '2017-02-11', 1.0), (5264, '2017-02-12', 1.07), (5265, '2017-02-13', 2.9), (5266, '2017-02-14', 0.0), (5267, '2017-02-15', 0.0), (5268, '2017-02-16', 0.0), (5269, '2017-02-17', 0.8), (5270, '2017-02-18', 0.0), (5271, '2017-02-19', 0.0), (5272, '2017-02-20', 0.0), (5273, '2017-02-21', 0.0), (5274, '2017-02-22', 0.06), (5275, '2017-02-23', 0.0), (5276, '2017-02-24', 0.0), (5277, '2017-02-25', 0.0), (5278, '2017-02-26', 0.0), (5279, '2017-02-27', 0.0), (5280, '2017-02-28', 0.16), (5281, '2017-03-01', 2.2), (5282, '2017-03-02', 1.45), (5283, '2017-03-03', 0.54), (5284, '2017-03-04', 0.0), (5285, '2017-03-05', 0.1), (5286, '2017-03-06', 0.51), (5287, '2017-03-07', 0.0), (5288, '2017-03-08', 0.0), (5289, '2017-03-09', 0.8), (5290, '2017-03-10', 0.13), (5291, '2017-03-11', 0.03), (5292, '2017-03-12', 0.0), (5293, '2017-03-13', 0.0), (5294, '2017-03-14', 0.0), (5295, '2017-03-15', 0.0), (5296, '2017-03-16', 0.0), (5297, '2017-03-17', 0.19), (5298, '2017-03-18', 0.0), (5299, '2017-03-19', 0.0), (5300, '2017-03-20', 0.0), (5301, '2017-03-21', 0.0), (5302, '2017-03-22', 0.0), (5303, '2017-03-23', 0.0), (5304, '2017-03-24', 0.6), (5305, '2017-03-25', 0.13), (5306, '2017-03-26', 0.0), (5307, '2017-03-27', 0.0), (5308, '2017-03-28', 0.03), (5309, '2017-03-29', 0.0), (5310, '2017-03-30', 0.08), (5311, '2017-03-31', 0.0), (5312, '2017-04-01', 0.0), (5313, '2017-04-02', 0.0), (5314, '2017-04-03', 0.08), (5315, '2017-04-04', 0.04), (5316, '2017-04-05', 0.04), (5317, '2017-04-06', 0.0), (5318, '2017-04-07', 0.0), (5319, '2017-04-08', 0.0), (5320, '2017-04-09', 0.0), (5321, '2017-04-10', 0.01), (5322, '2017-04-11', 0.03), (5323, '2017-04-12', 0.03), (5324, '2017-04-13', 0.27), (5325, '2017-04-14', 0.69), (5326, '2017-04-15', 0.45), (5327, '2017-04-16', 0.49), (5328, '2017-04-17', 0.41), (5329, '2017-04-18', 0.08), (5330, '2017-04-19', 0.02), (5331, '2017-04-20', 0.33), (5332, '2017-04-21', 1.16), (5333, '2017-04-22', 1.01), (5334, '2017-04-23', 0.02), (5335, '2017-04-24', 0.0), (5336, '2017-04-25', 0.0), (5337, '2017-04-26', 0.0), (5338, '2017-04-27', 0.1), (5339, '2017-04-28', 2.6), (5340, '2017-04-29', 0.35), (5341, '2017-04-30', 1.21), (5342, '2017-05-01', 0.07), (5343, '2017-05-02', 0.03), (5344, '2017-05-03', 0.01), (5345, '2017-05-04', 0.0), (5346, '2017-05-05', 0.0), (5347, '2017-05-06', 0.0), (5348, '2017-05-07', 0.07), (5349, '2017-05-08', 0.22), (5350, '2017-05-09', 1.62), (5351, '2017-05-10', 0.05), (5352, '2017-05-11', 0.03), (5353, '2017-05-12', 0.04), (5354, '2017-05-13', 0.02), (5355, '2017-05-14', 0.05), (5356, '2017-05-15', 0.08), (5357, '2017-05-16', 0.03), (5358, '2017-05-17', 0.02), (5359, '2017-05-18', 0.09), (5360, '2017-05-19', 0.02), (5361, '2017-05-20', 0.0), (5362, '2017-05-21', 0.0), (5363, '2017-05-22', 0.0), (5364, '2017-05-23', 0.02), (5365, '2017-05-24', 0.58), (5366, '2017-05-25', 0.37), (5367, '2017-05-26', 0.02), (5368, '2017-05-27', 0.0), (5369, '2017-05-28', 0.29), (5370, '2017-05-29', 0.02), (5371, '2017-05-30', 0.2), (5372, '2017-05-31', 0.1), (5373, '2017-06-01', 0.03), (5374, '2017-06-02', 0.1), (5375, '2017-06-03', 0.2), (5376, '2017-06-04', 0.15), (5377, '2017-06-05', 0.0), (5378, '2017-06-06', 0.0), (5379, '2017-06-07', 0.0), (5380, '2017-06-08', 0.02), (5381, '2017-06-09', 0.02), (5382, '2017-06-10', 0.21), (5383, '2017-06-11', 0.24), (5384, '2017-06-12', 0.19), (5385, '2017-06-13', 0.36), (5386, '2017-06-14', 0.27), (5387, '2017-06-15', 0.17), (5388, '2017-06-16', 0.02), (5389, '2017-06-17', 0.35), (5390, '2017-06-18', 0.25), (5391, '2017-06-19', 0.05), (5392, '2017-06-20', 0.05), (5393, '2017-06-21', 0.02), (5394, '2017-06-22', 0.1), (5395, '2017-06-23', 0.0), (5396, '2017-06-24', 0.0), (5397, '2017-06-25', 0.08), (5398, '2017-06-26', 0.02), (5399, '2017-06-27', 0.0), (5400, '2017-06-28', 0.01), (5401, '2017-06-29', 0.03), (5402, '2017-06-30', 0.04), (5403, '2017-07-01', 0.06), (5404, '2017-07-02', 0.05), (5405, '2017-07-03', 0.13), (5406, '2017-07-04', 0.03), (5407, '2017-07-05', 0.0), (5408, '2017-07-06', 0.0), (5409, '2017-07-07', 0.02), (5410, '2017-07-08', 0.02), (5411, '2017-07-09', 0.09), (5412, '2017-07-10', 0.0), (5413, '2017-07-11', 0.01), (5414, '2017-07-12', 0.01), (5415, '2017-07-13', 0.33), (5416, '2017-07-14', 0.05), (5417, '2017-07-15', 0.03), (5418, '2017-07-16', 0.07), (5419, '2017-07-17', 0.12), (5420, '2017-07-18', 0.03), (5421, '2017-07-19', 0.0), (5422, '2017-07-20', 0.12), (5423, '2017-07-21', 0.0), (5424, '2017-07-22', 0.07), (5425, '2017-07-23', 0.06), (5426, '2017-07-24', 0.58), (5427, '2017-07-25', 0.03), (5428, '2017-07-26', 0.06), (5429, '2017-07-27', 0.0), (5430, '2017-07-28', 0.13), (5431, '2017-07-29', 0.06), (5432, '2017-07-30', 0.0), (5433, '2017-07-31', 0.0), (7332, '2016-08-24', 2.28), (7333, '2016-08-25', 0.0), (7334, '2016-08-26', 0.02), (7335, '2016-08-27', 0.02), (7336, '2016-08-28', 0.14), (7337, '2016-08-29', 0.04), (7338, '2016-08-31', None), (7339, '2016-09-01', 0.0), (7340, '2016-09-02', 0.19), (7341, '2016-09-05', None), (7342, '2016-09-06', 0.04), (7343, '2016-09-07', 0.23), (7344, '2016-09-08', 0.01), (7345, '2016-09-09', 0.29), (7346, '2016-09-12', None), (7347, '2016-09-13', 0.32), (7348, '2016-09-14', 1.84), (7349, '2016-09-15', 0.07), (7350, '2016-09-16', 0.07), (7351, '2016-09-19', None), (7352, '2016-09-20', 0.25), (7353, '2016-09-21', 0.02), (7354, '2016-09-22', 0.17), (7355, '2016-09-23', 0.15), (7356, '2016-09-24', 0.0), (7357, '2016-09-25', 0.0), (7358, '2016-09-26', 0.02), (7359, '2016-09-27', 0.0), (7360, '2016-09-28', 0.0), (7361, '2016-09-29', 0.2), (7362, '2016-09-30', 0.06), (7363, '2016-10-01', 0.08), (7364, '2016-10-02', 0.03), (7365, '2016-10-03', 0.03), (7366, '2016-10-04', 0.0), (7367, '2016-10-05', 0.0), (7368, '2016-10-06', 0.0), (7369, '2016-10-07', 0.0), (7370, '2016-10-10', None), (7371, '2016-10-11', 0.04), (7372, '2016-10-12', 0.0), (7373, '2016-10-13', 0.02), (7374, '2016-10-14', 0.0), (7375, '2016-10-15', 0.02), (7376, '2016-10-17', None), (7377, '2016-10-18', 0.03), (7378, '2016-10-19', 0.0), (7379, '2016-10-20', 0.01), (7380, '2016-10-21', 0.03), (7381, '2016-10-23', None), (7382, '2016-10-24', 0.01), (7383, '2016-10-25', 0.0), (7384, '2016-10-27', 0.2), (7385, '2016-10-28', 0.07), (7386, '2016-10-29', 0.26), (7387, '2016-10-30', 0.14), (7388, '2016-10-31', 0.0), (7389, '2016-11-01', 0.0), (7390, '2016-11-02', 0.0), (7391, '2016-11-03', 0.0), (7392, '2016-11-04', 0.0), (7393, '2016-11-05', 0.0), (7394, '2016-11-06', 0.0), (7395, '2016-11-07', 0.13), (7396, '2016-11-08', 0.02), (7397, '2016-11-09', 0.17), (7398, '2016-11-10', 0.0), (7399, '2016-11-11', 0.0), (7400, '2016-11-12', 0.0), (7401, '2016-11-13', 0.0), (7402, '2016-11-14', 0.05), (7403, '2016-11-15', 0.0), (7404, '2016-11-16', 0.18), (7405, '2016-11-17', 0.0), (7406, '2016-11-22', None), (7407, '2016-11-25', None), (7408, '2016-11-26', 0.02), (7409, '2016-11-27', 0.03), (7410, '2016-11-28', 0.0), (7411, '2016-11-29', 0.04), (7412, '2016-11-30', 0.03), (7413, '2016-12-01', 0.07), (7414, '2016-12-02', 0.4), (7415, '2016-12-03', 0.26), (7416, '2016-12-04', 0.0), (7417, '2016-12-05', 0.2), (7418, '2016-12-07', None), (7419, '2016-12-08', 0.02), (7420, '2016-12-09', 0.26), (7421, '2016-12-10', 0.0), (7422, '2016-12-12', None), (7423, '2016-12-13', 0.34), (7424, '2016-12-14', 0.12), (7425, '2016-12-15', 0.07), (7426, '2016-12-16', 0.0), (7427, '2016-12-17', 0.0), (7428, '2016-12-18', 0.04), (7429, '2016-12-19', 0.0), (7430, '2016-12-20', 0.0), (7431, '2016-12-21', 0.09), (7432, '2016-12-22', 0.05), (7433, '2016-12-23', 0.03), (7434, '2016-12-24', 0.13), (7435, '2016-12-26', None), (7436, '2016-12-27', 0.02), (7437, '2016-12-28', 0.01), (7438, '2016-12-29', 0.56), (7439, '2016-12-30', 0.29), (7440, '2016-12-31', 0.36), (7441, '2017-01-01', 0.0), (7442, '2017-01-02', 0.01), (7443, '2017-01-03', 0.0), (7444, '2017-01-04', 0.0), (7445, '2017-01-05', 0.0), (7446, '2017-01-06', 0.59), (7447, '2017-01-07', 0.0), (7448, '2017-01-08', 0.03), (7449, '2017-01-09', 0.0), (7450, '2017-01-10', 0.0), (7451, '2017-01-11', 0.0), (7452, '2017-01-13', None), (7453, '2017-01-14', 0.0), (7454, '2017-01-16', None), (7455, '2017-01-17', 0.0), (7456, '2017-01-18', 0.0), (7457, '2017-01-19', 0.0), (7458, '2017-01-20', 0.0), (7459, '2017-01-21', 0.02), (7460, '2017-01-23', None), (7461, '2017-01-25', None), (7462, '2017-01-26', 0.01), (7463, '2017-01-27', 0.0), (7464, '2017-01-28', 0.0), (7465, '2017-01-30', None), (7466, '2017-01-31', 0.0), (7467, '2017-02-01', 0.0), (7468, '2017-02-02', 0.0), (7469, '2017-02-03', 0.0), (7470, '2017-02-05', None), (7471, '2017-02-06', 0.04), (7472, '2017-02-07', 0.9), (7473, '2017-02-08', 0.0), (7474, '2017-02-09', 0.0), (7475, '2017-02-10', 0.0), (7476, '2017-02-11', 2.39), (7477, '2017-02-12', 1.91), (7478, '2017-02-13', 0.0), (7479, '2017-02-14', 0.0), (7480, '2017-02-15', 0.0), (7481, '2017-02-16', 0.62), (7482, '2017-02-17', 0.06), (7483, '2017-02-20', None), (7484, '2017-02-21', 0.0), (7485, '2017-02-22', 0.11), (7486, '2017-02-23', 0.0), (7487, '2017-02-24', 0.0), (7488, '2017-02-26', None), (7489, '2017-02-27', 0.0), (7490, '2017-02-28', 0.04), (7491, '2017-03-01', 1.12), (7492, '2017-03-03', None), (7493, '2017-03-06', None), (7494, '2017-03-07', 0.0), (7495, '2017-03-08', 0.0), (7496, '2017-03-09', 0.5), (7497, '2017-03-10', 0.13), (7498, '2017-03-12', None), (7499, '2017-03-13', 0.0), (7500, '2017-03-14', 0.0), (7501, '2017-03-16', None), (7502, '2017-03-17', 0.06), (7503, '2017-03-18', 0.0), (7504, '2017-03-20', None), (7505, '2017-03-21', 0.0), (7506, '2017-03-22', 0.0), (7507, '2017-03-23', 0.0), (7508, '2017-03-24', 0.15), (7509, '2017-03-27', None), (7510, '2017-03-28', 0.0), (7511, '2017-03-29', 0.03), (7512, '2017-03-30', 0.03), (7513, '2017-03-31', 0.0), (7514, '2017-04-01', 0.0), (7515, '2017-04-02', 0.0), (7516, '2017-04-03', 0.09), (7517, '2017-04-04', 0.0), (7518, '2017-04-05', 0.07), (7519, '2017-04-06', 0.0), (7520, '2017-04-07', 0.0), (7521, '2017-04-09', None), (7522, '2017-04-10', 0.0), (7523, '2017-04-11', 0.16), (7524, '2017-04-12', 0.29), (7525, '2017-04-13', 0.0), (7526, '2017-04-14', 0.29), (7527, '2017-04-17', None), (7528, '2017-04-18', 0.12), (7529, '2017-04-19', 0.0), (7530, '2017-04-20', 0.0), (7531, '2017-04-21', 1.05), (7532, '2017-04-22', 0.7), (7533, '2017-04-24', None), (7534, '2017-04-25', 0.0), (7535, '2017-04-26', 0.14), (7536, '2017-04-27', 0.02), (7537, '2017-04-28', 0.09), (7538, '2017-04-29', 0.95), (7539, '2017-04-30', 1.17), (7540, '2017-05-01', 0.03), (7541, '2017-05-02', 0.01), (7542, '2017-05-03', 0.01), (7543, '2017-05-04', 0.08), (7544, '2017-05-05', 0.28), (7545, '2017-05-06', 0.06), (7546, '2017-05-08', 0.95), (7547, '2017-05-09', 0.52), (7548, '2017-05-10', 0.0), (7549, '2017-05-12', None), (7550, '2017-05-15', None), (7551, '2017-05-16', 0.05), (7552, '2017-05-17', 0.0), (7553, '2017-05-18', 0.16), (7554, '2017-05-19', 0.01), (7555, '2017-05-20', 0.01), (7556, '2017-05-22', None), (7557, '2017-05-23', 0.11), (7558, '2017-05-24', 0.1), (7559, '2017-05-25', 0.07), (7560, '2017-05-26', 0.0), (7561, '2017-05-27', 0.0), (7562, '2017-05-28', 0.02), (7563, '2017-05-29', 0.0), (7564, '2017-05-30', 0.04), (7565, '2017-05-31', 0.0), (7566, '2017-06-01', 0.0), (7567, '2017-06-02', 0.15), (7568, '2017-06-03', 0.16), (7569, '2017-06-04', 0.05), (7570, '2017-06-05', 0.02), (7571, '2017-06-06', 0.0), (7572, '2017-06-07', 0.0), (7573, '2017-06-08', 0.01), (7574, '2017-06-09', 0.0), (7575, '2017-06-10', 0.53), (7576, '2017-06-11', 0.14), (7577, '2017-06-12', 0.35), (7578, '2017-06-13', 0.1), (7579, '2017-06-14', 0.21), (7580, '2017-06-15', 0.3), (7581, '2017-06-16', 0.02), (7582, '2017-06-17', 0.02), (7583, '2017-06-18', 0.18), (7584, '2017-06-19', 0.19), (7585, '2017-06-20', 0.17), (7586, '2017-06-23', None), (7587, '2017-06-26', None), (7588, '2017-06-29', None), (7589, '2017-06-30', 0.0), (7590, '2017-07-03', None), (7591, '2017-07-05', None), (7592, '2017-07-07', None), (7593, '2017-07-08', 0.06), (7594, '2017-07-09', 0.0), (7595, '2017-07-10', 0.0), (7596, '2017-07-11', 0.0), (7597, '2017-07-12', 0.02), (7598, '2017-07-13', 0.3), (7599, '2017-07-14', 0.0), (7600, '2017-07-15', 0.01), (7601, '2017-07-16', 0.12), (7602, '2017-07-17', 0.16), (7603, '2017-07-18', 0.0), (7604, '2017-07-19', 0.09), (7605, '2017-07-20', 0.0), (7606, '2017-07-21', 0.0), (7607, '2017-07-22', 0.12), (7608, '2017-07-23', 0.07), (7609, '2017-07-24', 1.19), (7610, '2017-07-25', 0.12), (7611, '2017-07-26', 0.02), (7612, '2017-07-27', 0.0), (7613, '2017-07-28', 0.14), (7614, '2017-07-29', 0.02), (7615, '2017-07-31', None), (7616, '2017-08-01', 0.12), (7617, '2017-08-02', 0.05), (7618, '2017-08-03', 0.01), (7619, '2017-08-04', 0.04), (7620, '2017-08-06', 0.0), (7621, '2017-08-07', 0.0), (7622, '2017-08-08', 0.1), (7623, '2017-08-09', 0.0), (7624, '2017-08-10', 0.0), (7625, '2017-08-11', 0.0), (7626, '2017-08-13', None), (7627, '2017-08-14', 0.01), (7628, '2017-08-15', 0.0), (7629, '2017-08-16', 0.0), (7630, '2017-08-17', 0.0), (7631, '2017-08-18', 0.0), (7632, '2017-08-19', 0.0), (7633, '2017-08-20', 0.01), (7634, '2017-08-21', 0.02), (7635, '2017-08-23', 0.0), (8826, '2016-08-24', None), (8827, '2016-08-25', 0.0), (8828, '2016-08-26', 0.04), (8829, '2016-08-29', None), (8830, '2016-08-30', 0.02), (8831, '2016-08-31', None), (8832, '2016-09-01', None), (8833, '2016-09-02', None), (8834, '2016-09-08', None), (8835, '2016-09-09', None), (8836, '2016-09-12', None), (8837, '2016-09-13', None), (8838, '2016-09-14', None), (8839, '2016-09-15', None), (8840, '2016-09-16', 0.0), (8841, '2016-09-19', None), (8842, '2016-09-20', 0.0), (8843, '2016-09-22', 0.06), (8844, '2016-09-23', 0.0), (8845, '2016-09-26', None), (8846, '2016-09-28', 0.0), (8847, '2016-09-29', 0.04), (8848, '2016-09-30', None), (8849, '2016-10-03', None), (8850, '2016-10-04', None), (8851, '2016-10-05', None), (8852, '2016-10-06', 0.07), (8853, '2016-10-07', None), (8854, '2016-10-11', None), (8855, '2016-10-13', None), (8856, '2016-10-17', None), (8857, '2016-10-18', None), (8858, '2016-10-19', None), (8859, '2016-10-20', None), (8860, '2016-10-21', None), (8861, '2016-10-24', None), (8862, '2016-10-25', 0.4), (8863, '2016-10-26', 0.2), (8864, '2016-10-27', None), (8865, '2016-10-28', None), (8866, '2016-10-31', None), (8867, '2016-11-04', None), (8868, '2016-11-07', None), (8869, '2016-11-09', 0.0), (8870, '2016-11-14', 0.02), (8871, '2016-11-15', None), (8872, '2016-11-16', None), (8873, '2016-11-17', None), (8874, '2016-11-18', None), (8875, '2016-11-21', None), (8876, '2016-11-22', None), (8877, '2016-11-23', None), (8878, '2016-11-28', None), (8879, '2016-11-29', None), (8880, '2016-11-30', None), (8881, '2016-12-01', None), (8882, '2016-12-02', None), (8883, '2016-12-05', None), (8884, '2016-12-06', None), (8885, '2016-12-07', None), (8886, '2016-12-08', 0.27), (8887, '2016-12-09', None), (8888, '2016-12-12', 0.02), (8889, '2016-12-13', None), (8890, '2016-12-14', None), (8891, '2016-12-15', None), (8892, '2016-12-16', None), (8893, '2016-12-19', None), (8894, '2016-12-20', None), (8895, '2016-12-21', 0.06), (8896, '2016-12-22', None), (8897, '2016-12-23', None), (8898, '2016-12-28', None), (8899, '2016-12-29', None), (8900, '2016-12-30', None), (8901, '2017-01-09', None), (8902, '2017-01-10', None), (8903, '2017-01-11', None), (8904, '2017-01-12', None), (8905, '2017-01-13', None), (8906, '2017-01-17', 0.0), (8907, '2017-01-18', 0.0), (8908, '2017-01-19', None), (8909, '2017-01-20', None), (8910, '2017-01-23', None), (8911, '2017-01-24', None), (8912, '2017-01-25', None), (8913, '2017-01-26', 0.0), (8914, '2017-01-27', 0.0), (8915, '2017-01-30', 0.05), (8916, '2017-01-31', 0.0), (8917, '2017-02-01', 0.0), (8918, '2017-02-02', 0.0), (8919, '2017-02-03', 0.0), (8920, '2017-02-06', None), (8921, '2017-02-07', 0.0), (8922, '2017-02-08', 0.0), (8923, '2017-02-09', 0.0), (8924, '2017-02-10', 0.0), (8925, '2017-02-13', None), (8926, '2017-02-14', 0.0), (8927, '2017-02-15', None), (8928, '2017-02-16', None), (8929, '2017-02-17', 0.0), (8930, '2017-02-21', None), (8931, '2017-02-22', 0.17), (8932, '2017-02-23', 0.0), (8933, '2017-02-24', 0.0), (8934, '2017-02-27', None), (8935, '2017-02-28', None), (8936, '2017-03-01', 2.4), (8937, '2017-03-02', 0.44), (8938, '2017-03-03', 0.14), (8939, '2017-03-06', None), (8940, '2017-03-07', None), (8941, '2017-03-08', None), (8942, '2017-03-09', 0.0), (8943, '2017-03-10', 0.0), (8944, '2017-03-13', None), (8945, '2017-03-14', 0.06), (8946, '2017-03-15', 0.0), (8947, '2017-03-16', None), (8948, '2017-03-17', None), (8949, '2017-03-28', None), (8950, '2017-03-29', None), (8951, '2017-03-30', None), (8952, '2017-03-31', 0.0), (8953, '2017-04-03', None), (8954, '2017-04-04', 0.0), (8955, '2017-04-05', 0.0), (8956, '2017-04-06', 0.0), (8957, '2017-04-07', 0.0), (8958, '2017-04-10', None), (8959, '2017-04-11', None), (8960, '2017-04-12', None), (8961, '2017-04-13', None), (8962, '2017-04-17', None), (8963, '2017-04-18', 0.0), (8964, '2017-04-19', None), (8965, '2017-04-20', None), (8966, '2017-04-21', None), (8967, '2017-04-24', None), (8968, '2017-04-25', None), (8969, '2017-04-27', None), (8970, '2017-04-28', None), (8971, '2017-06-02', None), (8972, '2017-06-05', None), (8973, '2017-06-06', None), (8974, '2017-06-07', None), (8975, '2017-06-08', None), (8976, '2017-06-09', None), (8977, '2017-06-13', None), (8978, '2017-06-14', None), (8979, '2017-06-15', None), (8980, '2017-06-16', None), (8981, '2017-06-19', None), (8982, '2017-06-20', None), (8983, '2017-06-21', None), (8984, '2017-06-22', 0.0), (8985, '2017-06-23', 0.0), (8986, '2017-06-26', None), (8987, '2017-06-27', 0.0), (8988, '2017-06-28', 0.0), (8989, '2017-06-29', 0.0), (8990, '2017-06-30', 0.12), (8991, '2017-07-03', None), (8992, '2017-07-05', None), (8993, '2017-07-06', None), (8994, '2017-07-07', None), (8995, '2017-07-10', None), (8996, '2017-07-11', None), (8997, '2017-07-12', None), (8998, '2017-07-13', None), (8999, '2017-07-18', 0.0), (9000, '2017-07-19', 0.0), (9001, '2017-07-20', 0.0), (9002, '2017-07-21', 0.0), (9003, '2017-07-25', 0.0), (9004, '2017-07-26', None), (9005, '2017-07-27', None), (9006, '2017-07-28', 0.01), (9007, '2017-07-31', None), (11852, '2016-08-24', 1.22), (11853, '2016-08-25', 0.21), (11854, '2016-08-26', 0.0), (11855, '2016-08-27', 0.0), (11856, '2016-08-28', 0.14), (11857, '2016-08-29', 0.0), (11858, '2016-08-30', 0.0), (11859, '2016-08-31', 0.25), (11860, '2016-09-02', None), (11861, '2016-09-03', 0.08), (11862, '2016-09-04', 0.74), (11863, '2016-09-05', 0.02), (11864, '2016-09-06', 0.03), (11865, '2016-09-07', 0.11), (11866, '2016-09-08', 0.01), (11867, '2016-09-09', 0.23), (11868, '2016-09-10', 0.14), (11869, '2016-09-11', 0.12), (11870, '2016-09-12', 0.15), (11871, '2016-09-13', 0.46), (11872, '2016-09-14', 1.19), (11873, '2016-09-15', 0.17), (11874, '2016-09-16', 0.01), (11875, '2016-09-17', 0.0), (11876, '2016-09-18', 0.04), (11877, '2016-09-19', 0.05), (11878, '2016-09-20', 0.04), (11879, '2016-09-21', 0.0), (11880, '2016-09-22', 0.01), (11881, '2016-09-23', 0.0), (11882, '2016-09-24', 0.0), (11883, '2016-09-25', 0.0), (11884, '2016-09-26', 0.34), (11885, '2016-09-27', 0.05), (11886, '2016-09-28', 0.0), (11887, '2016-09-29', 0.18), (11888, '2016-09-30', 0.15), (11889, '2016-10-01', 0.07), (11890, '2016-10-02', 0.0), (11891, '2016-10-03', 0.0), (11892, '2016-10-04', 0.0), (11893, '2016-10-05', 0.0), (11894, '2016-10-06', 0.0), (11895, '2016-10-07', 0.0), (11896, '2016-10-08', 0.0), (11897, '2016-10-09', 0.0), (11898, '2016-10-10', 0.0), (11899, '2016-10-11', 0.0), (11900, '2016-10-12', 0.0), (11901, '2016-10-13', 0.0), (11902, '2016-10-14', 0.0), (11903, '2016-10-15', 0.0), (11904, '2016-10-16', 0.0), (11905, '2016-10-17', 0.12), (11906, '2016-10-18', 0.02), (11907, '2016-10-19', 0.0), (11908, '2016-10-21', None), (11909, '2016-10-22', 0.0), (11910, '2016-10-23', 0.0), (11911, '2016-10-24', 0.0), (11912, '2016-10-25', 0.12), (11913, '2016-10-26', 0.02), (11914, '2016-10-27', 0.08), (11915, '2016-10-28', 0.06), (11916, '2016-10-29', 0.01), (11917, '2016-10-30', 0.0), (11918, '2016-10-31', 0.13), (11919, '2016-11-01', 0.01), (11920, '2016-11-02', 0.0), (11921, '2016-11-03', 0.0), (11922, '2016-11-04', 0.0), (11923, '2016-11-05', 0.02), (11924, '2016-11-06', 0.0), (11925, '2016-11-07', 0.0), (11926, '2016-11-08', 0.15), (11927, '2016-11-09', 0.0), (11928, '2016-11-10', 0.0), (11929, '2016-11-11', 0.0), (11930, '2016-11-12', 0.0), (11931, '2016-11-13', 0.0), (11932, '2016-11-14', 0.0), (11933, '2016-11-15', 0.0), (11934, '2016-11-16', 0.07), (11935, '2016-11-17', 0.0), (11936, '2016-11-18', 0.02), (11937, '2016-11-19', 0.13), (11938, '2016-11-20', 0.4), (11939, '2016-11-21', 0.07), (11940, '2016-11-22', 0.31), (11941, '2016-11-23', 0.03), (11942, '2016-11-24', 0.21), (11943, '2016-11-25', 0.11), (11944, '2016-11-26', 0.03), (11945, '2016-11-27', 0.0), (11946, '2016-11-28', 0.0), (11947, '2016-11-29', 0.06), (11948, '2016-11-30', 0.0), (11949, '2016-12-01', 0.16), (11950, '2016-12-02', 0.01), (11951, '2016-12-03', 0.02), (11952, '2016-12-04', 0.32), (11953, '2016-12-05', 0.45), (11954, '2016-12-06', 0.0), (11955, '2016-12-07', 0.07), (11956, '2016-12-08', 0.01), (11957, '2016-12-10', None), (11958, '2016-12-11', 0.06), (11959, '2016-12-12', 0.0), (11960, '2016-12-13', 0.15), (11961, '2016-12-14', 0.05), (11962, '2016-12-15', 0.0), (11963, '2016-12-16', 0.0), (11964, '2016-12-17', 0.16), (11965, '2016-12-18', 0.27), (11966, '2016-12-19', 0.02), (11967, '2016-12-20', 0.01), (11968, '2016-12-21', 0.06), (11969, '2016-12-22', 0.14), (11970, '2016-12-23', 0.02), (11971, '2016-12-24', 0.06), (11972, '2016-12-25', 0.0), (11973, '2016-12-26', 0.06), (11974, '2016-12-27', 0.0), (11975, '2016-12-28', 0.06), (11976, '2016-12-29', 0.05), (11977, '2016-12-30', 0.07), (11978, '2017-01-01', None), (11979, '2017-01-03', None), (11980, '2017-01-04', 0.18), (11981, '2017-01-05', 0.42), (11982, '2017-01-06', 0.01), (11983, '2017-01-07', 0.0), (11984, '2017-01-08', 0.0), (11985, '2017-01-09', 0.0), (11986, '2017-01-10', 0.0), (11987, '2017-01-12', None), (11988, '2017-01-15', None), (11989, '2017-01-16', 0.0), (11990, '2017-01-18', None), (11991, '2017-01-19', 0.0), (11992, '2017-01-20', 0.0), (11993, '2017-01-21', 0.11), (11994, '2017-01-22', 0.04), (11995, '2017-01-23', 0.0), (11996, '2017-01-24', 0.08), (11997, '2017-01-25', 0.0), (11998, '2017-01-26', 0.0), (11999, '2017-01-27', 0.0), (12000, '2017-01-29', None), (12001, '2017-01-30', 0.0), (12002, '2017-01-31', 0.0), (12003, '2017-02-01', 0.0), (12004, '2017-02-02', 0.0), (12005, '2017-02-03', 0.0), (12006, '2017-02-04', 0.0), (12007, '2017-02-05', 0.0), (12008, '2017-02-06', 0.0), (12009, '2017-02-07', 1.8), (12010, '2017-02-08', 0.0), (12011, '2017-02-09', 0.0), (12012, '2017-02-10', 0.0), (12013, '2017-02-11', 5.04), (12014, '2017-02-12', 0.07), (12015, '2017-02-13', 0.0), (12016, '2017-02-15', None), (12017, '2017-02-16', 0.67), (12018, '2017-02-17', 0.06), (12019, '2017-02-18', 0.01), (12020, '2017-02-20', None), (12021, '2017-02-22', 0.13), (12022, '2017-02-23', 0.0), (12023, '2017-02-24', 0.0), (12024, '2017-02-26', None), (12025, '2017-02-27', 0.0), (12026, '2017-02-28', 0.0), (12027, '2017-03-01', 0.59), (12028, '2017-03-02', 1.48), (12029, '2017-03-03', 0.25), (12030, '2017-03-04', 0.0), (12031, '2017-03-06', None), (12032, '2017-03-09', None), (12033, '2017-03-10', 0.0), (12034, '2017-03-11', 0.0), (12035, '2017-03-12', 0.0), (12036, '2017-03-13', 0.0), (12037, '2017-03-14', 0.0), (12038, '2017-03-15', 0.0), (12039, '2017-03-16', 0.0), (12040, '2017-03-17', 0.35), (12041, '2017-03-18', 0.0), (12042, '2017-03-19', 0.0), (12043, '2017-03-20', 0.0), (12044, '2017-03-21', 0.0), (12045, '2017-03-22', 0.0), (12046, '2017-03-23', 0.02), (12047, '2017-03-24', 0.07), (12048, '2017-03-25', 0.43), (12049, '2017-03-26', 0.0), (12050, '2017-03-27', 0.0), (12051, '2017-03-28', 0.0), (12052, '2017-03-29', 0.08), (12053, '2017-03-30', 0.0), (12054, '2017-03-31', 0.0), (12055, '2017-04-01', 0.0), (12056, '2017-04-02', 0.0), (12057, '2017-04-03', 0.0), (12058, '2017-04-04', 0.0), (12059, '2017-04-05', 0.0), (12060, '2017-04-06', 0.0), (12061, '2017-04-07', 0.0), (12062, '2017-04-09', None), (12063, '2017-04-10', 0.0), (12064, '2017-04-11', 0.0), (12065, '2017-04-12', 0.0), (12066, '2017-04-13', 0.0), (12067, '2017-04-14', 0.36), (12068, '2017-04-15', 0.0), (12069, '2017-04-16', 0.0), (12070, '2017-04-17', 0.3), (12071, '2017-04-18', 0.15), (12072, '2017-04-19', 0.0), (12073, '2017-04-20', 0.35), (12074, '2017-04-21', 2.36), (12075, '2017-04-24', None), (12076, '2017-04-25', 0.0), (12077, '2017-04-26', 0.01), (12078, '2017-04-27', 0.0), (12079, '2017-04-28', 0.0), (12080, '2017-04-29', 6.25), (12081, '2017-04-30', 1.31), (12082, '2017-05-01', 0.07), (12083, '2017-05-02', 0.0), (12084, '2017-05-03', 0.0), (12085, '2017-05-04', 0.0), (12086, '2017-05-05', 0.0), (12087, '2017-05-06', 0.0), (12088, '2017-05-07', 0.0), (12089, '2017-05-08', 0.0), (12090, '2017-05-09', 0.68), (12091, '2017-05-10', 0.06), (12092, '2017-05-11', 0.0), (12093, '2017-05-12', 0.0), (12094, '2017-05-13', 0.0), (12095, '2017-05-14', 0.0), (12096, '2017-05-15', 0.06), (12097, '2017-05-16', 0.0), (12098, '2017-05-17', 0.0), (12099, '2017-05-18', 0.46), (12100, '2017-05-20', None), (12101, '2017-05-21', 0.0), (12102, '2017-05-22', 0.0), (12103, '2017-05-23', 0.0), (12104, '2017-05-24', 0.61), (12105, '2017-05-25', 0.55), (12106, '2017-05-26', 0.0), (12107, '2017-05-27', 0.0), (12108, '2017-05-28', 0.0), (12109, '2017-05-29', 0.0), (12110, '2017-05-30', 0.11), (12111, '2017-05-31', 0.0), (12112, '2017-06-01', 0.0), (12113, '2017-06-02', 0.0), (12114, '2017-06-03', 0.15), (12115, '2017-06-04', 0.0), (12116, '2017-06-05', 0.0), (12117, '2017-06-06', 0.0), (12118, '2017-06-07', 0.0), (12119, '2017-06-08', 0.0), (12120, '2017-06-09', 0.0), (12121, '2017-06-10', 0.13), (12122, '2017-06-11', 0.25), (12123, '2017-06-12', 0.14), (12124, '2017-06-13', 0.03), (12125, '2017-06-14', 0.06), (12126, '2017-06-15', 0.0), (12127, '2017-06-16', 0.0), (12128, '2017-06-17', 0.0), (12129, '2017-06-18', 0.0), (12130, '2017-06-19', 0.01), (12131, '2017-06-21', None), (12132, '2017-06-22', 0.0), (12133, '2017-06-23', 0.05), (12134, '2017-06-24', 0.0), (12135, '2017-06-25', 0.0), (12136, '2017-06-26', 0.0), (12137, '2017-06-27', 0.0), (12138, '2017-06-28', 0.0), (12139, '2017-06-29', 0.0), (12140, '2017-06-30', 0.07), (12141, '2017-07-02', None), (12142, '2017-07-03', 0.02), (12143, '2017-07-05', None), (12144, '2017-07-06', 0.0), (12145, '2017-07-07', 0.0), (12146, '2017-07-08', 0.0), (12147, '2017-07-09', 0.0), (12148, '2017-07-10', 0.0), (12149, '2017-07-11', 0.0), (12150, '2017-07-12', 0.0), (12151, '2017-07-13', 0.11), (12152, '2017-07-14', 0.0), (12153, '2017-07-15', 0.0), (12154, '2017-07-16', 0.0), (12155, '2017-07-17', 0.0), (12156, '2017-07-18', 0.0), (12157, '2017-07-19', 0.0), (12158, '2017-07-20', 0.33), (12159, '2017-07-21', 0.0), (12160, '2017-07-22', 0.0), (12161, '2017-07-24', None), (12162, '2017-07-25', 0.05), (12163, '2017-07-26', 0.0), (12164, '2017-07-27', 0.0), (12165, '2017-07-28', 0.0), (12166, '2017-07-29', 0.0), (12167, '2017-07-30', 0.0), (12168, '2017-07-31', 0.0), (12169, '2017-08-01', 0.0), (12170, '2017-08-02', 0.0), (12171, '2017-08-03', 0.0), (12172, '2017-08-04', 0.0), (12173, '2017-08-06', 0.0), (12174, '2017-08-07', 0.0), (12175, '2017-08-08', 0.0), (12176, '2017-08-10', 0.0), (12177, '2017-08-11', 0.0), (12178, '2017-08-12', 0.0), (12179, '2017-08-13', 0.0), (12180, '2017-08-14', 0.08), (12181, '2017-08-15', 0.06), (12182, '2017-08-16', 0.07), (12183, '2017-08-17', 0.05), (12184, '2017-08-19', None), (12185, '2017-08-21', None), (12186, '2017-08-22', 0.0), (12187, '2017-08-23', 0.08), (14609, '2016-08-24', 2.15), (14610, '2016-08-25', 0.06), (14611, '2016-08-26', 0.01), (14612, '2016-08-27', 0.12), (14613, '2016-08-28', 0.6), (14614, '2016-08-29', 0.35), (14615, '2016-08-30', 0.0), (14616, '2016-08-31', 0.24), (14617, '2016-09-01', 0.02), (14618, '2016-09-02', 0.01), (14619, '2016-09-03', 0.12), (14620, '2016-09-04', 0.14), (14621, '2016-09-05', 0.03), (14622, '2016-09-06', 0.11), (14623, '2016-09-07', 0.16), (14624, '2016-09-08', 0.07), (14625, '2016-09-09', 0.16), (14626, '2016-09-10', 0.09), (14627, '2016-09-11', 0.3), (14628, '2016-09-12', 0.31), (14629, '2016-09-13', 0.34), (14630, '2016-09-14', 2.33), (14631, '2016-09-15', 0.83), (14632, '2016-09-16', 0.06), (14633, '2016-09-17', 0.36), (14634, '2016-09-18', 0.07), (14635, '2016-09-19', 0.01), (14636, '2016-09-20', 0.22), (14637, '2016-09-21', 0.07), (14638, '2016-09-22', 0.34), (14639, '2016-09-23', 0.94), (14640, '2016-09-24', 0.01), (14641, '2016-09-25', 0.03), (14642, '2016-09-26', 0.17), (14643, '2016-09-27', 0.17), (14644, '2016-09-28', 0.0), (14645, '2016-09-29', 0.59), (14646, '2016-09-30', 0.25), (14647, '2016-10-01', 0.14), (14648, '2016-10-02', 0.06), (14649, '2016-10-03', 0.16), (14650, '2016-10-04', 0.03), (14651, '2016-10-05', 0.01), (14652, '2016-10-06', 0.0), (14653, '2016-10-07', 0.0), (14654, '2016-10-08', 0.0), (14655, '2016-10-09', 0.0), (14656, '2016-10-10', 0.0), (14657, '2016-10-11', 0.28), (14658, '2016-10-12', 0.03), (14659, '2016-10-13', 0.0), (14660, '2016-10-14', 0.0), (14661, '2016-10-15', 0.04), (14662, '2016-10-16', 0.0), (14663, '2016-10-17', 0.01), (14664, '2016-10-18', 0.02), (14665, '2016-10-19', 0.11), (14666, '2016-10-20', 0.0), (14667, '2016-10-21', 0.0), (14668, '2016-10-22', 0.15), (14669, '2016-10-23', 0.02), (14670, '2016-10-24', 0.08), (14671, '2016-10-25', 0.11), (14672, '2016-10-26', 0.01), (14673, '2016-10-27', 0.22), (14674, '2016-10-28', 0.05), (14675, '2016-10-29', 0.1), (14676, '2016-10-30', 0.16), (14677, '2016-10-31', 0.07), (14678, '2016-11-01', 0.1), (14679, '2016-11-02', 0.0), (14680, '2016-11-03', 0.0), (14681, '2016-11-04', 0.0), (14682, '2016-11-05', 0.03), (14683, '2016-11-06', 0.01), (14684, '2016-11-07', 0.0), (14685, '2016-11-08', 0.21), (14686, '2016-11-09', 0.11), (14687, '2016-11-10', 0.0), (14688, '2016-11-11', 0.0), (14689, '2016-11-12', 0.0), (14690, '2016-11-13', 0.0), (14691, '2016-11-14', 0.0), (14692, '2016-11-15', 0.0), (14693, '2016-11-16', 0.24), (14694, '2016-11-17', 0.01), (14695, '2016-11-18', 0.0), (14696, '2016-11-19', 0.11), (14697, '2016-11-20', 0.39), (14698, '2016-11-21', 0.11), (14699, '2016-11-22', 2.05), (14700, '2016-11-23', 0.25), (14701, '2016-11-24', 0.3), (14702, '2016-11-25', 0.08), (14703, '2016-11-26', 0.06), (14704, '2016-11-27', 0.17), (14705, '2016-11-28', 0.0), (14706, '2016-11-29', 0.09), (14707, '2016-11-30', 0.05), (14708, '2016-12-01', 0.37), (14709, '2016-12-02', 0.35), (14710, '2016-12-03', 0.77), (14711, '2016-12-04', 0.04), (14712, '2016-12-05', 0.22), (14713, '2016-12-06', 0.0), (14714, '2016-12-07', 0.12), (14715, '2016-12-08', 0.07), (14716, '2016-12-09', 0.31), (14717, '2016-12-10', 0.02), (14718, '2016-12-11', 0.0), (14719, '2016-12-12', 0.0), (14720, '2016-12-13', 0.04), (14721, '2016-12-14', 0.92), (14722, '2016-12-15', 0.14), (14723, '2016-12-16', 0.03), (14724, '2016-12-17', 0.07), (14725, '2016-12-18', 0.16), (14726, '2016-12-19', 0.03), (14727, '2016-12-20', 0.0), (14728, '2016-12-21', 0.11), (14729, '2016-12-22', 0.86), (14730, '2016-12-23', 0.24), (14731, '2016-12-24', 0.2), (14732, '2016-12-25', 0.02), (14733, '2016-12-26', 0.22), (14734, '2016-12-27', 0.05), (14735, '2016-12-28', 0.09), (14736, '2016-12-29', 0.52), (14737, '2016-12-30', 0.29), (14738, '2016-12-31', 0.25), (14739, '2017-01-01', 0.03), (14740, '2017-01-02', 0.01), (14741, '2017-01-03', 0.0), (14742, '2017-01-04', 0.0), (14743, '2017-01-05', 0.06), (14744, '2017-01-06', 0.1), (14745, '2017-01-07', 0.0), (14746, '2017-01-08', 0.0), (14747, '2017-01-09', 0.0), (14748, '2017-01-10', 0.0), (14749, '2017-01-11', 0.0), (14750, '2017-01-12', 0.0), (14751, '2017-01-13', 0.0), (14752, '2017-01-14', 0.01), (14753, '2017-01-15', 0.0), (14754, '2017-01-16', 0.0), (14755, '2017-01-17', 0.0), (14756, '2017-01-18', 0.0), (14757, '2017-01-19', 0.02), (14758, '2017-01-20', 0.0), (14759, '2017-01-21', 0.03), (14760, '2017-01-22', 0.09), (14761, '2017-01-23', 0.01), (14762, '2017-01-24', 0.13), (14763, '2017-01-25', 0.79), (14764, '2017-01-26', 0.0), (14765, '2017-01-27', 0.03), (14766, '2017-01-28', 0.0), (14767, '2017-01-29', 0.26), (14768, '2017-01-30', 0.0), (14769, '2017-01-31', 0.0), (14770, '2017-02-01', 0.0), (14771, '2017-02-02', 0.0), (14772, '2017-02-03', 0.0), (14773, '2017-02-04', 0.0), (14774, '2017-02-05', 0.0), (14775, '2017-02-06', 0.18), (14776, '2017-02-07', 1.32), (14777, '2017-02-08', 0.0), (14778, '2017-02-09', 0.0), (14779, '2017-02-10', 0.0), (14780, '2017-02-11', 1.73), (14781, '2017-02-12', 2.98), (14782, '2017-02-13', 0.01), (14783, '2017-02-14', 0.0), (14784, '2017-02-15', 0.01), (14785, '2017-02-16', 0.73), (14786, '2017-02-17', 0.13), (14787, '2017-02-18', 0.0), (14788, '2017-02-19', 0.09), (14789, '2017-02-20', 0.0), (14790, '2017-02-21', 0.0), (14791, '2017-02-22', 0.06), (14792, '2017-02-23', 0.0), (14793, '2017-02-24', 0.0), (14794, '2017-02-25', 0.0), (14795, '2017-02-26', 0.0), (14796, '2017-02-27', 0.0), (14797, '2017-02-28', 0.04), (14798, '2017-03-01', 2.12), (14799, '2017-03-02', 1.88), (14800, '2017-03-03', 0.27), (14801, '2017-03-04', 0.0), (14802, '2017-03-05', 0.41), (14803, '2017-03-06', 0.03), (14804, '2017-03-07', 0.0), (14805, '2017-03-08', 0.0), (14806, '2017-03-09', 0.65), (14807, '2017-03-10', 0.03), (14808, '2017-03-11', 0.01), (14809, '2017-03-12', 0.0), (14810, '2017-03-13', 0.0), (14811, '2017-03-14', 0.0), (14812, '2017-03-15', 0.06), (14813, '2017-03-16', 0.0), (14814, '2017-03-17', 0.12), (14815, '2017-03-18', 0.0), (14816, '2017-03-19', 0.0), (14817, '2017-03-20', 0.02), (14818, '2017-03-21', 0.09), (14819, '2017-03-22', 0.0), (14820, '2017-03-23', 0.0), (14821, '2017-03-24', 0.12), (14822, '2017-03-25', 0.93), (14823, '2017-03-26', 0.0), (14824, '2017-03-27', 0.01), (14825, '2017-03-28', 0.0), (14826, '2017-03-29', 0.01), (14827, '2017-03-30', 0.04), (14828, '2017-03-31', 0.01), (14829, '2017-04-01', 0.21), (14830, '2017-04-02', 0.0), (14831, '2017-04-03', 0.26), (14832, '2017-04-04', 0.09), (14833, '2017-04-05', 0.1), (14834, '2017-04-06', 0.06), (14835, '2017-04-07', 0.0), (14836, '2017-04-08', 0.0), (14837, '2017-04-09', 0.0), (14838, '2017-04-10', 0.01), (14839, '2017-04-11', 0.03), (14840, '2017-04-12', 0.11), (14841, '2017-04-13', 0.59), (14842, '2017-04-14', 2.3), (14843, '2017-04-15', 0.38), (14844, '2017-04-16', 0.47), (14845, '2017-04-17', 1.04), (14846, '2017-04-18', 2.03), (14847, '2017-04-19', 0.02), (14848, '2017-04-20', 0.05), (14849, '2017-04-21', 1.74), (14850, '2017-04-22', 1.58), (14851, '2017-04-23', 0.06), (14852, '2017-04-24', 0.01), (14853, '2017-04-25', 0.0), (14854, '2017-04-26', 0.02), (14855, '2017-04-27', 0.19), (14856, '2017-04-28', 0.76), (14857, '2017-04-29', 0.37), (14858, '2017-04-30', 1.04), (14859, '2017-05-01', 0.13), (14860, '2017-05-02', 0.01), (14861, '2017-05-03', 0.01), (14862, '2017-05-04', 0.0), (14863, '2017-05-05', 0.0), (14864, '2017-05-06', 0.0), (14865, '2017-05-07', 0.02), (14866, '2017-05-08', 0.73), (14867, '2017-05-09', 1.58), (14868, '2017-05-10', 0.2), (14869, '2017-05-11', 0.12), (14870, '2017-05-12', 0.02), (14871, '2017-05-13', 0.12), (14872, '2017-05-14', 0.17), (14873, '2017-05-15', 0.09), (14874, '2017-05-16', 0.03), (14875, '2017-05-17', 0.07), (14876, '2017-05-18', 0.13), (14877, '2017-05-19', 0.01), (14878, '2017-05-20', 0.02), (14879, '2017-05-21', 0.01), (14880, '2017-05-22', 0.06), (14881, '2017-05-23', 0.06), (14882, '2017-05-24', 0.3), (14883, '2017-05-25', 0.2), (14884, '2017-05-26', 0.0), (14885, '2017-05-27', 0.0), (14886, '2017-05-28', 0.08), (14887, '2017-05-29', 0.4), (14888, '2017-05-30', 1.12), (14889, '2017-05-31', 0.25), (14890, '2017-06-01', 0.0), (14891, '2017-06-02', 0.09), (14892, '2017-06-03', 0.08), (14893, '2017-06-04', 0.13), (14894, '2017-06-05', 0.05), (14895, '2017-06-06', 0.0), (14896, '2017-06-07', 0.0), (14897, '2017-06-08', 0.0), (14898, '2017-06-09', 0.02), (14899, '2017-06-10', 0.62), (14900, '2017-06-11', 0.74), (14901, '2017-06-12', 0.24), (14902, '2017-06-13', 0.24), (14903, '2017-06-14', 0.22), (14904, '2017-06-15', 0.55), (14905, '2017-06-16', 0.06), (14906, '2017-06-17', 0.07), (14907, '2017-06-18', 0.24), (14908, '2017-06-19', 0.08), (14909, '2017-06-20', 0.0), (14910, '2017-06-21', 0.19), (14911, '2017-06-22', 0.06), (14912, '2017-06-23', 0.12), (14913, '2017-06-24', 0.36), (14914, '2017-06-25', 0.02), (14915, '2017-06-26', 0.06), (14916, '2017-06-27', 0.01), (14917, '2017-06-28', 0.0), (14918, '2017-06-29', 0.0), (14919, '2017-06-30', 0.01), (14920, '2017-07-01', 0.08), (14921, '2017-07-02', 0.15), (14922, '2017-07-03', 0.15), (14923, '2017-07-04', 0.08), (14924, '2017-07-05', 0.0), (14925, '2017-07-06', 0.0), (14926, '2017-07-07', 0.18), (14927, '2017-07-08', 0.0), (14928, '2017-07-09', 0.11), (14929, '2017-07-10', 0.02), (14930, '2017-07-11', 0.02), (14931, '2017-07-12', 0.28), (14932, '2017-07-13', 0.32), (14933, '2017-07-14', 0.2), (14934, '2017-07-15', 0.05), (14935, '2017-07-16', 0.1), (14936, '2017-07-17', 0.21), (14937, '2017-07-18', 0.05), (14938, '2017-07-19', 0.05), (14939, '2017-07-20', 0.06), (14940, '2017-07-21', 0.03), (14941, '2017-07-22', 0.2), (14942, '2017-07-23', 0.2), (14943, '2017-07-24', 0.61), (14944, '2017-07-25', 0.11), (14945, '2017-07-26', 0.12), (14946, '2017-07-27', 0.01), (14947, '2017-07-28', 0.09), (14948, '2017-07-29', 0.23), (14949, '2017-07-30', 0.0), (14950, '2017-07-31', 0.0), (14951, '2017-08-04', 0.0), (14952, '2017-08-05', 0.06), (14953, '2017-08-06', 0.0), (14954, '2017-08-13', 0.0), (14955, '2017-08-14', 0.0), (14956, '2017-08-15', 0.32), (14957, '2017-08-16', 0.12), (14958, '2017-08-17', 0.01), (14959, '2017-08-18', 0.06), (19203, '2016-08-24', 1.45), (19204, '2016-08-25', 0.11), (19205, '2016-08-27', None), (19206, '2016-08-28', 2.07), (19207, '2016-08-29', 0.9), (19208, '2016-08-30', 0.05), (19209, '2016-08-31', 2.46), (19210, '2016-09-01', 0.01), (19211, '2016-09-02', 0.03), (19212, '2016-09-03', 1.0), (19213, '2016-09-04', 0.44), (19214, '2016-09-05', 0.18), (19215, '2016-09-06', 1.0), (19216, '2016-09-07', 1.35), (19217, '2016-09-08', 0.15), (19218, '2016-09-09', 0.35), (19219, '2016-09-10', 1.16), (19220, '2016-09-11', 0.6), (19221, '2016-09-12', 1.04), (19222, '2016-09-13', 1.2), (19223, '2016-09-14', 6.7), (19224, '2016-09-15', 3.35), (19225, '2016-09-16', 0.61), (19226, '2016-09-17', 0.23), (19227, '2016-09-18', 0.42), (19228, '2016-09-19', 0.25), (19229, '2016-09-20', 0.43), (19230, '2016-09-21', 1.02), (19231, '2016-09-22', 0.75), (19232, '2016-09-23', 0.33), (19233, '2016-09-24', 0.27), (19234, '2016-09-25', 0.04), (19235, '2016-09-26', 1.02), (19236, '2016-09-27', 1.0), (19237, '2016-09-28', 0.05), (19238, '2016-09-29', 1.49), (19239, '2016-09-30', 0.38), (19240, '2016-10-01', 1.02), (19241, '2016-10-02', 0.61), (19242, '2016-10-03', 0.46), (19243, '2016-10-04', 3.46), (19244, '2016-10-05', 0.81), (19245, '2016-10-06', 0.04), (19246, '2016-10-07', 0.01), (19247, '2016-10-08', 0.04), (19248, '2016-10-09', 0.0), (19249, '2016-10-10', 0.0), (19250, '2016-10-11', 0.35), (19251, '2016-10-12', 0.02), (19252, '2016-10-13', 0.06), (19253, '2016-10-14', 0.0), (19254, '2016-10-15', 0.33), (19255, '2016-10-16', 0.0), (19256, '2016-10-17', 0.38), (19257, '2016-10-18', 0.48), (19258, '2016-10-19', 0.0), (19259, '2016-10-20', 1.0), (19260, '2016-10-21', 0.09), (19261, '2016-10-22', 1.37), (19262, '2016-10-23', 0.24), (19263, '2016-10-24', 0.7), (19264, '2016-10-25', 0.4), (19265, '2016-10-26', 0.0), (19266, '2016-10-27', 1.25), (19267, '2016-10-28', 0.37), (19268, '2016-10-29', 0.25), (19269, '2016-10-30', 0.95), (19270, '2016-10-31', 1.35), (19271, '2016-11-01', 0.09), (19272, '2016-11-02', 0.04), (19273, '2016-11-03', 0.02), (19274, '2016-11-04', 0.06), (19275, '2016-11-05', 0.38), (19276, '2016-11-06', 0.05), (19277, '2016-11-07', 0.05), (19278, '2016-11-08', 0.53), (19279, '2016-11-09', 0.04), (19280, '2016-11-10', 0.01), (19281, '2016-11-11', 0.0), (19282, '2016-11-12', 0.0), (19283, '2016-11-13', 0.0), (19284, '2016-11-14', 0.02), (19285, '2016-11-15', 0.05), (19286, '2016-11-16', 0.91), (19287, '2016-11-17', 0.02), (19288, '2016-11-20', None), (19289, '2016-11-21', 2.87), (19290, '2016-11-22', 2.11), (19291, '2016-11-23', 0.22), (19292, '2016-11-24', 0.72), (19293, '2016-11-25', 1.03), (19294, '2016-11-26', 0.3), (19295, '2016-11-27', 0.29), (19296, '2016-11-28', 0.69), (19297, '2016-11-29', 0.2), (19298, '2016-11-30', 0.79), (19299, '2016-12-01', 0.72), (19300, '2016-12-02', 1.27), (19301, '2016-12-03', 1.62), (19302, '2016-12-04', 0.31), (19303, '2016-12-05', 1.6), (19304, '2016-12-06', 0.0), (19305, '2016-12-07', 0.02), (19306, '2016-12-08', 0.03), (19307, '2016-12-09', 0.42), (19308, '2016-12-10', 0.04), (19309, '2016-12-11', 0.13), (19310, '2016-12-12', 0.01), (19311, '2016-12-13', 0.09), (19312, '2016-12-14', 0.33), (19313, '2016-12-15', 0.03), (19314, '2016-12-16', 0.0), (19315, '2016-12-18', None), (19316, '2016-12-19', 0.15), (19317, '2016-12-20', 0.0), (19318, '2016-12-21', 0.55), (19319, '2016-12-22', 1.24), (19320, '2016-12-23', 0.83), (19321, '2016-12-24', 1.08), (19322, '2016-12-25', 0.38), (19323, '2016-12-26', 1.48), (19324, '2016-12-27', 0.14), (19325, '2016-12-28', 0.14), (19326, '2016-12-29', 1.03), (19327, '2016-12-30', 2.37), (19328, '2016-12-31', 0.9), (19329, '2017-01-01', 0.03), (19330, '2017-01-02', 0.0), (19331, '2017-01-03', 0.0), (19332, '2017-01-04', 0.0), (19333, '2017-01-05', 0.47), (19334, '2017-01-06', 0.1), (19335, '2017-01-07', 0.0), (19336, '2017-01-08', 0.03), (19337, '2017-01-09', 0.0), (19338, '2017-01-10', 0.0), (19339, '2017-01-11', 0.0), (19340, '2017-01-12', 0.0), (19341, '2017-01-13', 0.0), (19342, '2017-01-14', 0.0), (19343, '2017-01-15', 0.01), (19344, '2017-01-16', 0.0), (19345, '2017-01-17', 0.0), (19346, '2017-01-18', 0.07), (19347, '2017-01-19', 0.0), (19348, '2017-01-20', 0.0), (19349, '2017-01-21', 0.08), (19350, '2017-01-22', 0.72), (19351, '2017-01-23', 0.85), (19352, '2017-01-24', 1.85), (19353, '2017-01-25', 2.64), (19354, '2017-01-26', 0.1), (19355, '2017-01-27', 0.03), (19356, '2017-01-28', 0.0), (19357, '2017-01-29', 0.55), (19358, '2017-01-30', 0.0), (19359, '2017-01-31', 0.0), (19360, '2017-02-01', 0.0), (19361, '2017-02-02', 0.0), (19362, '2017-02-04', None), (19363, '2017-02-05', 0.0), (19364, '2017-02-06', 0.0), (19365, '2017-02-07', 1.79), (19366, '2017-02-08', 0.0), (19367, '2017-02-09', 0.0), (19368, '2017-02-10', 0.0), (19369, '2017-02-11', 0.73), (19370, '2017-02-12', 1.83), (19371, '2017-02-13', 0.0), (19372, '2017-02-14', 0.01), (19373, '2017-02-15', 0.07), (19374, '2017-02-16', 0.13), (19375, '2017-02-18', None), (19376, '2017-02-19', 0.1), (19377, '2017-02-20', 0.0), (19378, '2017-02-21', 0.07), (19379, '2017-02-22', 0.32), (19380, '2017-02-23', 0.0), (19381, '2017-02-24', 0.0), (19382, '2017-02-25', 0.12), (19383, '2017-02-26', 0.0), (19384, '2017-02-27', 0.0), (19385, '2017-02-28', 0.58), (19386, '2017-03-01', 2.0), (19387, '2017-03-02', 0.58), (19388, '2017-03-03', 0.56), (19389, '2017-03-04', 0.0), (19390, '2017-03-05', 0.35), (19391, '2017-03-06', 0.0), (19392, '2017-03-07', 0.0), (19393, '2017-03-08', 0.0), (19394, '2017-03-09', 0.01), (19395, '2017-03-10', 0.0), (19396, '2017-03-11', 0.0), (19397, '2017-03-13', None), (19398, '2017-03-14', 0.0), (19399, '2017-03-15', 0.0), (19400, '2017-03-16', 0.0), (19401, '2017-03-18', None), (19402, '2017-03-19', 0.0), (19403, '2017-03-20', 0.0), (19404, '2017-03-21', 0.0), (19405, '2017-03-22', 0.0), (19406, '2017-03-23', 0.03), (19407, '2017-03-24', 0.17), (19408, '2017-03-25', 0.48), (19409, '2017-03-26', 0.0), (19410, '2017-03-27', 0.0), (19411, '2017-03-28', 0.68), (19412, '2017-03-29', 0.07), (19413, '2017-03-31', None), (19414, '2017-04-01', 0.2), (19415, '2017-04-02', 0.0), (19416, '2017-04-03', 0.23), (19417, '2017-04-04', 0.02), (19418, '2017-04-05', 0.45), (19419, '2017-04-06', 0.0), (19420, '2017-04-08', None), (19421, '2017-04-09', 0.0), (19422, '2017-04-10', 0.0), (19423, '2017-04-11', 0.25), (19424, '2017-04-12', 0.65), (19425, '2017-04-13', 0.23), (19426, '2017-04-14', 2.82), (19427, '2017-04-15', 0.9), (19428, '2017-04-16', 0.11), (19429, '2017-04-17', 1.3), (19430, '2017-04-18', 0.98), (19431, '2017-04-19', 0.14), (19432, '2017-04-20', 0.0), (19433, '2017-04-21', 1.84), (19434, '2017-04-22', 1.35), (19435, '2017-04-23', 0.35), (19436, '2017-04-24', 0.05), (19437, '2017-04-25', 0.0), (19438, '2017-04-26', 0.22), (19439, '2017-04-27', 0.11), (19440, '2017-04-28', 0.79), (19441, '2017-04-29', 0.0), (19442, '2017-04-30', 0.8), (19443, '2017-05-01', 0.25), (19444, '2017-05-02', 0.0), (19445, '2017-05-04', None), (19446, '2017-05-05', 0.1), (19447, '2017-05-06', 0.0), (19448, '2017-05-07', 0.03), (19449, '2017-05-08', 1.11), (19450, '2017-05-09', 0.23), (19451, '2017-05-10', 0.55), (19452, '2017-05-11', 0.44), (19453, '2017-05-12', 0.1), (19454, '2017-05-13', 0.1), (19455, '2017-05-14', 1.0), (19456, '2017-05-15', 0.6), (19457, '2017-05-16', 0.3), (19458, '2017-05-17', 0.06), (19459, '2017-05-18', 0.0), (19460, '2017-05-20', None), (19461, '2017-05-21', 0.0), (19462, '2017-05-22', 0.3), (19463, '2017-05-23', 0.44), (19464, '2017-05-24', 2.17), (19465, '2017-05-25', 0.88), (19466, '2017-05-26', 0.0), (19467, '2017-05-27', 0.5), (19468, '2017-05-28', 0.0), (19469, '2017-05-30', None), (19470, '2017-06-01', 0.01), (19471, '2017-06-03', None), (19472, '2017-06-04', 0.82), (19473, '2017-06-05', 0.01), (19474, '2017-06-06', 0.0), (19475, '2017-06-07', 0.01), (19476, '2017-06-08', 0.0), (19477, '2017-06-10', None), (19478, '2017-06-11', 0.7), (19479, '2017-06-12', 0.81), (19480, '2017-06-13', 0.65), (19481, '2017-06-14', 0.81), (19482, '2017-06-15', 1.69), (19483, '2017-06-16', 0.1), (19484, '2017-06-17', 0.1), (19485, '2017-06-18', 0.7), (19486, '2017-06-19', 0.4), (19487, '2017-06-20', 0.31), (19488, '2017-06-21', 0.3), (19489, '2017-06-22', 0.28), (19490, '2017-06-23', 0.5), (19491, '2017-06-24', 0.22), (19492, '2017-06-25', 0.5), (19493, '2017-06-26', 0.02), (19494, '2017-06-27', 0.1), (19495, '2017-06-28', 0.02), (19496, '2017-06-29', 0.04), (19497, '2017-06-30', 0.2), (19498, '2017-07-01', 0.1), (19499, '2017-07-02', 0.5), (19500, '2017-07-03', 0.4), (19501, '2017-07-04', 0.0), (19502, '2017-07-05', 0.0), (19503, '2017-07-06', 0.02), (19504, '2017-07-07', 0.3), (19505, '2017-07-08', 0.02), (19506, '2017-07-09', 0.0), (19507, '2017-07-10', 0.02), (19508, '2017-07-11', 0.0), (19509, '2017-07-12', 0.05), (19510, '2017-07-13', 0.68), (19511, '2017-07-14', 0.68), (19512, '2017-07-15', 0.1), (19513, '2017-07-16', 0.5), (19514, '2017-07-17', 0.39), (19515, '2017-07-18', 2.4), (19516, '2017-07-19', 0.27), (19517, '2017-07-20', 0.7), (19518, '2017-07-21', 0.1), (19519, '2017-07-22', 4.0), (19520, '2017-07-23', 0.8), (19521, '2017-07-24', 0.84), (19522, '2017-07-25', 0.3), (19523, '2017-07-26', 0.3), (19524, '2017-07-27', 0.0), (19525, '2017-07-28', 0.4), (19526, '2017-07-29', 0.3), (19527, '2017-07-30', 0.3), (19528, '2017-07-31', 0.0), (19529, '2017-08-01', None), (19530, '2017-08-02', 0.25), (19531, '2017-08-03', 0.06), (19532, '2017-08-05', None), (19533, '2017-08-06', None), (19534, '2017-08-07', 0.05), (19535, '2017-08-08', 0.34), (19536, '2017-08-09', 0.15), (19537, '2017-08-10', 0.07), (19538, '2017-08-11', None), (19539, '2017-08-12', 0.14), (19540, '2017-08-13', None), (19541, '2017-08-14', 0.22), (19542, '2017-08-15', 0.42), (19543, '2017-08-16', 0.42), (19544, '2017-08-17', 0.13), (19545, '2017-08-18', None), (19546, '2017-08-19', 0.09), (19547, '2017-08-20', None), (19548, '2017-08-21', 0.56), (19549, '2017-08-22', 0.5), (19550, '2017-08-23', 0.45)]\n"
     ]
    }
   ],
   "metadata": {}
  },
  {
   "cell_type": "code",
   "execution_count": 48,
   "source": [
    "# Save the query results as a Pandas DataFrame and set the index to the date column \n",
    "# -- which means precipitation is summed on date above\n",
    "# **trying to pass list of tuples** 7-22; 7-23 now an empty list\n",
    "precipitation_df = pd.DataFrame(precip_output0, columns=['id', 'date', 'precip']).set_index('id')\n",
    "precipitation_df.dtypes"
   ],
   "outputs": [
    {
     "output_type": "execute_result",
     "data": {
      "text/plain": [
       "date       object\n",
       "precip    float64\n",
       "dtype: object"
      ]
     },
     "metadata": {},
     "execution_count": 48
    }
   ],
   "metadata": {}
  },
  {
   "cell_type": "code",
   "execution_count": 49,
   "source": [
    "# Sort the dataframe by date\n",
    "precipitation_df['date']=pd.to_datetime(precipitation_df['date'])\n",
    "precipitation_df = precipitation_df.sort_values(by='date')\n",
    "precipitation_df"
   ],
   "outputs": [
    {
     "output_type": "execute_result",
     "data": {
      "text/plain": [
       "           date  precip\n",
       "id                     \n",
       "2365 2016-08-24    9.33\n",
       "2366 2016-08-25    0.54\n",
       "2367 2016-08-26    0.10\n",
       "2368 2016-08-27    0.32\n",
       "2369 2016-08-28    3.10\n",
       "...         ...     ...\n",
       "2720 2017-08-19    0.09\n",
       "2721 2017-08-20    0.01\n",
       "2722 2017-08-21    0.58\n",
       "2723 2017-08-22    0.50\n",
       "2724 2017-08-23    0.53\n",
       "\n",
       "[365 rows x 2 columns]"
      ],
      "text/html": [
       "<div>\n",
       "<style scoped>\n",
       "    .dataframe tbody tr th:only-of-type {\n",
       "        vertical-align: middle;\n",
       "    }\n",
       "\n",
       "    .dataframe tbody tr th {\n",
       "        vertical-align: top;\n",
       "    }\n",
       "\n",
       "    .dataframe thead th {\n",
       "        text-align: right;\n",
       "    }\n",
       "</style>\n",
       "<table border=\"1\" class=\"dataframe\">\n",
       "  <thead>\n",
       "    <tr style=\"text-align: right;\">\n",
       "      <th></th>\n",
       "      <th>date</th>\n",
       "      <th>precip</th>\n",
       "    </tr>\n",
       "    <tr>\n",
       "      <th>id</th>\n",
       "      <th></th>\n",
       "      <th></th>\n",
       "    </tr>\n",
       "  </thead>\n",
       "  <tbody>\n",
       "    <tr>\n",
       "      <th>2365</th>\n",
       "      <td>2016-08-24</td>\n",
       "      <td>9.33</td>\n",
       "    </tr>\n",
       "    <tr>\n",
       "      <th>2366</th>\n",
       "      <td>2016-08-25</td>\n",
       "      <td>0.54</td>\n",
       "    </tr>\n",
       "    <tr>\n",
       "      <th>2367</th>\n",
       "      <td>2016-08-26</td>\n",
       "      <td>0.10</td>\n",
       "    </tr>\n",
       "    <tr>\n",
       "      <th>2368</th>\n",
       "      <td>2016-08-27</td>\n",
       "      <td>0.32</td>\n",
       "    </tr>\n",
       "    <tr>\n",
       "      <th>2369</th>\n",
       "      <td>2016-08-28</td>\n",
       "      <td>3.10</td>\n",
       "    </tr>\n",
       "    <tr>\n",
       "      <th>...</th>\n",
       "      <td>...</td>\n",
       "      <td>...</td>\n",
       "    </tr>\n",
       "    <tr>\n",
       "      <th>2720</th>\n",
       "      <td>2017-08-19</td>\n",
       "      <td>0.09</td>\n",
       "    </tr>\n",
       "    <tr>\n",
       "      <th>2721</th>\n",
       "      <td>2017-08-20</td>\n",
       "      <td>0.01</td>\n",
       "    </tr>\n",
       "    <tr>\n",
       "      <th>2722</th>\n",
       "      <td>2017-08-21</td>\n",
       "      <td>0.58</td>\n",
       "    </tr>\n",
       "    <tr>\n",
       "      <th>2723</th>\n",
       "      <td>2017-08-22</td>\n",
       "      <td>0.50</td>\n",
       "    </tr>\n",
       "    <tr>\n",
       "      <th>2724</th>\n",
       "      <td>2017-08-23</td>\n",
       "      <td>0.53</td>\n",
       "    </tr>\n",
       "  </tbody>\n",
       "</table>\n",
       "<p>365 rows × 2 columns</p>\n",
       "</div>"
      ]
     },
     "metadata": {},
     "execution_count": 49
    }
   ],
   "metadata": {}
  },
  {
   "cell_type": "code",
   "execution_count": null,
   "source": [],
   "outputs": [],
   "metadata": {}
  },
  {
   "cell_type": "code",
   "execution_count": null,
   "source": [
    "## Use Pandas Plotting with Matplotlib to plot the data\n"
   ],
   "outputs": [],
   "metadata": {}
  },
  {
   "cell_type": "code",
   "execution_count": null,
   "source": [
    "## Use Pandas to calcualte the summary statistics for the precipitation data\n",
    "precip_summary_df = precipitation_df.describe()"
   ],
   "outputs": [],
   "metadata": {}
  },
  {
   "cell_type": "markdown",
   "source": [
    "# Exploratory Station Analysis"
   ],
   "metadata": {}
  },
  {
   "cell_type": "code",
   "execution_count": null,
   "source": [
    "# Design a query to calculate the total number stations in the dataset\n"
   ],
   "outputs": [],
   "metadata": {}
  },
  {
   "cell_type": "code",
   "execution_count": null,
   "source": [
    "# Design a query to find the most active stations (i.e. what stations have the most rows?)\n",
    "# List the stations and the counts in descending order.\n"
   ],
   "outputs": [],
   "metadata": {}
  },
  {
   "cell_type": "code",
   "execution_count": null,
   "source": [
    "# Using the most active station id from the previous query, calculate the lowest, highest, and average temperature.\n"
   ],
   "outputs": [],
   "metadata": {}
  },
  {
   "cell_type": "code",
   "execution_count": null,
   "source": [
    "# Using the most active station id\n",
    "# Query the last 12 months of temperature observation data for this station and plot the results as a histogram\n"
   ],
   "outputs": [],
   "metadata": {}
  },
  {
   "cell_type": "markdown",
   "source": [
    "# Close session"
   ],
   "metadata": {}
  },
  {
   "cell_type": "code",
   "execution_count": null,
   "source": [
    "# Close Session\n",
    "session.close()"
   ],
   "outputs": [],
   "metadata": {}
  },
  {
   "cell_type": "code",
   "execution_count": null,
   "source": [],
   "outputs": [],
   "metadata": {}
  }
 ],
 "metadata": {
  "anaconda-cloud": {},
  "kernel_info": {
   "name": "python3"
  },
  "kernelspec": {
   "name": "python3",
   "display_name": "Python 3.8.5 64-bit ('base': conda)"
  },
  "language_info": {
   "codemirror_mode": {
    "name": "ipython",
    "version": 3
   },
   "file_extension": ".py",
   "mimetype": "text/x-python",
   "name": "python",
   "nbconvert_exporter": "python",
   "pygments_lexer": "ipython3",
   "version": "3.8.5"
  },
  "nteract": {
   "version": "0.12.3"
  },
  "varInspector": {
   "cols": {
    "lenName": 16,
    "lenType": 16,
    "lenVar": 40
   },
   "kernels_config": {
    "python": {
     "delete_cmd_postfix": "",
     "delete_cmd_prefix": "del ",
     "library": "var_list.py",
     "varRefreshCmd": "print(var_dic_list())"
    },
    "r": {
     "delete_cmd_postfix": ") ",
     "delete_cmd_prefix": "rm(",
     "library": "var_list.r",
     "varRefreshCmd": "cat(var_dic_list()) "
    }
   },
   "types_to_exclude": [
    "module",
    "function",
    "builtin_function_or_method",
    "instance",
    "_Feature"
   ],
   "window_display": false
  },
  "interpreter": {
   "hash": "797aaa517c2851f29685343c41d423cf5c6e3497bc2091e34cd352c6f05b7b6f"
  }
 },
 "nbformat": 4,
 "nbformat_minor": 2
}