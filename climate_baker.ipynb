{
 "cells": [
  {
   "cell_type": "code",
   "execution_count": 1,
   "source": [
    "%matplotlib inline\n",
    "from matplotlib import style\n",
    "style.use('fivethirtyeight')\n",
    "import matplotlib.pyplot as plt"
   ],
   "outputs": [],
   "metadata": {}
  },
  {
   "cell_type": "code",
   "execution_count": 2,
   "source": [
    "import numpy as np\n",
    "import pandas as pd\n",
    "import datetime as dt"
   ],
   "outputs": [],
   "metadata": {}
  },
  {
   "cell_type": "markdown",
   "source": [
    "# Reflect Tables into SQLAlchemy ORM"
   ],
   "metadata": {}
  },
  {
   "cell_type": "code",
   "execution_count": 3,
   "source": [
    "# Python SQL toolkit and Object Relational Mapper\n",
    "import sqlalchemy\n",
    "from sqlalchemy.ext.automap import automap_base\n",
    "from sqlalchemy.orm import Session\n",
    "from sqlalchemy import create_engine, func, inspect, distinct, desc\n",
    "from sqlalchemy.sql import label"
   ],
   "outputs": [],
   "metadata": {}
  },
  {
   "cell_type": "code",
   "execution_count": 4,
   "source": [
    "# create engine to hawaii.sqlite\n",
    "engine = create_engine(\"sqlite:///Resources/hawaii.sqlite\",echo=True)\n",
    "this_conn = engine.connect()"
   ],
   "outputs": [
    {
     "output_type": "stream",
     "name": "stdout",
     "text": [
      "2021-07-23 20:42:36,269 INFO sqlalchemy.engine.base.Engine SELECT CAST('test plain returns' AS VARCHAR(60)) AS anon_1\n",
      "2021-07-23 20:42:36,270 INFO sqlalchemy.engine.base.Engine ()\n",
      "2021-07-23 20:42:36,272 INFO sqlalchemy.engine.base.Engine SELECT CAST('test unicode returns' AS VARCHAR(60)) AS anon_1\n",
      "2021-07-23 20:42:36,273 INFO sqlalchemy.engine.base.Engine ()\n"
     ]
    }
   ],
   "metadata": {}
  },
  {
   "cell_type": "code",
   "execution_count": 5,
   "source": [
    "# reflect an existing database into a new model\n",
    "Base = automap_base()\n",
    "\n",
    "# reflect the tables\n",
    "Base.prepare(engine, reflect=True)"
   ],
   "outputs": [
    {
     "output_type": "stream",
     "name": "stdout",
     "text": [
      "2021-07-23 20:42:37,892 INFO sqlalchemy.engine.base.Engine SELECT name FROM sqlite_master WHERE type='table' ORDER BY name\n",
      "2021-07-23 20:42:37,895 INFO sqlalchemy.engine.base.Engine ()\n",
      "2021-07-23 20:42:37,898 INFO sqlalchemy.engine.base.Engine PRAGMA main.table_xinfo(\"measurement\")\n",
      "2021-07-23 20:42:37,899 INFO sqlalchemy.engine.base.Engine ()\n",
      "2021-07-23 20:42:37,902 INFO sqlalchemy.engine.base.Engine SELECT sql FROM  (SELECT * FROM sqlite_master UNION ALL   SELECT * FROM sqlite_temp_master) WHERE name = ? AND type = 'table'\n",
      "2021-07-23 20:42:37,903 INFO sqlalchemy.engine.base.Engine ('measurement',)\n",
      "2021-07-23 20:42:37,908 INFO sqlalchemy.engine.base.Engine PRAGMA main.foreign_key_list(\"measurement\")\n",
      "2021-07-23 20:42:37,909 INFO sqlalchemy.engine.base.Engine ()\n",
      "2021-07-23 20:42:37,910 INFO sqlalchemy.engine.base.Engine PRAGMA temp.foreign_key_list(\"measurement\")\n",
      "2021-07-23 20:42:37,911 INFO sqlalchemy.engine.base.Engine ()\n",
      "2021-07-23 20:42:37,912 INFO sqlalchemy.engine.base.Engine SELECT sql FROM  (SELECT * FROM sqlite_master UNION ALL   SELECT * FROM sqlite_temp_master) WHERE name = ? AND type = 'table'\n",
      "2021-07-23 20:42:37,915 INFO sqlalchemy.engine.base.Engine ('measurement',)\n",
      "2021-07-23 20:42:37,918 INFO sqlalchemy.engine.base.Engine PRAGMA main.index_list(\"measurement\")\n",
      "2021-07-23 20:42:37,920 INFO sqlalchemy.engine.base.Engine ()\n",
      "2021-07-23 20:42:37,922 INFO sqlalchemy.engine.base.Engine PRAGMA temp.index_list(\"measurement\")\n",
      "2021-07-23 20:42:37,923 INFO sqlalchemy.engine.base.Engine ()\n",
      "2021-07-23 20:42:37,924 INFO sqlalchemy.engine.base.Engine PRAGMA main.index_list(\"measurement\")\n",
      "2021-07-23 20:42:37,925 INFO sqlalchemy.engine.base.Engine ()\n",
      "2021-07-23 20:42:37,927 INFO sqlalchemy.engine.base.Engine PRAGMA temp.index_list(\"measurement\")\n",
      "2021-07-23 20:42:37,929 INFO sqlalchemy.engine.base.Engine ()\n",
      "2021-07-23 20:42:37,930 INFO sqlalchemy.engine.base.Engine SELECT sql FROM  (SELECT * FROM sqlite_master UNION ALL   SELECT * FROM sqlite_temp_master) WHERE name = ? AND type = 'table'\n",
      "2021-07-23 20:42:37,932 INFO sqlalchemy.engine.base.Engine ('measurement',)\n",
      "2021-07-23 20:42:37,935 INFO sqlalchemy.engine.base.Engine PRAGMA main.table_xinfo(\"station\")\n",
      "2021-07-23 20:42:37,936 INFO sqlalchemy.engine.base.Engine ()\n",
      "2021-07-23 20:42:37,938 INFO sqlalchemy.engine.base.Engine SELECT sql FROM  (SELECT * FROM sqlite_master UNION ALL   SELECT * FROM sqlite_temp_master) WHERE name = ? AND type = 'table'\n",
      "2021-07-23 20:42:37,938 INFO sqlalchemy.engine.base.Engine ('station',)\n",
      "2021-07-23 20:42:37,940 INFO sqlalchemy.engine.base.Engine PRAGMA main.foreign_key_list(\"station\")\n",
      "2021-07-23 20:42:37,942 INFO sqlalchemy.engine.base.Engine ()\n",
      "2021-07-23 20:42:37,943 INFO sqlalchemy.engine.base.Engine PRAGMA temp.foreign_key_list(\"station\")\n",
      "2021-07-23 20:42:37,946 INFO sqlalchemy.engine.base.Engine ()\n",
      "2021-07-23 20:42:37,948 INFO sqlalchemy.engine.base.Engine SELECT sql FROM  (SELECT * FROM sqlite_master UNION ALL   SELECT * FROM sqlite_temp_master) WHERE name = ? AND type = 'table'\n",
      "2021-07-23 20:42:37,951 INFO sqlalchemy.engine.base.Engine ('station',)\n",
      "2021-07-23 20:42:37,954 INFO sqlalchemy.engine.base.Engine PRAGMA main.index_list(\"station\")\n",
      "2021-07-23 20:42:37,955 INFO sqlalchemy.engine.base.Engine ()\n",
      "2021-07-23 20:42:37,958 INFO sqlalchemy.engine.base.Engine PRAGMA temp.index_list(\"station\")\n",
      "2021-07-23 20:42:37,958 INFO sqlalchemy.engine.base.Engine ()\n",
      "2021-07-23 20:42:37,960 INFO sqlalchemy.engine.base.Engine PRAGMA main.index_list(\"station\")\n",
      "2021-07-23 20:42:37,962 INFO sqlalchemy.engine.base.Engine ()\n",
      "2021-07-23 20:42:37,963 INFO sqlalchemy.engine.base.Engine PRAGMA temp.index_list(\"station\")\n",
      "2021-07-23 20:42:37,964 INFO sqlalchemy.engine.base.Engine ()\n",
      "2021-07-23 20:42:37,965 INFO sqlalchemy.engine.base.Engine SELECT sql FROM  (SELECT * FROM sqlite_master UNION ALL   SELECT * FROM sqlite_temp_master) WHERE name = ? AND type = 'table'\n",
      "2021-07-23 20:42:37,967 INFO sqlalchemy.engine.base.Engine ('station',)\n"
     ]
    }
   ],
   "metadata": {}
  },
  {
   "cell_type": "code",
   "execution_count": 6,
   "source": [
    "# View all of the classes that automap found\n",
    "Base.classes.keys()"
   ],
   "outputs": [
    {
     "output_type": "execute_result",
     "data": {
      "text/plain": [
       "['measurement', 'station']"
      ]
     },
     "metadata": {},
     "execution_count": 6
    }
   ],
   "metadata": {}
  },
  {
   "cell_type": "code",
   "execution_count": 7,
   "source": [
    "### Create the inspector and connect it to the engine\n",
    "inspector = inspect(engine)"
   ],
   "outputs": [],
   "metadata": {}
  },
  {
   "cell_type": "code",
   "execution_count": 8,
   "source": [
    "# Save references to each table\n",
    "### Collect the names of tables within the database\n",
    "inspector.get_table_names()"
   ],
   "outputs": [
    {
     "output_type": "stream",
     "name": "stdout",
     "text": [
      "2021-07-23 20:42:42,804 INFO sqlalchemy.engine.base.Engine SELECT name FROM sqlite_master WHERE type='table' ORDER BY name\n",
      "2021-07-23 20:42:42,807 INFO sqlalchemy.engine.base.Engine ()\n"
     ]
    },
    {
     "output_type": "execute_result",
     "data": {
      "text/plain": [
       "['measurement', 'station']"
      ]
     },
     "metadata": {},
     "execution_count": 8
    }
   ],
   "metadata": {}
  },
  {
   "cell_type": "code",
   "execution_count": 9,
   "source": [
    "# get columns for measurement table\n",
    "meas_cols = inspector.get_columns('measurement')\n",
    "for c in meas_cols:\n",
    "    print(c['name'], c['type'])"
   ],
   "outputs": [
    {
     "output_type": "stream",
     "name": "stdout",
     "text": [
      "2021-07-23 20:42:44,339 INFO sqlalchemy.engine.base.Engine PRAGMA main.table_xinfo(\"measurement\")\n",
      "2021-07-23 20:42:44,340 INFO sqlalchemy.engine.base.Engine ()\n",
      "id INTEGER\n",
      "station TEXT\n",
      "date TEXT\n",
      "prcp FLOAT\n",
      "tobs FLOAT\n"
     ]
    }
   ],
   "metadata": {}
  },
  {
   "cell_type": "code",
   "execution_count": 10,
   "source": [
    "# get columns for station table\n",
    "stat_cols = inspector.get_columns('station')\n",
    "for c in stat_cols:\n",
    "    print(c['name'], c['type'])"
   ],
   "outputs": [
    {
     "output_type": "stream",
     "name": "stdout",
     "text": [
      "2021-07-23 20:42:45,770 INFO sqlalchemy.engine.base.Engine PRAGMA main.table_xinfo(\"station\")\n",
      "2021-07-23 20:42:45,772 INFO sqlalchemy.engine.base.Engine ()\n",
      "id INTEGER\n",
      "station TEXT\n",
      "name TEXT\n",
      "latitude FLOAT\n",
      "longitude FLOAT\n",
      "elevation FLOAT\n"
     ]
    }
   ],
   "metadata": {}
  },
  {
   "cell_type": "code",
   "execution_count": 11,
   "source": [
    "# not sure I need these, but doing it because it was in very first activity Query All Records in the Database\n",
    "measurement_data = engine.execute(\"SELECT * FROM measurement\")\n",
    "measurement_df = pd.read_sql(\"SELECT * FROM measurement\", this_conn)\n",
    "\n",
    "measurement_df.head()"
   ],
   "outputs": [
    {
     "output_type": "stream",
     "name": "stdout",
     "text": [
      "2021-07-23 20:42:47,169 INFO sqlalchemy.engine.base.Engine SELECT * FROM measurement\n",
      "2021-07-23 20:42:47,170 INFO sqlalchemy.engine.base.Engine ()\n",
      "2021-07-23 20:42:47,174 INFO sqlalchemy.engine.base.Engine PRAGMA main.table_info(\"SELECT * FROM measurement\")\n",
      "2021-07-23 20:42:47,175 INFO sqlalchemy.engine.base.Engine ()\n",
      "2021-07-23 20:42:47,179 INFO sqlalchemy.engine.base.Engine PRAGMA temp.table_info(\"SELECT * FROM measurement\")\n",
      "2021-07-23 20:42:47,180 INFO sqlalchemy.engine.base.Engine ()\n",
      "2021-07-23 20:42:47,182 INFO sqlalchemy.engine.base.Engine SELECT * FROM measurement\n",
      "2021-07-23 20:42:47,184 INFO sqlalchemy.engine.base.Engine ()\n"
     ]
    },
    {
     "output_type": "execute_result",
     "data": {
      "text/plain": [
       "   id      station        date  prcp  tobs\n",
       "0   1  USC00519397  2010-01-01  0.08  65.0\n",
       "1   2  USC00519397  2010-01-02  0.00  63.0\n",
       "2   3  USC00519397  2010-01-03  0.00  74.0\n",
       "3   4  USC00519397  2010-01-04  0.00  76.0\n",
       "4   5  USC00519397  2010-01-06   NaN  73.0"
      ],
      "text/html": [
       "<div>\n",
       "<style scoped>\n",
       "    .dataframe tbody tr th:only-of-type {\n",
       "        vertical-align: middle;\n",
       "    }\n",
       "\n",
       "    .dataframe tbody tr th {\n",
       "        vertical-align: top;\n",
       "    }\n",
       "\n",
       "    .dataframe thead th {\n",
       "        text-align: right;\n",
       "    }\n",
       "</style>\n",
       "<table border=\"1\" class=\"dataframe\">\n",
       "  <thead>\n",
       "    <tr style=\"text-align: right;\">\n",
       "      <th></th>\n",
       "      <th>id</th>\n",
       "      <th>station</th>\n",
       "      <th>date</th>\n",
       "      <th>prcp</th>\n",
       "      <th>tobs</th>\n",
       "    </tr>\n",
       "  </thead>\n",
       "  <tbody>\n",
       "    <tr>\n",
       "      <th>0</th>\n",
       "      <td>1</td>\n",
       "      <td>USC00519397</td>\n",
       "      <td>2010-01-01</td>\n",
       "      <td>0.08</td>\n",
       "      <td>65.0</td>\n",
       "    </tr>\n",
       "    <tr>\n",
       "      <th>1</th>\n",
       "      <td>2</td>\n",
       "      <td>USC00519397</td>\n",
       "      <td>2010-01-02</td>\n",
       "      <td>0.00</td>\n",
       "      <td>63.0</td>\n",
       "    </tr>\n",
       "    <tr>\n",
       "      <th>2</th>\n",
       "      <td>3</td>\n",
       "      <td>USC00519397</td>\n",
       "      <td>2010-01-03</td>\n",
       "      <td>0.00</td>\n",
       "      <td>74.0</td>\n",
       "    </tr>\n",
       "    <tr>\n",
       "      <th>3</th>\n",
       "      <td>4</td>\n",
       "      <td>USC00519397</td>\n",
       "      <td>2010-01-04</td>\n",
       "      <td>0.00</td>\n",
       "      <td>76.0</td>\n",
       "    </tr>\n",
       "    <tr>\n",
       "      <th>4</th>\n",
       "      <td>5</td>\n",
       "      <td>USC00519397</td>\n",
       "      <td>2010-01-06</td>\n",
       "      <td>NaN</td>\n",
       "      <td>73.0</td>\n",
       "    </tr>\n",
       "  </tbody>\n",
       "</table>\n",
       "</div>"
      ]
     },
     "metadata": {},
     "execution_count": 11
    }
   ],
   "metadata": {}
  },
  {
   "cell_type": "code",
   "execution_count": 12,
   "source": [
    "# not sure I need these, but doing it because it was in very first activity Query All Records in the Database\n",
    "station_data = engine.execute(\"SELECT * FROM station\")\n",
    "station_df = pd.read_sql(\"SELECT * FROM station\", this_conn)\n",
    "\n",
    "station_df"
   ],
   "outputs": [
    {
     "output_type": "stream",
     "name": "stdout",
     "text": [
      "2021-07-23 20:42:49,628 INFO sqlalchemy.engine.base.Engine SELECT * FROM station\n",
      "2021-07-23 20:42:49,633 INFO sqlalchemy.engine.base.Engine ()\n",
      "2021-07-23 20:42:49,636 INFO sqlalchemy.engine.base.Engine PRAGMA main.table_info(\"SELECT * FROM station\")\n",
      "2021-07-23 20:42:49,637 INFO sqlalchemy.engine.base.Engine ()\n",
      "2021-07-23 20:42:49,639 INFO sqlalchemy.engine.base.Engine PRAGMA temp.table_info(\"SELECT * FROM station\")\n",
      "2021-07-23 20:42:49,640 INFO sqlalchemy.engine.base.Engine ()\n",
      "2021-07-23 20:42:49,643 INFO sqlalchemy.engine.base.Engine SELECT * FROM station\n",
      "2021-07-23 20:42:49,644 INFO sqlalchemy.engine.base.Engine ()\n"
     ]
    },
    {
     "output_type": "execute_result",
     "data": {
      "text/plain": [
       "   id      station                                    name  latitude  \\\n",
       "0   1  USC00519397                    WAIKIKI 717.2, HI US  21.27160   \n",
       "1   2  USC00513117                    KANEOHE 838.1, HI US  21.42340   \n",
       "2   3  USC00514830  KUALOA RANCH HEADQUARTERS 886.9, HI US  21.52130   \n",
       "3   4  USC00517948                       PEARL CITY, HI US  21.39340   \n",
       "4   5  USC00518838              UPPER WAHIAWA 874.3, HI US  21.49920   \n",
       "5   6  USC00519523      WAIMANALO EXPERIMENTAL FARM, HI US  21.33556   \n",
       "6   7  USC00519281                     WAIHEE 837.5, HI US  21.45167   \n",
       "7   8  USC00511918       HONOLULU OBSERVATORY 702.2, HI US  21.31520   \n",
       "8   9  USC00516128            MANOA LYON ARBO 785.2, HI US  21.33310   \n",
       "\n",
       "   longitude  elevation  \n",
       "0 -157.81680        3.0  \n",
       "1 -157.80150       14.6  \n",
       "2 -157.83740        7.0  \n",
       "3 -157.97510       11.9  \n",
       "4 -158.01110      306.6  \n",
       "5 -157.71139       19.5  \n",
       "6 -157.84889       32.9  \n",
       "7 -157.99920        0.9  \n",
       "8 -157.80250      152.4  "
      ],
      "text/html": [
       "<div>\n",
       "<style scoped>\n",
       "    .dataframe tbody tr th:only-of-type {\n",
       "        vertical-align: middle;\n",
       "    }\n",
       "\n",
       "    .dataframe tbody tr th {\n",
       "        vertical-align: top;\n",
       "    }\n",
       "\n",
       "    .dataframe thead th {\n",
       "        text-align: right;\n",
       "    }\n",
       "</style>\n",
       "<table border=\"1\" class=\"dataframe\">\n",
       "  <thead>\n",
       "    <tr style=\"text-align: right;\">\n",
       "      <th></th>\n",
       "      <th>id</th>\n",
       "      <th>station</th>\n",
       "      <th>name</th>\n",
       "      <th>latitude</th>\n",
       "      <th>longitude</th>\n",
       "      <th>elevation</th>\n",
       "    </tr>\n",
       "  </thead>\n",
       "  <tbody>\n",
       "    <tr>\n",
       "      <th>0</th>\n",
       "      <td>1</td>\n",
       "      <td>USC00519397</td>\n",
       "      <td>WAIKIKI 717.2, HI US</td>\n",
       "      <td>21.27160</td>\n",
       "      <td>-157.81680</td>\n",
       "      <td>3.0</td>\n",
       "    </tr>\n",
       "    <tr>\n",
       "      <th>1</th>\n",
       "      <td>2</td>\n",
       "      <td>USC00513117</td>\n",
       "      <td>KANEOHE 838.1, HI US</td>\n",
       "      <td>21.42340</td>\n",
       "      <td>-157.80150</td>\n",
       "      <td>14.6</td>\n",
       "    </tr>\n",
       "    <tr>\n",
       "      <th>2</th>\n",
       "      <td>3</td>\n",
       "      <td>USC00514830</td>\n",
       "      <td>KUALOA RANCH HEADQUARTERS 886.9, HI US</td>\n",
       "      <td>21.52130</td>\n",
       "      <td>-157.83740</td>\n",
       "      <td>7.0</td>\n",
       "    </tr>\n",
       "    <tr>\n",
       "      <th>3</th>\n",
       "      <td>4</td>\n",
       "      <td>USC00517948</td>\n",
       "      <td>PEARL CITY, HI US</td>\n",
       "      <td>21.39340</td>\n",
       "      <td>-157.97510</td>\n",
       "      <td>11.9</td>\n",
       "    </tr>\n",
       "    <tr>\n",
       "      <th>4</th>\n",
       "      <td>5</td>\n",
       "      <td>USC00518838</td>\n",
       "      <td>UPPER WAHIAWA 874.3, HI US</td>\n",
       "      <td>21.49920</td>\n",
       "      <td>-158.01110</td>\n",
       "      <td>306.6</td>\n",
       "    </tr>\n",
       "    <tr>\n",
       "      <th>5</th>\n",
       "      <td>6</td>\n",
       "      <td>USC00519523</td>\n",
       "      <td>WAIMANALO EXPERIMENTAL FARM, HI US</td>\n",
       "      <td>21.33556</td>\n",
       "      <td>-157.71139</td>\n",
       "      <td>19.5</td>\n",
       "    </tr>\n",
       "    <tr>\n",
       "      <th>6</th>\n",
       "      <td>7</td>\n",
       "      <td>USC00519281</td>\n",
       "      <td>WAIHEE 837.5, HI US</td>\n",
       "      <td>21.45167</td>\n",
       "      <td>-157.84889</td>\n",
       "      <td>32.9</td>\n",
       "    </tr>\n",
       "    <tr>\n",
       "      <th>7</th>\n",
       "      <td>8</td>\n",
       "      <td>USC00511918</td>\n",
       "      <td>HONOLULU OBSERVATORY 702.2, HI US</td>\n",
       "      <td>21.31520</td>\n",
       "      <td>-157.99920</td>\n",
       "      <td>0.9</td>\n",
       "    </tr>\n",
       "    <tr>\n",
       "      <th>8</th>\n",
       "      <td>9</td>\n",
       "      <td>USC00516128</td>\n",
       "      <td>MANOA LYON ARBO 785.2, HI US</td>\n",
       "      <td>21.33310</td>\n",
       "      <td>-157.80250</td>\n",
       "      <td>152.4</td>\n",
       "    </tr>\n",
       "  </tbody>\n",
       "</table>\n",
       "</div>"
      ]
     },
     "metadata": {},
     "execution_count": 12
    }
   ],
   "metadata": {}
  },
  {
   "cell_type": "code",
   "execution_count": 13,
   "source": [
    "### Assign classes to variables \n",
    "Measurement = Base.classes.measurement\n",
    "Station = Base.classes.station"
   ],
   "outputs": [],
   "metadata": {}
  },
  {
   "cell_type": "code",
   "execution_count": 14,
   "source": [
    "# Create our session (link) from Python to the DB\n",
    "session = Session(engine)"
   ],
   "outputs": [],
   "metadata": {}
  },
  {
   "cell_type": "markdown",
   "source": [
    "# Exploratory Precipitation Analysis"
   ],
   "metadata": {}
  },
  {
   "cell_type": "code",
   "execution_count": 15,
   "source": [
    "# find most recent date in the database\n",
    "last_date = session.query(func.max(Measurement.date)).first()\n",
    "print(last_date)"
   ],
   "outputs": [
    {
     "output_type": "stream",
     "name": "stdout",
     "text": [
      "2021-07-23 20:42:59,785 INFO sqlalchemy.engine.base.Engine BEGIN (implicit)\n",
      "2021-07-23 20:42:59,788 INFO sqlalchemy.engine.base.Engine SELECT max(measurement.date) AS max_1 \n",
      "FROM measurement\n",
      " LIMIT ? OFFSET ?\n",
      "2021-07-23 20:42:59,789 INFO sqlalchemy.engine.base.Engine (1, 0)\n",
      "('2017-08-23',)\n"
     ]
    }
   ],
   "metadata": {}
  },
  {
   "cell_type": "markdown",
   "source": [
    "## Design a query to retrieve the last 12 months of precipitation data and plot the results. "
   ],
   "metadata": {}
  },
  {
   "cell_type": "code",
   "execution_count": 16,
   "source": [
    "# Starting from the most recent data point in the database. \n",
    "# The date that was pulled was a tuple & I saw online to use a marker to pull just the date \n",
    "# end_date = dt.date(last_date[0])  # The date is 2017-08-23; *the code DOES WORK, but I hard-coded to be sure*\n",
    "end_hand = dt.date(2017, 8, 23)\n",
    "# Calculate the date one year from the last date in data set.\n",
    "# start_date = end_date - dt.timedelta(days=365)  # THIS date should be 2016-08-24; hadn't gotten to work yet\n",
    "start_hand = dt.date(2016, 8, 24) \n",
    "print(f'start date is {start_hand} & end date is {end_hand}')"
   ],
   "outputs": [
    {
     "output_type": "stream",
     "name": "stdout",
     "text": [
      "start date is 2016-08-24 & end date is 2017-08-23\n"
     ]
    }
   ],
   "metadata": {}
  },
  {
   "cell_type": "code",
   "execution_count": 17,
   "source": [
    "# V0 produces list of tuples; has appropriate dates, but need to collapse so there is only 1 pair per date\n",
    "precip_output0 = session.query(Measurement.id, Measurement.date, Measurement.prcp).\\\n",
    "    filter(Measurement.date >=start_hand).all()\n",
    " "
   ],
   "outputs": [
    {
     "output_type": "stream",
     "name": "stdout",
     "text": [
      "2021-07-23 20:43:32,225 INFO sqlalchemy.engine.base.Engine SELECT measurement.id AS measurement_id, measurement.date AS measurement_date, measurement.prcp AS measurement_prcp \n",
      "FROM measurement \n",
      "WHERE measurement.date >= ?\n",
      "2021-07-23 20:43:32,231 INFO sqlalchemy.engine.base.Engine ('2016-08-24',)\n"
     ]
    }
   ],
   "metadata": {}
  },
  {
   "cell_type": "code",
   "execution_count": 20,
   "source": [
    "# Save the query results as a Pandas DataFrame and set the index to the date column \n",
    "precipitation_df = pd.DataFrame(precip_output0, columns=['id', 'date', 'precip']).set_index('id')\n",
    "precipitation_df.dtypes"
   ],
   "outputs": [
    {
     "output_type": "execute_result",
     "data": {
      "text/plain": [
       "date       object\n",
       "precip    float64\n",
       "dtype: object"
      ]
     },
     "metadata": {},
     "execution_count": 20
    }
   ],
   "metadata": {}
  },
  {
   "cell_type": "code",
   "execution_count": 21,
   "source": [
    "# Sort the dataframe by date, CONVERT date type to date, THEN set index on date\n",
    "precipitation_df['date']=pd.to_datetime(precipitation_df['date'])\n",
    "precipitation_df = precipitation_df.sort_values(by='date').set_index('date')\n",
    "precipitation_df"
   ],
   "outputs": [
    {
     "output_type": "execute_result",
     "data": {
      "text/plain": [
       "            precip\n",
       "date              \n",
       "2016-08-24    0.08\n",
       "2016-08-24     NaN\n",
       "2016-08-24    2.15\n",
       "2016-08-24    2.28\n",
       "2016-08-24    2.15\n",
       "...            ...\n",
       "2017-08-22    0.00\n",
       "2017-08-23    0.08\n",
       "2017-08-23    0.00\n",
       "2017-08-23    0.00\n",
       "2017-08-23    0.45\n",
       "\n",
       "[2223 rows x 1 columns]"
      ],
      "text/html": [
       "<div>\n",
       "<style scoped>\n",
       "    .dataframe tbody tr th:only-of-type {\n",
       "        vertical-align: middle;\n",
       "    }\n",
       "\n",
       "    .dataframe tbody tr th {\n",
       "        vertical-align: top;\n",
       "    }\n",
       "\n",
       "    .dataframe thead th {\n",
       "        text-align: right;\n",
       "    }\n",
       "</style>\n",
       "<table border=\"1\" class=\"dataframe\">\n",
       "  <thead>\n",
       "    <tr style=\"text-align: right;\">\n",
       "      <th></th>\n",
       "      <th>precip</th>\n",
       "    </tr>\n",
       "    <tr>\n",
       "      <th>date</th>\n",
       "      <th></th>\n",
       "    </tr>\n",
       "  </thead>\n",
       "  <tbody>\n",
       "    <tr>\n",
       "      <th>2016-08-24</th>\n",
       "      <td>0.08</td>\n",
       "    </tr>\n",
       "    <tr>\n",
       "      <th>2016-08-24</th>\n",
       "      <td>NaN</td>\n",
       "    </tr>\n",
       "    <tr>\n",
       "      <th>2016-08-24</th>\n",
       "      <td>2.15</td>\n",
       "    </tr>\n",
       "    <tr>\n",
       "      <th>2016-08-24</th>\n",
       "      <td>2.28</td>\n",
       "    </tr>\n",
       "    <tr>\n",
       "      <th>2016-08-24</th>\n",
       "      <td>2.15</td>\n",
       "    </tr>\n",
       "    <tr>\n",
       "      <th>...</th>\n",
       "      <td>...</td>\n",
       "    </tr>\n",
       "    <tr>\n",
       "      <th>2017-08-22</th>\n",
       "      <td>0.00</td>\n",
       "    </tr>\n",
       "    <tr>\n",
       "      <th>2017-08-23</th>\n",
       "      <td>0.08</td>\n",
       "    </tr>\n",
       "    <tr>\n",
       "      <th>2017-08-23</th>\n",
       "      <td>0.00</td>\n",
       "    </tr>\n",
       "    <tr>\n",
       "      <th>2017-08-23</th>\n",
       "      <td>0.00</td>\n",
       "    </tr>\n",
       "    <tr>\n",
       "      <th>2017-08-23</th>\n",
       "      <td>0.45</td>\n",
       "    </tr>\n",
       "  </tbody>\n",
       "</table>\n",
       "<p>2223 rows × 1 columns</p>\n",
       "</div>"
      ]
     },
     "metadata": {},
     "execution_count": 21
    }
   ],
   "metadata": {}
  },
  {
   "cell_type": "code",
   "execution_count": 22,
   "source": [
    "## Use Pandas Plotting with Matplotlib to plot the data\n",
    "plt.plot(precipitation_df)\n",
    "#plt.savefig(precip.png) *** need to fix this so it saves, currently gives error that it's not defined"
   ],
   "outputs": [
    {
     "output_type": "execute_result",
     "data": {
      "text/plain": [
       "[<matplotlib.lines.Line2D at 0x11cc5e760>]"
      ]
     },
     "metadata": {},
     "execution_count": 22
    },
    {
     "output_type": "display_data",
     "data": {
      "text/plain": [
       "<Figure size 432x288 with 1 Axes>"
      ],
      "image/png": "[encoded data removed]"
     },
     "metadata": {}
    }
   ],
   "metadata": {}
  },
  {
   "cell_type": "code",
   "execution_count": 23,
   "source": [
    "## Use Pandas to calcualte the summary statistics for the precipitation data\n",
    "## ** I think this is different because I set my >= to 8-24-2016 on my filter \n",
    "# because that's the date to give the most recent 365 days of data as the last date is 8-23-2017\n",
    "precip_summary_df = precipitation_df.describe()\n",
    "precip_summary_df"
   ],
   "outputs": [
    {
     "output_type": "execute_result",
     "data": {
      "text/plain": [
       "            precip\n",
       "count  2015.000000\n",
       "mean      0.176462\n",
       "std       0.460288\n",
       "min       0.000000\n",
       "25%       0.000000\n",
       "50%       0.020000\n",
       "75%       0.130000\n",
       "max       6.700000"
      ],
      "text/html": [
       "<div>\n",
       "<style scoped>\n",
       "    .dataframe tbody tr th:only-of-type {\n",
       "        vertical-align: middle;\n",
       "    }\n",
       "\n",
       "    .dataframe tbody tr th {\n",
       "        vertical-align: top;\n",
       "    }\n",
       "\n",
       "    .dataframe thead th {\n",
       "        text-align: right;\n",
       "    }\n",
       "</style>\n",
       "<table border=\"1\" class=\"dataframe\">\n",
       "  <thead>\n",
       "    <tr style=\"text-align: right;\">\n",
       "      <th></th>\n",
       "      <th>precip</th>\n",
       "    </tr>\n",
       "  </thead>\n",
       "  <tbody>\n",
       "    <tr>\n",
       "      <th>count</th>\n",
       "      <td>2015.000000</td>\n",
       "    </tr>\n",
       "    <tr>\n",
       "      <th>mean</th>\n",
       "      <td>0.176462</td>\n",
       "    </tr>\n",
       "    <tr>\n",
       "      <th>std</th>\n",
       "      <td>0.460288</td>\n",
       "    </tr>\n",
       "    <tr>\n",
       "      <th>min</th>\n",
       "      <td>0.000000</td>\n",
       "    </tr>\n",
       "    <tr>\n",
       "      <th>25%</th>\n",
       "      <td>0.000000</td>\n",
       "    </tr>\n",
       "    <tr>\n",
       "      <th>50%</th>\n",
       "      <td>0.020000</td>\n",
       "    </tr>\n",
       "    <tr>\n",
       "      <th>75%</th>\n",
       "      <td>0.130000</td>\n",
       "    </tr>\n",
       "    <tr>\n",
       "      <th>max</th>\n",
       "      <td>6.700000</td>\n",
       "    </tr>\n",
       "  </tbody>\n",
       "</table>\n",
       "</div>"
      ]
     },
     "metadata": {},
     "execution_count": 23
    }
   ],
   "metadata": {}
  },
  {
   "cell_type": "markdown",
   "source": [
    "# Exploratory Station Analysis"
   ],
   "metadata": {}
  },
  {
   "cell_type": "code",
   "execution_count": 24,
   "source": [
    "# Design a query to calculate the total number stations in the dataset\n",
    "total_stations = session.query(func.count(distinct(Station.name))).one()\n",
    "total_stations\n",
    "# this seems to be setting up a tuple??"
   ],
   "outputs": [
    {
     "output_type": "stream",
     "name": "stdout",
     "text": [
      "2021-07-23 20:43:45,132 INFO sqlalchemy.engine.base.Engine SELECT count(DISTINCT station.name) AS count_1 \n",
      "FROM station\n",
      "2021-07-23 20:43:45,135 INFO sqlalchemy.engine.base.Engine ()\n"
     ]
    },
    {
     "output_type": "execute_result",
     "data": {
      "text/plain": [
       "(9)"
      ]
     },
     "metadata": {},
     "execution_count": 24
    }
   ],
   "metadata": {}
  },
  {
   "cell_type": "code",
   "execution_count": 25,
   "source": [
    "# Design a query to find the most active stations (i.e. what stations have the most rows?)\n",
    "# List the stations and the counts in descending order.\n",
    "station_activity = session.query(Measurement.station, func.count(Measurement.station)).\\\n",
    "    group_by(Measurement.station).\\\n",
    "    order_by(desc(func.count(Measurement.station))).all()"
   ],
   "outputs": [
    {
     "output_type": "stream",
     "name": "stdout",
     "text": [
      "2021-07-23 20:43:46,508 INFO sqlalchemy.engine.base.Engine SELECT measurement.station AS measurement_station, count(measurement.station) AS count_1 \n",
      "FROM measurement GROUP BY measurement.station ORDER BY count(measurement.station) DESC\n",
      "2021-07-23 20:43:46,511 INFO sqlalchemy.engine.base.Engine ()\n"
     ]
    }
   ],
   "metadata": {}
  },
  {
   "cell_type": "code",
   "execution_count": 27,
   "source": [
    "station_activity"
   ],
   "outputs": [
    {
     "output_type": "execute_result",
     "data": {
      "text/plain": [
       "[('USC00519281', 2772),\n",
       " ('USC00519397', 2724),\n",
       " ('USC00513117', 2709),\n",
       " ('USC00519523', 2669),\n",
       " ('USC00516128', 2612),\n",
       " ('USC00514830', 2202),\n",
       " ('USC00511918', 1979),\n",
       " ('USC00517948', 1372),\n",
       " ('USC00518838', 511)]"
      ]
     },
     "metadata": {},
     "execution_count": 27
    }
   ],
   "metadata": {}
  },
  {
   "cell_type": "code",
   "execution_count": 31,
   "source": [
    "# ** can't get it to work when I try to use the variable of parameters\n",
    "# Using the most active station id from the previous query, calculate the lowest, highest, and average temperature.\n",
    "# sel_stats = 'Measurement.station, func.min(Measurement.tobs), func.max(Measurement.tobs), func.avg(Measurement.tobs)'\n",
    "most_active_stats = session.query(func.min(Measurement.tobs), func.max(Measurement.tobs), func.avg(Measurement.tobs)).\\\n",
    "    filter(Measurement.station == \"USC00519281\").all() #.\\\n",
    "    # group_by(Measurement.station)"
   ],
   "outputs": [
    {
     "output_type": "stream",
     "name": "stdout",
     "text": [
      "2021-07-23 20:44:04,653 INFO sqlalchemy.engine.base.Engine SELECT min(measurement.tobs) AS min_1, max(measurement.tobs) AS max_1, avg(measurement.tobs) AS avg_1 \n",
      "FROM measurement \n",
      "WHERE measurement.station = ?\n",
      "2021-07-23 20:44:04,655 INFO sqlalchemy.engine.base.Engine ('USC00519281',)\n"
     ]
    }
   ],
   "metadata": {}
  },
  {
   "cell_type": "code",
   "execution_count": 32,
   "source": [
    "most_active_stats"
   ],
   "outputs": [
    {
     "output_type": "execute_result",
     "data": {
      "text/plain": [
       "[(54.0, 85.0, 71.66378066378067)]"
      ]
     },
     "metadata": {},
     "execution_count": 32
    }
   ],
   "metadata": {}
  },
  {
   "cell_type": "code",
   "execution_count": 34,
   "source": [
    "# Using the most active station id\n",
    "# Query the last 12 months of temperature observation data for this station and plot the results as a histogram\n",
    "active_year = session.query(Measurement.date, Measurement.tobs).\\\n",
    "    filter(Measurement.date >=start_hand, Measurement.station == \"USC00519281\").\\\n",
    "    order_by(Measurement.tobs).all()"
   ],
   "outputs": [
    {
     "output_type": "stream",
     "name": "stdout",
     "text": [
      "2021-07-23 20:44:08,467 INFO sqlalchemy.engine.base.Engine SELECT measurement.date AS measurement_date, measurement.tobs AS measurement_tobs \n",
      "FROM measurement \n",
      "WHERE measurement.date >= ? AND measurement.station = ? ORDER BY measurement.tobs\n",
      "2021-07-23 20:44:08,468 INFO sqlalchemy.engine.base.Engine ('2016-08-24', 'USC00519281')\n"
     ]
    }
   ],
   "metadata": {}
  },
  {
   "cell_type": "code",
   "execution_count": 37,
   "source": [
    "# Save the query results as a Pandas DataFrame and set the index to the date column \n",
    "activeYR_df = pd.DataFrame(active_year, columns=['date', 'temp']).set_index('date')\n",
    "activeYR_df.dtypes"
   ],
   "outputs": [
    {
     "output_type": "execute_result",
     "data": {
      "text/plain": [
       "temp    float64\n",
       "dtype: object"
      ]
     },
     "metadata": {},
     "execution_count": 37
    }
   ],
   "metadata": {}
  },
  {
   "cell_type": "code",
   "execution_count": 38,
   "source": [
    "# histogram\n",
    "n_bins = 12\n",
    "x = activeYR_df\n",
    "\n",
    "fig = plt.hist(x, bins=12)\n",
    "plt.show()"
   ],
   "outputs": [
    {
     "output_type": "display_data",
     "data": {
      "text/plain": [
       "<Figure size 432x288 with 1 Axes>"
      ],
      "image/png": "[encoded data removed]"
     },
     "metadata": {}
    }
   ],
   "metadata": {}
  },
  {
   "cell_type": "markdown",
   "source": [
    "# Close session"
   ],
   "metadata": {}
  },
  {
   "cell_type": "code",
   "execution_count": 39,
   "source": [
    "# Close Session\n",
    "session.close()"
   ],
   "outputs": [
    {
     "output_type": "stream",
     "name": "stdout",
     "text": [
      "2021-07-23 20:44:19,022 INFO sqlalchemy.engine.base.Engine ROLLBACK\n"
     ]
    }
   ],
   "metadata": {}
  }
 ],
 "metadata": {
  "anaconda-cloud": {},
  "kernel_info": {
   "name": "python3"
  },
  "kernelspec": {
   "name": "python3",
   "display_name": "Python 3.8.5 64-bit ('base': conda)"
  },
  "language_info": {
   "codemirror_mode": {
    "name": "ipython",
    "version": 3
   },
   "file_extension": ".py",
   "mimetype": "text/x-python",
   "name": "python",
   "nbconvert_exporter": "python",
   "pygments_lexer": "ipython3",
   "version": "3.8.5"
  },
  "nteract": {
   "version": "0.12.3"
  },
  "varInspector": {
   "cols": {
    "lenName": 16,
    "lenType": 16,
    "lenVar": 40
   },
   "kernels_config": {
    "python": {
     "delete_cmd_postfix": "",
     "delete_cmd_prefix": "del ",
     "library": "var_list.py",
     "varRefreshCmd": "print(var_dic_list())"
    },
    "r": {
     "delete_cmd_postfix": ") ",
     "delete_cmd_prefix": "rm(",
     "library": "var_list.r",
     "varRefreshCmd": "cat(var_dic_list()) "
    }
   },
   "types_to_exclude": [
    "module",
    "function",
    "builtin_function_or_method",
    "instance",
    "_Feature"
   ],
   "window_display": false
  },
  "interpreter": {
   "hash": "797aaa517c2851f29685343c41d423cf5c6e3497bc2091e34cd352c6f05b7b6f"
  }
 },
 "nbformat": 4,
 "nbformat_minor": 2
}